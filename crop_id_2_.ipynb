{
  "nbformat": 4,
  "nbformat_minor": 0,
  "metadata": {
    "colab": {
      "name": "crop_id 2 .ipynb",
      "provenance": [],
      "authorship_tag": "ABX9TyNPrFuQHzCHlcWaWg62ASQk",
      "include_colab_link": true
    },
    "kernelspec": {
      "name": "python3",
      "display_name": "Python 3"
    }
  },
  "cells": [
    {
      "cell_type": "markdown",
      "metadata": {
        "id": "view-in-github",
        "colab_type": "text"
      },
      "source": [
        "<a href=\"https://colab.research.google.com/github/aruna-1985/aruna_akula/blob/master/crop_id_2_.ipynb\" target=\"_parent\"><img src=\"https://colab.research.google.com/assets/colab-badge.svg\" alt=\"Open In Colab\"/></a>"
      ]
    },
    {
      "cell_type": "code",
      "metadata": {
        "id": "QMZRYSqgqdq-",
        "colab_type": "code",
        "colab": {}
      },
      "source": [
        "import statistics"
      ],
      "execution_count": 1,
      "outputs": []
    },
    {
      "cell_type": "code",
      "metadata": {
        "id": "d8r6TiBirKma",
        "colab_type": "code",
        "colab": {}
      },
      "source": [
        "from statistics import *"
      ],
      "execution_count": 2,
      "outputs": []
    },
    {
      "cell_type": "code",
      "metadata": {
        "id": "h2p73P3erK3f",
        "colab_type": "code",
        "colab": {
          "base_uri": "https://localhost:8080/",
          "height": 34
        },
        "outputId": "968f330e-2b08-4544-9acf-e76d79a3bce6"
      },
      "source": [
        "\n",
        "mean([50.9,20.7,30.6,40.7,50.8,60.6])"
      ],
      "execution_count": 3,
      "outputs": [
        {
          "output_type": "execute_result",
          "data": {
            "text/plain": [
              "42.38333333333333"
            ]
          },
          "metadata": {
            "tags": []
          },
          "execution_count": 3
        }
      ]
    },
    {
      "cell_type": "code",
      "metadata": {
        "id": "210cFPR6rLAu",
        "colab_type": "code",
        "colab": {
          "base_uri": "https://localhost:8080/",
          "height": 34
        },
        "outputId": "c39422c2-a952-4347-8ff6-346c685d559d"
      },
      "source": [
        "mode([1,1,2,3,3,3,4,4])"
      ],
      "execution_count": 8,
      "outputs": [
        {
          "output_type": "execute_result",
          "data": {
            "text/plain": [
              "3"
            ]
          },
          "metadata": {
            "tags": []
          },
          "execution_count": 8
        }
      ]
    },
    {
      "cell_type": "code",
      "metadata": {
        "id": "UVqH64kVr8To",
        "colab_type": "code",
        "colab": {
          "base_uri": "https://localhost:8080/",
          "height": 34
        },
        "outputId": "57208aa8-9ab4-446d-d8e8-8eb47057b63b"
      },
      "source": [
        "median([5,3,34,9,7,98,5])"
      ],
      "execution_count": 9,
      "outputs": [
        {
          "output_type": "execute_result",
          "data": {
            "text/plain": [
              "7"
            ]
          },
          "metadata": {
            "tags": []
          },
          "execution_count": 9
        }
      ]
    },
    {
      "cell_type": "code",
      "metadata": {
        "id": "Z4v8mG4FsiNb",
        "colab_type": "code",
        "colab": {
          "base_uri": "https://localhost:8080/",
          "height": 34
        },
        "outputId": "d01734e9-dc85-4cae-8bfb-393655740a12"
      },
      "source": [
        "pstdev([2.5,33.5,66.6,22.75,44.75])"
      ],
      "execution_count": 10,
      "outputs": [
        {
          "output_type": "execute_result",
          "data": {
            "text/plain": [
              "21.435405291246536"
            ]
          },
          "metadata": {
            "tags": []
          },
          "execution_count": 10
        }
      ]
    },
    {
      "cell_type": "code",
      "metadata": {
        "id": "ZWXH9jfOsimd",
        "colab_type": "code",
        "colab": {
          "base_uri": "https://localhost:8080/",
          "height": 34
        },
        "outputId": "be44f32f-9498-4c79-f3af-a937aca1ea18"
      },
      "source": [
        "stdev([2.5,33.5,66.6,22.75,44.75])"
      ],
      "execution_count": 11,
      "outputs": [
        {
          "output_type": "execute_result",
          "data": {
            "text/plain": [
              "23.965511678242965"
            ]
          },
          "metadata": {
            "tags": []
          },
          "execution_count": 11
        }
      ]
    },
    {
      "cell_type": "code",
      "metadata": {
        "id": "C2yl04oUsiuQ",
        "colab_type": "code",
        "colab": {}
      },
      "source": [
        "import numpy as np \n",
        "import pandas as pd"
      ],
      "execution_count": 14,
      "outputs": []
    },
    {
      "cell_type": "code",
      "metadata": {
        "id": "b5N2FJ6hsiyJ",
        "colab_type": "code",
        "colab": {}
      },
      "source": [
        "np.random.seed(52)"
      ],
      "execution_count": 15,
      "outputs": []
    },
    {
      "cell_type": "code",
      "metadata": {
        "id": "4ZzjQsXNsi1g",
        "colab_type": "code",
        "colab": {}
      },
      "source": [
        "normal_soil_type  = np.random.normal(loc = 80, scale = 10,size =8000)\n",
        "normal_crop_type = np.random.normal(loc= 70,scale =9,size = 8500)"
      ],
      "execution_count": 161,
      "outputs": []
    },
    {
      "cell_type": "code",
      "metadata": {
        "id": "_SMbArMosi4f",
        "colab_type": "code",
        "colab": {}
      },
      "source": [
        "all_types = np.concatenate((normal_soil_type,normal_crop_type),axis = 0)"
      ],
      "execution_count": 162,
      "outputs": []
    },
    {
      "cell_type": "code",
      "metadata": {
        "id": "iknCcTQBsi8k",
        "colab_type": "code",
        "colab": {}
      },
      "source": [
        "df_ppl_mass = pd.DataFrame(data = {'crop_id':all_types})"
      ],
      "execution_count": 163,
      "outputs": []
    },
    {
      "cell_type": "code",
      "metadata": {
        "id": "Cb_d4b2Pt0kb",
        "colab_type": "code",
        "colab": {
          "base_uri": "https://localhost:8080/",
          "height": 204
        },
        "outputId": "0d7e58a0-14ee-417c-9e3b-5b0cdfa8e62d"
      },
      "source": [
        "df_ppl_mass.head()"
      ],
      "execution_count": 164,
      "outputs": [
        {
          "output_type": "execute_result",
          "data": {
            "text/html": [
              "<div>\n",
              "<style scoped>\n",
              "    .dataframe tbody tr th:only-of-type {\n",
              "        vertical-align: middle;\n",
              "    }\n",
              "\n",
              "    .dataframe tbody tr th {\n",
              "        vertical-align: top;\n",
              "    }\n",
              "\n",
              "    .dataframe thead th {\n",
              "        text-align: right;\n",
              "    }\n",
              "</style>\n",
              "<table border=\"1\" class=\"dataframe\">\n",
              "  <thead>\n",
              "    <tr style=\"text-align: right;\">\n",
              "      <th></th>\n",
              "      <th>crop_id</th>\n",
              "    </tr>\n",
              "  </thead>\n",
              "  <tbody>\n",
              "    <tr>\n",
              "      <th>0</th>\n",
              "      <td>85.596121</td>\n",
              "    </tr>\n",
              "    <tr>\n",
              "      <th>1</th>\n",
              "      <td>92.474578</td>\n",
              "    </tr>\n",
              "    <tr>\n",
              "      <th>2</th>\n",
              "      <td>74.867989</td>\n",
              "    </tr>\n",
              "    <tr>\n",
              "      <th>3</th>\n",
              "      <td>78.005361</td>\n",
              "    </tr>\n",
              "    <tr>\n",
              "      <th>4</th>\n",
              "      <td>81.647716</td>\n",
              "    </tr>\n",
              "  </tbody>\n",
              "</table>\n",
              "</div>"
            ],
            "text/plain": [
              "     crop_id\n",
              "0  85.596121\n",
              "1  92.474578\n",
              "2  74.867989\n",
              "3  78.005361\n",
              "4  81.647716"
            ]
          },
          "metadata": {
            "tags": []
          },
          "execution_count": 164
        }
      ]
    },
    {
      "cell_type": "code",
      "metadata": {
        "id": "iHT48bu4t0oO",
        "colab_type": "code",
        "colab": {}
      },
      "source": [
        "import matplotlib.pyplot as plt \n",
        "import seaborn as sns"
      ],
      "execution_count": 165,
      "outputs": []
    },
    {
      "cell_type": "code",
      "metadata": {
        "id": "oWQ0VvIUt0ra",
        "colab_type": "code",
        "colab": {
          "base_uri": "https://localhost:8080/",
          "height": 312
        },
        "outputId": "9841123a-22bd-4f3e-be12-b6388b7a9d68"
      },
      "source": [
        "sns.distplot(df_ppl_mass,color = \"green\")\n",
        "plt.xlabel(\"crop in id\")\n",
        "plt.ylabel(\"Probability of the occurences of soil type\")\n",
        "plt.title(\"Distribution of crop id's\")"
      ],
      "execution_count": 166,
      "outputs": [
        {
          "output_type": "execute_result",
          "data": {
            "text/plain": [
              "Text(0.5, 1.0, \"Distribution of crop id's\")"
            ]
          },
          "metadata": {
            "tags": []
          },
          "execution_count": 166
        },
        {
          "output_type": "display_data",
          "data": {
            "image/png": "[encoded data removed]",
            "text/plain": [
              "<Figure size 432x288 with 1 Axes>"
            ]
          },
          "metadata": {
            "tags": [],
            "needs_background": "light"
          }
        }
      ]
    },
    {
      "cell_type": "code",
      "metadata": {
        "id": "rVjbduD9u_E-",
        "colab_type": "code",
        "colab": {
          "base_uri": "https://localhost:8080/",
          "height": 34
        },
        "outputId": "b7db6160-182b-40ea-f025-71c7492e6203"
      },
      "source": [
        "pop_mean_id = df_ppl_mass['crop_id'].mean()\n",
        "pop_mean_id"
      ],
      "execution_count": 167,
      "outputs": [
        {
          "output_type": "execute_result",
          "data": {
            "text/plain": [
              "74.7641362202094"
            ]
          },
          "metadata": {
            "tags": []
          },
          "execution_count": 167
        }
      ]
    },
    {
      "cell_type": "code",
      "metadata": {
        "id": "z2cuHtZJu_Mx",
        "colab_type": "code",
        "colab": {
          "base_uri": "https://localhost:8080/",
          "height": 34
        },
        "outputId": "ab94aab2-1e94-484a-d212-05267785ada3"
      },
      "source": [
        "pop_std_dev_id = df_ppl_mass['crop_id'].std()\n",
        "pop_std_dev_id"
      ],
      "execution_count": 168,
      "outputs": [
        {
          "output_type": "execute_result",
          "data": {
            "text/plain": [
              "10.725523102293046"
            ]
          },
          "metadata": {
            "tags": []
          },
          "execution_count": 168
        }
      ]
    },
    {
      "cell_type": "code",
      "metadata": {
        "id": "uZRK2CAwu_RA",
        "colab_type": "code",
        "colab": {}
      },
      "source": [
        "## Taking Random Samples from the population \n",
        "sample_means = []\n",
        "n = 25 \n",
        "for sample in range(0,300):\n",
        "    #Random choice with replacement\n",
        "    sample_values = np.random.choice(a = df_ppl_mass['crop_id'],size = n)\n",
        "    sample_mean = np.mean(sample_values)\n",
        "    sample_means.append(sample_mean)"
      ],
      "execution_count": 169,
      "outputs": []
    },
    {
      "cell_type": "code",
      "metadata": {
        "id": "PFG95hFyu_W7",
        "colab_type": "code",
        "colab": {
          "base_uri": "https://localhost:8080/",
          "height": 314
        },
        "outputId": "f7d31152-7589-4737-80c0-20563d2c52aa"
      },
      "source": [
        "sns.distplot(sample_means)\n",
        "plt.title(\"Distribution of the Sample Means $(n=25)$ soil\")\n",
        "plt.xlabel(\"type of crop of Sample means (id)\")\n",
        "plt.ylabel(\"Frequency of occurence \")"
      ],
      "execution_count": 170,
      "outputs": [
        {
          "output_type": "execute_result",
          "data": {
            "text/plain": [
              "Text(0, 0.5, 'Frequency of occurence ')"
            ]
          },
          "metadata": {
            "tags": []
          },
          "execution_count": 170
        },
        {
          "output_type": "display_data",
          "data": {
            "image/png": "[encoded data removed]",
            "text/plain": [
              "<Figure size 432x288 with 1 Axes>"
            ]
          },
          "metadata": {
            "tags": [],
            "needs_background": "light"
          }
        }
      ]
    },
    {
      "cell_type": "code",
      "metadata": {
        "id": "l0rm4ZlDu_nD",
        "colab_type": "code",
        "colab": {
          "base_uri": "https://localhost:8080/",
          "height": 34
        },
        "outputId": "442af4b0-7780-4146-ddde-1a39370f8aea"
      },
      "source": [
        "median_of_sample = np.median(sample_means)\n",
        "median_of_sample"
      ],
      "execution_count": 171,
      "outputs": [
        {
          "output_type": "execute_result",
          "data": {
            "text/plain": [
              "74.83056633153129"
            ]
          },
          "metadata": {
            "tags": []
          },
          "execution_count": 171
        }
      ]
    },
    {
      "cell_type": "code",
      "metadata": {
        "id": "b3biU7HQu_kV",
        "colab_type": "code",
        "colab": {
          "base_uri": "https://localhost:8080/",
          "height": 34
        },
        "outputId": "ade02bfb-ca85-4262-db61-c97eaa612053"
      },
      "source": [
        "mean_of_sample = np.mean(sample_means)\n",
        "mean_of_sample"
      ],
      "execution_count": 172,
      "outputs": [
        {
          "output_type": "execute_result",
          "data": {
            "text/plain": [
              "74.75898845795857"
            ]
          },
          "metadata": {
            "tags": []
          },
          "execution_count": 172
        }
      ]
    },
    {
      "cell_type": "code",
      "metadata": {
        "id": "zbzILx-1u_h8",
        "colab_type": "code",
        "colab": {
          "base_uri": "https://localhost:8080/",
          "height": 51
        },
        "outputId": "7d6a801d-f661-4e44-e00a-c49bb79b3d1f"
      },
      "source": [
        "print(\"The population mean is\",pop_mean_id)\n",
        "print(\"The sample mean is:\",mean_of_sample)"
      ],
      "execution_count": 173,
      "outputs": [
        {
          "output_type": "stream",
          "text": [
            "The population mean is 74.7641362202094\n",
            "The sample mean is: 74.75898845795857\n"
          ],
          "name": "stdout"
        }
      ]
    },
    {
      "cell_type": "code",
      "metadata": {
        "id": "9bQg3nDM5u_k",
        "colab_type": "code",
        "colab": {
          "base_uri": "https://localhost:8080/",
          "height": 34
        },
        "outputId": "25574084-9c22-4909-e658-4016e86d250c"
      },
      "source": [
        "std_dev_of_sample = np.std(sample_means)\n",
        "std_dev_of_sample"
      ],
      "execution_count": 174,
      "outputs": [
        {
          "output_type": "execute_result",
          "data": {
            "text/plain": [
              "2.1386536185429685"
            ]
          },
          "metadata": {
            "tags": []
          },
          "execution_count": 174
        }
      ]
    },
    {
      "cell_type": "code",
      "metadata": {
        "colab_type": "code",
        "id": "OsmNFatA5vlO",
        "colab": {
          "base_uri": "https://localhost:8080/",
          "height": 34
        },
        "outputId": "8c972eb5-9742-470c-b2fb-bb7007f7d8fe"
      },
      "source": [
        "standard_error = pop_std_dev_id/np.sqrt(n)\n",
        "standard_error"
      ],
      "execution_count": 175,
      "outputs": [
        {
          "output_type": "execute_result",
          "data": {
            "text/plain": [
              "2.1451046204586093"
            ]
          },
          "metadata": {
            "tags": []
          },
          "execution_count": 175
        }
      ]
    },
    {
      "cell_type": "code",
      "metadata": {
        "id": "GZl0KI1zu_b-",
        "colab_type": "code",
        "colab": {}
      },
      "source": [
        " farmer_sample_mean = 94"
      ],
      "execution_count": 132,
      "outputs": []
    },
    {
      "cell_type": "code",
      "metadata": {
        "id": "gSR2FRfYw6EC",
        "colab_type": "code",
        "colab": {
          "base_uri": "https://localhost:8080/",
          "height": 314
        },
        "outputId": "eda9a4a2-abe5-42e2-9a45-b5cadc1f7c8b"
      },
      "source": [
        "sns.distplot(sample_means)\n",
        "plt.title(\"Distribution of the Sample Means $(n=45)$ farming\")\n",
        "plt.xlabel(\"crop of Sample means (id)\")\n",
        "plt.ylabel(\"Frequency of occurence\")\n",
        "plt.axvline(x =farming_sample_mean,linestyle = '--',linewidth = 2.5,label = 'Mean of people who go to farming',c = 'orange')\n",
        "plt.legend()"
      ],
      "execution_count": 177,
      "outputs": [
        {
          "output_type": "execute_result",
          "data": {
            "text/plain": [
              "<matplotlib.legend.Legend at 0x7fed472bf0b8>"
            ]
          },
          "metadata": {
            "tags": []
          },
          "execution_count": 177
        },
        {
          "output_type": "display_data",
          "data": {
            "image/png": "[encoded data removed]",
            "text/plain": [
              "<Figure size 432x288 with 1 Axes>"
            ]
          },
          "metadata": {
            "tags": [],
            "needs_background": "light"
          }
        }
      ]
    },
    {
      "cell_type": "code",
      "metadata": {
        "id": "Awh-d-342LQo",
        "colab_type": "code",
        "colab": {
          "base_uri": "https://localhost:8080/",
          "height": 34
        },
        "outputId": "6543aa92-3e1b-492c-bfc4-09efba811cc7"
      },
      "source": [
        "z_score = (farming_sample_mean - mean_of_sample)/standard_error\n",
        "z_score"
      ],
      "execution_count": 178,
      "outputs": [
        {
          "output_type": "execute_result",
          "data": {
            "text/plain": [
              "8.969731060449552"
            ]
          },
          "metadata": {
            "tags": []
          },
          "execution_count": 178
        }
      ]
    },
    {
      "cell_type": "code",
      "metadata": {
        "colab_type": "code",
        "id": "u3bSxgHo4pgR",
        "colab": {
          "base_uri": "https://localhost:8080/",
          "height": 34
        },
        "outputId": "51aeb72e-12b9-4e34-a283-977dea85973a"
      },
      "source": [
        "import scipy.stats as stats\n",
        "prop_less_than_farmer_mean = round(stats.norm.cdf(z_score),3)\n",
        "prop_less_than_farmer_mean"
      ],
      "execution_count": 179,
      "outputs": [
        {
          "output_type": "execute_result",
          "data": {
            "text/plain": [
              "1.0"
            ]
          },
          "metadata": {
            "tags": []
          },
          "execution_count": 179
        }
      ]
    },
    {
      "cell_type": "code",
      "metadata": {
        "id": "pys9LmsW6isb",
        "colab_type": "code",
        "colab": {
          "base_uri": "https://localhost:8080/",
          "height": 314
        },
        "outputId": "ee2e4853-c508-4533-8ab9-ea3e3fa053c2"
      },
      "source": [
        "kde = stats.gaussian_kde(sample_means)\n",
        "pos = np.linspace(np.min(sample_means),np.max(sample_means),1000)\n",
        "plt.plot(pos,kde(pos),color = \"Teal\")\n",
        "shade = np.linspace(70,farming_sample_mean,300)\n",
        "plt.fill_between(shade,kde(shade),alpha = 0.45,color = 'Red')\n",
        "\n",
        "plt.title(\"Distribution of the Sample Means $(n=25)$ people\")\n",
        "plt.xlabel(\"crop of Sample means (id)\")\n",
        "plt.ylabel(\"Frequency of occurence\")"
      ],
      "execution_count": 180,
      "outputs": [
        {
          "output_type": "execute_result",
          "data": {
            "text/plain": [
              "Text(0, 0.5, 'Frequency of occurence')"
            ]
          },
          "metadata": {
            "tags": []
          },
          "execution_count": 180
        },
        {
          "output_type": "display_data",
          "data": {
            "image/png": "[encoded data removed]",
            "text/plain": [
              "<Figure size 432x288 with 1 Axes>"
            ]
          },
          "metadata": {
            "tags": [],
            "needs_background": "light"
          }
        }
      ]
    }
  ]
}