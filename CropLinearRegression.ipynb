{
  "nbformat": 4,
  "nbformat_minor": 0,
  "metadata": {
    "colab": {
      "name": "CropLinearRegression.ipynb",
      "provenance": [],
      "authorship_tag": "ABX9TyOjiUJ57zTPfl36nbtlKzWo",
      "include_colab_link": true
    },
    "kernelspec": {
      "name": "python3",
      "display_name": "Python 3"
    }
  },
  "cells": [
    {
      "cell_type": "markdown",
      "metadata": {
        "id": "view-in-github",
        "colab_type": "text"
      },
      "source": [
        "<a href=\"https://colab.research.google.com/github/aruna-1985/aruna_akula/blob/master/CropLinearRegression.ipynb\" target=\"_parent\"><img src=\"https://colab.research.google.com/assets/colab-badge.svg\" alt=\"Open In Colab\"/></a>"
      ]
    },
    {
      "cell_type": "code",
      "metadata": {
        "id": "I2ZvKxOKSC5A",
        "outputId": "91614389-bf8d-4fc5-e623-5834472e537d",
        "colab": {
          "base_uri": "https://localhost:8080/",
          "height": 295
        }
      },
      "source": [
        "import matplotlib.pyplot as plt\n",
        "import numpy as np\n",
        "import pandas as pd\n",
        "x = np.linspace(-6,6,100)\n",
        "y = lambda x: x**4 - 3 * x**3 + 2\n",
        "y1 = lambda x: 4 * x - 9 * x**2\n",
        "\n",
        "plt.plot(x, y(x), '-g', label='y=x**4+ 3 *x**3 + 2')\n",
        "#plt.plot(x, y1(x), '-r', label='y=x**2+2')\n",
        "plt.title('Graph of y=x*^2+2')\n",
        "plt.xlabel('x', color='#1C2833')\n",
        "plt.ylabel('y', color='#1C2833')\n",
        "plt.legend(loc='upper left')\n",
        "plt.grid()\n",
        "plt.show()"
      ],
      "execution_count": null,
      "outputs": [
        {
          "output_type": "display_data",
          "data": {
            "image/png": "[encoded data removed]",
            "text/plain": [
              "<Figure size 432x288 with 1 Axes>"
            ]
          },
          "metadata": {
            "tags": [],
            "needs_background": "light"
          }
        }
      ]
    },
    {
      "cell_type": "code",
      "metadata": {
        "id": "Xrve23SySzIL"
      },
      "source": [
        "df = lambda x: 4 * x**3 - 9 * x**2"
      ],
      "execution_count": null,
      "outputs": []
    },
    {
      "cell_type": "code",
      "metadata": {
        "id": "MEfhzkUOSzQA",
        "outputId": "81561ec1-a9c3-4cf8-98b7-5decdcb18916",
        "colab": {
          "base_uri": "https://localhost:8080/",
          "height": 34
        }
      },
      "source": [
        "df(6)"
      ],
      "execution_count": null,
      "outputs": [
        {
          "output_type": "execute_result",
          "data": {
            "text/plain": [
              "540"
            ]
          },
          "metadata": {
            "tags": []
          },
          "execution_count": 7
        }
      ]
    },
    {
      "cell_type": "code",
      "metadata": {
        "id": "AMFbdhdrS7Zh",
        "outputId": "f03932e0-3120-4aa8-a4d4-04a46ed3b608",
        "colab": {
          "base_uri": "https://localhost:8080/",
          "height": 1000
        }
      },
      "source": [
        "# From calculation, it is expected that the local minimum occurs at x=9/4\n",
        "\n",
        "cur_x = 6 # The algorithm starts at x=6\n",
        "learning_rate = 0.001 # step size multiplier\n",
        "precision = 0.001\n",
        "previous_step_size = 1 \n",
        "max_iters = 1000 # maximum number of iterations\n",
        "iters = 0 #iteration counter\n",
        "\n",
        "df = lambda x: 4 * x**3 - 9 * x**2\n",
        "prev = []\n",
        "while ((previous_step_size > precision) and (iters < max_iters)):\n",
        "    prev_x = cur_x\n",
        "    cur_x -= learning_rate * df(prev_x)\n",
        "    #cur_x = cur_x -  learning_rate * df(prev_x)\n",
        "    previous_step_size = abs(cur_x - prev_x)\n",
        "    iters += 1\n",
        "    #print(\"cur_x\",cur_x)\n",
        "    #print(\"learning_rate\",learning_rate)\n",
        "    print(\"prev_x\",prev_x)\n",
        "    prev.append(prev_x)\n",
        "\n",
        "print(\"The local minimum occurs at\", cur_x)\n",
        "#The output for the above will be: ('The local minimum occurs at', 2.2499646074278457)"
      ],
      "execution_count": null,
      "outputs": [
        {
          "output_type": "stream",
          "text": [
            "prev_x 6\n",
            "prev_x 5.46\n",
            "prev_x 5.077219056\n",
            "prev_x 4.7856971105651365\n",
            "prev_x 4.55339787326223\n",
            "prev_x 4.362368498794202\n",
            "prev_x 4.201572820934333\n",
            "prev_x 4.063766689032126\n",
            "prev_x 3.943955067763642\n",
            "prev_x 3.8385586634455064\n",
            "prev_x 3.7449319857105268\n",
            "prev_x 3.661069198026341\n",
            "prev_x 3.5854165422784474\n",
            "prev_x 3.516748292407647\n",
            "prev_x 3.4540821603786127\n",
            "prev_x 3.3966200673844655\n",
            "prev_x 3.3437057166338358\n",
            "prev_x 3.2947935874035488\n",
            "prev_x 3.249425871591936\n",
            "prev_x 3.2072150459678404\n",
            "prev_x 3.167830515792172\n",
            "prev_x 3.1309882475409334\n",
            "prev_x 3.0964426283628796\n",
            "prev_x 3.063980006434812\n",
            "prev_x 3.033413515580717\n",
            "prev_x 3.004578892017906\n",
            "prev_x 2.9773310653761236\n",
            "prev_x 2.951541359666197\n",
            "prev_x 2.9270951789390374\n",
            "prev_x 2.9038900812165425\n",
            "prev_x 2.88183416579972\n",
            "prev_x 2.8608447152843492\n",
            "prev_x 2.8408470459601665\n",
            "prev_x 2.821773529745893\n",
            "prev_x 2.803562758146137\n",
            "prev_x 2.7861588244355797\n",
            "prev_x 2.769510704768632\n",
            "prev_x 2.7535717224661393\n",
            "prev_x 2.738299082559317\n",
            "prev_x 2.7236534659364495\n",
            "prev_x 2.7095986742627165\n",
            "prev_x 2.69610131832149\n",
            "prev_x 2.6831305436287654\n",
            "prev_x 2.6706577881569578\n",
            "prev_x 2.6586565678136687\n",
            "prev_x 2.6471022859893707\n",
            "prev_x 2.635972064042245\n",
            "prev_x 2.625244590049948\n",
            "prev_x 2.614899983543948\n",
            "prev_x 2.604919674265854\n",
            "prev_x 2.595286293257836\n",
            "prev_x 2.5859835748296693\n",
            "prev_x 2.5769962681403173\n",
            "prev_x 2.568310057298151\n",
            "prev_x 2.5599114890256915\n",
            "prev_x 2.5517879070560943\n",
            "prev_x 2.5439273925327095\n",
            "prev_x 2.5363187097726536\n",
            "prev_x 2.528951256832619\n",
            "prev_x 2.521815020382014\n",
            "prev_x 2.5149005344465074\n",
            "prev_x 2.5081988426354296\n",
            "prev_x 2.5017014635103965\n",
            "prev_x 2.495400358790842\n",
            "prev_x 2.4892879041256855\n",
            "prev_x 2.4833568621897655\n",
            "prev_x 2.4776003578895125\n",
            "prev_x 2.472011855485068\n",
            "prev_x 2.4665851374561254\n",
            "prev_x 2.4613142849564915\n",
            "prev_x 2.4561936597180534\n",
            "prev_x 2.4512178872787556\n",
            "prev_x 2.446381841421546\n",
            "prev_x 2.4416806297222458\n",
            "prev_x 2.4371095801140967\n",
            "prev_x 2.432664228385483\n",
            "prev_x 2.428340306535143\n",
            "prev_x 2.4241337319161835\n",
            "prev_x 2.42004059710648\n",
            "prev_x 2.416057160448677\n",
            "prev_x 2.412179837208069\n",
            "prev_x 2.4084051913011955\n",
            "prev_x 2.404729927552086\n",
            "prev_x 2.40115088443681\n",
            "prev_x 2.3976650272803175\n",
            "prev_x 2.394269441872601\n",
            "prev_x 2.3909613284739435\n",
            "prev_x 2.3877379961815066\n",
            "prev_x 2.384596857631776\n",
            "prev_x 2.3815354240154236\n",
            "prev_x 2.378551300383023\n",
            "prev_x 2.3756421812217483\n",
            "prev_x 2.3728058462847357\n",
            "prev_x 2.3700401566562084\n",
            "prev_x 2.367343051036747\n",
            "prev_x 2.364712542234276\n",
            "prev_x 2.362146713847417\n",
            "prev_x 2.3596437171288405\n",
            "prev_x 2.357201768017173\n",
            "prev_x 2.354819144326828\n",
            "prev_x 2.3524941830859123\n",
            "prev_x 2.350225278013052\n",
            "prev_x 2.34801087712463\n",
            "prev_x 2.345849480464525\n",
            "prev_x 2.343739637948993\n",
            "prev_x 2.3416799473198298\n",
            "prev_x 2.339669052199428\n",
            "prev_x 2.33770564024177\n",
            "prev_x 2.3357884413737957\n",
            "prev_x 2.3339162261219557\n",
            "prev_x 2.332087804019098\n",
            "prev_x 2.3303020220871553\n",
            "prev_x 2.3285577633913923\n",
            "prev_x 2.3268539456622404\n",
            "prev_x 2.3251895199810066\n",
            "prev_x 2.3235634695259697\n",
            "prev_x 2.3219748083755993\n",
            "prev_x 2.320422580365833\n",
            "prev_x 2.3189058579985384\n",
            "prev_x 2.3174237413984566\n",
            "prev_x 2.315975357316093\n",
            "prev_x 2.31455985817417\n",
            "prev_x 2.313176421155395\n",
            "prev_x 2.3118242473294393\n",
            "prev_x 2.3105025608171363\n",
            "prev_x 2.309210607990028\n",
            "prev_x 2.3079476567034978\n",
            "prev_x 2.306712995561826\n",
            "prev_x 2.3055059332136\n",
            "prev_x 2.304325797675997\n",
            "prev_x 2.30317193568655\n",
            "prev_x 2.3020437120810637\n",
            "prev_x 2.300940509196451\n",
            "prev_x 2.299861726297295\n",
            "prev_x 2.2988067790250364\n",
            "prev_x 2.29777509886872\n",
            "prev_x 2.2967661326563116\n",
            "The local minimum occurs at 2.2957793420656354\n"
          ],
          "name": "stdout"
        }
      ]
    },
    {
      "cell_type": "code",
      "metadata": {
        "id": "jv9OA38ES7fZ",
        "outputId": "1518651b-433e-46eb-dd8e-8802505b25ef",
        "colab": {
          "base_uri": "https://localhost:8080/",
          "height": 34
        }
      },
      "source": [
        "len(prev)"
      ],
      "execution_count": null,
      "outputs": [
        {
          "output_type": "execute_result",
          "data": {
            "text/plain": [
              "137"
            ]
          },
          "metadata": {
            "tags": []
          },
          "execution_count": 9
        }
      ]
    },
    {
      "cell_type": "code",
      "metadata": {
        "id": "Ai0BZoWfTWfR",
        "outputId": "4f0b112d-0133-42af-bdcc-3fc966aa7e43",
        "colab": {
          "base_uri": "https://localhost:8080/",
          "height": 1000
        }
      },
      "source": [
        "prev"
      ],
      "execution_count": null,
      "outputs": [
        {
          "output_type": "execute_result",
          "data": {
            "text/plain": [
              "[6,\n",
              " 5.46,\n",
              " 5.077219056,\n",
              " 4.7856971105651365,\n",
              " 4.55339787326223,\n",
              " 4.362368498794202,\n",
              " 4.201572820934333,\n",
              " 4.063766689032126,\n",
              " 3.943955067763642,\n",
              " 3.8385586634455064,\n",
              " 3.7449319857105268,\n",
              " 3.661069198026341,\n",
              " 3.5854165422784474,\n",
              " 3.516748292407647,\n",
              " 3.4540821603786127,\n",
              " 3.3966200673844655,\n",
              " 3.3437057166338358,\n",
              " 3.2947935874035488,\n",
              " 3.249425871591936,\n",
              " 3.2072150459678404,\n",
              " 3.167830515792172,\n",
              " 3.1309882475409334,\n",
              " 3.0964426283628796,\n",
              " 3.063980006434812,\n",
              " 3.033413515580717,\n",
              " 3.004578892017906,\n",
              " 2.9773310653761236,\n",
              " 2.951541359666197,\n",
              " 2.9270951789390374,\n",
              " 2.9038900812165425,\n",
              " 2.88183416579972,\n",
              " 2.8608447152843492,\n",
              " 2.8408470459601665,\n",
              " 2.821773529745893,\n",
              " 2.803562758146137,\n",
              " 2.7861588244355797,\n",
              " 2.769510704768632,\n",
              " 2.7535717224661393,\n",
              " 2.738299082559317,\n",
              " 2.7236534659364495,\n",
              " 2.7095986742627165,\n",
              " 2.69610131832149,\n",
              " 2.6831305436287654,\n",
              " 2.6706577881569578,\n",
              " 2.6586565678136687,\n",
              " 2.6471022859893707,\n",
              " 2.635972064042245,\n",
              " 2.625244590049948,\n",
              " 2.614899983543948,\n",
              " 2.604919674265854,\n",
              " 2.595286293257836,\n",
              " 2.5859835748296693,\n",
              " 2.5769962681403173,\n",
              " 2.568310057298151,\n",
              " 2.5599114890256915,\n",
              " 2.5517879070560943,\n",
              " 2.5439273925327095,\n",
              " 2.5363187097726536,\n",
              " 2.528951256832619,\n",
              " 2.521815020382014,\n",
              " 2.5149005344465074,\n",
              " 2.5081988426354296,\n",
              " 2.5017014635103965,\n",
              " 2.495400358790842,\n",
              " 2.4892879041256855,\n",
              " 2.4833568621897655,\n",
              " 2.4776003578895125,\n",
              " 2.472011855485068,\n",
              " 2.4665851374561254,\n",
              " 2.4613142849564915,\n",
              " 2.4561936597180534,\n",
              " 2.4512178872787556,\n",
              " 2.446381841421546,\n",
              " 2.4416806297222458,\n",
              " 2.4371095801140967,\n",
              " 2.432664228385483,\n",
              " 2.428340306535143,\n",
              " 2.4241337319161835,\n",
              " 2.42004059710648,\n",
              " 2.416057160448677,\n",
              " 2.412179837208069,\n",
              " 2.4084051913011955,\n",
              " 2.404729927552086,\n",
              " 2.40115088443681,\n",
              " 2.3976650272803175,\n",
              " 2.394269441872601,\n",
              " 2.3909613284739435,\n",
              " 2.3877379961815066,\n",
              " 2.384596857631776,\n",
              " 2.3815354240154236,\n",
              " 2.378551300383023,\n",
              " 2.3756421812217483,\n",
              " 2.3728058462847357,\n",
              " 2.3700401566562084,\n",
              " 2.367343051036747,\n",
              " 2.364712542234276,\n",
              " 2.362146713847417,\n",
              " 2.3596437171288405,\n",
              " 2.357201768017173,\n",
              " 2.354819144326828,\n",
              " 2.3524941830859123,\n",
              " 2.350225278013052,\n",
              " 2.34801087712463,\n",
              " 2.345849480464525,\n",
              " 2.343739637948993,\n",
              " 2.3416799473198298,\n",
              " 2.339669052199428,\n",
              " 2.33770564024177,\n",
              " 2.3357884413737957,\n",
              " 2.3339162261219557,\n",
              " 2.332087804019098,\n",
              " 2.3303020220871553,\n",
              " 2.3285577633913923,\n",
              " 2.3268539456622404,\n",
              " 2.3251895199810066,\n",
              " 2.3235634695259697,\n",
              " 2.3219748083755993,\n",
              " 2.320422580365833,\n",
              " 2.3189058579985384,\n",
              " 2.3174237413984566,\n",
              " 2.315975357316093,\n",
              " 2.31455985817417,\n",
              " 2.313176421155395,\n",
              " 2.3118242473294393,\n",
              " 2.3105025608171363,\n",
              " 2.309210607990028,\n",
              " 2.3079476567034978,\n",
              " 2.306712995561826,\n",
              " 2.3055059332136,\n",
              " 2.304325797675997,\n",
              " 2.30317193568655,\n",
              " 2.3020437120810637,\n",
              " 2.300940509196451,\n",
              " 2.299861726297295,\n",
              " 2.2988067790250364,\n",
              " 2.29777509886872,\n",
              " 2.2967661326563116]"
            ]
          },
          "metadata": {
            "tags": []
          },
          "execution_count": 10
        }
      ]
    },
    {
      "cell_type": "code",
      "metadata": {
        "id": "Xok00mAFTWi2",
        "outputId": "114c0c9e-b9d0-4757-b3d9-ffd877462324",
        "colab": {
          "base_uri": "https://localhost:8080/",
          "height": 295
        }
      },
      "source": [
        "import matplotlib.pyplot as plt\n",
        "import numpy as np\n",
        "x = np.arange(1,138)\n",
        "y = prev\n",
        "plt.plot(x, y, '.r', label='y=x**2+2')\n",
        "plt.title('Graph of y=x*^2+2')\n",
        "plt.xlabel('x', color='#1C2833')\n",
        "plt.ylabel('y', color='#1C2833')\n",
        "plt.legend(loc='upper left')\n",
        "plt.grid()\n",
        "plt.show()"
      ],
      "execution_count": null,
      "outputs": [
        {
          "output_type": "display_data",
          "data": {
            "image/png": "[encoded data removed]",
            "text/plain": [
              "<Figure size 432x288 with 1 Axes>"
            ]
          },
          "metadata": {
            "tags": [],
            "needs_background": "light"
          }
        }
      ]
    },
    {
      "cell_type": "code",
      "metadata": {
        "id": "v96UnwySfW0X"
      },
      "source": [
        "import numpy as np\n",
        "import pandas as pd\n",
        "from sklearn.linear_model import LinearRegression\n",
        "from sklearn.metrics import mean_squared_error\n",
        "from sklearn.model_selection import cross_val_score\n",
        "from sklearn.linear_model import Lasso, Ridge, ElasticNet"
      ],
      "execution_count": null,
      "outputs": []
    },
    {
      "cell_type": "code",
      "metadata": {
        "id": "htaR-Pq9Tsny",
        "outputId": "df0accd3-1e67-415b-d444-9f6b20d0ae2d",
        "colab": {
          "resources": {
            "http://localhost:8080/nbextensions/google.colab/files.js": {
              "data": "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",
              "ok": true,
              "headers": [
                [
                  "content-type",
                  "application/javascript"
                ]
              ],
              "status": 200,
              "status_text": ""
            }
          },
          "base_uri": "https://localhost:8080/",
          "height": 72
        }
      },
      "source": [
        "from google.colab import files \n",
        "  \n",
        "  \n",
        "uploaded = files.upload()"
      ],
      "execution_count": null,
      "outputs": [
        {
          "output_type": "display_data",
          "data": {
            "text/html": [
              "\n",
              "     <input type=\"file\" id=\"files-ab575a82-3033-4635-af72-21de72baa703\" name=\"files[]\" multiple disabled\n",
              "        style=\"border:none\" />\n",
              "     <output id=\"result-ab575a82-3033-4635-af72-21de72baa703\">\n",
              "      Upload widget is only available when the cell has been executed in the\n",
              "      current browser session. Please rerun this cell to enable.\n",
              "      </output>\n",
              "      <script src=\"/nbextensions/google.colab/files.js\"></script> "
            ],
            "text/plain": [
              "<IPython.core.display.HTML object>"
            ]
          },
          "metadata": {
            "tags": []
          }
        },
        {
          "output_type": "stream",
          "text": [
            "Saving train_crop.csv to train_crop.csv\n"
          ],
          "name": "stdout"
        }
      ]
    },
    {
      "cell_type": "code",
      "metadata": {
        "id": "Sdz87LfHfUg8"
      },
      "source": [
        ""
      ],
      "execution_count": null,
      "outputs": []
    },
    {
      "cell_type": "code",
      "metadata": {
        "id": "yem3wPYRT5jC",
        "outputId": "7868a645-45c0-44ca-a49c-b065ef4afa6f",
        "colab": {
          "resources": {
            "http://localhost:8080/nbextensions/google.colab/files.js": {
              "data": "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",
              "ok": true,
              "headers": [
                [
                  "content-type",
                  "application/javascript"
                ]
              ],
              "status": 200,
              "status_text": ""
            }
          },
          "base_uri": "https://localhost:8080/",
          "height": 72
        }
      },
      "source": [
        "from google.colab import files \n",
        "  \n",
        "  \n",
        "uploaded = files.upload()"
      ],
      "execution_count": null,
      "outputs": [
        {
          "output_type": "display_data",
          "data": {
            "text/html": [
              "\n",
              "     <input type=\"file\" id=\"files-90a25921-7261-4207-8003-efb0ec0387ab\" name=\"files[]\" multiple disabled\n",
              "        style=\"border:none\" />\n",
              "     <output id=\"result-90a25921-7261-4207-8003-efb0ec0387ab\">\n",
              "      Upload widget is only available when the cell has been executed in the\n",
              "      current browser session. Please rerun this cell to enable.\n",
              "      </output>\n",
              "      <script src=\"/nbextensions/google.colab/files.js\"></script> "
            ],
            "text/plain": [
              "<IPython.core.display.HTML object>"
            ]
          },
          "metadata": {
            "tags": []
          }
        },
        {
          "output_type": "stream",
          "text": [
            "Saving test_crop.csv to test_crop.csv\n"
          ],
          "name": "stdout"
        }
      ]
    },
    {
      "cell_type": "code",
      "metadata": {
        "id": "IwrIc5wWX7OQ"
      },
      "source": [
        "train = pd.read_csv(\"train_crop.csv\")\n",
        "test = pd.read_csv(\"test_crop.csv\")"
      ],
      "execution_count": null,
      "outputs": []
    },
    {
      "cell_type": "code",
      "metadata": {
        "id": "7lo2kaz6X8yu",
        "outputId": "9d39fcf4-2fff-49c6-ea96-3351c8d2de75",
        "colab": {
          "base_uri": "https://localhost:8080/",
          "height": 224
        }
      },
      "source": [
        "train.head()"
      ],
      "execution_count": null,
      "outputs": [
        {
          "output_type": "execute_result",
          "data": {
            "text/html": [
              "<div>\n",
              "<style scoped>\n",
              "    .dataframe tbody tr th:only-of-type {\n",
              "        vertical-align: middle;\n",
              "    }\n",
              "\n",
              "    .dataframe tbody tr th {\n",
              "        vertical-align: top;\n",
              "    }\n",
              "\n",
              "    .dataframe thead th {\n",
              "        text-align: right;\n",
              "    }\n",
              "</style>\n",
              "<table border=\"1\" class=\"dataframe\">\n",
              "  <thead>\n",
              "    <tr style=\"text-align: right;\">\n",
              "      <th></th>\n",
              "      <th>ID</th>\n",
              "      <th>Estimated_Insects_Count</th>\n",
              "      <th>Crop_Type</th>\n",
              "      <th>Soil_Type</th>\n",
              "      <th>Pesticide_Use_Category</th>\n",
              "      <th>Number_Doses_Week</th>\n",
              "      <th>Number_Weeks_Used</th>\n",
              "      <th>Number_Weeks_Quit</th>\n",
              "      <th>Season</th>\n",
              "      <th>Crop_Damage</th>\n",
              "    </tr>\n",
              "  </thead>\n",
              "  <tbody>\n",
              "    <tr>\n",
              "      <th>0</th>\n",
              "      <td>F00000001</td>\n",
              "      <td>188</td>\n",
              "      <td>1</td>\n",
              "      <td>0</td>\n",
              "      <td>1</td>\n",
              "      <td>0</td>\n",
              "      <td>0.0</td>\n",
              "      <td>0</td>\n",
              "      <td>1</td>\n",
              "      <td>0</td>\n",
              "    </tr>\n",
              "    <tr>\n",
              "      <th>1</th>\n",
              "      <td>F00000003</td>\n",
              "      <td>209</td>\n",
              "      <td>1</td>\n",
              "      <td>0</td>\n",
              "      <td>1</td>\n",
              "      <td>0</td>\n",
              "      <td>0.0</td>\n",
              "      <td>0</td>\n",
              "      <td>2</td>\n",
              "      <td>1</td>\n",
              "    </tr>\n",
              "    <tr>\n",
              "      <th>2</th>\n",
              "      <td>F00000004</td>\n",
              "      <td>257</td>\n",
              "      <td>1</td>\n",
              "      <td>0</td>\n",
              "      <td>1</td>\n",
              "      <td>0</td>\n",
              "      <td>0.0</td>\n",
              "      <td>0</td>\n",
              "      <td>2</td>\n",
              "      <td>1</td>\n",
              "    </tr>\n",
              "    <tr>\n",
              "      <th>3</th>\n",
              "      <td>F00000005</td>\n",
              "      <td>257</td>\n",
              "      <td>1</td>\n",
              "      <td>1</td>\n",
              "      <td>1</td>\n",
              "      <td>0</td>\n",
              "      <td>0.0</td>\n",
              "      <td>0</td>\n",
              "      <td>2</td>\n",
              "      <td>1</td>\n",
              "    </tr>\n",
              "    <tr>\n",
              "      <th>4</th>\n",
              "      <td>F00000006</td>\n",
              "      <td>342</td>\n",
              "      <td>1</td>\n",
              "      <td>0</td>\n",
              "      <td>1</td>\n",
              "      <td>0</td>\n",
              "      <td>0.0</td>\n",
              "      <td>0</td>\n",
              "      <td>2</td>\n",
              "      <td>1</td>\n",
              "    </tr>\n",
              "  </tbody>\n",
              "</table>\n",
              "</div>"
            ],
            "text/plain": [
              "          ID  Estimated_Insects_Count  ...  Season  Crop_Damage\n",
              "0  F00000001                      188  ...       1            0\n",
              "1  F00000003                      209  ...       2            1\n",
              "2  F00000004                      257  ...       2            1\n",
              "3  F00000005                      257  ...       2            1\n",
              "4  F00000006                      342  ...       2            1\n",
              "\n",
              "[5 rows x 10 columns]"
            ]
          },
          "metadata": {
            "tags": []
          },
          "execution_count": 12
        }
      ]
    },
    {
      "cell_type": "code",
      "metadata": {
        "id": "lTh7n4cuZZZ_",
        "outputId": "ac1df63a-fa95-414a-ab01-7c5ed319a50f",
        "colab": {
          "base_uri": "https://localhost:8080/",
          "height": 204
        }
      },
      "source": [
        "test.head()"
      ],
      "execution_count": null,
      "outputs": [
        {
          "output_type": "execute_result",
          "data": {
            "text/html": [
              "<div>\n",
              "<style scoped>\n",
              "    .dataframe tbody tr th:only-of-type {\n",
              "        vertical-align: middle;\n",
              "    }\n",
              "\n",
              "    .dataframe tbody tr th {\n",
              "        vertical-align: top;\n",
              "    }\n",
              "\n",
              "    .dataframe thead th {\n",
              "        text-align: right;\n",
              "    }\n",
              "</style>\n",
              "<table border=\"1\" class=\"dataframe\">\n",
              "  <thead>\n",
              "    <tr style=\"text-align: right;\">\n",
              "      <th></th>\n",
              "      <th>ID</th>\n",
              "      <th>Crop_Type</th>\n",
              "      <th>Soil_Type</th>\n",
              "    </tr>\n",
              "  </thead>\n",
              "  <tbody>\n",
              "    <tr>\n",
              "      <th>0</th>\n",
              "      <td>F00000002</td>\n",
              "      <td>1</td>\n",
              "      <td>1</td>\n",
              "    </tr>\n",
              "    <tr>\n",
              "      <th>1</th>\n",
              "      <td>F00000007</td>\n",
              "      <td>1</td>\n",
              "      <td>1</td>\n",
              "    </tr>\n",
              "    <tr>\n",
              "      <th>2</th>\n",
              "      <td>F00000011</td>\n",
              "      <td>1</td>\n",
              "      <td>0</td>\n",
              "    </tr>\n",
              "    <tr>\n",
              "      <th>3</th>\n",
              "      <td>F00000013</td>\n",
              "      <td>1</td>\n",
              "      <td>0</td>\n",
              "    </tr>\n",
              "    <tr>\n",
              "      <th>4</th>\n",
              "      <td>F00000014</td>\n",
              "      <td>0</td>\n",
              "      <td>0</td>\n",
              "    </tr>\n",
              "  </tbody>\n",
              "</table>\n",
              "</div>"
            ],
            "text/plain": [
              "          ID  Crop_Type  Soil_Type\n",
              "0  F00000002          1          1\n",
              "1  F00000007          1          1\n",
              "2  F00000011          1          0\n",
              "3  F00000013          1          0\n",
              "4  F00000014          0          0"
            ]
          },
          "metadata": {
            "tags": []
          },
          "execution_count": 39
        }
      ]
    },
    {
      "cell_type": "code",
      "metadata": {
        "id": "xTZys2NIXMm4",
        "outputId": "36c076d6-72ec-442c-af36-e0bce2e178f2",
        "colab": {
          "base_uri": "https://localhost:8080/",
          "height": 85
        }
      },
      "source": [
        "test.isna().sum()"
      ],
      "execution_count": null,
      "outputs": [
        {
          "output_type": "execute_result",
          "data": {
            "text/plain": [
              "ID           0\n",
              "Crop_Type    0\n",
              "Soil_Type    0\n",
              "dtype: int64"
            ]
          },
          "metadata": {
            "tags": []
          },
          "execution_count": 38
        }
      ]
    },
    {
      "cell_type": "code",
      "metadata": {
        "id": "z8Qi2Xc4X7SC",
        "outputId": "228b53ad-0e9c-43e2-d468-f5726507614d",
        "colab": {
          "base_uri": "https://localhost:8080/",
          "height": 34
        }
      },
      "source": [
        "train.columns.difference(test.columns)"
      ],
      "execution_count": null,
      "outputs": [
        {
          "output_type": "execute_result",
          "data": {
            "text/plain": [
              "Index([], dtype='object')"
            ]
          },
          "metadata": {
            "tags": []
          },
          "execution_count": 37
        }
      ]
    },
    {
      "cell_type": "code",
      "metadata": {
        "id": "nWbjIyN1aa7d",
        "outputId": "b3d289e1-fc46-4587-bf6e-b8639491a2ab",
        "colab": {
          "base_uri": "https://localhost:8080/",
          "height": 187
        }
      },
      "source": [
        "train.info()"
      ],
      "execution_count": null,
      "outputs": [
        {
          "output_type": "stream",
          "text": [
            "<class 'pandas.core.frame.DataFrame'>\n",
            "RangeIndex: 88858 entries, 0 to 88857\n",
            "Data columns (total 3 columns):\n",
            " #   Column     Non-Null Count  Dtype \n",
            "---  ------     --------------  ----- \n",
            " 0   ID         88858 non-null  object\n",
            " 1   Crop_Type  88858 non-null  int64 \n",
            " 2   Soil_Type  88858 non-null  int64 \n",
            "dtypes: int64(2), object(1)\n",
            "memory usage: 2.0+ MB\n"
          ],
          "name": "stdout"
        }
      ]
    },
    {
      "cell_type": "code",
      "metadata": {
        "id": "O4C-r6H5abCT",
        "outputId": "b7c89326-1796-4c56-fad5-ba472ef15e63",
        "colab": {
          "base_uri": "https://localhost:8080/",
          "height": 297
        }
      },
      "source": [
        "train.describe()"
      ],
      "execution_count": null,
      "outputs": [
        {
          "output_type": "execute_result",
          "data": {
            "text/html": [
              "<div>\n",
              "<style scoped>\n",
              "    .dataframe tbody tr th:only-of-type {\n",
              "        vertical-align: middle;\n",
              "    }\n",
              "\n",
              "    .dataframe tbody tr th {\n",
              "        vertical-align: top;\n",
              "    }\n",
              "\n",
              "    .dataframe thead th {\n",
              "        text-align: right;\n",
              "    }\n",
              "</style>\n",
              "<table border=\"1\" class=\"dataframe\">\n",
              "  <thead>\n",
              "    <tr style=\"text-align: right;\">\n",
              "      <th></th>\n",
              "      <th>Crop_Type</th>\n",
              "      <th>Soil_Type</th>\n",
              "    </tr>\n",
              "  </thead>\n",
              "  <tbody>\n",
              "    <tr>\n",
              "      <th>count</th>\n",
              "      <td>88858.000000</td>\n",
              "      <td>88858.000000</td>\n",
              "    </tr>\n",
              "    <tr>\n",
              "      <th>mean</th>\n",
              "      <td>0.284375</td>\n",
              "      <td>0.458417</td>\n",
              "    </tr>\n",
              "    <tr>\n",
              "      <th>std</th>\n",
              "      <td>0.451119</td>\n",
              "      <td>0.498271</td>\n",
              "    </tr>\n",
              "    <tr>\n",
              "      <th>min</th>\n",
              "      <td>0.000000</td>\n",
              "      <td>0.000000</td>\n",
              "    </tr>\n",
              "    <tr>\n",
              "      <th>25%</th>\n",
              "      <td>0.000000</td>\n",
              "      <td>0.000000</td>\n",
              "    </tr>\n",
              "    <tr>\n",
              "      <th>50%</th>\n",
              "      <td>0.000000</td>\n",
              "      <td>0.000000</td>\n",
              "    </tr>\n",
              "    <tr>\n",
              "      <th>75%</th>\n",
              "      <td>1.000000</td>\n",
              "      <td>1.000000</td>\n",
              "    </tr>\n",
              "    <tr>\n",
              "      <th>max</th>\n",
              "      <td>1.000000</td>\n",
              "      <td>1.000000</td>\n",
              "    </tr>\n",
              "  </tbody>\n",
              "</table>\n",
              "</div>"
            ],
            "text/plain": [
              "          Crop_Type     Soil_Type\n",
              "count  88858.000000  88858.000000\n",
              "mean       0.284375      0.458417\n",
              "std        0.451119      0.498271\n",
              "min        0.000000      0.000000\n",
              "25%        0.000000      0.000000\n",
              "50%        0.000000      0.000000\n",
              "75%        1.000000      1.000000\n",
              "max        1.000000      1.000000"
            ]
          },
          "metadata": {
            "tags": []
          },
          "execution_count": 35
        }
      ]
    },
    {
      "cell_type": "code",
      "metadata": {
        "id": "Xp4bg3cIaxDJ",
        "outputId": "fed6902c-d60e-4580-87fd-b5cc71a010e0",
        "colab": {
          "base_uri": "https://localhost:8080/",
          "height": 85
        }
      },
      "source": [
        "train.isna().sum()"
      ],
      "execution_count": null,
      "outputs": [
        {
          "output_type": "execute_result",
          "data": {
            "text/plain": [
              "ID           0\n",
              "Crop_Type    0\n",
              "Soil_Type    0\n",
              "dtype: int64"
            ]
          },
          "metadata": {
            "tags": []
          },
          "execution_count": 34
        }
      ]
    },
    {
      "cell_type": "code",
      "metadata": {
        "id": "-lh7GUP5eqos",
        "outputId": "6bb0024f-ae94-4288-dc37-a63685576200",
        "colab": {
          "resources": {
            "http://localhost:8080/nbextensions/google.colab/files.js": {
              "data": "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",
              "ok": true,
              "headers": [
                [
                  "content-type",
                  "application/javascript"
                ]
              ],
              "status": 200,
              "status_text": ""
            }
          },
          "base_uri": "https://localhost:8080/",
          "height": 89
        }
      },
      "source": [
        "from google.colab import files \n",
        "  \n",
        "  \n",
        "uploaded = files.upload()"
      ],
      "execution_count": null,
      "outputs": [
        {
          "output_type": "display_data",
          "data": {
            "text/html": [
              "\n",
              "     <input type=\"file\" id=\"files-269dd703-dd0e-4433-8a77-52fa5cbcdae7\" name=\"files[]\" multiple disabled\n",
              "        style=\"border:none\" />\n",
              "     <output id=\"result-269dd703-dd0e-4433-8a77-52fa5cbcdae7\">\n",
              "      Upload widget is only available when the cell has been executed in the\n",
              "      current browser session. Please rerun this cell to enable.\n",
              "      </output>\n",
              "      <script src=\"/nbextensions/google.colab/files.js\"></script> "
            ],
            "text/plain": [
              "<IPython.core.display.HTML object>"
            ]
          },
          "metadata": {
            "tags": []
          }
        },
        {
          "output_type": "stream",
          "text": [
            "Saving sample_submission_crop.csv to sample_submission_crop.csv\n"
          ],
          "name": "stdout"
        }
      ]
    },
    {
      "cell_type": "code",
      "metadata": {
        "id": "JIEYiz8JeEE2"
      },
      "source": [
        "sample= pd.read_csv(\"sample_submission_crop.csv\")\n",
        "def run_model(model, train_X, train_y, test_X, sample, filename ):\n",
        "     model.fit(train_X, train_y)\n",
        "     pd.Series(model.coef_,index=test_X.columns).plot(kind = \"bar\")\n",
        "     pred_train = model.predict(train_X)\n",
        "     pred_test = model.predict(test_X)\n",
        "     pred_test = abs(pred_test)\n",
        "     print(\"RMSE of Train Data = \",np.sqrt(mean_squared_error(train_y, pred_train)))\n",
        "     score = cross_val_score(model, train_X, train_y, cv = 10, scoring = \"neg_root_mean_squared_error\" )\n",
        "     print(\"Cross validation Score = \",np.mean(np.abs(score)))\n",
        "     sample[\"ADDRESS\"] = pred_test\n",
        "     sample.to_csv(filename, index = False)"
      ],
      "execution_count": null,
      "outputs": []
    },
    {
      "cell_type": "code",
      "metadata": {
        "id": "WDojhbrFe29P",
        "outputId": "29778ecc-78f1-4308-af81-e1a2df920cc9",
        "colab": {
          "base_uri": "https://localhost:8080/",
          "height": 197
        }
      },
      "source": [
        "model = LinearRegression()\n",
        "run_model(model, train_X, train_y, test_X, sample, \"test_result_Linear_regression.csv\" )"
      ],
      "execution_count": null,
      "outputs": [
        {
          "output_type": "error",
          "ename": "NameError",
          "evalue": "ignored",
          "traceback": [
            "\u001b[0;31m---------------------------------------------------------------------------\u001b[0m",
            "\u001b[0;31mNameError\u001b[0m                                 Traceback (most recent call last)",
            "\u001b[0;32m<ipython-input-42-e3c86eaf4cd7>\u001b[0m in \u001b[0;36m<module>\u001b[0;34m()\u001b[0m\n\u001b[1;32m      1\u001b[0m \u001b[0mmodel\u001b[0m \u001b[0;34m=\u001b[0m \u001b[0mLinearRegression\u001b[0m\u001b[0;34m(\u001b[0m\u001b[0;34m)\u001b[0m\u001b[0;34m\u001b[0m\u001b[0;34m\u001b[0m\u001b[0m\n\u001b[0;32m----> 2\u001b[0;31m \u001b[0mrun_model\u001b[0m\u001b[0;34m(\u001b[0m\u001b[0mmodel\u001b[0m\u001b[0;34m,\u001b[0m \u001b[0mtrain_X\u001b[0m\u001b[0;34m,\u001b[0m \u001b[0mtrain_y\u001b[0m\u001b[0;34m,\u001b[0m \u001b[0mtest_X\u001b[0m\u001b[0;34m,\u001b[0m \u001b[0msample\u001b[0m\u001b[0;34m,\u001b[0m \u001b[0;34m\"test_result_Linear_regression.csv\"\u001b[0m \u001b[0;34m)\u001b[0m\u001b[0;34m\u001b[0m\u001b[0;34m\u001b[0m\u001b[0m\n\u001b[0m",
            "\u001b[0;31mNameError\u001b[0m: name 'train_X' is not defined"
          ]
        }
      ]
    },
    {
      "cell_type": "code",
      "metadata": {
        "id": "u6X74D16a2xS",
        "outputId": "24bde23e-483a-4a1c-cfdb-9bd3b7248602",
        "colab": {
          "base_uri": "https://localhost:8080/",
          "height": 85
        }
      },
      "source": [
        "test.isna().sum()"
      ],
      "execution_count": null,
      "outputs": [
        {
          "output_type": "execute_result",
          "data": {
            "text/plain": [
              "ID           0\n",
              "Crop_Type    0\n",
              "Soil_Type    0\n",
              "dtype: int64"
            ]
          },
          "metadata": {
            "tags": []
          },
          "execution_count": 43
        }
      ]
    },
    {
      "cell_type": "code",
      "metadata": {
        "id": "gGLMMXC1a_Mk",
        "outputId": "0dc98afe-4f65-4ee6-ed27-cb3a79ded12a",
        "colab": {
          "base_uri": "https://localhost:8080/",
          "height": 282
        }
      },
      "source": [
        "train.Number_Weeks_Used"
      ],
      "execution_count": null,
      "outputs": [
        {
          "output_type": "error",
          "ename": "AttributeError",
          "evalue": "ignored",
          "traceback": [
            "\u001b[0;31m---------------------------------------------------------------------------\u001b[0m",
            "\u001b[0;31mAttributeError\u001b[0m                            Traceback (most recent call last)",
            "\u001b[0;32m<ipython-input-44-3d7fee89d1c2>\u001b[0m in \u001b[0;36m<module>\u001b[0;34m()\u001b[0m\n\u001b[0;32m----> 1\u001b[0;31m \u001b[0mtrain\u001b[0m\u001b[0;34m.\u001b[0m\u001b[0mNumber_Weeks_Used\u001b[0m\u001b[0;34m\u001b[0m\u001b[0;34m\u001b[0m\u001b[0m\n\u001b[0m",
            "\u001b[0;32m/usr/local/lib/python3.6/dist-packages/pandas/core/generic.py\u001b[0m in \u001b[0;36m__getattr__\u001b[0;34m(self, name)\u001b[0m\n\u001b[1;32m   5137\u001b[0m             \u001b[0;32mif\u001b[0m \u001b[0mself\u001b[0m\u001b[0;34m.\u001b[0m\u001b[0m_info_axis\u001b[0m\u001b[0;34m.\u001b[0m\u001b[0m_can_hold_identifiers_and_holds_name\u001b[0m\u001b[0;34m(\u001b[0m\u001b[0mname\u001b[0m\u001b[0;34m)\u001b[0m\u001b[0;34m:\u001b[0m\u001b[0;34m\u001b[0m\u001b[0;34m\u001b[0m\u001b[0m\n\u001b[1;32m   5138\u001b[0m                 \u001b[0;32mreturn\u001b[0m \u001b[0mself\u001b[0m\u001b[0;34m[\u001b[0m\u001b[0mname\u001b[0m\u001b[0;34m]\u001b[0m\u001b[0;34m\u001b[0m\u001b[0;34m\u001b[0m\u001b[0m\n\u001b[0;32m-> 5139\u001b[0;31m             \u001b[0;32mreturn\u001b[0m \u001b[0mobject\u001b[0m\u001b[0;34m.\u001b[0m\u001b[0m__getattribute__\u001b[0m\u001b[0;34m(\u001b[0m\u001b[0mself\u001b[0m\u001b[0;34m,\u001b[0m \u001b[0mname\u001b[0m\u001b[0;34m)\u001b[0m\u001b[0;34m\u001b[0m\u001b[0;34m\u001b[0m\u001b[0m\n\u001b[0m\u001b[1;32m   5140\u001b[0m \u001b[0;34m\u001b[0m\u001b[0m\n\u001b[1;32m   5141\u001b[0m     \u001b[0;32mdef\u001b[0m \u001b[0m__setattr__\u001b[0m\u001b[0;34m(\u001b[0m\u001b[0mself\u001b[0m\u001b[0;34m,\u001b[0m \u001b[0mname\u001b[0m\u001b[0;34m:\u001b[0m \u001b[0mstr\u001b[0m\u001b[0;34m,\u001b[0m \u001b[0mvalue\u001b[0m\u001b[0;34m)\u001b[0m \u001b[0;34m->\u001b[0m \u001b[0;32mNone\u001b[0m\u001b[0;34m:\u001b[0m\u001b[0;34m\u001b[0m\u001b[0;34m\u001b[0m\u001b[0m\n",
            "\u001b[0;31mAttributeError\u001b[0m: 'DataFrame' object has no attribute 'Number_Weeks_Used'"
          ]
        }
      ]
    },
    {
      "cell_type": "code",
      "metadata": {
        "id": "v3UAtPUPbgYw"
      },
      "source": [
        "train[\"source\"] = \"train\"\n",
        "test[\"source\"] = \"test\""
      ],
      "execution_count": null,
      "outputs": []
    },
    {
      "cell_type": "code",
      "metadata": {
        "id": "nJ-bKc9ZbiUa",
        "outputId": "acd664e1-1a3c-4bf9-c547-a5d325745466",
        "colab": {
          "base_uri": "https://localhost:8080/",
          "height": 419
        }
      },
      "source": [
        "test"
      ],
      "execution_count": null,
      "outputs": [
        {
          "output_type": "execute_result",
          "data": {
            "text/html": [
              "<div>\n",
              "<style scoped>\n",
              "    .dataframe tbody tr th:only-of-type {\n",
              "        vertical-align: middle;\n",
              "    }\n",
              "\n",
              "    .dataframe tbody tr th {\n",
              "        vertical-align: top;\n",
              "    }\n",
              "\n",
              "    .dataframe thead th {\n",
              "        text-align: right;\n",
              "    }\n",
              "</style>\n",
              "<table border=\"1\" class=\"dataframe\">\n",
              "  <thead>\n",
              "    <tr style=\"text-align: right;\">\n",
              "      <th></th>\n",
              "      <th>ID</th>\n",
              "      <th>Estimated_Insects_Count</th>\n",
              "      <th>Crop_Type</th>\n",
              "      <th>Soil_Type</th>\n",
              "      <th>Pesticide_Use_Category</th>\n",
              "      <th>Number_Doses_Week</th>\n",
              "      <th>Number_Weeks_Used</th>\n",
              "      <th>Number_Weeks_Quit</th>\n",
              "      <th>Season</th>\n",
              "      <th>source</th>\n",
              "    </tr>\n",
              "  </thead>\n",
              "  <tbody>\n",
              "    <tr>\n",
              "      <th>0</th>\n",
              "      <td>F00000002</td>\n",
              "      <td>188</td>\n",
              "      <td>1</td>\n",
              "      <td>1</td>\n",
              "      <td>1</td>\n",
              "      <td>0</td>\n",
              "      <td>NaN</td>\n",
              "      <td>0</td>\n",
              "      <td>2</td>\n",
              "      <td>test</td>\n",
              "    </tr>\n",
              "    <tr>\n",
              "      <th>1</th>\n",
              "      <td>F00000007</td>\n",
              "      <td>410</td>\n",
              "      <td>1</td>\n",
              "      <td>1</td>\n",
              "      <td>1</td>\n",
              "      <td>0</td>\n",
              "      <td>0.0</td>\n",
              "      <td>0</td>\n",
              "      <td>2</td>\n",
              "      <td>test</td>\n",
              "    </tr>\n",
              "    <tr>\n",
              "      <th>2</th>\n",
              "      <td>F00000011</td>\n",
              "      <td>626</td>\n",
              "      <td>1</td>\n",
              "      <td>0</td>\n",
              "      <td>1</td>\n",
              "      <td>0</td>\n",
              "      <td>0.0</td>\n",
              "      <td>0</td>\n",
              "      <td>2</td>\n",
              "      <td>test</td>\n",
              "    </tr>\n",
              "    <tr>\n",
              "      <th>3</th>\n",
              "      <td>F00000013</td>\n",
              "      <td>731</td>\n",
              "      <td>1</td>\n",
              "      <td>0</td>\n",
              "      <td>1</td>\n",
              "      <td>0</td>\n",
              "      <td>0.0</td>\n",
              "      <td>0</td>\n",
              "      <td>2</td>\n",
              "      <td>test</td>\n",
              "    </tr>\n",
              "    <tr>\n",
              "      <th>4</th>\n",
              "      <td>F00000014</td>\n",
              "      <td>789</td>\n",
              "      <td>0</td>\n",
              "      <td>0</td>\n",
              "      <td>1</td>\n",
              "      <td>0</td>\n",
              "      <td>0.0</td>\n",
              "      <td>0</td>\n",
              "      <td>1</td>\n",
              "      <td>test</td>\n",
              "    </tr>\n",
              "    <tr>\n",
              "      <th>...</th>\n",
              "      <td>...</td>\n",
              "      <td>...</td>\n",
              "      <td>...</td>\n",
              "      <td>...</td>\n",
              "      <td>...</td>\n",
              "      <td>...</td>\n",
              "      <td>...</td>\n",
              "      <td>...</td>\n",
              "      <td>...</td>\n",
              "      <td>...</td>\n",
              "    </tr>\n",
              "    <tr>\n",
              "      <th>59305</th>\n",
              "      <td>F00155937</td>\n",
              "      <td>3337</td>\n",
              "      <td>1</td>\n",
              "      <td>0</td>\n",
              "      <td>2</td>\n",
              "      <td>20</td>\n",
              "      <td>34.0</td>\n",
              "      <td>12</td>\n",
              "      <td>1</td>\n",
              "      <td>test</td>\n",
              "    </tr>\n",
              "    <tr>\n",
              "      <th>59306</th>\n",
              "      <td>F00155940</td>\n",
              "      <td>3516</td>\n",
              "      <td>1</td>\n",
              "      <td>0</td>\n",
              "      <td>2</td>\n",
              "      <td>20</td>\n",
              "      <td>32.0</td>\n",
              "      <td>10</td>\n",
              "      <td>2</td>\n",
              "      <td>test</td>\n",
              "    </tr>\n",
              "    <tr>\n",
              "      <th>59307</th>\n",
              "      <td>F00155941</td>\n",
              "      <td>3702</td>\n",
              "      <td>1</td>\n",
              "      <td>0</td>\n",
              "      <td>2</td>\n",
              "      <td>10</td>\n",
              "      <td>NaN</td>\n",
              "      <td>48</td>\n",
              "      <td>1</td>\n",
              "      <td>test</td>\n",
              "    </tr>\n",
              "    <tr>\n",
              "      <th>59308</th>\n",
              "      <td>F00155943</td>\n",
              "      <td>3702</td>\n",
              "      <td>1</td>\n",
              "      <td>0</td>\n",
              "      <td>2</td>\n",
              "      <td>10</td>\n",
              "      <td>28.0</td>\n",
              "      <td>17</td>\n",
              "      <td>2</td>\n",
              "      <td>test</td>\n",
              "    </tr>\n",
              "    <tr>\n",
              "      <th>59309</th>\n",
              "      <td>F00155944</td>\n",
              "      <td>3895</td>\n",
              "      <td>1</td>\n",
              "      <td>0</td>\n",
              "      <td>2</td>\n",
              "      <td>5</td>\n",
              "      <td>52.0</td>\n",
              "      <td>7</td>\n",
              "      <td>1</td>\n",
              "      <td>test</td>\n",
              "    </tr>\n",
              "  </tbody>\n",
              "</table>\n",
              "<p>59310 rows × 10 columns</p>\n",
              "</div>"
            ],
            "text/plain": [
              "              ID  Estimated_Insects_Count  ...  Season  source\n",
              "0      F00000002                      188  ...       2    test\n",
              "1      F00000007                      410  ...       2    test\n",
              "2      F00000011                      626  ...       2    test\n",
              "3      F00000013                      731  ...       2    test\n",
              "4      F00000014                      789  ...       1    test\n",
              "...          ...                      ...  ...     ...     ...\n",
              "59305  F00155937                     3337  ...       1    test\n",
              "59306  F00155940                     3516  ...       2    test\n",
              "59307  F00155941                     3702  ...       1    test\n",
              "59308  F00155943                     3702  ...       2    test\n",
              "59309  F00155944                     3895  ...       1    test\n",
              "\n",
              "[59310 rows x 10 columns]"
            ]
          },
          "metadata": {
            "tags": []
          },
          "execution_count": 21
        }
      ]
    },
    {
      "cell_type": "code",
      "metadata": {
        "id": "4-h4eCk3JObY",
        "outputId": "f054d175-1a91-4828-dc47-30ce0d6c0d4c",
        "colab": {
          "base_uri": "https://localhost:8080/",
          "height": 34
        }
      },
      "source": [
        "train.shape"
      ],
      "execution_count": null,
      "outputs": [
        {
          "output_type": "execute_result",
          "data": {
            "text/plain": [
              "(88858, 11)"
            ]
          },
          "metadata": {
            "tags": []
          },
          "execution_count": 38
        }
      ]
    },
    {
      "cell_type": "code",
      "metadata": {
        "id": "w6eVMnUjJtEo",
        "outputId": "eb440dce-7faa-414c-b84b-481e7076025b",
        "colab": {
          "base_uri": "https://localhost:8080/",
          "height": 34
        }
      },
      "source": [
        "test.shape"
      ],
      "execution_count": null,
      "outputs": [
        {
          "output_type": "execute_result",
          "data": {
            "text/plain": [
              "(59310, 10)"
            ]
          },
          "metadata": {
            "tags": []
          },
          "execution_count": 25
        }
      ]
    },
    {
      "cell_type": "code",
      "metadata": {
        "id": "CC5jwYx2JxgI"
      },
      "source": [
        "df = pd.concat([train,test])\n"
      ],
      "execution_count": null,
      "outputs": []
    },
    {
      "cell_type": "code",
      "metadata": {
        "id": "daZ8FaNuRcch",
        "outputId": "e6b253df-9e51-4f8c-c885-f0485d875798",
        "colab": {
          "base_uri": "https://localhost:8080/",
          "height": 221
        }
      },
      "source": [
        "df.isna().sum()"
      ],
      "execution_count": null,
      "outputs": [
        {
          "output_type": "execute_result",
          "data": {
            "text/plain": [
              "ID                             0\n",
              "Estimated_Insects_Count        0\n",
              "Crop_Type                      0\n",
              "Soil_Type                      0\n",
              "Pesticide_Use_Category         0\n",
              "Number_Doses_Week              0\n",
              "Number_Weeks_Used          14893\n",
              "Number_Weeks_Quit              0\n",
              "Season                         0\n",
              "Crop_Damage                59310\n",
              "source                         0\n",
              "dtype: int64"
            ]
          },
          "metadata": {
            "tags": []
          },
          "execution_count": 42
        }
      ]
    },
    {
      "cell_type": "code",
      "metadata": {
        "id": "xvG07uQ5RiJb",
        "outputId": "57425ca7-9ea8-4521-986c-1acae0a7cb7d",
        "colab": {
          "base_uri": "https://localhost:8080/",
          "height": 34
        }
      },
      "source": [
        "df.shape"
      ],
      "execution_count": null,
      "outputs": [
        {
          "output_type": "execute_result",
          "data": {
            "text/plain": [
              "(148168, 11)"
            ]
          },
          "metadata": {
            "tags": []
          },
          "execution_count": 43
        }
      ]
    },
    {
      "cell_type": "code",
      "metadata": {
        "id": "qFss4sWsRksZ",
        "outputId": "0cf6b2fb-2495-4b51-f191-0071858461ee",
        "colab": {
          "base_uri": "https://localhost:8080/",
          "height": 34
        }
      },
      "source": [
        "df[\"ID\"].nunique()"
      ],
      "execution_count": null,
      "outputs": [
        {
          "output_type": "execute_result",
          "data": {
            "text/plain": [
              "148168"
            ]
          },
          "metadata": {
            "tags": []
          },
          "execution_count": 44
        }
      ]
    },
    {
      "cell_type": "code",
      "metadata": {
        "id": "CdnhYU1wR0Ec"
      },
      "source": [
        "df[\"ID_2\"] = df[\"ID\"].apply(lambda x : x[0:2])\n",
        "df[\"ID_3\"] = df[\"ID\"].apply(lambda x : x[0:3])"
      ],
      "execution_count": null,
      "outputs": []
    },
    {
      "cell_type": "code",
      "metadata": {
        "id": "5G8fCLfjSFt-",
        "outputId": "a7b4fa13-31a9-4c46-94d1-960794aa270c",
        "colab": {
          "base_uri": "https://localhost:8080/",
          "height": 51
        }
      },
      "source": [
        "df[\"ID_2\"].value_counts()"
      ],
      "execution_count": null,
      "outputs": [
        {
          "output_type": "execute_result",
          "data": {
            "text/plain": [
              "F0    148168\n",
              "Name: ID_2, dtype: int64"
            ]
          },
          "metadata": {
            "tags": []
          },
          "execution_count": 46
        }
      ]
    },
    {
      "cell_type": "code",
      "metadata": {
        "id": "9e2_EmI-SLit",
        "outputId": "7aa2067c-3527-471b-9fe6-0d34412c0c0c",
        "colab": {
          "base_uri": "https://localhost:8080/",
          "height": 51
        }
      },
      "source": [
        "df[\"ID_3\"].value_counts()"
      ],
      "execution_count": null,
      "outputs": [
        {
          "output_type": "execute_result",
          "data": {
            "text/plain": [
              "F00    148168\n",
              "Name: ID_3, dtype: int64"
            ]
          },
          "metadata": {
            "tags": []
          },
          "execution_count": 47
        }
      ]
    },
    {
      "cell_type": "code",
      "metadata": {
        "id": "avnoKAvGSVIv"
      },
      "source": [
        "del df[\"ID_3\"]"
      ],
      "execution_count": null,
      "outputs": []
    },
    {
      "cell_type": "code",
      "metadata": {
        "id": "b-zBgjFbSf7F",
        "outputId": "095a6b42-5e19-4cb4-9f6a-553a5d39845b",
        "colab": {
          "base_uri": "https://localhost:8080/",
          "height": 34
        }
      },
      "source": [
        "df[\"ID\"].isna().sum()"
      ],
      "execution_count": null,
      "outputs": [
        {
          "output_type": "execute_result",
          "data": {
            "text/plain": [
              "0"
            ]
          },
          "metadata": {
            "tags": []
          },
          "execution_count": 49
        }
      ]
    },
    {
      "cell_type": "code",
      "metadata": {
        "id": "EX7WQHkASo2M",
        "outputId": "97304764-2e6d-4880-bc6a-a905ebd7749e",
        "colab": {
          "base_uri": "https://localhost:8080/",
          "height": 221
        }
      },
      "source": [
        "df.iloc[0:100,1]"
      ],
      "execution_count": null,
      "outputs": [
        {
          "output_type": "execute_result",
          "data": {
            "text/plain": [
              "0     188\n",
              "1     209\n",
              "2     257\n",
              "3     257\n",
              "4     342\n",
              "     ... \n",
              "95    625\n",
              "96    625\n",
              "97    626\n",
              "98    625\n",
              "99    625\n",
              "Name: Estimated_Insects_Count, Length: 100, dtype: int64"
            ]
          },
          "metadata": {
            "tags": []
          },
          "execution_count": 50
        }
      ]
    },
    {
      "cell_type": "code",
      "metadata": {
        "id": "PoM2yITISun-"
      },
      "source": [
        "df[\"ID\"] = df.groupby(\"ID_2\").Number_Weeks_Used.transform(lambda x : x.fillna(x.mean()))"
      ],
      "execution_count": null,
      "outputs": []
    },
    {
      "cell_type": "code",
      "metadata": {
        "id": "l6ONZMVvTOVn",
        "outputId": "f1002e40-d04d-4b04-8aab-5801d898630a",
        "colab": {
          "base_uri": "https://localhost:8080/",
          "height": 221
        }
      },
      "source": [
        "df.iloc[0:100,1]"
      ],
      "execution_count": null,
      "outputs": [
        {
          "output_type": "execute_result",
          "data": {
            "text/plain": [
              "0     188\n",
              "1     209\n",
              "2     257\n",
              "3     257\n",
              "4     342\n",
              "     ... \n",
              "95    625\n",
              "96    625\n",
              "97    626\n",
              "98    625\n",
              "99    625\n",
              "Name: Estimated_Insects_Count, Length: 100, dtype: int64"
            ]
          },
          "metadata": {
            "tags": []
          },
          "execution_count": 53
        }
      ]
    },
    {
      "cell_type": "code",
      "metadata": {
        "id": "6hI_KvWJTVjq",
        "outputId": "bf248e53-6998-4152-9448-9790979a2088",
        "colab": {
          "base_uri": "https://localhost:8080/",
          "height": 34
        }
      },
      "source": [
        "df[\"Number_Weeks_Used\"].nunique()"
      ],
      "execution_count": null,
      "outputs": [
        {
          "output_type": "execute_result",
          "data": {
            "text/plain": [
              "64"
            ]
          },
          "metadata": {
            "tags": []
          },
          "execution_count": 54
        }
      ]
    },
    {
      "cell_type": "code",
      "metadata": {
        "id": "ArXTUY6sThBu",
        "outputId": "1e402d0f-dd4a-42e7-9204-8b17624bb23f",
        "colab": {
          "base_uri": "https://localhost:8080/",
          "height": 102
        }
      },
      "source": [
        "df[\"Number_Weeks_Used\"].unique()"
      ],
      "execution_count": null,
      "outputs": [
        {
          "output_type": "execute_result",
          "data": {
            "text/plain": [
              "array([ 0., nan, 26., 20., 15., 14., 19., 24.,  8., 23., 25., 28., 29.,\n",
              "       22., 21., 17., 30., 35., 32., 27., 16., 31., 33., 34., 39., 38.,\n",
              "       42., 40., 41., 36., 44., 37., 46., 45., 47., 43., 50., 10., 49.,\n",
              "       53., 48., 51., 54., 52., 55., 56., 61., 18., 57., 62., 60., 63.,\n",
              "       66., 59., 64., 13.,  7.,  5., 12.,  6.,  9., 58., 11., 65., 67.])"
            ]
          },
          "metadata": {
            "tags": []
          },
          "execution_count": 55
        }
      ]
    },
    {
      "cell_type": "code",
      "metadata": {
        "id": "MRJtvV46T5ld",
        "outputId": "46ea0ea6-3a1c-4953-c1b1-de896a0ef508",
        "colab": {
          "base_uri": "https://localhost:8080/",
          "height": 221
        }
      },
      "source": [
        "df[\"Number_Weeks_Used\"].value_counts()"
      ],
      "execution_count": null,
      "outputs": [
        {
          "output_type": "execute_result",
          "data": {
            "text/plain": [
              "20.0    6523\n",
              "30.0    6348\n",
              "25.0    5206\n",
              "40.0    4634\n",
              "15.0    4099\n",
              "        ... \n",
              "63.0      79\n",
              "64.0      63\n",
              "65.0      58\n",
              "66.0      30\n",
              "67.0      13\n",
              "Name: Number_Weeks_Used, Length: 64, dtype: int64"
            ]
          },
          "metadata": {
            "tags": []
          },
          "execution_count": 56
        }
      ]
    },
    {
      "cell_type": "code",
      "metadata": {
        "id": "VW1xU47OUTjs",
        "outputId": "e55500c2-1eb7-4344-fc6d-32bb28086596",
        "colab": {
          "base_uri": "https://localhost:8080/",
          "height": 286
        }
      },
      "source": [
        "df[\"Number_Weeks_Used\"].plot(kind = \"box\")"
      ],
      "execution_count": null,
      "outputs": [
        {
          "output_type": "execute_result",
          "data": {
            "text/plain": [
              "<matplotlib.axes._subplots.AxesSubplot at 0x7fd6b7c9c6d8>"
            ]
          },
          "metadata": {
            "tags": []
          },
          "execution_count": 59
        },
        {
          "output_type": "display_data",
          "data": {
            "image/png": "[encoded data removed]",
            "text/plain": [
              "<Figure size 432x288 with 1 Axes>"
            ]
          },
          "metadata": {
            "tags": [],
            "needs_background": "light"
          }
        }
      ]
    },
    {
      "cell_type": "code",
      "metadata": {
        "id": "-e2uA6heVnw1",
        "outputId": "f6f0e366-4b59-4e6b-db56-77a1e566bc84",
        "colab": {
          "base_uri": "https://localhost:8080/",
          "height": 282
        }
      },
      "source": [
        "df[\"Number_Weeks_Used\"].plot(kind = \"hist\")"
      ],
      "execution_count": null,
      "outputs": [
        {
          "output_type": "execute_result",
          "data": {
            "text/plain": [
              "<matplotlib.axes._subplots.AxesSubplot at 0x7fd6b8880278>"
            ]
          },
          "metadata": {
            "tags": []
          },
          "execution_count": 60
        },
        {
          "output_type": "display_data",
          "data": {
            "image/png": "[encoded data removed]",
            "text/plain": [
              "<Figure size 432x288 with 1 Axes>"
            ]
          },
          "metadata": {
            "tags": [],
            "needs_background": "light"
          }
        }
      ]
    },
    {
      "cell_type": "code",
      "metadata": {
        "id": "C8FZWqhCWBkP",
        "outputId": "34cc2c11-cca5-4289-8d41-ed6e68cbf6ce",
        "colab": {
          "base_uri": "https://localhost:8080/",
          "height": 221
        }
      },
      "source": [
        "df[\"Number_Weeks_Used\"].value_counts()"
      ],
      "execution_count": null,
      "outputs": [
        {
          "output_type": "execute_result",
          "data": {
            "text/plain": [
              "20.0    6523\n",
              "30.0    6348\n",
              "25.0    5206\n",
              "40.0    4634\n",
              "15.0    4099\n",
              "        ... \n",
              "63.0      79\n",
              "64.0      63\n",
              "65.0      58\n",
              "66.0      30\n",
              "67.0      13\n",
              "Name: Number_Weeks_Used, Length: 64, dtype: int64"
            ]
          },
          "metadata": {
            "tags": []
          },
          "execution_count": 61
        }
      ]
    },
    {
      "cell_type": "code",
      "metadata": {
        "id": "cpBraZzlWS_y",
        "outputId": "af6b7380-3fc8-4f52-f365-ff3430b3526d",
        "colab": {
          "base_uri": "https://localhost:8080/",
          "height": 439
        }
      },
      "source": [
        "df.sort_values(by = [\"ID\", \"Number_Weeks_Used\"])"
      ],
      "execution_count": null,
      "outputs": [
        {
          "output_type": "execute_result",
          "data": {
            "text/html": [
              "<div>\n",
              "<style scoped>\n",
              "    .dataframe tbody tr th:only-of-type {\n",
              "        vertical-align: middle;\n",
              "    }\n",
              "\n",
              "    .dataframe tbody tr th {\n",
              "        vertical-align: top;\n",
              "    }\n",
              "\n",
              "    .dataframe thead th {\n",
              "        text-align: right;\n",
              "    }\n",
              "</style>\n",
              "<table border=\"1\" class=\"dataframe\">\n",
              "  <thead>\n",
              "    <tr style=\"text-align: right;\">\n",
              "      <th></th>\n",
              "      <th>ID</th>\n",
              "      <th>Estimated_Insects_Count</th>\n",
              "      <th>Crop_Type</th>\n",
              "      <th>Soil_Type</th>\n",
              "      <th>Pesticide_Use_Category</th>\n",
              "      <th>Number_Doses_Week</th>\n",
              "      <th>Number_Weeks_Used</th>\n",
              "      <th>Number_Weeks_Quit</th>\n",
              "      <th>Season</th>\n",
              "      <th>Crop_Damage</th>\n",
              "      <th>source</th>\n",
              "      <th>ID_2</th>\n",
              "    </tr>\n",
              "  </thead>\n",
              "  <tbody>\n",
              "    <tr>\n",
              "      <th>0</th>\n",
              "      <td>0.0</td>\n",
              "      <td>188</td>\n",
              "      <td>1</td>\n",
              "      <td>0</td>\n",
              "      <td>1</td>\n",
              "      <td>0</td>\n",
              "      <td>0.0</td>\n",
              "      <td>0</td>\n",
              "      <td>1</td>\n",
              "      <td>0.0</td>\n",
              "      <td>train</td>\n",
              "      <td>F0</td>\n",
              "    </tr>\n",
              "    <tr>\n",
              "      <th>1</th>\n",
              "      <td>0.0</td>\n",
              "      <td>209</td>\n",
              "      <td>1</td>\n",
              "      <td>0</td>\n",
              "      <td>1</td>\n",
              "      <td>0</td>\n",
              "      <td>0.0</td>\n",
              "      <td>0</td>\n",
              "      <td>2</td>\n",
              "      <td>1.0</td>\n",
              "      <td>train</td>\n",
              "      <td>F0</td>\n",
              "    </tr>\n",
              "    <tr>\n",
              "      <th>2</th>\n",
              "      <td>0.0</td>\n",
              "      <td>257</td>\n",
              "      <td>1</td>\n",
              "      <td>0</td>\n",
              "      <td>1</td>\n",
              "      <td>0</td>\n",
              "      <td>0.0</td>\n",
              "      <td>0</td>\n",
              "      <td>2</td>\n",
              "      <td>1.0</td>\n",
              "      <td>train</td>\n",
              "      <td>F0</td>\n",
              "    </tr>\n",
              "    <tr>\n",
              "      <th>3</th>\n",
              "      <td>0.0</td>\n",
              "      <td>257</td>\n",
              "      <td>1</td>\n",
              "      <td>1</td>\n",
              "      <td>1</td>\n",
              "      <td>0</td>\n",
              "      <td>0.0</td>\n",
              "      <td>0</td>\n",
              "      <td>2</td>\n",
              "      <td>1.0</td>\n",
              "      <td>train</td>\n",
              "      <td>F0</td>\n",
              "    </tr>\n",
              "    <tr>\n",
              "      <th>4</th>\n",
              "      <td>0.0</td>\n",
              "      <td>342</td>\n",
              "      <td>1</td>\n",
              "      <td>0</td>\n",
              "      <td>1</td>\n",
              "      <td>0</td>\n",
              "      <td>0.0</td>\n",
              "      <td>0</td>\n",
              "      <td>2</td>\n",
              "      <td>1.0</td>\n",
              "      <td>train</td>\n",
              "      <td>F0</td>\n",
              "    </tr>\n",
              "    <tr>\n",
              "      <th>...</th>\n",
              "      <td>...</td>\n",
              "      <td>...</td>\n",
              "      <td>...</td>\n",
              "      <td>...</td>\n",
              "      <td>...</td>\n",
              "      <td>...</td>\n",
              "      <td>...</td>\n",
              "      <td>...</td>\n",
              "      <td>...</td>\n",
              "      <td>...</td>\n",
              "      <td>...</td>\n",
              "      <td>...</td>\n",
              "    </tr>\n",
              "    <tr>\n",
              "      <th>2011</th>\n",
              "      <td>67.0</td>\n",
              "      <td>3516</td>\n",
              "      <td>0</td>\n",
              "      <td>0</td>\n",
              "      <td>3</td>\n",
              "      <td>20</td>\n",
              "      <td>67.0</td>\n",
              "      <td>0</td>\n",
              "      <td>1</td>\n",
              "      <td>NaN</td>\n",
              "      <td>test</td>\n",
              "      <td>F0</td>\n",
              "    </tr>\n",
              "    <tr>\n",
              "      <th>2015</th>\n",
              "      <td>67.0</td>\n",
              "      <td>4096</td>\n",
              "      <td>0</td>\n",
              "      <td>0</td>\n",
              "      <td>3</td>\n",
              "      <td>10</td>\n",
              "      <td>67.0</td>\n",
              "      <td>0</td>\n",
              "      <td>1</td>\n",
              "      <td>NaN</td>\n",
              "      <td>test</td>\n",
              "      <td>F0</td>\n",
              "    </tr>\n",
              "    <tr>\n",
              "      <th>25672</th>\n",
              "      <td>67.0</td>\n",
              "      <td>3337</td>\n",
              "      <td>0</td>\n",
              "      <td>0</td>\n",
              "      <td>3</td>\n",
              "      <td>20</td>\n",
              "      <td>67.0</td>\n",
              "      <td>0</td>\n",
              "      <td>1</td>\n",
              "      <td>NaN</td>\n",
              "      <td>test</td>\n",
              "      <td>F0</td>\n",
              "    </tr>\n",
              "    <tr>\n",
              "      <th>39487</th>\n",
              "      <td>67.0</td>\n",
              "      <td>4097</td>\n",
              "      <td>1</td>\n",
              "      <td>0</td>\n",
              "      <td>3</td>\n",
              "      <td>20</td>\n",
              "      <td>67.0</td>\n",
              "      <td>0</td>\n",
              "      <td>2</td>\n",
              "      <td>NaN</td>\n",
              "      <td>test</td>\n",
              "      <td>F0</td>\n",
              "    </tr>\n",
              "    <tr>\n",
              "      <th>42582</th>\n",
              "      <td>67.0</td>\n",
              "      <td>3336</td>\n",
              "      <td>0</td>\n",
              "      <td>0</td>\n",
              "      <td>3</td>\n",
              "      <td>10</td>\n",
              "      <td>67.0</td>\n",
              "      <td>0</td>\n",
              "      <td>2</td>\n",
              "      <td>NaN</td>\n",
              "      <td>test</td>\n",
              "      <td>F0</td>\n",
              "    </tr>\n",
              "  </tbody>\n",
              "</table>\n",
              "<p>148168 rows × 12 columns</p>\n",
              "</div>"
            ],
            "text/plain": [
              "         ID  Estimated_Insects_Count  Crop_Type  ...  Crop_Damage  source  ID_2\n",
              "0       0.0                      188          1  ...          0.0   train    F0\n",
              "1       0.0                      209          1  ...          1.0   train    F0\n",
              "2       0.0                      257          1  ...          1.0   train    F0\n",
              "3       0.0                      257          1  ...          1.0   train    F0\n",
              "4       0.0                      342          1  ...          1.0   train    F0\n",
              "...     ...                      ...        ...  ...          ...     ...   ...\n",
              "2011   67.0                     3516          0  ...          NaN    test    F0\n",
              "2015   67.0                     4096          0  ...          NaN    test    F0\n",
              "25672  67.0                     3337          0  ...          NaN    test    F0\n",
              "39487  67.0                     4097          1  ...          NaN    test    F0\n",
              "42582  67.0                     3336          0  ...          NaN    test    F0\n",
              "\n",
              "[148168 rows x 12 columns]"
            ]
          },
          "metadata": {
            "tags": []
          },
          "execution_count": 62
        }
      ]
    },
    {
      "cell_type": "code",
      "metadata": {
        "id": "ryDkxR_HWm9e"
      },
      "source": [
        "df.loc[df[\"Number_Weeks_Used\"] == 0.000000,\"Number_Weeks_Used\"] = np.NAN"
      ],
      "execution_count": null,
      "outputs": []
    },
    {
      "cell_type": "code",
      "metadata": {
        "id": "YUfxiCACW2c9",
        "outputId": "932ad4e7-fecf-4769-b8ee-66f7bd517e4d",
        "colab": {
          "base_uri": "https://localhost:8080/",
          "height": 34
        }
      },
      "source": [
        "df[\"Number_Weeks_Used\"].isna().sum()"
      ],
      "execution_count": null,
      "outputs": [
        {
          "output_type": "execute_result",
          "data": {
            "text/plain": [
              "16144"
            ]
          },
          "metadata": {
            "tags": []
          },
          "execution_count": 64
        }
      ]
    },
    {
      "cell_type": "code",
      "metadata": {
        "id": "WT6DiMoxXB9n"
      },
      "source": [
        "df[\"Number_Weeks_Used\"] = df.groupby([\"ID\"]).Number_Weeks_Used.transform(lambda x : x.fillna(x.mean()))"
      ],
      "execution_count": null,
      "outputs": []
    },
    {
      "cell_type": "code",
      "metadata": {
        "id": "UjV2lD5AXTD7",
        "outputId": "3bc06194-c8df-47bb-ca0a-e6d70aa2d9a8",
        "colab": {
          "base_uri": "https://localhost:8080/",
          "height": 282
        }
      },
      "source": [
        "df[\"Number_Weeks_Used\"].plot(kind = \"hist\")"
      ],
      "execution_count": null,
      "outputs": [
        {
          "output_type": "execute_result",
          "data": {
            "text/plain": [
              "<matplotlib.axes._subplots.AxesSubplot at 0x7fd6b7c15c50>"
            ]
          },
          "metadata": {
            "tags": []
          },
          "execution_count": 66
        },
        {
          "output_type": "display_data",
          "data": {
            "image/png": "[encoded data removed]",
            "text/plain": [
              "<Figure size 432x288 with 1 Axes>"
            ]
          },
          "metadata": {
            "tags": [],
            "needs_background": "light"
          }
        }
      ]
    },
    {
      "cell_type": "code",
      "metadata": {
        "id": "VmbzQwXiXdcU",
        "outputId": "7ca3545e-e4aa-4c55-9c2b-146514c4e73f",
        "colab": {
          "base_uri": "https://localhost:8080/",
          "height": 68
        }
      },
      "source": [
        "df[\"Crop_Type\"].value_counts()"
      ],
      "execution_count": null,
      "outputs": [
        {
          "output_type": "execute_result",
          "data": {
            "text/plain": [
              "0    105873\n",
              "1     42295\n",
              "Name: Crop_Type, dtype: int64"
            ]
          },
          "metadata": {
            "tags": []
          },
          "execution_count": 67
        }
      ]
    },
    {
      "cell_type": "code",
      "metadata": {
        "id": "65CIQQZDXozB",
        "outputId": "0adf88c5-ae28-44dd-c967-39c6e5685b94",
        "colab": {
          "base_uri": "https://localhost:8080/",
          "height": 85
        }
      },
      "source": [
        "df.columns"
      ],
      "execution_count": null,
      "outputs": [
        {
          "output_type": "execute_result",
          "data": {
            "text/plain": [
              "Index(['ID', 'Estimated_Insects_Count', 'Crop_Type', 'Soil_Type',\n",
              "       'Pesticide_Use_Category', 'Number_Doses_Week', 'Number_Weeks_Used',\n",
              "       'Number_Weeks_Quit', 'Season', 'Crop_Damage', 'source', 'ID_2'],\n",
              "      dtype='object')"
            ]
          },
          "metadata": {
            "tags": []
          },
          "execution_count": 68
        }
      ]
    },
    {
      "cell_type": "code",
      "metadata": {
        "id": "8x2QaxUoXuLr",
        "outputId": "7fb6db4a-4455-41b9-c0e6-42d310a30589",
        "colab": {
          "base_uri": "https://localhost:8080/",
          "height": 34
        }
      },
      "source": [
        "df[\"Soil_Type\"].isna().sum()"
      ],
      "execution_count": null,
      "outputs": [
        {
          "output_type": "execute_result",
          "data": {
            "text/plain": [
              "0"
            ]
          },
          "metadata": {
            "tags": []
          },
          "execution_count": 69
        }
      ]
    },
    {
      "cell_type": "code",
      "metadata": {
        "id": "F1OwD9cNX4Pz",
        "outputId": "a0ac2af7-03ad-4b9f-8b28-d5f99516889d",
        "colab": {
          "base_uri": "https://localhost:8080/",
          "height": 282
        }
      },
      "source": [
        "df[\"Soil_Type\"].plot(kind = \"hist\")"
      ],
      "execution_count": null,
      "outputs": [
        {
          "output_type": "execute_result",
          "data": {
            "text/plain": [
              "<matplotlib.axes._subplots.AxesSubplot at 0x7fd6b7902828>"
            ]
          },
          "metadata": {
            "tags": []
          },
          "execution_count": 70
        },
        {
          "output_type": "display_data",
          "data": {
            "image/png": "[encoded data removed]",
            "text/plain": [
              "<Figure size 432x288 with 1 Axes>"
            ]
          },
          "metadata": {
            "tags": [],
            "needs_background": "light"
          }
        }
      ]
    },
    {
      "cell_type": "code",
      "metadata": {
        "id": "1oRESj-TYCTo",
        "outputId": "1d9f7fd9-1d45-457e-ff98-cc1509296329",
        "colab": {
          "base_uri": "https://localhost:8080/",
          "height": 85
        }
      },
      "source": [
        "df[\"Crop_Damage\"].value_counts()"
      ],
      "execution_count": null,
      "outputs": [
        {
          "output_type": "execute_result",
          "data": {
            "text/plain": [
              "0.0    74238\n",
              "1.0    12307\n",
              "2.0     2313\n",
              "Name: Crop_Damage, dtype: int64"
            ]
          },
          "metadata": {
            "tags": []
          },
          "execution_count": 71
        }
      ]
    },
    {
      "cell_type": "code",
      "metadata": {
        "id": "CzzH4z9_YQ0s",
        "outputId": "7faf34dc-bfac-4356-bb48-299b70ef9b04",
        "colab": {
          "base_uri": "https://localhost:8080/",
          "height": 34
        }
      },
      "source": [
        "df[\"Crop_Damage\"].nunique()"
      ],
      "execution_count": null,
      "outputs": [
        {
          "output_type": "execute_result",
          "data": {
            "text/plain": [
              "3"
            ]
          },
          "metadata": {
            "tags": []
          },
          "execution_count": 72
        }
      ]
    },
    {
      "cell_type": "code",
      "metadata": {
        "id": "MOXdMXRaYV4v",
        "outputId": "f8f19ca3-adc6-4e2d-9d57-a34fa5a1c477",
        "colab": {
          "base_uri": "https://localhost:8080/",
          "height": 34
        }
      },
      "source": [
        "df[\"Crop_Damage\"].isna().sum()"
      ],
      "execution_count": null,
      "outputs": [
        {
          "output_type": "execute_result",
          "data": {
            "text/plain": [
              "59310"
            ]
          },
          "metadata": {
            "tags": []
          },
          "execution_count": 73
        }
      ]
    },
    {
      "cell_type": "code",
      "metadata": {
        "id": "N46ETHmqYfc5",
        "outputId": "d41eff0a-9c8f-4303-9e04-a974bbc3ea31",
        "colab": {
          "base_uri": "https://localhost:8080/",
          "height": 34
        }
      },
      "source": [
        "df[\"Season\"].isna().sum()"
      ],
      "execution_count": null,
      "outputs": [
        {
          "output_type": "execute_result",
          "data": {
            "text/plain": [
              "0"
            ]
          },
          "metadata": {
            "tags": []
          },
          "execution_count": 74
        }
      ]
    },
    {
      "cell_type": "code",
      "metadata": {
        "id": "SqNGcFTTYyOY",
        "outputId": "9b6c5207-3b08-431b-cc21-35af80219401",
        "colab": {
          "base_uri": "https://localhost:8080/",
          "height": 85
        }
      },
      "source": [
        "df[\"Season\"].value_counts()"
      ],
      "execution_count": null,
      "outputs": [
        {
          "output_type": "execute_result",
          "data": {
            "text/plain": [
              "2    73715\n",
              "1    44744\n",
              "3    29709\n",
              "Name: Season, dtype: int64"
            ]
          },
          "metadata": {
            "tags": []
          },
          "execution_count": 75
        }
      ]
    },
    {
      "cell_type": "code",
      "metadata": {
        "id": "HP4vqsL7Y2nm",
        "outputId": "249ffff5-9162-469b-bed0-931e9fdc2bf9",
        "colab": {
          "base_uri": "https://localhost:8080/",
          "height": 34
        }
      },
      "source": [
        "df[\"Season\"].nunique()"
      ],
      "execution_count": null,
      "outputs": [
        {
          "output_type": "execute_result",
          "data": {
            "text/plain": [
              "3"
            ]
          },
          "metadata": {
            "tags": []
          },
          "execution_count": 76
        }
      ]
    },
    {
      "cell_type": "code",
      "metadata": {
        "id": "77noweZsZBHI",
        "outputId": "736574e0-5804-40ca-b677-a1fb0e1cd4a6",
        "colab": {
          "base_uri": "https://localhost:8080/",
          "height": 204
        }
      },
      "source": [
        "df.groupby(\"Season\").Crop_Damage.value_counts()"
      ],
      "execution_count": null,
      "outputs": [
        {
          "output_type": "execute_result",
          "data": {
            "text/plain": [
              "Season  Crop_Damage\n",
              "1       0.0            22493\n",
              "        1.0             3748\n",
              "        2.0              661\n",
              "2       0.0            36881\n",
              "        1.0             6115\n",
              "        2.0             1214\n",
              "3       0.0            14864\n",
              "        1.0             2444\n",
              "        2.0              438\n",
              "Name: Crop_Damage, dtype: int64"
            ]
          },
          "metadata": {
            "tags": []
          },
          "execution_count": 77
        }
      ]
    },
    {
      "cell_type": "code",
      "metadata": {
        "id": "nGmWjijiZdDO"
      },
      "source": [
        "from datetime import datetime"
      ],
      "execution_count": null,
      "outputs": []
    },
    {
      "cell_type": "code",
      "metadata": {
        "id": "1b-v9_bKZuvM",
        "outputId": "26488816-8816-4ef9-f169-42fe7cfe2d8f",
        "colab": {
          "base_uri": "https://localhost:8080/",
          "height": 34
        }
      },
      "source": [
        "datetime.now().year"
      ],
      "execution_count": null,
      "outputs": [
        {
          "output_type": "execute_result",
          "data": {
            "text/plain": [
              "2020"
            ]
          },
          "metadata": {
            "tags": []
          },
          "execution_count": 79
        }
      ]
    },
    {
      "cell_type": "code",
      "metadata": {
        "id": "ILMByrCFZxDm"
      },
      "source": [
        "import matplotlib.pyplot as plt"
      ],
      "execution_count": null,
      "outputs": []
    },
    {
      "cell_type": "code",
      "metadata": {
        "id": "CrZ_k1ZuaX72",
        "outputId": "0fb0cc94-cfb1-498c-81c2-963195262b91",
        "colab": {
          "base_uri": "https://localhost:8080/",
          "height": 379
        }
      },
      "source": [
        "df.corr()"
      ],
      "execution_count": null,
      "outputs": [
        {
          "output_type": "execute_result",
          "data": {
            "text/html": [
              "<div>\n",
              "<style scoped>\n",
              "    .dataframe tbody tr th:only-of-type {\n",
              "        vertical-align: middle;\n",
              "    }\n",
              "\n",
              "    .dataframe tbody tr th {\n",
              "        vertical-align: top;\n",
              "    }\n",
              "\n",
              "    .dataframe thead th {\n",
              "        text-align: right;\n",
              "    }\n",
              "</style>\n",
              "<table border=\"1\" class=\"dataframe\">\n",
              "  <thead>\n",
              "    <tr style=\"text-align: right;\">\n",
              "      <th></th>\n",
              "      <th>ID</th>\n",
              "      <th>Estimated_Insects_Count</th>\n",
              "      <th>Crop_Type</th>\n",
              "      <th>Soil_Type</th>\n",
              "      <th>Pesticide_Use_Category</th>\n",
              "      <th>Number_Doses_Week</th>\n",
              "      <th>Number_Weeks_Used</th>\n",
              "      <th>Number_Weeks_Quit</th>\n",
              "      <th>Season</th>\n",
              "      <th>Crop_Damage</th>\n",
              "    </tr>\n",
              "  </thead>\n",
              "  <tbody>\n",
              "    <tr>\n",
              "      <th>ID</th>\n",
              "      <td>1.000000</td>\n",
              "      <td>0.413700</td>\n",
              "      <td>-0.041950</td>\n",
              "      <td>-0.064926</td>\n",
              "      <td>0.326650</td>\n",
              "      <td>0.120231</td>\n",
              "      <td>1.000000</td>\n",
              "      <td>-0.424582</td>\n",
              "      <td>0.001249</td>\n",
              "      <td>0.219624</td>\n",
              "    </tr>\n",
              "    <tr>\n",
              "      <th>Estimated_Insects_Count</th>\n",
              "      <td>0.413700</td>\n",
              "      <td>1.000000</td>\n",
              "      <td>-0.090363</td>\n",
              "      <td>-0.056379</td>\n",
              "      <td>-0.082212</td>\n",
              "      <td>-0.102897</td>\n",
              "      <td>0.457746</td>\n",
              "      <td>0.299628</td>\n",
              "      <td>-0.001141</td>\n",
              "      <td>0.202888</td>\n",
              "    </tr>\n",
              "    <tr>\n",
              "      <th>Crop_Type</th>\n",
              "      <td>-0.041950</td>\n",
              "      <td>-0.090363</td>\n",
              "      <td>1.000000</td>\n",
              "      <td>-0.289331</td>\n",
              "      <td>0.234132</td>\n",
              "      <td>-0.191225</td>\n",
              "      <td>-0.032110</td>\n",
              "      <td>-0.234154</td>\n",
              "      <td>0.002445</td>\n",
              "      <td>-0.016495</td>\n",
              "    </tr>\n",
              "    <tr>\n",
              "      <th>Soil_Type</th>\n",
              "      <td>-0.064926</td>\n",
              "      <td>-0.056379</td>\n",
              "      <td>-0.289331</td>\n",
              "      <td>1.000000</td>\n",
              "      <td>0.034108</td>\n",
              "      <td>0.079209</td>\n",
              "      <td>-0.068986</td>\n",
              "      <td>0.009091</td>\n",
              "      <td>0.000163</td>\n",
              "      <td>-0.021997</td>\n",
              "    </tr>\n",
              "    <tr>\n",
              "      <th>Pesticide_Use_Category</th>\n",
              "      <td>0.326650</td>\n",
              "      <td>-0.082212</td>\n",
              "      <td>0.234132</td>\n",
              "      <td>0.034108</td>\n",
              "      <td>1.000000</td>\n",
              "      <td>-0.000223</td>\n",
              "      <td>0.302810</td>\n",
              "      <td>-0.552969</td>\n",
              "      <td>-0.000078</td>\n",
              "      <td>0.175002</td>\n",
              "    </tr>\n",
              "    <tr>\n",
              "      <th>Number_Doses_Week</th>\n",
              "      <td>0.120231</td>\n",
              "      <td>-0.102897</td>\n",
              "      <td>-0.191225</td>\n",
              "      <td>0.079209</td>\n",
              "      <td>-0.000223</td>\n",
              "      <td>1.000000</td>\n",
              "      <td>0.093962</td>\n",
              "      <td>-0.038623</td>\n",
              "      <td>-0.000210</td>\n",
              "      <td>-0.030874</td>\n",
              "    </tr>\n",
              "    <tr>\n",
              "      <th>Number_Weeks_Used</th>\n",
              "      <td>1.000000</td>\n",
              "      <td>0.457746</td>\n",
              "      <td>-0.032110</td>\n",
              "      <td>-0.068986</td>\n",
              "      <td>0.302810</td>\n",
              "      <td>0.093962</td>\n",
              "      <td>1.000000</td>\n",
              "      <td>-0.483303</td>\n",
              "      <td>0.000017</td>\n",
              "      <td>0.286835</td>\n",
              "    </tr>\n",
              "    <tr>\n",
              "      <th>Number_Weeks_Quit</th>\n",
              "      <td>-0.424582</td>\n",
              "      <td>0.299628</td>\n",
              "      <td>-0.234154</td>\n",
              "      <td>0.009091</td>\n",
              "      <td>-0.552969</td>\n",
              "      <td>-0.038623</td>\n",
              "      <td>-0.483303</td>\n",
              "      <td>1.000000</td>\n",
              "      <td>0.001636</td>\n",
              "      <td>-0.133117</td>\n",
              "    </tr>\n",
              "    <tr>\n",
              "      <th>Season</th>\n",
              "      <td>0.001249</td>\n",
              "      <td>-0.001141</td>\n",
              "      <td>0.002445</td>\n",
              "      <td>0.000163</td>\n",
              "      <td>-0.000078</td>\n",
              "      <td>-0.000210</td>\n",
              "      <td>0.000017</td>\n",
              "      <td>0.001636</td>\n",
              "      <td>1.000000</td>\n",
              "      <td>-0.000184</td>\n",
              "    </tr>\n",
              "    <tr>\n",
              "      <th>Crop_Damage</th>\n",
              "      <td>0.219624</td>\n",
              "      <td>0.202888</td>\n",
              "      <td>-0.016495</td>\n",
              "      <td>-0.021997</td>\n",
              "      <td>0.175002</td>\n",
              "      <td>-0.030874</td>\n",
              "      <td>0.286835</td>\n",
              "      <td>-0.133117</td>\n",
              "      <td>-0.000184</td>\n",
              "      <td>1.000000</td>\n",
              "    </tr>\n",
              "  </tbody>\n",
              "</table>\n",
              "</div>"
            ],
            "text/plain": [
              "                               ID  ...  Crop_Damage\n",
              "ID                       1.000000  ...     0.219624\n",
              "Estimated_Insects_Count  0.413700  ...     0.202888\n",
              "Crop_Type               -0.041950  ...    -0.016495\n",
              "Soil_Type               -0.064926  ...    -0.021997\n",
              "Pesticide_Use_Category   0.326650  ...     0.175002\n",
              "Number_Doses_Week        0.120231  ...    -0.030874\n",
              "Number_Weeks_Used        1.000000  ...     0.286835\n",
              "Number_Weeks_Quit       -0.424582  ...    -0.133117\n",
              "Season                   0.001249  ...    -0.000184\n",
              "Crop_Damage              0.219624  ...     1.000000\n",
              "\n",
              "[10 rows x 10 columns]"
            ]
          },
          "metadata": {
            "tags": []
          },
          "execution_count": 84
        }
      ]
    },
    {
      "cell_type": "code",
      "metadata": {
        "id": "aTY3GmnraZQ4",
        "outputId": "a1715c50-719f-41a8-8f2d-a9d83b7cd797",
        "colab": {
          "base_uri": "https://localhost:8080/",
          "height": 153
        }
      },
      "source": [
        "df.groupby([\"Crop_Type\"]).Crop_Damage.value_counts()"
      ],
      "execution_count": null,
      "outputs": [
        {
          "output_type": "execute_result",
          "data": {
            "text/plain": [
              "Crop_Type  Crop_Damage\n",
              "0          0.0            52778\n",
              "           1.0             9204\n",
              "           2.0             1607\n",
              "1          0.0            21460\n",
              "           1.0             3103\n",
              "           2.0              706\n",
              "Name: Crop_Damage, dtype: int64"
            ]
          },
          "metadata": {
            "tags": []
          },
          "execution_count": 85
        }
      ]
    },
    {
      "cell_type": "code",
      "metadata": {
        "id": "K3VOuhLga0uB",
        "outputId": "74b9c059-791a-4c4f-e218-cd2d95ec6deb",
        "colab": {
          "base_uri": "https://localhost:8080/",
          "height": 221
        }
      },
      "source": [
        "df.groupby([\"Crop_Type\"]).Crop_Damage.transform(lambda x : x.fillna(x.mode()))"
      ],
      "execution_count": null,
      "outputs": [
        {
          "output_type": "execute_result",
          "data": {
            "text/plain": [
              "0        0.0\n",
              "1        1.0\n",
              "2        1.0\n",
              "3        1.0\n",
              "4        1.0\n",
              "        ... \n",
              "59305    NaN\n",
              "59306    NaN\n",
              "59307    NaN\n",
              "59308    NaN\n",
              "59309    NaN\n",
              "Name: Crop_Damage, Length: 148168, dtype: float64"
            ]
          },
          "metadata": {
            "tags": []
          },
          "execution_count": 86
        }
      ]
    },
    {
      "cell_type": "code",
      "metadata": {
        "id": "ytyE0g49a01q",
        "outputId": "0ac6ac27-197f-4095-c83d-a6f92ef89530",
        "colab": {
          "base_uri": "https://localhost:8080/",
          "height": 153
        }
      },
      "source": [
        "df.groupby([\"Crop_Type\"]).Crop_Damage.value_counts()"
      ],
      "execution_count": null,
      "outputs": [
        {
          "output_type": "execute_result",
          "data": {
            "text/plain": [
              "Crop_Type  Crop_Damage\n",
              "0          0.0            52778\n",
              "           1.0             9204\n",
              "           2.0             1607\n",
              "1          0.0            21460\n",
              "           1.0             3103\n",
              "           2.0              706\n",
              "Name: Crop_Damage, dtype: int64"
            ]
          },
          "metadata": {
            "tags": []
          },
          "execution_count": 87
        }
      ]
    },
    {
      "cell_type": "code",
      "metadata": {
        "id": "tw_Zc7mmbSxI",
        "outputId": "2ae2fbeb-245d-4d3e-9b90-d5c6e5dccc3b",
        "colab": {
          "base_uri": "https://localhost:8080/",
          "height": 379
        }
      },
      "source": [
        "df.corr()"
      ],
      "execution_count": null,
      "outputs": [
        {
          "output_type": "execute_result",
          "data": {
            "text/html": [
              "<div>\n",
              "<style scoped>\n",
              "    .dataframe tbody tr th:only-of-type {\n",
              "        vertical-align: middle;\n",
              "    }\n",
              "\n",
              "    .dataframe tbody tr th {\n",
              "        vertical-align: top;\n",
              "    }\n",
              "\n",
              "    .dataframe thead th {\n",
              "        text-align: right;\n",
              "    }\n",
              "</style>\n",
              "<table border=\"1\" class=\"dataframe\">\n",
              "  <thead>\n",
              "    <tr style=\"text-align: right;\">\n",
              "      <th></th>\n",
              "      <th>ID</th>\n",
              "      <th>Estimated_Insects_Count</th>\n",
              "      <th>Crop_Type</th>\n",
              "      <th>Soil_Type</th>\n",
              "      <th>Pesticide_Use_Category</th>\n",
              "      <th>Number_Doses_Week</th>\n",
              "      <th>Number_Weeks_Used</th>\n",
              "      <th>Number_Weeks_Quit</th>\n",
              "      <th>Season</th>\n",
              "      <th>Crop_Damage</th>\n",
              "    </tr>\n",
              "  </thead>\n",
              "  <tbody>\n",
              "    <tr>\n",
              "      <th>ID</th>\n",
              "      <td>1.000000</td>\n",
              "      <td>0.413700</td>\n",
              "      <td>-0.041950</td>\n",
              "      <td>-0.064926</td>\n",
              "      <td>0.326650</td>\n",
              "      <td>0.120231</td>\n",
              "      <td>1.000000</td>\n",
              "      <td>-0.424582</td>\n",
              "      <td>0.001249</td>\n",
              "      <td>0.219624</td>\n",
              "    </tr>\n",
              "    <tr>\n",
              "      <th>Estimated_Insects_Count</th>\n",
              "      <td>0.413700</td>\n",
              "      <td>1.000000</td>\n",
              "      <td>-0.090363</td>\n",
              "      <td>-0.056379</td>\n",
              "      <td>-0.082212</td>\n",
              "      <td>-0.102897</td>\n",
              "      <td>0.457746</td>\n",
              "      <td>0.299628</td>\n",
              "      <td>-0.001141</td>\n",
              "      <td>0.202888</td>\n",
              "    </tr>\n",
              "    <tr>\n",
              "      <th>Crop_Type</th>\n",
              "      <td>-0.041950</td>\n",
              "      <td>-0.090363</td>\n",
              "      <td>1.000000</td>\n",
              "      <td>-0.289331</td>\n",
              "      <td>0.234132</td>\n",
              "      <td>-0.191225</td>\n",
              "      <td>-0.032110</td>\n",
              "      <td>-0.234154</td>\n",
              "      <td>0.002445</td>\n",
              "      <td>-0.016495</td>\n",
              "    </tr>\n",
              "    <tr>\n",
              "      <th>Soil_Type</th>\n",
              "      <td>-0.064926</td>\n",
              "      <td>-0.056379</td>\n",
              "      <td>-0.289331</td>\n",
              "      <td>1.000000</td>\n",
              "      <td>0.034108</td>\n",
              "      <td>0.079209</td>\n",
              "      <td>-0.068986</td>\n",
              "      <td>0.009091</td>\n",
              "      <td>0.000163</td>\n",
              "      <td>-0.021997</td>\n",
              "    </tr>\n",
              "    <tr>\n",
              "      <th>Pesticide_Use_Category</th>\n",
              "      <td>0.326650</td>\n",
              "      <td>-0.082212</td>\n",
              "      <td>0.234132</td>\n",
              "      <td>0.034108</td>\n",
              "      <td>1.000000</td>\n",
              "      <td>-0.000223</td>\n",
              "      <td>0.302810</td>\n",
              "      <td>-0.552969</td>\n",
              "      <td>-0.000078</td>\n",
              "      <td>0.175002</td>\n",
              "    </tr>\n",
              "    <tr>\n",
              "      <th>Number_Doses_Week</th>\n",
              "      <td>0.120231</td>\n",
              "      <td>-0.102897</td>\n",
              "      <td>-0.191225</td>\n",
              "      <td>0.079209</td>\n",
              "      <td>-0.000223</td>\n",
              "      <td>1.000000</td>\n",
              "      <td>0.093962</td>\n",
              "      <td>-0.038623</td>\n",
              "      <td>-0.000210</td>\n",
              "      <td>-0.030874</td>\n",
              "    </tr>\n",
              "    <tr>\n",
              "      <th>Number_Weeks_Used</th>\n",
              "      <td>1.000000</td>\n",
              "      <td>0.457746</td>\n",
              "      <td>-0.032110</td>\n",
              "      <td>-0.068986</td>\n",
              "      <td>0.302810</td>\n",
              "      <td>0.093962</td>\n",
              "      <td>1.000000</td>\n",
              "      <td>-0.483303</td>\n",
              "      <td>0.000017</td>\n",
              "      <td>0.286835</td>\n",
              "    </tr>\n",
              "    <tr>\n",
              "      <th>Number_Weeks_Quit</th>\n",
              "      <td>-0.424582</td>\n",
              "      <td>0.299628</td>\n",
              "      <td>-0.234154</td>\n",
              "      <td>0.009091</td>\n",
              "      <td>-0.552969</td>\n",
              "      <td>-0.038623</td>\n",
              "      <td>-0.483303</td>\n",
              "      <td>1.000000</td>\n",
              "      <td>0.001636</td>\n",
              "      <td>-0.133117</td>\n",
              "    </tr>\n",
              "    <tr>\n",
              "      <th>Season</th>\n",
              "      <td>0.001249</td>\n",
              "      <td>-0.001141</td>\n",
              "      <td>0.002445</td>\n",
              "      <td>0.000163</td>\n",
              "      <td>-0.000078</td>\n",
              "      <td>-0.000210</td>\n",
              "      <td>0.000017</td>\n",
              "      <td>0.001636</td>\n",
              "      <td>1.000000</td>\n",
              "      <td>-0.000184</td>\n",
              "    </tr>\n",
              "    <tr>\n",
              "      <th>Crop_Damage</th>\n",
              "      <td>0.219624</td>\n",
              "      <td>0.202888</td>\n",
              "      <td>-0.016495</td>\n",
              "      <td>-0.021997</td>\n",
              "      <td>0.175002</td>\n",
              "      <td>-0.030874</td>\n",
              "      <td>0.286835</td>\n",
              "      <td>-0.133117</td>\n",
              "      <td>-0.000184</td>\n",
              "      <td>1.000000</td>\n",
              "    </tr>\n",
              "  </tbody>\n",
              "</table>\n",
              "</div>"
            ],
            "text/plain": [
              "                               ID  ...  Crop_Damage\n",
              "ID                       1.000000  ...     0.219624\n",
              "Estimated_Insects_Count  0.413700  ...     0.202888\n",
              "Crop_Type               -0.041950  ...    -0.016495\n",
              "Soil_Type               -0.064926  ...    -0.021997\n",
              "Pesticide_Use_Category   0.326650  ...     0.175002\n",
              "Number_Doses_Week        0.120231  ...    -0.030874\n",
              "Number_Weeks_Used        1.000000  ...     0.286835\n",
              "Number_Weeks_Quit       -0.424582  ...    -0.133117\n",
              "Season                   0.001249  ...    -0.000184\n",
              "Crop_Damage              0.219624  ...     1.000000\n",
              "\n",
              "[10 rows x 10 columns]"
            ]
          },
          "metadata": {
            "tags": []
          },
          "execution_count": 89
        }
      ]
    },
    {
      "cell_type": "code",
      "metadata": {
        "id": "W1ZbKlQUbyul",
        "outputId": "b446ea6c-cc5f-4c33-c9f6-ee251246b968",
        "colab": {
          "base_uri": "https://localhost:8080/",
          "height": 419
        }
      },
      "source": [
        "df.select_dtypes(include=np.number).drop(columns=[\"Crop_Damage\"])"
      ],
      "execution_count": null,
      "outputs": [
        {
          "output_type": "execute_result",
          "data": {
            "text/html": [
              "<div>\n",
              "<style scoped>\n",
              "    .dataframe tbody tr th:only-of-type {\n",
              "        vertical-align: middle;\n",
              "    }\n",
              "\n",
              "    .dataframe tbody tr th {\n",
              "        vertical-align: top;\n",
              "    }\n",
              "\n",
              "    .dataframe thead th {\n",
              "        text-align: right;\n",
              "    }\n",
              "</style>\n",
              "<table border=\"1\" class=\"dataframe\">\n",
              "  <thead>\n",
              "    <tr style=\"text-align: right;\">\n",
              "      <th></th>\n",
              "      <th>ID</th>\n",
              "      <th>Estimated_Insects_Count</th>\n",
              "      <th>Crop_Type</th>\n",
              "      <th>Soil_Type</th>\n",
              "      <th>Pesticide_Use_Category</th>\n",
              "      <th>Number_Doses_Week</th>\n",
              "      <th>Number_Weeks_Used</th>\n",
              "      <th>Number_Weeks_Quit</th>\n",
              "      <th>Season</th>\n",
              "    </tr>\n",
              "  </thead>\n",
              "  <tbody>\n",
              "    <tr>\n",
              "      <th>0</th>\n",
              "      <td>0.000000</td>\n",
              "      <td>188</td>\n",
              "      <td>1</td>\n",
              "      <td>0</td>\n",
              "      <td>1</td>\n",
              "      <td>0</td>\n",
              "      <td>NaN</td>\n",
              "      <td>0</td>\n",
              "      <td>1</td>\n",
              "    </tr>\n",
              "    <tr>\n",
              "      <th>1</th>\n",
              "      <td>0.000000</td>\n",
              "      <td>209</td>\n",
              "      <td>1</td>\n",
              "      <td>0</td>\n",
              "      <td>1</td>\n",
              "      <td>0</td>\n",
              "      <td>NaN</td>\n",
              "      <td>0</td>\n",
              "      <td>2</td>\n",
              "    </tr>\n",
              "    <tr>\n",
              "      <th>2</th>\n",
              "      <td>0.000000</td>\n",
              "      <td>257</td>\n",
              "      <td>1</td>\n",
              "      <td>0</td>\n",
              "      <td>1</td>\n",
              "      <td>0</td>\n",
              "      <td>NaN</td>\n",
              "      <td>0</td>\n",
              "      <td>2</td>\n",
              "    </tr>\n",
              "    <tr>\n",
              "      <th>3</th>\n",
              "      <td>0.000000</td>\n",
              "      <td>257</td>\n",
              "      <td>1</td>\n",
              "      <td>1</td>\n",
              "      <td>1</td>\n",
              "      <td>0</td>\n",
              "      <td>NaN</td>\n",
              "      <td>0</td>\n",
              "      <td>2</td>\n",
              "    </tr>\n",
              "    <tr>\n",
              "      <th>4</th>\n",
              "      <td>0.000000</td>\n",
              "      <td>342</td>\n",
              "      <td>1</td>\n",
              "      <td>0</td>\n",
              "      <td>1</td>\n",
              "      <td>0</td>\n",
              "      <td>NaN</td>\n",
              "      <td>0</td>\n",
              "      <td>2</td>\n",
              "    </tr>\n",
              "    <tr>\n",
              "      <th>...</th>\n",
              "      <td>...</td>\n",
              "      <td>...</td>\n",
              "      <td>...</td>\n",
              "      <td>...</td>\n",
              "      <td>...</td>\n",
              "      <td>...</td>\n",
              "      <td>...</td>\n",
              "      <td>...</td>\n",
              "      <td>...</td>\n",
              "    </tr>\n",
              "    <tr>\n",
              "      <th>59305</th>\n",
              "      <td>34.000000</td>\n",
              "      <td>3337</td>\n",
              "      <td>1</td>\n",
              "      <td>0</td>\n",
              "      <td>2</td>\n",
              "      <td>20</td>\n",
              "      <td>34.0</td>\n",
              "      <td>12</td>\n",
              "      <td>1</td>\n",
              "    </tr>\n",
              "    <tr>\n",
              "      <th>59306</th>\n",
              "      <td>32.000000</td>\n",
              "      <td>3516</td>\n",
              "      <td>1</td>\n",
              "      <td>0</td>\n",
              "      <td>2</td>\n",
              "      <td>20</td>\n",
              "      <td>32.0</td>\n",
              "      <td>10</td>\n",
              "      <td>2</td>\n",
              "    </tr>\n",
              "    <tr>\n",
              "      <th>59307</th>\n",
              "      <td>28.656485</td>\n",
              "      <td>3702</td>\n",
              "      <td>1</td>\n",
              "      <td>0</td>\n",
              "      <td>2</td>\n",
              "      <td>10</td>\n",
              "      <td>NaN</td>\n",
              "      <td>48</td>\n",
              "      <td>1</td>\n",
              "    </tr>\n",
              "    <tr>\n",
              "      <th>59308</th>\n",
              "      <td>28.000000</td>\n",
              "      <td>3702</td>\n",
              "      <td>1</td>\n",
              "      <td>0</td>\n",
              "      <td>2</td>\n",
              "      <td>10</td>\n",
              "      <td>28.0</td>\n",
              "      <td>17</td>\n",
              "      <td>2</td>\n",
              "    </tr>\n",
              "    <tr>\n",
              "      <th>59309</th>\n",
              "      <td>52.000000</td>\n",
              "      <td>3895</td>\n",
              "      <td>1</td>\n",
              "      <td>0</td>\n",
              "      <td>2</td>\n",
              "      <td>5</td>\n",
              "      <td>52.0</td>\n",
              "      <td>7</td>\n",
              "      <td>1</td>\n",
              "    </tr>\n",
              "  </tbody>\n",
              "</table>\n",
              "<p>148168 rows × 9 columns</p>\n",
              "</div>"
            ],
            "text/plain": [
              "              ID  Estimated_Insects_Count  ...  Number_Weeks_Quit  Season\n",
              "0       0.000000                      188  ...                  0       1\n",
              "1       0.000000                      209  ...                  0       2\n",
              "2       0.000000                      257  ...                  0       2\n",
              "3       0.000000                      257  ...                  0       2\n",
              "4       0.000000                      342  ...                  0       2\n",
              "...          ...                      ...  ...                ...     ...\n",
              "59305  34.000000                     3337  ...                 12       1\n",
              "59306  32.000000                     3516  ...                 10       2\n",
              "59307  28.656485                     3702  ...                 48       1\n",
              "59308  28.000000                     3702  ...                 17       2\n",
              "59309  52.000000                     3895  ...                  7       1\n",
              "\n",
              "[148168 rows x 9 columns]"
            ]
          },
          "metadata": {
            "tags": []
          },
          "execution_count": 90
        }
      ]
    },
    {
      "cell_type": "code",
      "metadata": {
        "id": "3mGDQrg9c9Ph"
      },
      "source": [
        "df.loc[df[\"Number_Weeks_Used\"] == 0.000000,\"Number_Weeks_Used\"] = np.NAN"
      ],
      "execution_count": null,
      "outputs": []
    },
    {
      "cell_type": "code",
      "metadata": {
        "id": "l_M80nZ-dR1z",
        "outputId": "1a1f7c36-865d-4ee2-886e-cc2273a75d43",
        "colab": {
          "base_uri": "https://localhost:8080/",
          "height": 34
        }
      },
      "source": [
        "df[\"Number_Weeks_Used\"].isna().sum()"
      ],
      "execution_count": null,
      "outputs": [
        {
          "output_type": "execute_result",
          "data": {
            "text/plain": [
              "16144"
            ]
          },
          "metadata": {
            "tags": []
          },
          "execution_count": 95
        }
      ]
    },
    {
      "cell_type": "code",
      "metadata": {
        "id": "mxXVNvLPgaa5",
        "outputId": "b4bda328-4201-4408-f763-ca06972cc42f",
        "colab": {
          "base_uri": "https://localhost:8080/",
          "height": 439
        }
      },
      "source": [
        "df"
      ],
      "execution_count": null,
      "outputs": [
        {
          "output_type": "execute_result",
          "data": {
            "text/html": [
              "<div>\n",
              "<style scoped>\n",
              "    .dataframe tbody tr th:only-of-type {\n",
              "        vertical-align: middle;\n",
              "    }\n",
              "\n",
              "    .dataframe tbody tr th {\n",
              "        vertical-align: top;\n",
              "    }\n",
              "\n",
              "    .dataframe thead th {\n",
              "        text-align: right;\n",
              "    }\n",
              "</style>\n",
              "<table border=\"1\" class=\"dataframe\">\n",
              "  <thead>\n",
              "    <tr style=\"text-align: right;\">\n",
              "      <th></th>\n",
              "      <th>ID</th>\n",
              "      <th>Estimated_Insects_Count</th>\n",
              "      <th>Crop_Type</th>\n",
              "      <th>Soil_Type</th>\n",
              "      <th>Pesticide_Use_Category</th>\n",
              "      <th>Number_Doses_Week</th>\n",
              "      <th>Number_Weeks_Used</th>\n",
              "      <th>Number_Weeks_Quit</th>\n",
              "      <th>Season</th>\n",
              "      <th>Crop_Damage</th>\n",
              "      <th>source</th>\n",
              "      <th>ID_2</th>\n",
              "    </tr>\n",
              "  </thead>\n",
              "  <tbody>\n",
              "    <tr>\n",
              "      <th>0</th>\n",
              "      <td>0.000000</td>\n",
              "      <td>188</td>\n",
              "      <td>1</td>\n",
              "      <td>0</td>\n",
              "      <td>1</td>\n",
              "      <td>0</td>\n",
              "      <td>NaN</td>\n",
              "      <td>0</td>\n",
              "      <td>1</td>\n",
              "      <td>0.0</td>\n",
              "      <td>train</td>\n",
              "      <td>F0</td>\n",
              "    </tr>\n",
              "    <tr>\n",
              "      <th>1</th>\n",
              "      <td>0.000000</td>\n",
              "      <td>209</td>\n",
              "      <td>1</td>\n",
              "      <td>0</td>\n",
              "      <td>1</td>\n",
              "      <td>0</td>\n",
              "      <td>NaN</td>\n",
              "      <td>0</td>\n",
              "      <td>2</td>\n",
              "      <td>1.0</td>\n",
              "      <td>train</td>\n",
              "      <td>F0</td>\n",
              "    </tr>\n",
              "    <tr>\n",
              "      <th>2</th>\n",
              "      <td>0.000000</td>\n",
              "      <td>257</td>\n",
              "      <td>1</td>\n",
              "      <td>0</td>\n",
              "      <td>1</td>\n",
              "      <td>0</td>\n",
              "      <td>NaN</td>\n",
              "      <td>0</td>\n",
              "      <td>2</td>\n",
              "      <td>1.0</td>\n",
              "      <td>train</td>\n",
              "      <td>F0</td>\n",
              "    </tr>\n",
              "    <tr>\n",
              "      <th>3</th>\n",
              "      <td>0.000000</td>\n",
              "      <td>257</td>\n",
              "      <td>1</td>\n",
              "      <td>1</td>\n",
              "      <td>1</td>\n",
              "      <td>0</td>\n",
              "      <td>NaN</td>\n",
              "      <td>0</td>\n",
              "      <td>2</td>\n",
              "      <td>1.0</td>\n",
              "      <td>train</td>\n",
              "      <td>F0</td>\n",
              "    </tr>\n",
              "    <tr>\n",
              "      <th>4</th>\n",
              "      <td>0.000000</td>\n",
              "      <td>342</td>\n",
              "      <td>1</td>\n",
              "      <td>0</td>\n",
              "      <td>1</td>\n",
              "      <td>0</td>\n",
              "      <td>NaN</td>\n",
              "      <td>0</td>\n",
              "      <td>2</td>\n",
              "      <td>1.0</td>\n",
              "      <td>train</td>\n",
              "      <td>F0</td>\n",
              "    </tr>\n",
              "    <tr>\n",
              "      <th>...</th>\n",
              "      <td>...</td>\n",
              "      <td>...</td>\n",
              "      <td>...</td>\n",
              "      <td>...</td>\n",
              "      <td>...</td>\n",
              "      <td>...</td>\n",
              "      <td>...</td>\n",
              "      <td>...</td>\n",
              "      <td>...</td>\n",
              "      <td>...</td>\n",
              "      <td>...</td>\n",
              "      <td>...</td>\n",
              "    </tr>\n",
              "    <tr>\n",
              "      <th>59305</th>\n",
              "      <td>34.000000</td>\n",
              "      <td>3337</td>\n",
              "      <td>1</td>\n",
              "      <td>0</td>\n",
              "      <td>2</td>\n",
              "      <td>20</td>\n",
              "      <td>34.0</td>\n",
              "      <td>12</td>\n",
              "      <td>1</td>\n",
              "      <td>NaN</td>\n",
              "      <td>test</td>\n",
              "      <td>F0</td>\n",
              "    </tr>\n",
              "    <tr>\n",
              "      <th>59306</th>\n",
              "      <td>32.000000</td>\n",
              "      <td>3516</td>\n",
              "      <td>1</td>\n",
              "      <td>0</td>\n",
              "      <td>2</td>\n",
              "      <td>20</td>\n",
              "      <td>32.0</td>\n",
              "      <td>10</td>\n",
              "      <td>2</td>\n",
              "      <td>NaN</td>\n",
              "      <td>test</td>\n",
              "      <td>F0</td>\n",
              "    </tr>\n",
              "    <tr>\n",
              "      <th>59307</th>\n",
              "      <td>28.656485</td>\n",
              "      <td>3702</td>\n",
              "      <td>1</td>\n",
              "      <td>0</td>\n",
              "      <td>2</td>\n",
              "      <td>10</td>\n",
              "      <td>NaN</td>\n",
              "      <td>48</td>\n",
              "      <td>1</td>\n",
              "      <td>NaN</td>\n",
              "      <td>test</td>\n",
              "      <td>F0</td>\n",
              "    </tr>\n",
              "    <tr>\n",
              "      <th>59308</th>\n",
              "      <td>28.000000</td>\n",
              "      <td>3702</td>\n",
              "      <td>1</td>\n",
              "      <td>0</td>\n",
              "      <td>2</td>\n",
              "      <td>10</td>\n",
              "      <td>28.0</td>\n",
              "      <td>17</td>\n",
              "      <td>2</td>\n",
              "      <td>NaN</td>\n",
              "      <td>test</td>\n",
              "      <td>F0</td>\n",
              "    </tr>\n",
              "    <tr>\n",
              "      <th>59309</th>\n",
              "      <td>52.000000</td>\n",
              "      <td>3895</td>\n",
              "      <td>1</td>\n",
              "      <td>0</td>\n",
              "      <td>2</td>\n",
              "      <td>5</td>\n",
              "      <td>52.0</td>\n",
              "      <td>7</td>\n",
              "      <td>1</td>\n",
              "      <td>NaN</td>\n",
              "      <td>test</td>\n",
              "      <td>F0</td>\n",
              "    </tr>\n",
              "  </tbody>\n",
              "</table>\n",
              "<p>148168 rows × 12 columns</p>\n",
              "</div>"
            ],
            "text/plain": [
              "              ID  Estimated_Insects_Count  Crop_Type  ...  Crop_Damage  source  ID_2\n",
              "0       0.000000                      188          1  ...          0.0   train    F0\n",
              "1       0.000000                      209          1  ...          1.0   train    F0\n",
              "2       0.000000                      257          1  ...          1.0   train    F0\n",
              "3       0.000000                      257          1  ...          1.0   train    F0\n",
              "4       0.000000                      342          1  ...          1.0   train    F0\n",
              "...          ...                      ...        ...  ...          ...     ...   ...\n",
              "59305  34.000000                     3337          1  ...          NaN    test    F0\n",
              "59306  32.000000                     3516          1  ...          NaN    test    F0\n",
              "59307  28.656485                     3702          1  ...          NaN    test    F0\n",
              "59308  28.000000                     3702          1  ...          NaN    test    F0\n",
              "59309  52.000000                     3895          1  ...          NaN    test    F0\n",
              "\n",
              "[148168 rows x 12 columns]"
            ]
          },
          "metadata": {
            "tags": []
          },
          "execution_count": 115
        }
      ]
    },
    {
      "cell_type": "code",
      "metadata": {
        "id": "dMmwaDbug2WQ",
        "outputId": "a4488759-a42d-4128-8616-a1b4d26515a0",
        "colab": {
          "base_uri": "https://localhost:8080/",
          "height": 379
        }
      },
      "source": [
        "df.corr()"
      ],
      "execution_count": null,
      "outputs": [
        {
          "output_type": "execute_result",
          "data": {
            "text/html": [
              "<div>\n",
              "<style scoped>\n",
              "    .dataframe tbody tr th:only-of-type {\n",
              "        vertical-align: middle;\n",
              "    }\n",
              "\n",
              "    .dataframe tbody tr th {\n",
              "        vertical-align: top;\n",
              "    }\n",
              "\n",
              "    .dataframe thead th {\n",
              "        text-align: right;\n",
              "    }\n",
              "</style>\n",
              "<table border=\"1\" class=\"dataframe\">\n",
              "  <thead>\n",
              "    <tr style=\"text-align: right;\">\n",
              "      <th></th>\n",
              "      <th>ID</th>\n",
              "      <th>Estimated_Insects_Count</th>\n",
              "      <th>Crop_Type</th>\n",
              "      <th>Soil_Type</th>\n",
              "      <th>Pesticide_Use_Category</th>\n",
              "      <th>Number_Doses_Week</th>\n",
              "      <th>Number_Weeks_Used</th>\n",
              "      <th>Number_Weeks_Quit</th>\n",
              "      <th>Season</th>\n",
              "      <th>Crop_Damage</th>\n",
              "    </tr>\n",
              "  </thead>\n",
              "  <tbody>\n",
              "    <tr>\n",
              "      <th>ID</th>\n",
              "      <td>1.000000</td>\n",
              "      <td>0.413700</td>\n",
              "      <td>-0.041950</td>\n",
              "      <td>-0.064926</td>\n",
              "      <td>0.326650</td>\n",
              "      <td>0.120231</td>\n",
              "      <td>1.000000</td>\n",
              "      <td>-0.424582</td>\n",
              "      <td>0.001249</td>\n",
              "      <td>0.219624</td>\n",
              "    </tr>\n",
              "    <tr>\n",
              "      <th>Estimated_Insects_Count</th>\n",
              "      <td>0.413700</td>\n",
              "      <td>1.000000</td>\n",
              "      <td>-0.090363</td>\n",
              "      <td>-0.056379</td>\n",
              "      <td>-0.082212</td>\n",
              "      <td>-0.102897</td>\n",
              "      <td>0.457746</td>\n",
              "      <td>0.299628</td>\n",
              "      <td>-0.001141</td>\n",
              "      <td>0.202888</td>\n",
              "    </tr>\n",
              "    <tr>\n",
              "      <th>Crop_Type</th>\n",
              "      <td>-0.041950</td>\n",
              "      <td>-0.090363</td>\n",
              "      <td>1.000000</td>\n",
              "      <td>-0.289331</td>\n",
              "      <td>0.234132</td>\n",
              "      <td>-0.191225</td>\n",
              "      <td>-0.032110</td>\n",
              "      <td>-0.234154</td>\n",
              "      <td>0.002445</td>\n",
              "      <td>-0.016495</td>\n",
              "    </tr>\n",
              "    <tr>\n",
              "      <th>Soil_Type</th>\n",
              "      <td>-0.064926</td>\n",
              "      <td>-0.056379</td>\n",
              "      <td>-0.289331</td>\n",
              "      <td>1.000000</td>\n",
              "      <td>0.034108</td>\n",
              "      <td>0.079209</td>\n",
              "      <td>-0.068986</td>\n",
              "      <td>0.009091</td>\n",
              "      <td>0.000163</td>\n",
              "      <td>-0.021997</td>\n",
              "    </tr>\n",
              "    <tr>\n",
              "      <th>Pesticide_Use_Category</th>\n",
              "      <td>0.326650</td>\n",
              "      <td>-0.082212</td>\n",
              "      <td>0.234132</td>\n",
              "      <td>0.034108</td>\n",
              "      <td>1.000000</td>\n",
              "      <td>-0.000223</td>\n",
              "      <td>0.302810</td>\n",
              "      <td>-0.552969</td>\n",
              "      <td>-0.000078</td>\n",
              "      <td>0.175002</td>\n",
              "    </tr>\n",
              "    <tr>\n",
              "      <th>Number_Doses_Week</th>\n",
              "      <td>0.120231</td>\n",
              "      <td>-0.102897</td>\n",
              "      <td>-0.191225</td>\n",
              "      <td>0.079209</td>\n",
              "      <td>-0.000223</td>\n",
              "      <td>1.000000</td>\n",
              "      <td>0.093962</td>\n",
              "      <td>-0.038623</td>\n",
              "      <td>-0.000210</td>\n",
              "      <td>-0.030874</td>\n",
              "    </tr>\n",
              "    <tr>\n",
              "      <th>Number_Weeks_Used</th>\n",
              "      <td>1.000000</td>\n",
              "      <td>0.457746</td>\n",
              "      <td>-0.032110</td>\n",
              "      <td>-0.068986</td>\n",
              "      <td>0.302810</td>\n",
              "      <td>0.093962</td>\n",
              "      <td>1.000000</td>\n",
              "      <td>-0.483303</td>\n",
              "      <td>0.000017</td>\n",
              "      <td>0.286835</td>\n",
              "    </tr>\n",
              "    <tr>\n",
              "      <th>Number_Weeks_Quit</th>\n",
              "      <td>-0.424582</td>\n",
              "      <td>0.299628</td>\n",
              "      <td>-0.234154</td>\n",
              "      <td>0.009091</td>\n",
              "      <td>-0.552969</td>\n",
              "      <td>-0.038623</td>\n",
              "      <td>-0.483303</td>\n",
              "      <td>1.000000</td>\n",
              "      <td>0.001636</td>\n",
              "      <td>-0.133117</td>\n",
              "    </tr>\n",
              "    <tr>\n",
              "      <th>Season</th>\n",
              "      <td>0.001249</td>\n",
              "      <td>-0.001141</td>\n",
              "      <td>0.002445</td>\n",
              "      <td>0.000163</td>\n",
              "      <td>-0.000078</td>\n",
              "      <td>-0.000210</td>\n",
              "      <td>0.000017</td>\n",
              "      <td>0.001636</td>\n",
              "      <td>1.000000</td>\n",
              "      <td>-0.000184</td>\n",
              "    </tr>\n",
              "    <tr>\n",
              "      <th>Crop_Damage</th>\n",
              "      <td>0.219624</td>\n",
              "      <td>0.202888</td>\n",
              "      <td>-0.016495</td>\n",
              "      <td>-0.021997</td>\n",
              "      <td>0.175002</td>\n",
              "      <td>-0.030874</td>\n",
              "      <td>0.286835</td>\n",
              "      <td>-0.133117</td>\n",
              "      <td>-0.000184</td>\n",
              "      <td>1.000000</td>\n",
              "    </tr>\n",
              "  </tbody>\n",
              "</table>\n",
              "</div>"
            ],
            "text/plain": [
              "                               ID  ...  Crop_Damage\n",
              "ID                       1.000000  ...     0.219624\n",
              "Estimated_Insects_Count  0.413700  ...     0.202888\n",
              "Crop_Type               -0.041950  ...    -0.016495\n",
              "Soil_Type               -0.064926  ...    -0.021997\n",
              "Pesticide_Use_Category   0.326650  ...     0.175002\n",
              "Number_Doses_Week        0.120231  ...    -0.030874\n",
              "Number_Weeks_Used        1.000000  ...     0.286835\n",
              "Number_Weeks_Quit       -0.424582  ...    -0.133117\n",
              "Season                   0.001249  ...    -0.000184\n",
              "Crop_Damage              0.219624  ...     1.000000\n",
              "\n",
              "[10 rows x 10 columns]"
            ]
          },
          "metadata": {
            "tags": []
          },
          "execution_count": 116
        }
      ]
    },
    {
      "cell_type": "code",
      "metadata": {
        "id": "p0QSlCEHdZJ5",
        "outputId": "c6bc6abf-d69c-4ea8-fefc-e7635b9f7877",
        "colab": {
          "base_uri": "https://localhost:8080/",
          "height": 282
        }
      },
      "source": [
        "df[\"Number_Weeks_Used\"].plot(kind = \"hist\")"
      ],
      "execution_count": null,
      "outputs": [
        {
          "output_type": "execute_result",
          "data": {
            "text/plain": [
              "<matplotlib.axes._subplots.AxesSubplot at 0x7fd6acc61fd0>"
            ]
          },
          "metadata": {
            "tags": []
          },
          "execution_count": 108
        },
        {
          "output_type": "display_data",
          "data": {
            "image/png": "[encoded data removed]",
            "text/plain": [
              "<Figure size 432x288 with 1 Axes>"
            ]
          },
          "metadata": {
            "tags": [],
            "needs_background": "light"
          }
        }
      ]
    },
    {
      "cell_type": "code",
      "metadata": {
        "id": "tVuw48ZaPekx",
        "outputId": "ad576e62-41b6-4a64-ed9e-607e5a4afc6a",
        "colab": {
          "resources": {
            "http://localhost:8080/nbextensions/google.colab/files.js": {
              "data": "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",
              "ok": true,
              "headers": [
                [
                  "content-type",
                  "application/javascript"
                ]
              ],
              "status": 200,
              "status_text": ""
            }
          },
          "base_uri": "https://localhost:8080/",
          "height": 72
        }
      },
      "source": [
        "from google.colab import files \n",
        "  \n",
        "  \n",
        "uploaded = files.upload()"
      ],
      "execution_count": null,
      "outputs": [
        {
          "output_type": "display_data",
          "data": {
            "text/html": [
              "\n",
              "     <input type=\"file\" id=\"files-1838bcd9-9bd2-491f-bfc2-ab0965a88658\" name=\"files[]\" multiple disabled\n",
              "        style=\"border:none\" />\n",
              "     <output id=\"result-1838bcd9-9bd2-491f-bfc2-ab0965a88658\">\n",
              "      Upload widget is only available when the cell has been executed in the\n",
              "      current browser session. Please rerun this cell to enable.\n",
              "      </output>\n",
              "      <script src=\"/nbextensions/google.colab/files.js\"></script> "
            ],
            "text/plain": [
              "<IPython.core.display.HTML object>"
            ]
          },
          "metadata": {
            "tags": []
          }
        },
        {
          "output_type": "stream",
          "text": [
            "Saving crop.csv.csv to crop.csv.csv\n"
          ],
          "name": "stdout"
        }
      ]
    },
    {
      "cell_type": "code",
      "metadata": {
        "id": "ffuZmbQaQNIr",
        "outputId": "b8c23de7-3a23-4e7c-ff38-9ef828f4f181",
        "colab": {
          "resources": {
            "http://localhost:8080/nbextensions/google.colab/files.js": {
              "data": "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",
              "ok": true,
              "headers": [
                [
                  "content-type",
                  "application/javascript"
                ]
              ],
              "status": 200,
              "status_text": ""
            }
          },
          "base_uri": "https://localhost:8080/",
          "height": 72
        }
      },
      "source": [
        "from google.colab import files \n",
        "  \n",
        "  \n",
        "uploaded = files.upload()"
      ],
      "execution_count": null,
      "outputs": [
        {
          "output_type": "display_data",
          "data": {
            "text/html": [
              "\n",
              "     <input type=\"file\" id=\"files-7fe95a75-f07e-4346-bc97-0652921efe29\" name=\"files[]\" multiple disabled\n",
              "        style=\"border:none\" />\n",
              "     <output id=\"result-7fe95a75-f07e-4346-bc97-0652921efe29\">\n",
              "      Upload widget is only available when the cell has been executed in the\n",
              "      current browser session. Please rerun this cell to enable.\n",
              "      </output>\n",
              "      <script src=\"/nbextensions/google.colab/files.js\"></script> "
            ],
            "text/plain": [
              "<IPython.core.display.HTML object>"
            ]
          },
          "metadata": {
            "tags": []
          }
        },
        {
          "output_type": "stream",
          "text": [
            "Saving croptypetest.csv to croptypetest.csv\n"
          ],
          "name": "stdout"
        }
      ]
    },
    {
      "cell_type": "code",
      "metadata": {
        "id": "CwVYrxqLVVJH"
      },
      "source": [
        "train = pd.read_csv(\"crop.csv.csv\")\n",
        "test = pd.read_csv(\"croptypetest.csv\")"
      ],
      "execution_count": null,
      "outputs": []
    },
    {
      "cell_type": "code",
      "metadata": {
        "id": "s6aOQCWTWOcN",
        "outputId": "7c0b79d8-4ba1-4846-9744-e769bff605f1",
        "colab": {
          "base_uri": "https://localhost:8080/",
          "height": 204
        }
      },
      "source": [
        "train.head()"
      ],
      "execution_count": null,
      "outputs": [
        {
          "output_type": "execute_result",
          "data": {
            "text/html": [
              "<div>\n",
              "<style scoped>\n",
              "    .dataframe tbody tr th:only-of-type {\n",
              "        vertical-align: middle;\n",
              "    }\n",
              "\n",
              "    .dataframe tbody tr th {\n",
              "        vertical-align: top;\n",
              "    }\n",
              "\n",
              "    .dataframe thead th {\n",
              "        text-align: right;\n",
              "    }\n",
              "</style>\n",
              "<table border=\"1\" class=\"dataframe\">\n",
              "  <thead>\n",
              "    <tr style=\"text-align: right;\">\n",
              "      <th></th>\n",
              "      <th>ID</th>\n",
              "      <th>Crop_Type</th>\n",
              "      <th>Soil_Type</th>\n",
              "    </tr>\n",
              "  </thead>\n",
              "  <tbody>\n",
              "    <tr>\n",
              "      <th>0</th>\n",
              "      <td>F00000001</td>\n",
              "      <td>1</td>\n",
              "      <td>0</td>\n",
              "    </tr>\n",
              "    <tr>\n",
              "      <th>1</th>\n",
              "      <td>F00000003</td>\n",
              "      <td>1</td>\n",
              "      <td>0</td>\n",
              "    </tr>\n",
              "    <tr>\n",
              "      <th>2</th>\n",
              "      <td>F00000004</td>\n",
              "      <td>1</td>\n",
              "      <td>0</td>\n",
              "    </tr>\n",
              "    <tr>\n",
              "      <th>3</th>\n",
              "      <td>F00000005</td>\n",
              "      <td>1</td>\n",
              "      <td>1</td>\n",
              "    </tr>\n",
              "    <tr>\n",
              "      <th>4</th>\n",
              "      <td>F00000006</td>\n",
              "      <td>1</td>\n",
              "      <td>0</td>\n",
              "    </tr>\n",
              "  </tbody>\n",
              "</table>\n",
              "</div>"
            ],
            "text/plain": [
              "          ID  Crop_Type  Soil_Type\n",
              "0  F00000001          1          0\n",
              "1  F00000003          1          0\n",
              "2  F00000004          1          0\n",
              "3  F00000005          1          1\n",
              "4  F00000006          1          0"
            ]
          },
          "metadata": {
            "tags": []
          },
          "execution_count": 14
        }
      ]
    },
    {
      "cell_type": "code",
      "metadata": {
        "id": "KiFAgIS2WVB7",
        "outputId": "a3cb3de2-f2d8-47b7-ff7e-2866cf99a514",
        "colab": {
          "base_uri": "https://localhost:8080/",
          "height": 204
        }
      },
      "source": [
        "test.head()"
      ],
      "execution_count": null,
      "outputs": [
        {
          "output_type": "execute_result",
          "data": {
            "text/html": [
              "<div>\n",
              "<style scoped>\n",
              "    .dataframe tbody tr th:only-of-type {\n",
              "        vertical-align: middle;\n",
              "    }\n",
              "\n",
              "    .dataframe tbody tr th {\n",
              "        vertical-align: top;\n",
              "    }\n",
              "\n",
              "    .dataframe thead th {\n",
              "        text-align: right;\n",
              "    }\n",
              "</style>\n",
              "<table border=\"1\" class=\"dataframe\">\n",
              "  <thead>\n",
              "    <tr style=\"text-align: right;\">\n",
              "      <th></th>\n",
              "      <th>ID</th>\n",
              "      <th>Crop_Type</th>\n",
              "      <th>Soil_Type</th>\n",
              "    </tr>\n",
              "  </thead>\n",
              "  <tbody>\n",
              "    <tr>\n",
              "      <th>0</th>\n",
              "      <td>F00000002</td>\n",
              "      <td>1</td>\n",
              "      <td>1</td>\n",
              "    </tr>\n",
              "    <tr>\n",
              "      <th>1</th>\n",
              "      <td>F00000007</td>\n",
              "      <td>1</td>\n",
              "      <td>1</td>\n",
              "    </tr>\n",
              "    <tr>\n",
              "      <th>2</th>\n",
              "      <td>F00000011</td>\n",
              "      <td>1</td>\n",
              "      <td>0</td>\n",
              "    </tr>\n",
              "    <tr>\n",
              "      <th>3</th>\n",
              "      <td>F00000013</td>\n",
              "      <td>1</td>\n",
              "      <td>0</td>\n",
              "    </tr>\n",
              "    <tr>\n",
              "      <th>4</th>\n",
              "      <td>F00000014</td>\n",
              "      <td>0</td>\n",
              "      <td>0</td>\n",
              "    </tr>\n",
              "  </tbody>\n",
              "</table>\n",
              "</div>"
            ],
            "text/plain": [
              "          ID  Crop_Type  Soil_Type\n",
              "0  F00000002          1          1\n",
              "1  F00000007          1          1\n",
              "2  F00000011          1          0\n",
              "3  F00000013          1          0\n",
              "4  F00000014          0          0"
            ]
          },
          "metadata": {
            "tags": []
          },
          "execution_count": 15
        }
      ]
    },
    {
      "cell_type": "code",
      "metadata": {
        "id": "iIMS7_0PXjb6",
        "outputId": "02e62ddf-14ea-47c3-cf02-a53019ab97bd",
        "colab": {
          "base_uri": "https://localhost:8080/",
          "height": 34
        }
      },
      "source": [
        "train.shape"
      ],
      "execution_count": null,
      "outputs": [
        {
          "output_type": "execute_result",
          "data": {
            "text/plain": [
              "(88858, 3)"
            ]
          },
          "metadata": {
            "tags": []
          },
          "execution_count": 19
        }
      ]
    },
    {
      "cell_type": "code",
      "metadata": {
        "id": "Q1T854o_Xmfq",
        "outputId": "f791ac11-3475-4d72-c7c2-4586754763f6",
        "colab": {
          "base_uri": "https://localhost:8080/",
          "height": 34
        }
      },
      "source": [
        "test.shape"
      ],
      "execution_count": null,
      "outputs": [
        {
          "output_type": "execute_result",
          "data": {
            "text/plain": [
              "(59310, 3)"
            ]
          },
          "metadata": {
            "tags": []
          },
          "execution_count": 20
        }
      ]
    },
    {
      "cell_type": "code",
      "metadata": {
        "id": "exGen_OQX3RQ",
        "outputId": "62f9247b-7546-4a41-e8b4-861dc826da93",
        "colab": {
          "base_uri": "https://localhost:8080/",
          "height": 163
        }
      },
      "source": [
        "df=df.fill"
      ],
      "execution_count": null,
      "outputs": [
        {
          "output_type": "error",
          "ename": "AttributeError",
          "evalue": "ignored",
          "traceback": [
            "\u001b[0;31m---------------------------------------------------------------------------\u001b[0m",
            "\u001b[0;31mAttributeError\u001b[0m                            Traceback (most recent call last)",
            "\u001b[0;32m<ipython-input-21-a3bacc195a3b>\u001b[0m in \u001b[0;36m<module>\u001b[0;34m()\u001b[0m\n\u001b[0;32m----> 1\u001b[0;31m \u001b[0mdf\u001b[0m\u001b[0;34m=\u001b[0m\u001b[0mdf\u001b[0m\u001b[0;34m.\u001b[0m\u001b[0mfill\u001b[0m\u001b[0;34m\u001b[0m\u001b[0;34m\u001b[0m\u001b[0m\n\u001b[0m",
            "\u001b[0;31mAttributeError\u001b[0m: 'function' object has no attribute 'fill'"
          ]
        }
      ]
    },
    {
      "cell_type": "code",
      "metadata": {
        "id": "DjFjO5cGX-Vr",
        "outputId": "75370882-f0fe-4299-c9fa-ee782b3c0af9",
        "colab": {
          "base_uri": "https://localhost:8080/",
          "height": 187
        }
      },
      "source": [
        "train.info()"
      ],
      "execution_count": null,
      "outputs": [
        {
          "output_type": "stream",
          "text": [
            "<class 'pandas.core.frame.DataFrame'>\n",
            "RangeIndex: 88858 entries, 0 to 88857\n",
            "Data columns (total 3 columns):\n",
            " #   Column     Non-Null Count  Dtype \n",
            "---  ------     --------------  ----- \n",
            " 0   ID         88858 non-null  object\n",
            " 1   Crop_Type  88858 non-null  int64 \n",
            " 2   Soil_Type  88858 non-null  int64 \n",
            "dtypes: int64(2), object(1)\n",
            "memory usage: 2.0+ MB\n"
          ],
          "name": "stdout"
        }
      ]
    },
    {
      "cell_type": "code",
      "metadata": {
        "id": "nMZDhwfnYDhp",
        "outputId": "c727996f-2989-4bb2-c532-cdba322cc273",
        "colab": {
          "base_uri": "https://localhost:8080/",
          "height": 297
        }
      },
      "source": [
        "train.describe()"
      ],
      "execution_count": null,
      "outputs": [
        {
          "output_type": "execute_result",
          "data": {
            "text/html": [
              "<div>\n",
              "<style scoped>\n",
              "    .dataframe tbody tr th:only-of-type {\n",
              "        vertical-align: middle;\n",
              "    }\n",
              "\n",
              "    .dataframe tbody tr th {\n",
              "        vertical-align: top;\n",
              "    }\n",
              "\n",
              "    .dataframe thead th {\n",
              "        text-align: right;\n",
              "    }\n",
              "</style>\n",
              "<table border=\"1\" class=\"dataframe\">\n",
              "  <thead>\n",
              "    <tr style=\"text-align: right;\">\n",
              "      <th></th>\n",
              "      <th>Crop_Type</th>\n",
              "      <th>Soil_Type</th>\n",
              "    </tr>\n",
              "  </thead>\n",
              "  <tbody>\n",
              "    <tr>\n",
              "      <th>count</th>\n",
              "      <td>88858.000000</td>\n",
              "      <td>88858.000000</td>\n",
              "    </tr>\n",
              "    <tr>\n",
              "      <th>mean</th>\n",
              "      <td>0.284375</td>\n",
              "      <td>0.458417</td>\n",
              "    </tr>\n",
              "    <tr>\n",
              "      <th>std</th>\n",
              "      <td>0.451119</td>\n",
              "      <td>0.498271</td>\n",
              "    </tr>\n",
              "    <tr>\n",
              "      <th>min</th>\n",
              "      <td>0.000000</td>\n",
              "      <td>0.000000</td>\n",
              "    </tr>\n",
              "    <tr>\n",
              "      <th>25%</th>\n",
              "      <td>0.000000</td>\n",
              "      <td>0.000000</td>\n",
              "    </tr>\n",
              "    <tr>\n",
              "      <th>50%</th>\n",
              "      <td>0.000000</td>\n",
              "      <td>0.000000</td>\n",
              "    </tr>\n",
              "    <tr>\n",
              "      <th>75%</th>\n",
              "      <td>1.000000</td>\n",
              "      <td>1.000000</td>\n",
              "    </tr>\n",
              "    <tr>\n",
              "      <th>max</th>\n",
              "      <td>1.000000</td>\n",
              "      <td>1.000000</td>\n",
              "    </tr>\n",
              "  </tbody>\n",
              "</table>\n",
              "</div>"
            ],
            "text/plain": [
              "          Crop_Type     Soil_Type\n",
              "count  88858.000000  88858.000000\n",
              "mean       0.284375      0.458417\n",
              "std        0.451119      0.498271\n",
              "min        0.000000      0.000000\n",
              "25%        0.000000      0.000000\n",
              "50%        0.000000      0.000000\n",
              "75%        1.000000      1.000000\n",
              "max        1.000000      1.000000"
            ]
          },
          "metadata": {
            "tags": []
          },
          "execution_count": 23
        }
      ]
    },
    {
      "cell_type": "code",
      "metadata": {
        "id": "_ctcxnRgYNSN",
        "outputId": "1b484ec7-32dd-4d69-906a-9363ecb751c2",
        "colab": {
          "base_uri": "https://localhost:8080/",
          "height": 85
        }
      },
      "source": [
        "train.isna().sum()"
      ],
      "execution_count": null,
      "outputs": [
        {
          "output_type": "execute_result",
          "data": {
            "text/plain": [
              "ID           0\n",
              "Crop_Type    0\n",
              "Soil_Type    0\n",
              "dtype: int64"
            ]
          },
          "metadata": {
            "tags": []
          },
          "execution_count": 24
        }
      ]
    },
    {
      "cell_type": "code",
      "metadata": {
        "id": "KcfSWL3dYTVv",
        "outputId": "003545e4-30b0-4f13-fc64-095098380ba1",
        "colab": {
          "base_uri": "https://localhost:8080/",
          "height": 85
        }
      },
      "source": [
        "test.isna().sum()"
      ],
      "execution_count": null,
      "outputs": [
        {
          "output_type": "execute_result",
          "data": {
            "text/plain": [
              "ID           0\n",
              "Crop_Type    0\n",
              "Soil_Type    0\n",
              "dtype: int64"
            ]
          },
          "metadata": {
            "tags": []
          },
          "execution_count": 25
        }
      ]
    },
    {
      "cell_type": "code",
      "metadata": {
        "id": "00BYvkLjWTmK",
        "outputId": "91a5e45f-e484-4141-ca8a-5c46120a5bf1",
        "colab": {
          "base_uri": "https://localhost:8080/",
          "height": 902
        }
      },
      "source": [
        "from numpy import *\n",
        "\n",
        "# y = mx + b\n",
        "# m is slope, b is y-intercept\n",
        "def compute_error_for_line_given_points(b, m, points):\n",
        "    totalError = 0\n",
        "    for i in range(0, len(points)):\n",
        "        x = points[i, 0]\n",
        "        y = points[i, 1]\n",
        "        totalError += (y - (m * x + b)) ** 2\n",
        "    return totalError / float(len(points))\n",
        "\n",
        "def step_gradient(b_current, m_current, points, learningRate):\n",
        "    b_gradient = 0\n",
        "    m_gradient = 0\n",
        "    N = float(len(points))\n",
        "    for i in range(0, len(points)):\n",
        "        x = points[i, 0]\n",
        "        y = points[i, 1]\n",
        "        b_gradient += -(2/N) * (y - ((m_current * x) + b_current))\n",
        "        m_gradient += -(2/N) * x * (y - ((m_current * x) + b_current))\n",
        "    new_b = b_current - (learningRate * b_gradient)\n",
        "    new_m = m_current - (learningRate * m_gradient)\n",
        "    return [new_b, new_m]\n",
        "\n",
        "def gradient_descent_runner(points, starting_b, starting_m, learning_rate, num_iterations):\n",
        "    b = starting_b\n",
        "    m = starting_m\n",
        "    err = []\n",
        "    b_ = []\n",
        "    m_ = []\n",
        "    for i in range(num_iterations):\n",
        "        b, m = step_gradient(b, m, array(points), learning_rate)\n",
        "        error = compute_error_for_line_given_points(b, m, points)\n",
        "        err.append(error)\n",
        "        b_.append(b)\n",
        "        m_.append(m)\n",
        "    draw(err, \"Error\")\n",
        "    draw(b_, \"Intercept\")\n",
        "    draw(m_, \"Slope\")\n",
        "    \n",
        "    return [b, m, err]\n",
        "\n",
        "\n",
        "def draw (err, message):\n",
        "    x = np.arange(0,len(err))\n",
        "    y = err\n",
        "    plt.plot(x, y, '.r', label=message)\n",
        "    plt.title('Graph ')\n",
        "    plt.xlabel('x', color='#1C2833')\n",
        "    plt.ylabel('y', color='#1C2833')\n",
        "    plt.legend(loc='upper left')\n",
        "    plt.grid()\n",
        "    plt.show()\n",
        "\n",
        "def run():\n",
        "    points = genfromtxt(\"crop.csv.csv\", delimiter=\",\")\n",
        "    points = genfromtxt(\"croptypetest.csv\", delimiter=\",\")\n",
        "    learning_rate = 0.0001\n",
        "    initial_b = 0 # initial y-intercept guess\n",
        "    initial_m = 0 # initial slope guess\n",
        "    num_iterations = 100\n",
        "    print(\"Starting gradient descent at b = {0}, m = {1}, error = {2}\".format(initial_b, initial_m, compute_error_for_line_given_points(initial_b, initial_m, points)))\n",
        "    print(\"Running...\")\n",
        "    [b, m, err] = gradient_descent_runner(points, initial_b, initial_m, learning_rate, num_iterations)\n",
        "    print(\"After {0} iterations b = {1}, m = {2}, error = {3}\".format(num_iterations, b, m, compute_error_for_line_given_points(b, m, points)))\n",
        "    \n",
        "if __name__ == '__main__':\n",
        "    run()"
      ],
      "execution_count": null,
      "outputs": [
        {
          "output_type": "stream",
          "text": [
            "Starting gradient descent at b = 0, m = 0, error = nan\n",
            "Running...\n"
          ],
          "name": "stdout"
        },
        {
          "output_type": "display_data",
          "data": {
            "image/png": "[encoded data removed]",
            "text/plain": [
              "<Figure size 432x288 with 1 Axes>"
            ]
          },
          "metadata": {
            "tags": [],
            "needs_background": "light"
          }
        },
        {
          "output_type": "display_data",
          "data": {
            "image/png": "[encoded data removed]",
            "text/plain": [
              "<Figure size 432x288 with 1 Axes>"
            ]
          },
          "metadata": {
            "tags": [],
            "needs_background": "light"
          }
        },
        {
          "output_type": "display_data",
          "data": {
            "image/png": "[encoded data removed]",
            "text/plain": [
              "<Figure size 432x288 with 1 Axes>"
            ]
          },
          "metadata": {
            "tags": [],
            "needs_background": "light"
          }
        },
        {
          "output_type": "stream",
          "text": [
            "After 100 iterations b = nan, m = nan, error = nan\n"
          ],
          "name": "stdout"
        }
      ]
    },
    {
      "cell_type": "code",
      "metadata": {
        "id": "sxTdbE8LJ0OM"
      },
      "source": [
        "import lightgbm as lgb\n",
        "import pandas as pd\n",
        "import numpy as np\n",
        "import os\n",
        "from matplotlib import pyplot as plt\n",
        "from sklearn import preprocessing\n",
        "from sklearn.metrics import mean_squared_log_error, mean_squared_error\n",
        "from sklearn.model_selection import train_test_split\n",
        "from sklearn.metrics import roc_auc_score\n",
        "from sklearn.metrics import accuracy_score\n",
        "from sklearn.metrics import log_loss\n",
        "from sklearn.metrics import classification_report\n",
        "import seaborn as sns\n",
        "from collections import Counter\n",
        "sns.set_style('whitegrid')\n",
        "plt.rcParams['figure.figsize'] = (12, 10)\n",
        "# https://stackoverflow.com/questions/4150171/how-to-create-a-density-plot-in-matplotlib"
      ],
      "execution_count": 7,
      "outputs": []
    },
    {
      "cell_type": "code",
      "metadata": {
        "id": "_ApIFGqJJ7TY",
        "outputId": "b25c2dce-b11b-40a0-a18e-71fb71269d04",
        "colab": {
          "resources": {
            "http://localhost:8080/nbextensions/google.colab/files.js": {
              "data": "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",
              "ok": true,
              "headers": [
                [
                  "content-type",
                  "application/javascript"
                ]
              ],
              "status": 200,
              "status_text": ""
            }
          },
          "base_uri": "https://localhost:8080/",
          "height": 72
        }
      },
      "source": [
        "from google.colab import files \n",
        "  \n",
        "  \n",
        "uploaded = files.upload()"
      ],
      "execution_count": 2,
      "outputs": [
        {
          "output_type": "display_data",
          "data": {
            "text/html": [
              "\n",
              "     <input type=\"file\" id=\"files-ba293697-8ea7-4a4c-b4f6-0e8b73691ed3\" name=\"files[]\" multiple disabled\n",
              "        style=\"border:none\" />\n",
              "     <output id=\"result-ba293697-8ea7-4a4c-b4f6-0e8b73691ed3\">\n",
              "      Upload widget is only available when the cell has been executed in the\n",
              "      current browser session. Please rerun this cell to enable.\n",
              "      </output>\n",
              "      <script src=\"/nbextensions/google.colab/files.js\"></script> "
            ],
            "text/plain": [
              "<IPython.core.display.HTML object>"
            ]
          },
          "metadata": {
            "tags": []
          }
        },
        {
          "output_type": "stream",
          "text": [
            "Saving train_crop.csv to train_crop.csv\n"
          ],
          "name": "stdout"
        }
      ]
    },
    {
      "cell_type": "code",
      "metadata": {
        "id": "a-e1zMPGJ8Lz",
        "outputId": "bd7d9b29-7a1e-4638-83b5-9ab099481b3b",
        "colab": {
          "resources": {
            "http://localhost:8080/nbextensions/google.colab/files.js": {
              "data": "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",
              "ok": true,
              "headers": [
                [
                  "content-type",
                  "application/javascript"
                ]
              ],
              "status": 200,
              "status_text": ""
            }
          },
          "base_uri": "https://localhost:8080/",
          "height": 72
        }
      },
      "source": [
        "from google.colab import files \n",
        "  \n",
        "  \n",
        "uploaded = files.upload()"
      ],
      "execution_count": 3,
      "outputs": [
        {
          "output_type": "display_data",
          "data": {
            "text/html": [
              "\n",
              "     <input type=\"file\" id=\"files-4d68e77a-7867-41eb-952d-438f04008ac5\" name=\"files[]\" multiple disabled\n",
              "        style=\"border:none\" />\n",
              "     <output id=\"result-4d68e77a-7867-41eb-952d-438f04008ac5\">\n",
              "      Upload widget is only available when the cell has been executed in the\n",
              "      current browser session. Please rerun this cell to enable.\n",
              "      </output>\n",
              "      <script src=\"/nbextensions/google.colab/files.js\"></script> "
            ],
            "text/plain": [
              "<IPython.core.display.HTML object>"
            ]
          },
          "metadata": {
            "tags": []
          }
        },
        {
          "output_type": "stream",
          "text": [
            "Saving test_crop.csv to test_crop.csv\n"
          ],
          "name": "stdout"
        }
      ]
    },
    {
      "cell_type": "code",
      "metadata": {
        "id": "XDLv5bpzJ8-1",
        "outputId": "07a1a70b-1a5f-4f3d-9ebd-2f1ff1a4b518",
        "colab": {
          "resources": {
            "http://localhost:8080/nbextensions/google.colab/files.js": {
              "data": "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",
              "ok": true,
              "headers": [
                [
                  "content-type",
                  "application/javascript"
                ]
              ],
              "status": 200,
              "status_text": ""
            }
          },
          "base_uri": "https://localhost:8080/",
          "height": 72
        }
      },
      "source": [
        "from google.colab import files \n",
        "  \n",
        "  \n",
        "uploaded = files.upload()"
      ],
      "execution_count": 4,
      "outputs": [
        {
          "output_type": "display_data",
          "data": {
            "text/html": [
              "\n",
              "     <input type=\"file\" id=\"files-2f786fa9-ca96-42d7-a748-cfffb79799e9\" name=\"files[]\" multiple disabled\n",
              "        style=\"border:none\" />\n",
              "     <output id=\"result-2f786fa9-ca96-42d7-a748-cfffb79799e9\">\n",
              "      Upload widget is only available when the cell has been executed in the\n",
              "      current browser session. Please rerun this cell to enable.\n",
              "      </output>\n",
              "      <script src=\"/nbextensions/google.colab/files.js\"></script> "
            ],
            "text/plain": [
              "<IPython.core.display.HTML object>"
            ]
          },
          "metadata": {
            "tags": []
          }
        },
        {
          "output_type": "stream",
          "text": [
            "Saving sample_submission_crop.csv to sample_submission_crop.csv\n"
          ],
          "name": "stdout"
        }
      ]
    },
    {
      "cell_type": "code",
      "metadata": {
        "id": "UFCCf4_nKu9s"
      },
      "source": [
        "df_train = pd.read_csv(\"train_crop.csv\",header=0)\n",
        "df_test = pd.read_csv(\"test_crop.csv\",header=0)\n",
        "submission = pd.read_csv(\"sample_submission_crop.csv\", header=0)"
      ],
      "execution_count": 8,
      "outputs": []
    },
    {
      "cell_type": "code",
      "metadata": {
        "id": "geJfAW2BKzjy",
        "outputId": "b176a147-427d-4ba0-d150-99271a9d9151",
        "colab": {
          "base_uri": "https://localhost:8080/",
          "height": 51
        }
      },
      "source": [
        "df_train['train_flag'] = 1\n",
        "df_test['train_flag'] = 0\n",
        "df_test['Crop_Damage'] = 0\n",
        "print(df_train.shape, df_test.shape)\n",
        "\n",
        "df_data = pd.concat((df_train, df_test))\n",
        "print(df_data.shape)"
      ],
      "execution_count": 9,
      "outputs": [
        {
          "output_type": "stream",
          "text": [
            "(88858, 11) (59310, 11)\n",
            "(148168, 11)\n"
          ],
          "name": "stdout"
        }
      ]
    },
    {
      "cell_type": "code",
      "metadata": {
        "id": "Qex7kB2SLGMO",
        "outputId": "85a35c46-adc1-41ba-a56c-e3a752f8c9aa",
        "colab": {
          "base_uri": "https://localhost:8080/",
          "height": 34
        }
      },
      "source": [
        "feature_cols = df_train.columns.tolist()\n",
        "feature_cols.remove('ID')\n",
        "feature_cols.remove('Crop_Damage')\n",
        "feature_cols.remove('train_flag')\n",
        "label_col = 'Crop_Damage'\n",
        "print(feature_cols)"
      ],
      "execution_count": 10,
      "outputs": [
        {
          "output_type": "stream",
          "text": [
            "['Estimated_Insects_Count', 'Crop_Type', 'Soil_Type', 'Pesticide_Use_Category', 'Number_Doses_Week', 'Number_Weeks_Used', 'Number_Weeks_Quit', 'Season']\n"
          ],
          "name": "stdout"
        }
      ]
    },
    {
      "cell_type": "code",
      "metadata": {
        "id": "o-oyoD_0LGWp"
      },
      "source": [
        "df_data['ID_value'] = df_data['ID'].apply(lambda x: x.strip('F')).astype('int')"
      ],
      "execution_count": 15,
      "outputs": []
    },
    {
      "cell_type": "code",
      "metadata": {
        "id": "ASxRVb1CLL9A"
      },
      "source": [
        "df_data = df_data.sort_values(['ID_value'])"
      ],
      "execution_count": 16,
      "outputs": []
    },
    {
      "cell_type": "code",
      "metadata": {
        "id": "4aV83tigLh2R"
      },
      "source": [
        "df_data = df_data.reset_index(drop=True)"
      ],
      "execution_count": 17,
      "outputs": []
    },
    {
      "cell_type": "code",
      "metadata": {
        "id": "XYZUr-ryLh6-"
      },
      "source": [
        "df_data['Soil_Type_Damage'] = df_data.sort_values(['ID_value']).groupby(['Soil_Type'])['Crop_Damage'].apply(lambda x: x.shift().rolling(5, min_periods=1).mean()).fillna(-999).values\n",
        "\n",
        "df_data['Estimated_Insects_Count_Damage'] = df_data.sort_values(['ID_value']).groupby(['Estimated_Insects_Count'])['Crop_Damage'].apply(lambda x: x.shift().rolling(5, min_periods=1).mean()).fillna(-999).values\n",
        "\n",
        "\n",
        "df_data['Crop_Type_Damage'] = df_data.sort_values(['ID_value']).groupby(['Crop_Type'])['Crop_Damage'].apply(lambda x: x.shift().rolling(5, min_periods=1).mean()).fillna(-999).values\n",
        "\n",
        "\n",
        "df_data['Pesticide_Use_Category_Damage'] = df_data.sort_values(['ID_value']).groupby(['Pesticide_Use_Category'])['Crop_Damage'].apply(lambda x: x.shift().rolling(5, min_periods=1).mean()).fillna(-999).values\n",
        "\n",
        "\n",
        "df_data['Season_Damage'] = df_data.sort_values(['ID_value']).groupby(['Season'])['Crop_Damage'].apply(lambda x: x.shift().rolling(5, min_periods=1).mean()).fillna(-999).values\n",
        "\n",
        "\n",
        "df_data['Soil_Type_Damage_lag2'] = df_data.sort_values(['ID_value']).groupby(['Soil_Type'])['Crop_Damage'].apply(lambda x: x.shift(periods=2).rolling(5, min_periods=1).mean()).fillna(-999).values\n",
        "\n",
        "df_data['Estimated_Insects_Count_Damage_lag2'] = df_data.sort_values(['ID_value']).groupby(['Estimated_Insects_Count'])['Crop_Damage'].apply(lambda x: x.shift(periods=2).rolling(5, min_periods=1).mean()).fillna(-999).values\n",
        "\n",
        "df_data['Crop_Type_Damage_lag2'] = df_data.sort_values(['ID_value']).groupby(['Crop_Type'])['Crop_Damage'].apply(lambda x: x.shift(periods=2).rolling(5, min_periods=1).mean()).fillna(-999).values\n",
        "\n",
        "df_data['Pesticide_Use_Category_Damage_lag2'] = df_data.sort_values(['ID_value']).groupby(['Pesticide_Use_Category'])['Crop_Damage'].apply(lambda x: x.shift(periods=2).rolling(5, min_periods=1).mean()).fillna(-999).values\n",
        "\n",
        "df_data['Season_Damage_lag2'] = df_data.sort_values(['ID_value']).groupby(['Season'])['Crop_Damage'].apply(lambda x: x.shift(periods=2).rolling(5, min_periods=1).mean()).fillna(-999).values"
      ],
      "execution_count": 19,
      "outputs": []
    },
    {
      "cell_type": "code",
      "metadata": {
        "id": "zJndfZb9LzEt"
      },
      "source": [
        "df_data.loc[df_data['train_flag'] == 0, 'Crop_Damage'] = -999"
      ],
      "execution_count": 20,
      "outputs": []
    },
    {
      "cell_type": "code",
      "metadata": {
        "id": "O93WgyrkL3vv"
      },
      "source": [
        "df_data['Crop_Damage_lag1'] = df_data['Crop_Damage'].shift(fill_value=-999)\n",
        "df_data['Estimated_Insects_Count_lag1'] = df_data['Estimated_Insects_Count'].shift(fill_value=-999)\n",
        "df_data['Crop_Type_lag1'] = df_data['Crop_Type'].shift(fill_value=-999)\n",
        "df_data['Soil_Type_lag1'] = df_data['Soil_Type'].shift(fill_value=-999)\n",
        "df_data['Pesticide_Use_Category_lag1'] = df_data['Pesticide_Use_Category'].shift(fill_value=-999)\n",
        "df_data['Number_Doses_Week_lag1'] = df_data['Number_Doses_Week'].shift(fill_value=-999)\n",
        "df_data['Number_Weeks_Used_lag1'] = df_data['Number_Weeks_Used'].shift(fill_value=-999)\n",
        "df_data['Number_Weeks_Quit_lag1'] = df_data['Number_Weeks_Quit'].shift(fill_value=-999)\n",
        "df_data['Season_lag1'] = df_data['Season'].shift(fill_value=-999)\n",
        "\n",
        "df_data['Crop_Damage_lag2'] = df_data['Crop_Damage'].shift(periods=2,fill_value=-999)\n",
        "df_data['Estimated_Insects_Count_lag2'] = df_data['Estimated_Insects_Count'].shift(periods=2,fill_value=-999)\n",
        "df_data['Crop_Type_lag2'] = df_data['Crop_Type'].shift(fill_value=-999)\n",
        "df_data['Soil_Type_lag2'] = df_data['Soil_Type'].shift(fill_value=-999)\n",
        "df_data['Pesticide_Use_Category_lag2'] = df_data['Pesticide_Use_Category'].shift(periods=2,fill_value=-999)\n",
        "df_data['Number_Doses_Week_lag2'] = df_data['Number_Doses_Week'].shift(periods=2,fill_value=-999)\n",
        "df_data['Number_Weeks_Used_lag2'] = df_data['Number_Weeks_Used'].shift(periods=2,fill_value=-999)\n",
        "df_data['Number_Weeks_Quit_lag2'] = df_data['Number_Weeks_Quit'].shift(periods=2,fill_value=-999)\n",
        "df_data['Season_lag2'] = df_data['Season'].shift(periods=2,fill_value=-999)"
      ],
      "execution_count": 21,
      "outputs": []
    },
    {
      "cell_type": "code",
      "metadata": {
        "id": "bDpGHWjrL3zx"
      },
      "source": [
        "df_train, df_test = df_data[df_data.train_flag == 1], df_data[df_data.train_flag == 0]"
      ],
      "execution_count": 22,
      "outputs": []
    },
    {
      "cell_type": "code",
      "metadata": {
        "id": "Q--iXvamME8t",
        "outputId": "4175986f-f873-4dce-deb1-0f4f1583b515",
        "colab": {
          "base_uri": "https://localhost:8080/",
          "height": 102
        }
      },
      "source": [
        "df_train.drop(['train_flag'], inplace=True, axis=1)\n",
        "df_test.drop(['train_flag'], inplace=True, axis=1)\n",
        "df_test.drop([label_col], inplace=True, axis=1)"
      ],
      "execution_count": 23,
      "outputs": [
        {
          "output_type": "stream",
          "text": [
            "/usr/local/lib/python3.6/dist-packages/pandas/core/frame.py:4170: SettingWithCopyWarning: \n",
            "A value is trying to be set on a copy of a slice from a DataFrame\n",
            "\n",
            "See the caveats in the documentation: https://pandas.pydata.org/pandas-docs/stable/user_guide/indexing.html#returning-a-view-versus-a-copy\n",
            "  errors=errors,\n"
          ],
          "name": "stderr"
        }
      ]
    },
    {
      "cell_type": "code",
      "metadata": {
        "id": "_WhB77SbMKTj",
        "outputId": "67fad6ce-d40b-4dcc-abfb-e07d2704283f",
        "colab": {
          "base_uri": "https://localhost:8080/",
          "height": 34
        }
      },
      "source": [
        "print(df_train.shape, df_test.shape)"
      ],
      "execution_count": 24,
      "outputs": [
        {
          "output_type": "stream",
          "text": [
            "(88858, 39) (59310, 38)\n"
          ],
          "name": "stdout"
        }
      ]
    },
    {
      "cell_type": "code",
      "metadata": {
        "id": "ls7_Ae4nMKQc"
      },
      "source": [
        "del df_data"
      ],
      "execution_count": 25,
      "outputs": []
    },
    {
      "cell_type": "code",
      "metadata": {
        "id": "CLV8CEUuT2EW"
      },
      "source": [
        "missing_impute = -999"
      ],
      "execution_count": 26,
      "outputs": []
    },
    {
      "cell_type": "code",
      "metadata": {
        "id": "SJfn0CPCT3AN"
      },
      "source": [
        "df_train['Number_Weeks_Used'] = df_train['Number_Weeks_Used'].apply(lambda x: missing_impute if pd.isna(x) else x)\n",
        "df_test['Number_Weeks_Used'] = df_test['Number_Weeks_Used'].apply(lambda x: missing_impute if pd.isna(x) else x)\n",
        "\n",
        "df_train['Number_Weeks_Used_lag1'] = df_train['Number_Weeks_Used_lag1'].apply(lambda x: missing_impute if pd.isna(x) else x)\n",
        "df_test['Number_Weeks_Used_lag1'] = df_test['Number_Weeks_Used_lag1'].apply(lambda x: missing_impute if pd.isna(x) else x)\n",
        "\n",
        "df_train['Number_Weeks_Used_lag2'] = df_train['Number_Weeks_Used_lag2'].apply(lambda x: missing_impute if pd.isna(x) else x)\n",
        "df_test['Number_Weeks_Used_lag2'] = df_test['Number_Weeks_Used_lag2'].apply(lambda x: missing_impute if pd.isna(x) else x)"
      ],
      "execution_count": 27,
      "outputs": []
    },
    {
      "cell_type": "code",
      "metadata": {
        "id": "qtn6Hr_DT7rD"
      },
      "source": [
        "df_train, df_eval = train_test_split(df_train, test_size=0.40, random_state=42, shuffle=True, stratify=df_train[label_col])"
      ],
      "execution_count": 28,
      "outputs": []
    },
    {
      "cell_type": "code",
      "metadata": {
        "id": "boMJnjdDUEcL",
        "outputId": "4f1e55ff-bc23-4af1-8f92-aab48ac69acc",
        "colab": {
          "base_uri": "https://localhost:8080/",
          "height": 54
        }
      },
      "source": [
        "feature_cols = df_train.columns.tolist()\n",
        "feature_cols.remove('ID')\n",
        "feature_cols.remove('Crop_Damage')\n",
        "feature_cols.remove('ID_value')\n",
        "label_col = 'Crop_Damage'\n",
        "print(feature_cols)"
      ],
      "execution_count": 29,
      "outputs": [
        {
          "output_type": "stream",
          "text": [
            "['Estimated_Insects_Count', 'Crop_Type', 'Soil_Type', 'Pesticide_Use_Category', 'Number_Doses_Week', 'Number_Weeks_Used', 'Number_Weeks_Quit', 'Season', 'Soil_Type_Damage', 'Estimated_Insects_Count_Damage', 'Crop_Type_Damage', 'Pesticide_Use_Category_Damage', 'Season_Damage', 'Soil_Type_Damage_lag2', 'Estimated_Insects_Count_Damage_lag2', 'Crop_Type_Damage_lag2', 'Pesticide_Use_Category_Damage_lag2', 'Season_Damage_lag2', 'Crop_Damage_lag1', 'Estimated_Insects_Count_lag1', 'Crop_Type_lag1', 'Soil_Type_lag1', 'Pesticide_Use_Category_lag1', 'Number_Doses_Week_lag1', 'Number_Weeks_Used_lag1', 'Number_Weeks_Quit_lag1', 'Season_lag1', 'Crop_Damage_lag2', 'Estimated_Insects_Count_lag2', 'Crop_Type_lag2', 'Soil_Type_lag2', 'Pesticide_Use_Category_lag2', 'Number_Doses_Week_lag2', 'Number_Weeks_Used_lag2', 'Number_Weeks_Quit_lag2', 'Season_lag2']\n"
          ],
          "name": "stdout"
        }
      ]
    },
    {
      "cell_type": "code",
      "metadata": {
        "id": "m884BsuEUINg"
      },
      "source": [
        "cat_cols = ['Crop_Type', 'Soil_Type', 'Pesticide_Use_Category', 'Season', 'Crop_Type_lag1', 'Soil_Type_lag1', 'Pesticide_Use_Category_lag1', 'Season_lag1']"
      ],
      "execution_count": 30,
      "outputs": []
    },
    {
      "cell_type": "code",
      "metadata": {
        "id": "Fkp0zfMnUJWk"
      },
      "source": [
        "params = {}\n",
        "params['learning_rate'] = 0.04\n",
        "params['max_depth'] = 18\n",
        "params['n_estimators'] = 3000\n",
        "params['objective'] = 'multiclass'\n",
        "params['boosting_type'] = 'gbdt'\n",
        "params['subsample'] = 0.7\n",
        "params['random_state'] = 42\n",
        "params['colsample_bytree']=0.7\n",
        "params['min_data_in_leaf'] = 55\n",
        "params['reg_alpha'] = 1.7\n",
        "params['reg_lambda'] = 1.11\n",
        "params['class_weight']: {0: 0.44, 1: 0.4, 2: 0.37}"
      ],
      "execution_count": 31,
      "outputs": []
    },
    {
      "cell_type": "code",
      "metadata": {
        "id": "hpuitqAsUevE",
        "outputId": "03c01f19-9b20-4f6a-8b09-cea0a0ab17eb",
        "colab": {
          "base_uri": "https://localhost:8080/",
          "height": 1000
        }
      },
      "source": [
        "clf = lgb.LGBMClassifier(**params)\n",
        "    \n",
        "clf.fit(df_train[feature_cols], df_train[label_col], early_stopping_rounds=100, eval_set=[(df_train[feature_cols], df_train[label_col]), (df_eval[feature_cols], df_eval[label_col])], eval_metric='multi_error', verbose=True, categorical_feature=cat_cols)\n",
        "\n",
        "eval_score = accuracy_score(df_eval[label_col], clf.predict(df_eval[feature_cols]))\n",
        "\n",
        "print('Eval ACC: {}'.format(eval_score))"
      ],
      "execution_count": 32,
      "outputs": [
        {
          "output_type": "stream",
          "text": [
            "/usr/local/lib/python3.6/dist-packages/lightgbm/basic.py:1209: UserWarning: categorical_feature in Dataset is overridden.\n",
            "New categorical_feature is ['Crop_Type', 'Crop_Type_lag1', 'Pesticide_Use_Category', 'Pesticide_Use_Category_lag1', 'Season', 'Season_lag1', 'Soil_Type', 'Soil_Type_lag1']\n",
            "  'New categorical_feature is {}'.format(sorted(list(categorical_feature))))\n"
          ],
          "name": "stderr"
        },
        {
          "output_type": "stream",
          "text": [
            "[1]\tvalid_0's multi_error: 0.164535\tvalid_0's multi_logloss: 0.497166\tvalid_1's multi_error: 0.164528\tvalid_1's multi_logloss: 0.497335\n",
            "Training until validation scores don't improve for 100 rounds.\n",
            "[2]\tvalid_0's multi_error: 0.164535\tvalid_0's multi_logloss: 0.478658\tvalid_1's multi_error: 0.164528\tvalid_1's multi_logloss: 0.479165\n",
            "[3]\tvalid_0's multi_error: 0.164535\tvalid_0's multi_logloss: 0.462451\tvalid_1's multi_error: 0.164528\tvalid_1's multi_logloss: 0.463087\n",
            "[4]\tvalid_0's multi_error: 0.164535\tvalid_0's multi_logloss: 0.447691\tvalid_1's multi_error: 0.164528\tvalid_1's multi_logloss: 0.448475\n",
            "[5]\tvalid_0's multi_error: 0.164535\tvalid_0's multi_logloss: 0.434232\tvalid_1's multi_error: 0.164528\tvalid_1's multi_logloss: 0.435239\n",
            "[6]\tvalid_0's multi_error: 0.164535\tvalid_0's multi_logloss: 0.423808\tvalid_1's multi_error: 0.164528\tvalid_1's multi_logloss: 0.425099\n",
            "[7]\tvalid_0's multi_error: 0.164535\tvalid_0's multi_logloss: 0.41312\tvalid_1's multi_error: 0.164528\tvalid_1's multi_logloss: 0.414563\n",
            "[8]\tvalid_0's multi_error: 0.164535\tvalid_0's multi_logloss: 0.40359\tvalid_1's multi_error: 0.164528\tvalid_1's multi_logloss: 0.405208\n",
            "[9]\tvalid_0's multi_error: 0.164535\tvalid_0's multi_logloss: 0.394574\tvalid_1's multi_error: 0.164528\tvalid_1's multi_logloss: 0.396342\n",
            "[10]\tvalid_0's multi_error: 0.164535\tvalid_0's multi_logloss: 0.385276\tvalid_1's multi_error: 0.164528\tvalid_1's multi_logloss: 0.387092\n",
            "[11]\tvalid_0's multi_error: 0.164535\tvalid_0's multi_logloss: 0.377298\tvalid_1's multi_error: 0.164528\tvalid_1's multi_logloss: 0.37932\n",
            "[12]\tvalid_0's multi_error: 0.164535\tvalid_0's multi_logloss: 0.369799\tvalid_1's multi_error: 0.164528\tvalid_1's multi_logloss: 0.371938\n",
            "[13]\tvalid_0's multi_error: 0.164535\tvalid_0's multi_logloss: 0.362123\tvalid_1's multi_error: 0.164528\tvalid_1's multi_logloss: 0.364372\n",
            "[14]\tvalid_0's multi_error: 0.164535\tvalid_0's multi_logloss: 0.35476\tvalid_1's multi_error: 0.164528\tvalid_1's multi_logloss: 0.357091\n",
            "[15]\tvalid_0's multi_error: 0.164441\tvalid_0's multi_logloss: 0.348058\tvalid_1's multi_error: 0.164388\tvalid_1's multi_logloss: 0.350534\n",
            "[16]\tvalid_0's multi_error: 0.158908\tvalid_0's multi_logloss: 0.342028\tvalid_1's multi_error: 0.159492\tvalid_1's multi_logloss: 0.344599\n",
            "[17]\tvalid_0's multi_error: 0.148423\tvalid_0's multi_logloss: 0.335845\tvalid_1's multi_error: 0.148914\tvalid_1's multi_logloss: 0.33851\n",
            "[18]\tvalid_0's multi_error: 0.143715\tvalid_0's multi_logloss: 0.330934\tvalid_1's multi_error: 0.144638\tvalid_1's multi_logloss: 0.333818\n",
            "[19]\tvalid_0's multi_error: 0.136249\tvalid_0's multi_logloss: 0.326131\tvalid_1's multi_error: 0.138476\tvalid_1's multi_logloss: 0.329191\n",
            "[20]\tvalid_0's multi_error: 0.130078\tvalid_0's multi_logloss: 0.321689\tvalid_1's multi_error: 0.131837\tvalid_1's multi_logloss: 0.324885\n",
            "[21]\tvalid_0's multi_error: 0.123907\tvalid_0's multi_logloss: 0.317282\tvalid_1's multi_error: 0.125309\tvalid_1's multi_logloss: 0.32059\n",
            "[22]\tvalid_0's multi_error: 0.120062\tvalid_0's multi_logloss: 0.312999\tvalid_1's multi_error: 0.122158\tvalid_1's multi_logloss: 0.316477\n",
            "[23]\tvalid_0's multi_error: 0.115692\tvalid_0's multi_logloss: 0.308621\tvalid_1's multi_error: 0.118163\tvalid_1's multi_logloss: 0.312238\n",
            "[24]\tvalid_0's multi_error: 0.112278\tvalid_0's multi_logloss: 0.305372\tvalid_1's multi_error: 0.114393\tvalid_1's multi_logloss: 0.309196\n",
            "[25]\tvalid_0's multi_error: 0.109727\tvalid_0's multi_logloss: 0.302176\tvalid_1's multi_error: 0.111664\tvalid_1's multi_logloss: 0.306225\n",
            "[26]\tvalid_0's multi_error: 0.106764\tvalid_0's multi_logloss: 0.298987\tvalid_1's multi_error: 0.108879\tvalid_1's multi_logloss: 0.303174\n",
            "[27]\tvalid_0's multi_error: 0.103631\tvalid_0's multi_logloss: 0.294638\tvalid_1's multi_error: 0.105194\tvalid_1's multi_logloss: 0.298893\n",
            "[28]\tvalid_0's multi_error: 0.10108\tvalid_0's multi_logloss: 0.291506\tvalid_1's multi_error: 0.103196\tvalid_1's multi_logloss: 0.295876\n",
            "[29]\tvalid_0's multi_error: 0.0993923\tvalid_0's multi_logloss: 0.288391\tvalid_1's multi_error: 0.101367\tvalid_1's multi_logloss: 0.292886\n",
            "[30]\tvalid_0's multi_error: 0.0983982\tvalid_0's multi_logloss: 0.285768\tvalid_1's multi_error: 0.100186\tvalid_1's multi_logloss: 0.290421\n",
            "[31]\tvalid_0's multi_error: 0.0965788\tvalid_0's multi_logloss: 0.282239\tvalid_1's multi_error: 0.0980756\tvalid_1's multi_logloss: 0.286952\n",
            "[32]\tvalid_0's multi_error: 0.0952658\tvalid_0's multi_logloss: 0.278837\tvalid_1's multi_error: 0.096275\tvalid_1's multi_logloss: 0.283678\n",
            "[33]\tvalid_0's multi_error: 0.093859\tvalid_0's multi_logloss: 0.275932\tvalid_1's multi_error: 0.0949527\tvalid_1's multi_logloss: 0.28089\n",
            "[34]\tvalid_0's multi_error: 0.0921334\tvalid_0's multi_logloss: 0.273128\tvalid_1's multi_error: 0.0935742\tvalid_1's multi_logloss: 0.278245\n",
            "[35]\tvalid_0's multi_error: 0.0902577\tvalid_0's multi_logloss: 0.269984\tvalid_1's multi_error: 0.091661\tvalid_1's multi_logloss: 0.275196\n",
            "[36]\tvalid_0's multi_error: 0.0891323\tvalid_0's multi_logloss: 0.267095\tvalid_1's multi_error: 0.0900855\tvalid_1's multi_logloss: 0.272402\n",
            "[37]\tvalid_0's multi_error: 0.0878568\tvalid_0's multi_logloss: 0.26444\tvalid_1's multi_error: 0.089129\tvalid_1's multi_logloss: 0.269856\n",
            "[38]\tvalid_0's multi_error: 0.0872379\tvalid_0's multi_logloss: 0.262499\tvalid_1's multi_error: 0.0884537\tvalid_1's multi_logloss: 0.268064\n",
            "[39]\tvalid_0's multi_error: 0.0866189\tvalid_0's multi_logloss: 0.260362\tvalid_1's multi_error: 0.0878067\tvalid_1's multi_logloss: 0.266044\n",
            "[40]\tvalid_0's multi_error: 0.0860187\tvalid_0's multi_logloss: 0.257907\tvalid_1's multi_error: 0.087047\tvalid_1's multi_logloss: 0.263698\n",
            "[41]\tvalid_0's multi_error: 0.0853059\tvalid_0's multi_logloss: 0.255898\tvalid_1's multi_error: 0.0867094\tvalid_1's multi_logloss: 0.26177\n",
            "[42]\tvalid_0's multi_error: 0.0846307\tvalid_0's multi_logloss: 0.253568\tvalid_1's multi_error: 0.0856966\tvalid_1's multi_logloss: 0.259546\n",
            "[43]\tvalid_0's multi_error: 0.0837491\tvalid_0's multi_logloss: 0.251379\tvalid_1's multi_error: 0.0850777\tvalid_1's multi_logloss: 0.257474\n",
            "[44]\tvalid_0's multi_error: 0.0831676\tvalid_0's multi_logloss: 0.249242\tvalid_1's multi_error: 0.0841211\tvalid_1's multi_logloss: 0.255504\n",
            "[45]\tvalid_0's multi_error: 0.0825299\tvalid_0's multi_logloss: 0.247186\tvalid_1's multi_error: 0.0832489\tvalid_1's multi_logloss: 0.253527\n",
            "[46]\tvalid_0's multi_error: 0.0823236\tvalid_0's multi_logloss: 0.245453\tvalid_1's multi_error: 0.0827707\tvalid_1's multi_logloss: 0.251875\n",
            "[47]\tvalid_0's multi_error: 0.0818922\tvalid_0's multi_logloss: 0.244072\tvalid_1's multi_error: 0.0825737\tvalid_1's multi_logloss: 0.250617\n",
            "[48]\tvalid_0's multi_error: 0.0816483\tvalid_0's multi_logloss: 0.242628\tvalid_1's multi_error: 0.0823486\tvalid_1's multi_logloss: 0.249293\n",
            "[49]\tvalid_0's multi_error: 0.0811232\tvalid_0's multi_logloss: 0.241037\tvalid_1's multi_error: 0.0818422\tvalid_1's multi_logloss: 0.247805\n",
            "[50]\tvalid_0's multi_error: 0.0807668\tvalid_0's multi_logloss: 0.239371\tvalid_1's multi_error: 0.0815609\tvalid_1's multi_logloss: 0.246237\n",
            "[51]\tvalid_0's multi_error: 0.0807105\tvalid_0's multi_logloss: 0.238211\tvalid_1's multi_error: 0.0812795\tvalid_1's multi_logloss: 0.245205\n",
            "[52]\tvalid_0's multi_error: 0.080129\tvalid_0's multi_logloss: 0.236615\tvalid_1's multi_error: 0.0809419\tvalid_1's multi_logloss: 0.24368\n",
            "[53]\tvalid_0's multi_error: 0.0796039\tvalid_0's multi_logloss: 0.234993\tvalid_1's multi_error: 0.0805199\tvalid_1's multi_logloss: 0.242173\n",
            "[54]\tvalid_0's multi_error: 0.0791537\tvalid_0's multi_logloss: 0.233522\tvalid_1's multi_error: 0.080126\tvalid_1's multi_logloss: 0.240838\n",
            "[55]\tvalid_0's multi_error: 0.0788536\tvalid_0's multi_logloss: 0.232237\tvalid_1's multi_error: 0.0800416\tvalid_1's multi_logloss: 0.239665\n",
            "[56]\tvalid_0's multi_error: 0.0782909\tvalid_0's multi_logloss: 0.230809\tvalid_1's multi_error: 0.0796478\tvalid_1's multi_logloss: 0.238348\n",
            "[57]\tvalid_0's multi_error: 0.0777657\tvalid_0's multi_logloss: 0.229224\tvalid_1's multi_error: 0.0790569\tvalid_1's multi_logloss: 0.236845\n",
            "[58]\tvalid_0's multi_error: 0.0774281\tvalid_0's multi_logloss: 0.227963\tvalid_1's multi_error: 0.0786912\tvalid_1's multi_logloss: 0.235657\n",
            "[59]\tvalid_0's multi_error: 0.0770154\tvalid_0's multi_logloss: 0.226301\tvalid_1's multi_error: 0.0782411\tvalid_1's multi_logloss: 0.234102\n",
            "[60]\tvalid_0's multi_error: 0.0768091\tvalid_0's multi_logloss: 0.225211\tvalid_1's multi_error: 0.078016\tvalid_1's multi_logloss: 0.233114\n",
            "[61]\tvalid_0's multi_error: 0.0766966\tvalid_0's multi_logloss: 0.224061\tvalid_1's multi_error: 0.0777628\tvalid_1's multi_logloss: 0.23207\n",
            "[62]\tvalid_0's multi_error: 0.0761901\tvalid_0's multi_logloss: 0.222497\tvalid_1's multi_error: 0.0772845\tvalid_1's multi_logloss: 0.230619\n",
            "[63]\tvalid_0's multi_error: 0.0761151\tvalid_0's multi_logloss: 0.221678\tvalid_1's multi_error: 0.077172\tvalid_1's multi_logloss: 0.229924\n",
            "[64]\tvalid_0's multi_error: 0.0758337\tvalid_0's multi_logloss: 0.220741\tvalid_1's multi_error: 0.076975\tvalid_1's multi_logloss: 0.229051\n",
            "[65]\tvalid_0's multi_error: 0.0754586\tvalid_0's multi_logloss: 0.219378\tvalid_1's multi_error: 0.0763561\tvalid_1's multi_logloss: 0.227786\n",
            "[66]\tvalid_0's multi_error: 0.075196\tvalid_0's multi_logloss: 0.21804\tvalid_1's multi_error: 0.0760747\tvalid_1's multi_logloss: 0.226556\n",
            "[67]\tvalid_0's multi_error: 0.0748959\tvalid_0's multi_logloss: 0.217064\tvalid_1's multi_error: 0.0759622\tvalid_1's multi_logloss: 0.225673\n",
            "[68]\tvalid_0's multi_error: 0.074577\tvalid_0's multi_logloss: 0.215736\tvalid_1's multi_error: 0.0760185\tvalid_1's multi_logloss: 0.224428\n",
            "[69]\tvalid_0's multi_error: 0.0739205\tvalid_0's multi_logloss: 0.214514\tvalid_1's multi_error: 0.0756527\tvalid_1's multi_logloss: 0.223323\n",
            "[70]\tvalid_0's multi_error: 0.0737142\tvalid_0's multi_logloss: 0.213698\tvalid_1's multi_error: 0.0754558\tvalid_1's multi_logloss: 0.22262\n",
            "[71]\tvalid_0's multi_error: 0.0734516\tvalid_0's multi_logloss: 0.212872\tvalid_1's multi_error: 0.0752588\tvalid_1's multi_logloss: 0.221906\n",
            "[72]\tvalid_0's multi_error: 0.0731703\tvalid_0's multi_logloss: 0.212065\tvalid_1's multi_error: 0.0749775\tvalid_1's multi_logloss: 0.221163\n",
            "[73]\tvalid_0's multi_error: 0.0729452\tvalid_0's multi_logloss: 0.211196\tvalid_1's multi_error: 0.074668\tvalid_1's multi_logloss: 0.220374\n",
            "[74]\tvalid_0's multi_error: 0.0726451\tvalid_0's multi_logloss: 0.210145\tvalid_1's multi_error: 0.0741897\tvalid_1's multi_logloss: 0.219404\n",
            "[75]\tvalid_0's multi_error: 0.0722137\tvalid_0's multi_logloss: 0.209209\tvalid_1's multi_error: 0.0737396\tvalid_1's multi_logloss: 0.218548\n",
            "[76]\tvalid_0's multi_error: 0.0721011\tvalid_0's multi_logloss: 0.208374\tvalid_1's multi_error: 0.0736552\tvalid_1's multi_logloss: 0.217813\n",
            "[77]\tvalid_0's multi_error: 0.0719136\tvalid_0's multi_logloss: 0.207746\tvalid_1's multi_error: 0.0734864\tvalid_1's multi_logloss: 0.2173\n",
            "[78]\tvalid_0's multi_error: 0.0716885\tvalid_0's multi_logloss: 0.207039\tvalid_1's multi_error: 0.073402\tvalid_1's multi_logloss: 0.21669\n",
            "[79]\tvalid_0's multi_error: 0.0714071\tvalid_0's multi_logloss: 0.206297\tvalid_1's multi_error: 0.07298\tvalid_1's multi_logloss: 0.21607\n",
            "[80]\tvalid_0's multi_error: 0.0713134\tvalid_0's multi_logloss: 0.205607\tvalid_1's multi_error: 0.0730362\tvalid_1's multi_logloss: 0.215462\n",
            "[81]\tvalid_0's multi_error: 0.0710695\tvalid_0's multi_logloss: 0.204933\tvalid_1's multi_error: 0.0729518\tvalid_1's multi_logloss: 0.214879\n",
            "[82]\tvalid_0's multi_error: 0.0707694\tvalid_0's multi_logloss: 0.204022\tvalid_1's multi_error: 0.0726142\tvalid_1's multi_logloss: 0.214061\n",
            "[83]\tvalid_0's multi_error: 0.070263\tvalid_0's multi_logloss: 0.203263\tvalid_1's multi_error: 0.0721922\tvalid_1's multi_logloss: 0.213406\n",
            "[84]\tvalid_0's multi_error: 0.0700191\tvalid_0's multi_logloss: 0.202605\tvalid_1's multi_error: 0.0720234\tvalid_1's multi_logloss: 0.212857\n",
            "[85]\tvalid_0's multi_error: 0.0700004\tvalid_0's multi_logloss: 0.202065\tvalid_1's multi_error: 0.0719953\tvalid_1's multi_logloss: 0.212424\n",
            "[86]\tvalid_0's multi_error: 0.0697565\tvalid_0's multi_logloss: 0.201351\tvalid_1's multi_error: 0.0720797\tvalid_1's multi_logloss: 0.21179\n",
            "[87]\tvalid_0's multi_error: 0.069644\tvalid_0's multi_logloss: 0.200703\tvalid_1's multi_error: 0.0717139\tvalid_1's multi_logloss: 0.211225\n",
            "[88]\tvalid_0's multi_error: 0.0695502\tvalid_0's multi_logloss: 0.200143\tvalid_1's multi_error: 0.0717139\tvalid_1's multi_logloss: 0.210772\n",
            "[89]\tvalid_0's multi_error: 0.0691376\tvalid_0's multi_logloss: 0.199341\tvalid_1's multi_error: 0.0713201\tvalid_1's multi_logloss: 0.210036\n",
            "[90]\tvalid_0's multi_error: 0.0689312\tvalid_0's multi_logloss: 0.198825\tvalid_1's multi_error: 0.0713482\tvalid_1's multi_logloss: 0.209615\n",
            "[91]\tvalid_0's multi_error: 0.0687624\tvalid_0's multi_logloss: 0.198227\tvalid_1's multi_error: 0.0710668\tvalid_1's multi_logloss: 0.209077\n",
            "[92]\tvalid_0's multi_error: 0.0682372\tvalid_0's multi_logloss: 0.197458\tvalid_1's multi_error: 0.0708136\tvalid_1's multi_logloss: 0.208408\n",
            "[93]\tvalid_0's multi_error: 0.0680684\tvalid_0's multi_logloss: 0.196751\tvalid_1's multi_error: 0.0708136\tvalid_1's multi_logloss: 0.207793\n",
            "[94]\tvalid_0's multi_error: 0.0678246\tvalid_0's multi_logloss: 0.196197\tvalid_1's multi_error: 0.0706167\tvalid_1's multi_logloss: 0.20733\n",
            "[95]\tvalid_0's multi_error: 0.067712\tvalid_0's multi_logloss: 0.195724\tvalid_1's multi_error: 0.0704198\tvalid_1's multi_logloss: 0.206981\n",
            "[96]\tvalid_0's multi_error: 0.0672994\tvalid_0's multi_logloss: 0.194887\tvalid_1's multi_error: 0.0701384\tvalid_1's multi_logloss: 0.206228\n",
            "[97]\tvalid_0's multi_error: 0.0672431\tvalid_0's multi_logloss: 0.194422\tvalid_1's multi_error: 0.0700259\tvalid_1's multi_logloss: 0.205832\n",
            "[98]\tvalid_0's multi_error: 0.0666242\tvalid_0's multi_logloss: 0.193517\tvalid_1's multi_error: 0.0698008\tvalid_1's multi_logloss: 0.205033\n",
            "[99]\tvalid_0's multi_error: 0.0663616\tvalid_0's multi_logloss: 0.192813\tvalid_1's multi_error: 0.0696883\tvalid_1's multi_logloss: 0.204403\n",
            "[100]\tvalid_0's multi_error: 0.0662115\tvalid_0's multi_logloss: 0.192211\tvalid_1's multi_error: 0.0696039\tvalid_1's multi_logloss: 0.203908\n",
            "[101]\tvalid_0's multi_error: 0.0662115\tvalid_0's multi_logloss: 0.191697\tvalid_1's multi_error: 0.0692944\tvalid_1's multi_logloss: 0.203483\n",
            "[102]\tvalid_0's multi_error: 0.066099\tvalid_0's multi_logloss: 0.191197\tvalid_1's multi_error: 0.0691537\tvalid_1's multi_logloss: 0.203085\n",
            "[103]\tvalid_0's multi_error: 0.066099\tvalid_0's multi_logloss: 0.1907\tvalid_1's multi_error: 0.0690131\tvalid_1's multi_logloss: 0.202701\n",
            "[104]\tvalid_0's multi_error: 0.0659114\tvalid_0's multi_logloss: 0.18997\tvalid_1's multi_error: 0.0688442\tvalid_1's multi_logloss: 0.202066\n",
            "[105]\tvalid_0's multi_error: 0.0658364\tvalid_0's multi_logloss: 0.189581\tvalid_1's multi_error: 0.0689005\tvalid_1's multi_logloss: 0.20176\n",
            "[106]\tvalid_0's multi_error: 0.0655175\tvalid_0's multi_logloss: 0.189077\tvalid_1's multi_error: 0.0686754\tvalid_1's multi_logloss: 0.201366\n",
            "[107]\tvalid_0's multi_error: 0.0651799\tvalid_0's multi_logloss: 0.188459\tvalid_1's multi_error: 0.0684785\tvalid_1's multi_logloss: 0.20086\n",
            "[108]\tvalid_0's multi_error: 0.0649173\tvalid_0's multi_logloss: 0.187804\tvalid_1's multi_error: 0.0680846\tvalid_1's multi_logloss: 0.200288\n",
            "[109]\tvalid_0's multi_error: 0.0648423\tvalid_0's multi_logloss: 0.187332\tvalid_1's multi_error: 0.0681128\tvalid_1's multi_logloss: 0.199922\n",
            "[110]\tvalid_0's multi_error: 0.064786\tvalid_0's multi_logloss: 0.186823\tvalid_1's multi_error: 0.0681409\tvalid_1's multi_logloss: 0.199527\n",
            "[111]\tvalid_0's multi_error: 0.0645984\tvalid_0's multi_logloss: 0.186283\tvalid_1's multi_error: 0.0678596\tvalid_1's multi_logloss: 0.199058\n",
            "[112]\tvalid_0's multi_error: 0.0644671\tvalid_0's multi_logloss: 0.185879\tvalid_1's multi_error: 0.0678314\tvalid_1's multi_logloss: 0.198748\n",
            "[113]\tvalid_0's multi_error: 0.0644671\tvalid_0's multi_logloss: 0.185562\tvalid_1's multi_error: 0.0677752\tvalid_1's multi_logloss: 0.198562\n",
            "[114]\tvalid_0's multi_error: 0.0643733\tvalid_0's multi_logloss: 0.184823\tvalid_1's multi_error: 0.0677752\tvalid_1's multi_logloss: 0.197914\n",
            "[115]\tvalid_0's multi_error: 0.0640732\tvalid_0's multi_logloss: 0.184133\tvalid_1's multi_error: 0.0675501\tvalid_1's multi_logloss: 0.197304\n",
            "[116]\tvalid_0's multi_error: 0.0639419\tvalid_0's multi_logloss: 0.18366\tvalid_1's multi_error: 0.0674375\tvalid_1's multi_logloss: 0.196949\n",
            "[117]\tvalid_0's multi_error: 0.0636606\tvalid_0's multi_logloss: 0.182946\tvalid_1's multi_error: 0.0671843\tvalid_1's multi_logloss: 0.1963\n",
            "[118]\tvalid_0's multi_error: 0.0632667\tvalid_0's multi_logloss: 0.182261\tvalid_1's multi_error: 0.0668186\tvalid_1's multi_logloss: 0.195716\n",
            "[119]\tvalid_0's multi_error: 0.0631166\tvalid_0's multi_logloss: 0.181874\tvalid_1's multi_error: 0.0668186\tvalid_1's multi_logloss: 0.19542\n",
            "[120]\tvalid_0's multi_error: 0.0629478\tvalid_0's multi_logloss: 0.18129\tvalid_1's multi_error: 0.0664247\tvalid_1's multi_logloss: 0.194903\n",
            "[121]\tvalid_0's multi_error: 0.062854\tvalid_0's multi_logloss: 0.180795\tvalid_1's multi_error: 0.0664528\tvalid_1's multi_logloss: 0.194497\n",
            "[122]\tvalid_0's multi_error: 0.062629\tvalid_0's multi_logloss: 0.180304\tvalid_1's multi_error: 0.0661715\tvalid_1's multi_logloss: 0.194125\n",
            "[123]\tvalid_0's multi_error: 0.0625539\tvalid_0's multi_logloss: 0.179969\tvalid_1's multi_error: 0.066059\tvalid_1's multi_logloss: 0.19391\n",
            "[124]\tvalid_0's multi_error: 0.0624039\tvalid_0's multi_logloss: 0.179575\tvalid_1's multi_error: 0.0659464\tvalid_1's multi_logloss: 0.193616\n",
            "[125]\tvalid_0's multi_error: 0.0622163\tvalid_0's multi_logloss: 0.17916\tvalid_1's multi_error: 0.0659183\tvalid_1's multi_logloss: 0.193303\n",
            "[126]\tvalid_0's multi_error: 0.0620475\tvalid_0's multi_logloss: 0.178657\tvalid_1's multi_error: 0.0658902\tvalid_1's multi_logloss: 0.192914\n",
            "[127]\tvalid_0's multi_error: 0.0618599\tvalid_0's multi_logloss: 0.178101\tvalid_1's multi_error: 0.0656088\tvalid_1's multi_logloss: 0.19246\n",
            "[128]\tvalid_0's multi_error: 0.0615786\tvalid_0's multi_logloss: 0.177525\tvalid_1's multi_error: 0.06544\tvalid_1's multi_logloss: 0.191963\n",
            "[129]\tvalid_0's multi_error: 0.0611284\tvalid_0's multi_logloss: 0.176959\tvalid_1's multi_error: 0.0652712\tvalid_1's multi_logloss: 0.191487\n",
            "[130]\tvalid_0's multi_error: 0.0609596\tvalid_0's multi_logloss: 0.17668\tvalid_1's multi_error: 0.0650743\tvalid_1's multi_logloss: 0.191304\n",
            "[131]\tvalid_0's multi_error: 0.0608095\tvalid_0's multi_logloss: 0.176203\tvalid_1's multi_error: 0.0649055\tvalid_1's multi_logloss: 0.190968\n",
            "[132]\tvalid_0's multi_error: 0.0606782\tvalid_0's multi_logloss: 0.175751\tvalid_1's multi_error: 0.065018\tvalid_1's multi_logloss: 0.190607\n",
            "[133]\tvalid_0's multi_error: 0.0605657\tvalid_0's multi_logloss: 0.175293\tvalid_1's multi_error: 0.0649617\tvalid_1's multi_logloss: 0.190221\n",
            "[134]\tvalid_0's multi_error: 0.0605094\tvalid_0's multi_logloss: 0.174976\tvalid_1's multi_error: 0.0649336\tvalid_1's multi_logloss: 0.190002\n",
            "[135]\tvalid_0's multi_error: 0.0602656\tvalid_0's multi_logloss: 0.17437\tvalid_1's multi_error: 0.0647648\tvalid_1's multi_logloss: 0.189464\n",
            "[136]\tvalid_0's multi_error: 0.0602093\tvalid_0's multi_logloss: 0.17399\tvalid_1's multi_error: 0.0646241\tvalid_1's multi_logloss: 0.189185\n",
            "[137]\tvalid_0's multi_error: 0.0600593\tvalid_0's multi_logloss: 0.173565\tvalid_1's multi_error: 0.0643991\tvalid_1's multi_logloss: 0.188862\n",
            "[138]\tvalid_0's multi_error: 0.0600405\tvalid_0's multi_logloss: 0.173305\tvalid_1's multi_error: 0.0643991\tvalid_1's multi_logloss: 0.188693\n",
            "[139]\tvalid_0's multi_error: 0.0599842\tvalid_0's multi_logloss: 0.172951\tvalid_1's multi_error: 0.0643147\tvalid_1's multi_logloss: 0.188436\n",
            "[140]\tvalid_0's multi_error: 0.0598717\tvalid_0's multi_logloss: 0.172532\tvalid_1's multi_error: 0.0643428\tvalid_1's multi_logloss: 0.188097\n",
            "[141]\tvalid_0's multi_error: 0.0596654\tvalid_0's multi_logloss: 0.171946\tvalid_1's multi_error: 0.064174\tvalid_1's multi_logloss: 0.187576\n",
            "[142]\tvalid_0's multi_error: 0.0594215\tvalid_0's multi_logloss: 0.17151\tvalid_1's multi_error: 0.0640614\tvalid_1's multi_logloss: 0.187262\n",
            "[143]\tvalid_0's multi_error: 0.0593465\tvalid_0's multi_logloss: 0.17112\tvalid_1's multi_error: 0.0640052\tvalid_1's multi_logloss: 0.18696\n",
            "[144]\tvalid_0's multi_error: 0.0591965\tvalid_0's multi_logloss: 0.17068\tvalid_1's multi_error: 0.0639489\tvalid_1's multi_logloss: 0.186565\n",
            "[145]\tvalid_0's multi_error: 0.0590839\tvalid_0's multi_logloss: 0.17028\tvalid_1's multi_error: 0.0638645\tvalid_1's multi_logloss: 0.186273\n",
            "[146]\tvalid_0's multi_error: 0.0589714\tvalid_0's multi_logloss: 0.169925\tvalid_1's multi_error: 0.063752\tvalid_1's multi_logloss: 0.186014\n",
            "[147]\tvalid_0's multi_error: 0.0588026\tvalid_0's multi_logloss: 0.169645\tvalid_1's multi_error: 0.0637801\tvalid_1's multi_logloss: 0.185829\n",
            "[148]\tvalid_0's multi_error: 0.0588588\tvalid_0's multi_logloss: 0.16939\tvalid_1's multi_error: 0.0636676\tvalid_1's multi_logloss: 0.185655\n",
            "[149]\tvalid_0's multi_error: 0.058615\tvalid_0's multi_logloss: 0.169018\tvalid_1's multi_error: 0.0636113\tvalid_1's multi_logloss: 0.185373\n",
            "[150]\tvalid_0's multi_error: 0.0584462\tvalid_0's multi_logloss: 0.168634\tvalid_1's multi_error: 0.0633581\tvalid_1's multi_logloss: 0.185062\n",
            "[151]\tvalid_0's multi_error: 0.0583899\tvalid_0's multi_logloss: 0.168031\tvalid_1's multi_error: 0.0628235\tvalid_1's multi_logloss: 0.184532\n",
            "[152]\tvalid_0's multi_error: 0.0581273\tvalid_0's multi_logloss: 0.167737\tvalid_1's multi_error: 0.0629923\tvalid_1's multi_logloss: 0.184311\n",
            "[153]\tvalid_0's multi_error: 0.0578272\tvalid_0's multi_logloss: 0.167228\tvalid_1's multi_error: 0.0627954\tvalid_1's multi_logloss: 0.183895\n",
            "[154]\tvalid_0's multi_error: 0.0577522\tvalid_0's multi_logloss: 0.167008\tvalid_1's multi_error: 0.0628798\tvalid_1's multi_logloss: 0.183778\n",
            "[155]\tvalid_0's multi_error: 0.0576021\tvalid_0's multi_logloss: 0.166561\tvalid_1's multi_error: 0.0627673\tvalid_1's multi_logloss: 0.183421\n",
            "[156]\tvalid_0's multi_error: 0.057227\tvalid_0's multi_logloss: 0.166018\tvalid_1's multi_error: 0.0624578\tvalid_1's multi_logloss: 0.182978\n",
            "[157]\tvalid_0's multi_error: 0.057152\tvalid_0's multi_logloss: 0.165753\tvalid_1's multi_error: 0.0624297\tvalid_1's multi_logloss: 0.18282\n",
            "[158]\tvalid_0's multi_error: 0.0571145\tvalid_0's multi_logloss: 0.165437\tvalid_1's multi_error: 0.0622046\tvalid_1's multi_logloss: 0.182577\n",
            "[159]\tvalid_0's multi_error: 0.0569644\tvalid_0's multi_logloss: 0.165135\tvalid_1's multi_error: 0.0621202\tvalid_1's multi_logloss: 0.182343\n",
            "[160]\tvalid_0's multi_error: 0.0568894\tvalid_0's multi_logloss: 0.164847\tvalid_1's multi_error: 0.0621202\tvalid_1's multi_logloss: 0.182147\n",
            "[161]\tvalid_0's multi_error: 0.0568331\tvalid_0's multi_logloss: 0.164583\tvalid_1's multi_error: 0.0621483\tvalid_1's multi_logloss: 0.181983\n",
            "[162]\tvalid_0's multi_error: 0.0567581\tvalid_0's multi_logloss: 0.164285\tvalid_1's multi_error: 0.0621483\tvalid_1's multi_logloss: 0.181768\n",
            "[163]\tvalid_0's multi_error: 0.056683\tvalid_0's multi_logloss: 0.163954\tvalid_1's multi_error: 0.0619233\tvalid_1's multi_logloss: 0.181529\n",
            "[164]\tvalid_0's multi_error: 0.0565142\tvalid_0's multi_logloss: 0.163662\tvalid_1's multi_error: 0.0618388\tvalid_1's multi_logloss: 0.181332\n",
            "[165]\tvalid_0's multi_error: 0.0564955\tvalid_0's multi_logloss: 0.163351\tvalid_1's multi_error: 0.0617544\tvalid_1's multi_logloss: 0.181119\n",
            "[166]\tvalid_0's multi_error: 0.0564955\tvalid_0's multi_logloss: 0.163042\tvalid_1's multi_error: 0.0618951\tvalid_1's multi_logloss: 0.180884\n",
            "[167]\tvalid_0's multi_error: 0.0562516\tvalid_0's multi_logloss: 0.162701\tvalid_1's multi_error: 0.0617826\tvalid_1's multi_logloss: 0.180626\n",
            "[168]\tvalid_0's multi_error: 0.0561766\tvalid_0's multi_logloss: 0.162493\tvalid_1's multi_error: 0.0617826\tvalid_1's multi_logloss: 0.180505\n",
            "[169]\tvalid_0's multi_error: 0.0560828\tvalid_0's multi_logloss: 0.1623\tvalid_1's multi_error: 0.0617826\tvalid_1's multi_logloss: 0.1804\n",
            "[170]\tvalid_0's multi_error: 0.0561203\tvalid_0's multi_logloss: 0.162041\tvalid_1's multi_error: 0.06167\tvalid_1's multi_logloss: 0.18021\n",
            "[171]\tvalid_0's multi_error: 0.0560453\tvalid_0's multi_logloss: 0.161755\tvalid_1's multi_error: 0.0616982\tvalid_1's multi_logloss: 0.180016\n",
            "[172]\tvalid_0's multi_error: 0.0559703\tvalid_0's multi_logloss: 0.161517\tvalid_1's multi_error: 0.0617544\tvalid_1's multi_logloss: 0.179856\n",
            "[173]\tvalid_0's multi_error: 0.0559703\tvalid_0's multi_logloss: 0.161248\tvalid_1's multi_error: 0.0617826\tvalid_1's multi_logloss: 0.179688\n",
            "[174]\tvalid_0's multi_error: 0.0559328\tvalid_0's multi_logloss: 0.161022\tvalid_1's multi_error: 0.0616982\tvalid_1's multi_logloss: 0.179565\n",
            "[175]\tvalid_0's multi_error: 0.0558577\tvalid_0's multi_logloss: 0.160752\tvalid_1's multi_error: 0.0615575\tvalid_1's multi_logloss: 0.179393\n",
            "[176]\tvalid_0's multi_error: 0.055764\tvalid_0's multi_logloss: 0.160484\tvalid_1's multi_error: 0.0615294\tvalid_1's multi_logloss: 0.179223\n",
            "[177]\tvalid_0's multi_error: 0.0556327\tvalid_0's multi_logloss: 0.160204\tvalid_1's multi_error: 0.0614168\tvalid_1's multi_logloss: 0.179015\n",
            "[178]\tvalid_0's multi_error: 0.0555014\tvalid_0's multi_logloss: 0.159899\tvalid_1's multi_error: 0.0613324\tvalid_1's multi_logloss: 0.1788\n",
            "[179]\tvalid_0's multi_error: 0.0554076\tvalid_0's multi_logloss: 0.159616\tvalid_1's multi_error: 0.0611355\tvalid_1's multi_logloss: 0.178587\n",
            "[180]\tvalid_0's multi_error: 0.0554263\tvalid_0's multi_logloss: 0.159409\tvalid_1's multi_error: 0.0611636\tvalid_1's multi_logloss: 0.178469\n",
            "[181]\tvalid_0's multi_error: 0.0553138\tvalid_0's multi_logloss: 0.159235\tvalid_1's multi_error: 0.0611355\tvalid_1's multi_logloss: 0.178384\n",
            "[182]\tvalid_0's multi_error: 0.05522\tvalid_0's multi_logloss: 0.158981\tvalid_1's multi_error: 0.0609948\tvalid_1's multi_logloss: 0.1782\n",
            "[183]\tvalid_0's multi_error: 0.0551825\tvalid_0's multi_logloss: 0.158737\tvalid_1's multi_error: 0.0608542\tvalid_1's multi_logloss: 0.178021\n",
            "[184]\tvalid_0's multi_error: 0.0551637\tvalid_0's multi_logloss: 0.158545\tvalid_1's multi_error: 0.0608542\tvalid_1's multi_logloss: 0.17794\n",
            "[185]\tvalid_0's multi_error: 0.0550512\tvalid_0's multi_logloss: 0.15839\tvalid_1's multi_error: 0.0609667\tvalid_1's multi_logloss: 0.177891\n",
            "[186]\tvalid_0's multi_error: 0.0551075\tvalid_0's multi_logloss: 0.158213\tvalid_1's multi_error: 0.0609948\tvalid_1's multi_logloss: 0.177806\n",
            "[187]\tvalid_0's multi_error: 0.0550512\tvalid_0's multi_logloss: 0.157975\tvalid_1's multi_error: 0.0609667\tvalid_1's multi_logloss: 0.177666\n",
            "[188]\tvalid_0's multi_error: 0.0549199\tvalid_0's multi_logloss: 0.157716\tvalid_1's multi_error: 0.0609104\tvalid_1's multi_logloss: 0.177473\n",
            "[189]\tvalid_0's multi_error: 0.0547699\tvalid_0's multi_logloss: 0.157409\tvalid_1's multi_error: 0.060826\tvalid_1's multi_logloss: 0.177231\n",
            "[190]\tvalid_0's multi_error: 0.0547136\tvalid_0's multi_logloss: 0.157171\tvalid_1's multi_error: 0.0607416\tvalid_1's multi_logloss: 0.177086\n",
            "[191]\tvalid_0's multi_error: 0.054601\tvalid_0's multi_logloss: 0.157019\tvalid_1's multi_error: 0.0607416\tvalid_1's multi_logloss: 0.177033\n",
            "[192]\tvalid_0's multi_error: 0.0545073\tvalid_0's multi_logloss: 0.156705\tvalid_1's multi_error: 0.0606291\tvalid_1's multi_logloss: 0.176791\n",
            "[193]\tvalid_0's multi_error: 0.0544322\tvalid_0's multi_logloss: 0.156517\tvalid_1's multi_error: 0.0607416\tvalid_1's multi_logloss: 0.176704\n",
            "[194]\tvalid_0's multi_error: 0.054376\tvalid_0's multi_logloss: 0.156231\tvalid_1's multi_error: 0.0607416\tvalid_1's multi_logloss: 0.17651\n",
            "[195]\tvalid_0's multi_error: 0.0543009\tvalid_0's multi_logloss: 0.155984\tvalid_1's multi_error: 0.0606291\tvalid_1's multi_logloss: 0.176319\n",
            "[196]\tvalid_0's multi_error: 0.0542822\tvalid_0's multi_logloss: 0.155786\tvalid_1's multi_error: 0.0606291\tvalid_1's multi_logloss: 0.176198\n",
            "[197]\tvalid_0's multi_error: 0.0542634\tvalid_0's multi_logloss: 0.155591\tvalid_1's multi_error: 0.0606291\tvalid_1's multi_logloss: 0.176097\n",
            "[198]\tvalid_0's multi_error: 0.0542259\tvalid_0's multi_logloss: 0.15533\tvalid_1's multi_error: 0.0605728\tvalid_1's multi_logloss: 0.175936\n",
            "[199]\tvalid_0's multi_error: 0.0540946\tvalid_0's multi_logloss: 0.155152\tvalid_1's multi_error: 0.0604603\tvalid_1's multi_logloss: 0.175847\n",
            "[200]\tvalid_0's multi_error: 0.0538883\tvalid_0's multi_logloss: 0.154814\tvalid_1's multi_error: 0.0604321\tvalid_1's multi_logloss: 0.175577\n",
            "[201]\tvalid_0's multi_error: 0.0537382\tvalid_0's multi_logloss: 0.154497\tvalid_1's multi_error: 0.0602915\tvalid_1's multi_logloss: 0.175356\n",
            "[202]\tvalid_0's multi_error: 0.053757\tvalid_0's multi_logloss: 0.154272\tvalid_1's multi_error: 0.0602071\tvalid_1's multi_logloss: 0.17523\n",
            "[203]\tvalid_0's multi_error: 0.0536069\tvalid_0's multi_logloss: 0.153994\tvalid_1's multi_error: 0.0601508\tvalid_1's multi_logloss: 0.175051\n",
            "[204]\tvalid_0's multi_error: 0.0535694\tvalid_0's multi_logloss: 0.15375\tvalid_1's multi_error: 0.0601508\tvalid_1's multi_logloss: 0.17491\n",
            "[205]\tvalid_0's multi_error: 0.0535319\tvalid_0's multi_logloss: 0.153494\tvalid_1's multi_error: 0.0601789\tvalid_1's multi_logloss: 0.174779\n",
            "[206]\tvalid_0's multi_error: 0.0533819\tvalid_0's multi_logloss: 0.153331\tvalid_1's multi_error: 0.0602352\tvalid_1's multi_logloss: 0.17472\n",
            "[207]\tvalid_0's multi_error: 0.0533256\tvalid_0's multi_logloss: 0.153133\tvalid_1's multi_error: 0.0602633\tvalid_1's multi_logloss: 0.174601\n",
            "[208]\tvalid_0's multi_error: 0.0533068\tvalid_0's multi_logloss: 0.152943\tvalid_1's multi_error: 0.0601789\tvalid_1's multi_logloss: 0.1745\n",
            "[209]\tvalid_0's multi_error: 0.0532318\tvalid_0's multi_logloss: 0.152769\tvalid_1's multi_error: 0.0601508\tvalid_1's multi_logloss: 0.174426\n",
            "[210]\tvalid_0's multi_error: 0.0531568\tvalid_0's multi_logloss: 0.152528\tvalid_1's multi_error: 0.0600945\tvalid_1's multi_logloss: 0.174268\n",
            "[211]\tvalid_0's multi_error: 0.053063\tvalid_0's multi_logloss: 0.152335\tvalid_1's multi_error: 0.0600945\tvalid_1's multi_logloss: 0.174147\n",
            "[212]\tvalid_0's multi_error: 0.0530442\tvalid_0's multi_logloss: 0.152095\tvalid_1's multi_error: 0.0600664\tvalid_1's multi_logloss: 0.173965\n",
            "[213]\tvalid_0's multi_error: 0.0529504\tvalid_0's multi_logloss: 0.151837\tvalid_1's multi_error: 0.0600101\tvalid_1's multi_logloss: 0.173797\n",
            "[214]\tvalid_0's multi_error: 0.0528754\tvalid_0's multi_logloss: 0.151666\tvalid_1's multi_error: 0.0600383\tvalid_1's multi_logloss: 0.173723\n",
            "[215]\tvalid_0's multi_error: 0.0529129\tvalid_0's multi_logloss: 0.151406\tvalid_1's multi_error: 0.0599539\tvalid_1's multi_logloss: 0.173545\n",
            "[216]\tvalid_0's multi_error: 0.0527816\tvalid_0's multi_logloss: 0.15119\tvalid_1's multi_error: 0.0598695\tvalid_1's multi_logloss: 0.173403\n",
            "[217]\tvalid_0's multi_error: 0.0526691\tvalid_0's multi_logloss: 0.150954\tvalid_1's multi_error: 0.0597288\tvalid_1's multi_logloss: 0.173233\n",
            "[218]\tvalid_0's multi_error: 0.0526128\tvalid_0's multi_logloss: 0.150759\tvalid_1's multi_error: 0.0598413\tvalid_1's multi_logloss: 0.173122\n",
            "[219]\tvalid_0's multi_error: 0.052519\tvalid_0's multi_logloss: 0.150592\tvalid_1's multi_error: 0.0598413\tvalid_1's multi_logloss: 0.173053\n",
            "[220]\tvalid_0's multi_error: 0.0523315\tvalid_0's multi_logloss: 0.150397\tvalid_1's multi_error: 0.0597851\tvalid_1's multi_logloss: 0.17295\n",
            "[221]\tvalid_0's multi_error: 0.052294\tvalid_0's multi_logloss: 0.150216\tvalid_1's multi_error: 0.0597569\tvalid_1's multi_logloss: 0.172856\n",
            "[222]\tvalid_0's multi_error: 0.0522377\tvalid_0's multi_logloss: 0.150056\tvalid_1's multi_error: 0.0597288\tvalid_1's multi_logloss: 0.172778\n",
            "[223]\tvalid_0's multi_error: 0.0522189\tvalid_0's multi_logloss: 0.149827\tvalid_1's multi_error: 0.0596444\tvalid_1's multi_logloss: 0.172625\n",
            "[224]\tvalid_0's multi_error: 0.0521814\tvalid_0's multi_logloss: 0.149697\tvalid_1's multi_error: 0.0595318\tvalid_1's multi_logloss: 0.172595\n",
            "[225]\tvalid_0's multi_error: 0.0520876\tvalid_0's multi_logloss: 0.149532\tvalid_1's multi_error: 0.0595037\tvalid_1's multi_logloss: 0.172496\n",
            "[226]\tvalid_0's multi_error: 0.0520314\tvalid_0's multi_logloss: 0.149322\tvalid_1's multi_error: 0.0594193\tvalid_1's multi_logloss: 0.172363\n",
            "[227]\tvalid_0's multi_error: 0.0520501\tvalid_0's multi_logloss: 0.149145\tvalid_1's multi_error: 0.0594474\tvalid_1's multi_logloss: 0.172281\n",
            "[228]\tvalid_0's multi_error: 0.0520314\tvalid_0's multi_logloss: 0.149017\tvalid_1's multi_error: 0.0594474\tvalid_1's multi_logloss: 0.172239\n",
            "[229]\tvalid_0's multi_error: 0.0520126\tvalid_0's multi_logloss: 0.148824\tvalid_1's multi_error: 0.0593912\tvalid_1's multi_logloss: 0.172087\n",
            "[230]\tvalid_0's multi_error: 0.0519188\tvalid_0's multi_logloss: 0.148659\tvalid_1's multi_error: 0.0592786\tvalid_1's multi_logloss: 0.17202\n",
            "[231]\tvalid_0's multi_error: 0.051825\tvalid_0's multi_logloss: 0.14849\tvalid_1's multi_error: 0.0592786\tvalid_1's multi_logloss: 0.171921\n",
            "[232]\tvalid_0's multi_error: 0.0517875\tvalid_0's multi_logloss: 0.14833\tvalid_1's multi_error: 0.0592505\tvalid_1's multi_logloss: 0.171856\n",
            "[233]\tvalid_0's multi_error: 0.0516937\tvalid_0's multi_logloss: 0.148049\tvalid_1's multi_error: 0.0592224\tvalid_1's multi_logloss: 0.171622\n",
            "[234]\tvalid_0's multi_error: 0.0516937\tvalid_0's multi_logloss: 0.147886\tvalid_1's multi_error: 0.0592505\tvalid_1's multi_logloss: 0.171537\n",
            "[235]\tvalid_0's multi_error: 0.0515624\tvalid_0's multi_logloss: 0.147695\tvalid_1's multi_error: 0.0592786\tvalid_1's multi_logloss: 0.171445\n",
            "[236]\tvalid_0's multi_error: 0.0516\tvalid_0's multi_logloss: 0.147566\tvalid_1's multi_error: 0.0592786\tvalid_1's multi_logloss: 0.171419\n",
            "[237]\tvalid_0's multi_error: 0.0515437\tvalid_0's multi_logloss: 0.147442\tvalid_1's multi_error: 0.0591942\tvalid_1's multi_logloss: 0.171383\n",
            "[238]\tvalid_0's multi_error: 0.0514687\tvalid_0's multi_logloss: 0.147311\tvalid_1's multi_error: 0.0592505\tvalid_1's multi_logloss: 0.171346\n",
            "[239]\tvalid_0's multi_error: 0.0514499\tvalid_0's multi_logloss: 0.147138\tvalid_1's multi_error: 0.0592786\tvalid_1's multi_logloss: 0.171257\n",
            "[240]\tvalid_0's multi_error: 0.0514874\tvalid_0's multi_logloss: 0.146999\tvalid_1's multi_error: 0.0592505\tvalid_1's multi_logloss: 0.171198\n",
            "[241]\tvalid_0's multi_error: 0.0513936\tvalid_0's multi_logloss: 0.146855\tvalid_1's multi_error: 0.0592505\tvalid_1's multi_logloss: 0.171113\n",
            "[242]\tvalid_0's multi_error: 0.0513374\tvalid_0's multi_logloss: 0.146689\tvalid_1's multi_error: 0.0591661\tvalid_1's multi_logloss: 0.171036\n",
            "[243]\tvalid_0's multi_error: 0.0512248\tvalid_0's multi_logloss: 0.146541\tvalid_1's multi_error: 0.0590254\tvalid_1's multi_logloss: 0.170977\n",
            "[244]\tvalid_0's multi_error: 0.0512248\tvalid_0's multi_logloss: 0.14642\tvalid_1's multi_error: 0.0589973\tvalid_1's multi_logloss: 0.170931\n",
            "[245]\tvalid_0's multi_error: 0.0511685\tvalid_0's multi_logloss: 0.146235\tvalid_1's multi_error: 0.0591098\tvalid_1's multi_logloss: 0.170849\n",
            "[246]\tvalid_0's multi_error: 0.0512248\tvalid_0's multi_logloss: 0.146084\tvalid_1's multi_error: 0.0590817\tvalid_1's multi_logloss: 0.170802\n",
            "[247]\tvalid_0's multi_error: 0.0512061\tvalid_0's multi_logloss: 0.145925\tvalid_1's multi_error: 0.0590254\tvalid_1's multi_logloss: 0.170694\n",
            "[248]\tvalid_0's multi_error: 0.0511498\tvalid_0's multi_logloss: 0.145808\tvalid_1's multi_error: 0.0589973\tvalid_1's multi_logloss: 0.170675\n",
            "[249]\tvalid_0's multi_error: 0.051131\tvalid_0's multi_logloss: 0.145694\tvalid_1's multi_error: 0.0589973\tvalid_1's multi_logloss: 0.170655\n",
            "[250]\tvalid_0's multi_error: 0.0510748\tvalid_0's multi_logloss: 0.145507\tvalid_1's multi_error: 0.0589692\tvalid_1's multi_logloss: 0.170546\n",
            "[251]\tvalid_0's multi_error: 0.0510935\tvalid_0's multi_logloss: 0.145291\tvalid_1's multi_error: 0.0589129\tvalid_1's multi_logloss: 0.170399\n",
            "[252]\tvalid_0's multi_error: 0.0510373\tvalid_0's multi_logloss: 0.145108\tvalid_1's multi_error: 0.0589129\tvalid_1's multi_logloss: 0.170265\n",
            "[253]\tvalid_0's multi_error: 0.0508122\tvalid_0's multi_logloss: 0.144827\tvalid_1's multi_error: 0.0588566\tvalid_1's multi_logloss: 0.170039\n",
            "[254]\tvalid_0's multi_error: 0.0507559\tvalid_0's multi_logloss: 0.144633\tvalid_1's multi_error: 0.0588566\tvalid_1's multi_logloss: 0.169935\n",
            "[255]\tvalid_0's multi_error: 0.0507184\tvalid_0's multi_logloss: 0.144481\tvalid_1's multi_error: 0.0588004\tvalid_1's multi_logloss: 0.16985\n",
            "[256]\tvalid_0's multi_error: 0.0507371\tvalid_0's multi_logloss: 0.144342\tvalid_1's multi_error: 0.058716\tvalid_1's multi_logloss: 0.169804\n",
            "[257]\tvalid_0's multi_error: 0.0507559\tvalid_0's multi_logloss: 0.144195\tvalid_1's multi_error: 0.0587441\tvalid_1's multi_logloss: 0.169722\n",
            "[258]\tvalid_0's multi_error: 0.0507559\tvalid_0's multi_logloss: 0.144021\tvalid_1's multi_error: 0.0587722\tvalid_1's multi_logloss: 0.169624\n",
            "[259]\tvalid_0's multi_error: 0.0506996\tvalid_0's multi_logloss: 0.143846\tvalid_1's multi_error: 0.0588004\tvalid_1's multi_logloss: 0.169524\n",
            "[260]\tvalid_0's multi_error: 0.0506058\tvalid_0's multi_logloss: 0.143698\tvalid_1's multi_error: 0.0586878\tvalid_1's multi_logloss: 0.169448\n",
            "[261]\tvalid_0's multi_error: 0.0505683\tvalid_0's multi_logloss: 0.143595\tvalid_1's multi_error: 0.0587441\tvalid_1's multi_logloss: 0.169426\n",
            "[262]\tvalid_0's multi_error: 0.0504745\tvalid_0's multi_logloss: 0.143402\tvalid_1's multi_error: 0.0586878\tvalid_1's multi_logloss: 0.169331\n",
            "[263]\tvalid_0's multi_error: 0.0504745\tvalid_0's multi_logloss: 0.143222\tvalid_1's multi_error: 0.0586597\tvalid_1's multi_logloss: 0.169225\n",
            "[264]\tvalid_0's multi_error: 0.0503808\tvalid_0's multi_logloss: 0.143081\tvalid_1's multi_error: 0.0586034\tvalid_1's multi_logloss: 0.169168\n",
            "[265]\tvalid_0's multi_error: 0.0503432\tvalid_0's multi_logloss: 0.142971\tvalid_1's multi_error: 0.0586878\tvalid_1's multi_logloss: 0.169145\n",
            "[266]\tvalid_0's multi_error: 0.050212\tvalid_0's multi_logloss: 0.142819\tvalid_1's multi_error: 0.0586878\tvalid_1's multi_logloss: 0.169058\n",
            "[267]\tvalid_0's multi_error: 0.0502307\tvalid_0's multi_logloss: 0.142653\tvalid_1's multi_error: 0.0586034\tvalid_1's multi_logloss: 0.168964\n",
            "[268]\tvalid_0's multi_error: 0.0502307\tvalid_0's multi_logloss: 0.142513\tvalid_1's multi_error: 0.0586597\tvalid_1's multi_logloss: 0.168912\n",
            "[269]\tvalid_0's multi_error: 0.050212\tvalid_0's multi_logloss: 0.142368\tvalid_1's multi_error: 0.0586597\tvalid_1's multi_logloss: 0.168833\n",
            "[270]\tvalid_0's multi_error: 0.0501182\tvalid_0's multi_logloss: 0.142261\tvalid_1's multi_error: 0.0585472\tvalid_1's multi_logloss: 0.16882\n",
            "[271]\tvalid_0's multi_error: 0.0501182\tvalid_0's multi_logloss: 0.142146\tvalid_1's multi_error: 0.0585472\tvalid_1's multi_logloss: 0.168781\n",
            "[272]\tvalid_0's multi_error: 0.0500994\tvalid_0's multi_logloss: 0.141995\tvalid_1's multi_error: 0.058519\tvalid_1's multi_logloss: 0.168703\n",
            "[273]\tvalid_0's multi_error: 0.0500619\tvalid_0's multi_logloss: 0.141851\tvalid_1's multi_error: 0.058519\tvalid_1's multi_logloss: 0.168633\n",
            "[274]\tvalid_0's multi_error: 0.0499681\tvalid_0's multi_logloss: 0.141618\tvalid_1's multi_error: 0.0584065\tvalid_1's multi_logloss: 0.168471\n",
            "[275]\tvalid_0's multi_error: 0.0499118\tvalid_0's multi_logloss: 0.141472\tvalid_1's multi_error: 0.0583221\tvalid_1's multi_logloss: 0.16839\n",
            "[276]\tvalid_0's multi_error: 0.0499118\tvalid_0's multi_logloss: 0.141362\tvalid_1's multi_error: 0.0583221\tvalid_1's multi_logloss: 0.168363\n",
            "[277]\tvalid_0's multi_error: 0.0497805\tvalid_0's multi_logloss: 0.141194\tvalid_1's multi_error: 0.0583783\tvalid_1's multi_logloss: 0.16827\n",
            "[278]\tvalid_0's multi_error: 0.0497618\tvalid_0's multi_logloss: 0.141072\tvalid_1's multi_error: 0.0583502\tvalid_1's multi_logloss: 0.168216\n",
            "[279]\tvalid_0's multi_error: 0.0497243\tvalid_0's multi_logloss: 0.140915\tvalid_1's multi_error: 0.0583221\tvalid_1's multi_logloss: 0.16814\n",
            "[280]\tvalid_0's multi_error: 0.0496868\tvalid_0's multi_logloss: 0.140805\tvalid_1's multi_error: 0.0583502\tvalid_1's multi_logloss: 0.168115\n",
            "[281]\tvalid_0's multi_error: 0.0497243\tvalid_0's multi_logloss: 0.140705\tvalid_1's multi_error: 0.0582939\tvalid_1's multi_logloss: 0.168085\n",
            "[282]\tvalid_0's multi_error: 0.049593\tvalid_0's multi_logloss: 0.140596\tvalid_1's multi_error: 0.0582658\tvalid_1's multi_logloss: 0.168024\n",
            "[283]\tvalid_0's multi_error: 0.049593\tvalid_0's multi_logloss: 0.140451\tvalid_1's multi_error: 0.0582939\tvalid_1's multi_logloss: 0.167957\n",
            "[284]\tvalid_0's multi_error: 0.049593\tvalid_0's multi_logloss: 0.140284\tvalid_1's multi_error: 0.0582377\tvalid_1's multi_logloss: 0.167874\n",
            "[285]\tvalid_0's multi_error: 0.0494242\tvalid_0's multi_logloss: 0.140134\tvalid_1's multi_error: 0.0581533\tvalid_1's multi_logloss: 0.167774\n",
            "[286]\tvalid_0's multi_error: 0.0494242\tvalid_0's multi_logloss: 0.140016\tvalid_1's multi_error: 0.0581251\tvalid_1's multi_logloss: 0.167731\n",
            "[287]\tvalid_0's multi_error: 0.0493304\tvalid_0's multi_logloss: 0.139847\tvalid_1's multi_error: 0.058097\tvalid_1's multi_logloss: 0.16764\n",
            "[288]\tvalid_0's multi_error: 0.0492929\tvalid_0's multi_logloss: 0.139747\tvalid_1's multi_error: 0.0580689\tvalid_1's multi_logloss: 0.167631\n",
            "[289]\tvalid_0's multi_error: 0.0492929\tvalid_0's multi_logloss: 0.13956\tvalid_1's multi_error: 0.0580407\tvalid_1's multi_logloss: 0.167523\n",
            "[290]\tvalid_0's multi_error: 0.0490865\tvalid_0's multi_logloss: 0.139304\tvalid_1's multi_error: 0.0578157\tvalid_1's multi_logloss: 0.167332\n",
            "[291]\tvalid_0's multi_error: 0.0490115\tvalid_0's multi_logloss: 0.139152\tvalid_1's multi_error: 0.0578438\tvalid_1's multi_logloss: 0.167257\n",
            "[292]\tvalid_0's multi_error: 0.048974\tvalid_0's multi_logloss: 0.139052\tvalid_1's multi_error: 0.0579282\tvalid_1's multi_logloss: 0.167241\n",
            "[293]\tvalid_0's multi_error: 0.0489177\tvalid_0's multi_logloss: 0.13893\tvalid_1's multi_error: 0.0578438\tvalid_1's multi_logloss: 0.167188\n",
            "[294]\tvalid_0's multi_error: 0.0489177\tvalid_0's multi_logloss: 0.138825\tvalid_1's multi_error: 0.0579563\tvalid_1's multi_logloss: 0.167167\n",
            "[295]\tvalid_0's multi_error: 0.048899\tvalid_0's multi_logloss: 0.138722\tvalid_1's multi_error: 0.0579845\tvalid_1's multi_logloss: 0.167154\n",
            "[296]\tvalid_0's multi_error: 0.0488802\tvalid_0's multi_logloss: 0.13859\tvalid_1's multi_error: 0.0579282\tvalid_1's multi_logloss: 0.167087\n",
            "[297]\tvalid_0's multi_error: 0.0488427\tvalid_0's multi_logloss: 0.138486\tvalid_1's multi_error: 0.0578719\tvalid_1's multi_logloss: 0.167078\n",
            "[298]\tvalid_0's multi_error: 0.0487114\tvalid_0's multi_logloss: 0.138375\tvalid_1's multi_error: 0.0578719\tvalid_1's multi_logloss: 0.16703\n",
            "[299]\tvalid_0's multi_error: 0.0486364\tvalid_0's multi_logloss: 0.138251\tvalid_1's multi_error: 0.0578719\tvalid_1's multi_logloss: 0.166998\n",
            "[300]\tvalid_0's multi_error: 0.0484863\tvalid_0's multi_logloss: 0.138136\tvalid_1's multi_error: 0.0578719\tvalid_1's multi_logloss: 0.166938\n",
            "[301]\tvalid_0's multi_error: 0.0484113\tvalid_0's multi_logloss: 0.137976\tvalid_1's multi_error: 0.0578719\tvalid_1's multi_logloss: 0.166837\n",
            "[302]\tvalid_0's multi_error: 0.0484113\tvalid_0's multi_logloss: 0.137842\tvalid_1's multi_error: 0.0579563\tvalid_1's multi_logloss: 0.166774\n",
            "[303]\tvalid_0's multi_error: 0.0484301\tvalid_0's multi_logloss: 0.1377\tvalid_1's multi_error: 0.0578719\tvalid_1's multi_logloss: 0.166692\n",
            "[304]\tvalid_0's multi_error: 0.04828\tvalid_0's multi_logloss: 0.137594\tvalid_1's multi_error: 0.0578719\tvalid_1's multi_logloss: 0.166678\n",
            "[305]\tvalid_0's multi_error: 0.0481675\tvalid_0's multi_logloss: 0.137467\tvalid_1's multi_error: 0.0577875\tvalid_1's multi_logloss: 0.166615\n",
            "[306]\tvalid_0's multi_error: 0.0480924\tvalid_0's multi_logloss: 0.137249\tvalid_1's multi_error: 0.057675\tvalid_1's multi_logloss: 0.166442\n",
            "[307]\tvalid_0's multi_error: 0.0480737\tvalid_0's multi_logloss: 0.137092\tvalid_1's multi_error: 0.0575906\tvalid_1's multi_logloss: 0.166361\n",
            "[308]\tvalid_0's multi_error: 0.0479424\tvalid_0's multi_logloss: 0.136828\tvalid_1's multi_error: 0.0575906\tvalid_1's multi_logloss: 0.166167\n",
            "[309]\tvalid_0's multi_error: 0.0479424\tvalid_0's multi_logloss: 0.136657\tvalid_1's multi_error: 0.0576187\tvalid_1's multi_logloss: 0.16605\n",
            "[310]\tvalid_0's multi_error: 0.0478861\tvalid_0's multi_logloss: 0.136546\tvalid_1's multi_error: 0.0575906\tvalid_1's multi_logloss: 0.166012\n",
            "[311]\tvalid_0's multi_error: 0.0478486\tvalid_0's multi_logloss: 0.136399\tvalid_1's multi_error: 0.0575343\tvalid_1's multi_logloss: 0.165942\n",
            "[312]\tvalid_0's multi_error: 0.0477736\tvalid_0's multi_logloss: 0.136177\tvalid_1's multi_error: 0.0574499\tvalid_1's multi_logloss: 0.16578\n",
            "[313]\tvalid_0's multi_error: 0.0476235\tvalid_0's multi_logloss: 0.136047\tvalid_1's multi_error: 0.0573937\tvalid_1's multi_logloss: 0.165715\n",
            "[314]\tvalid_0's multi_error: 0.0474735\tvalid_0's multi_logloss: 0.135792\tvalid_1's multi_error: 0.057253\tvalid_1's multi_logloss: 0.165512\n",
            "[315]\tvalid_0's multi_error: 0.0473984\tvalid_0's multi_logloss: 0.135664\tvalid_1's multi_error: 0.0571967\tvalid_1's multi_logloss: 0.165467\n",
            "[316]\tvalid_0's multi_error: 0.0473797\tvalid_0's multi_logloss: 0.135567\tvalid_1's multi_error: 0.0571404\tvalid_1's multi_logloss: 0.165449\n",
            "[317]\tvalid_0's multi_error: 0.0473234\tvalid_0's multi_logloss: 0.135406\tvalid_1's multi_error: 0.0571967\tvalid_1's multi_logloss: 0.165364\n",
            "[318]\tvalid_0's multi_error: 0.0472109\tvalid_0's multi_logloss: 0.135266\tvalid_1's multi_error: 0.0571967\tvalid_1's multi_logloss: 0.165308\n",
            "[319]\tvalid_0's multi_error: 0.0470796\tvalid_0's multi_logloss: 0.135135\tvalid_1's multi_error: 0.057056\tvalid_1's multi_logloss: 0.165246\n",
            "[320]\tvalid_0's multi_error: 0.0469858\tvalid_0's multi_logloss: 0.134886\tvalid_1's multi_error: 0.0571123\tvalid_1's multi_logloss: 0.165046\n",
            "[321]\tvalid_0's multi_error: 0.0469483\tvalid_0's multi_logloss: 0.134801\tvalid_1's multi_error: 0.0571123\tvalid_1's multi_logloss: 0.165037\n",
            "[322]\tvalid_0's multi_error: 0.0469295\tvalid_0's multi_logloss: 0.13469\tvalid_1's multi_error: 0.0570842\tvalid_1's multi_logloss: 0.164982\n",
            "[323]\tvalid_0's multi_error: 0.0468732\tvalid_0's multi_logloss: 0.134573\tvalid_1's multi_error: 0.057056\tvalid_1's multi_logloss: 0.164926\n",
            "[324]\tvalid_0's multi_error: 0.046817\tvalid_0's multi_logloss: 0.13443\tvalid_1's multi_error: 0.0570842\tvalid_1's multi_logloss: 0.164844\n",
            "[325]\tvalid_0's multi_error: 0.0467232\tvalid_0's multi_logloss: 0.13419\tvalid_1's multi_error: 0.0570842\tvalid_1's multi_logloss: 0.164677\n",
            "[326]\tvalid_0's multi_error: 0.0467044\tvalid_0's multi_logloss: 0.133977\tvalid_1's multi_error: 0.0569716\tvalid_1's multi_logloss: 0.164533\n",
            "[327]\tvalid_0's multi_error: 0.0465731\tvalid_0's multi_logloss: 0.13383\tvalid_1's multi_error: 0.0570279\tvalid_1's multi_logloss: 0.164458\n",
            "[328]\tvalid_0's multi_error: 0.0465356\tvalid_0's multi_logloss: 0.133696\tvalid_1's multi_error: 0.0569154\tvalid_1's multi_logloss: 0.16439\n",
            "[329]\tvalid_0's multi_error: 0.0464606\tvalid_0's multi_logloss: 0.133548\tvalid_1's multi_error: 0.0568872\tvalid_1's multi_logloss: 0.164332\n",
            "[330]\tvalid_0's multi_error: 0.0464606\tvalid_0's multi_logloss: 0.133433\tvalid_1's multi_error: 0.0568591\tvalid_1's multi_logloss: 0.164289\n",
            "[331]\tvalid_0's multi_error: 0.0464418\tvalid_0's multi_logloss: 0.133305\tvalid_1's multi_error: 0.056831\tvalid_1's multi_logloss: 0.164246\n",
            "[332]\tvalid_0's multi_error: 0.0463293\tvalid_0's multi_logloss: 0.133197\tvalid_1's multi_error: 0.0568872\tvalid_1's multi_logloss: 0.164204\n",
            "[333]\tvalid_0's multi_error: 0.0463105\tvalid_0's multi_logloss: 0.13304\tvalid_1's multi_error: 0.0569154\tvalid_1's multi_logloss: 0.164108\n",
            "[334]\tvalid_0's multi_error: 0.0462543\tvalid_0's multi_logloss: 0.132945\tvalid_1's multi_error: 0.0569154\tvalid_1's multi_logloss: 0.164063\n",
            "[335]\tvalid_0's multi_error: 0.0461792\tvalid_0's multi_logloss: 0.132827\tvalid_1's multi_error: 0.0568591\tvalid_1's multi_logloss: 0.163992\n",
            "[336]\tvalid_0's multi_error: 0.0460292\tvalid_0's multi_logloss: 0.132619\tvalid_1's multi_error: 0.0568872\tvalid_1's multi_logloss: 0.163839\n",
            "[337]\tvalid_0's multi_error: 0.0460292\tvalid_0's multi_logloss: 0.13252\tvalid_1's multi_error: 0.0568591\tvalid_1's multi_logloss: 0.163822\n",
            "[338]\tvalid_0's multi_error: 0.0458791\tvalid_0's multi_logloss: 0.132224\tvalid_1's multi_error: 0.0566059\tvalid_1's multi_logloss: 0.163583\n",
            "[339]\tvalid_0's multi_error: 0.0458041\tvalid_0's multi_logloss: 0.132089\tvalid_1's multi_error: 0.0565496\tvalid_1's multi_logloss: 0.163521\n",
            "[340]\tvalid_0's multi_error: 0.0457103\tvalid_0's multi_logloss: 0.131941\tvalid_1's multi_error: 0.0565215\tvalid_1's multi_logloss: 0.163452\n",
            "[341]\tvalid_0's multi_error: 0.0457666\tvalid_0's multi_logloss: 0.131806\tvalid_1's multi_error: 0.0566059\tvalid_1's multi_logloss: 0.163389\n",
            "[342]\tvalid_0's multi_error: 0.0457478\tvalid_0's multi_logloss: 0.13166\tvalid_1's multi_error: 0.0565778\tvalid_1's multi_logloss: 0.163297\n",
            "[343]\tvalid_0's multi_error: 0.0456728\tvalid_0's multi_logloss: 0.131523\tvalid_1's multi_error: 0.0565215\tvalid_1's multi_logloss: 0.163244\n",
            "[344]\tvalid_0's multi_error: 0.0456728\tvalid_0's multi_logloss: 0.131394\tvalid_1's multi_error: 0.0565778\tvalid_1's multi_logloss: 0.16318\n",
            "[345]\tvalid_0's multi_error: 0.045579\tvalid_0's multi_logloss: 0.131281\tvalid_1's multi_error: 0.0564934\tvalid_1's multi_logloss: 0.163122\n",
            "[346]\tvalid_0's multi_error: 0.0454852\tvalid_0's multi_logloss: 0.131162\tvalid_1's multi_error: 0.0564652\tvalid_1's multi_logloss: 0.163085\n",
            "[347]\tvalid_0's multi_error: 0.0454852\tvalid_0's multi_logloss: 0.131037\tvalid_1's multi_error: 0.0564652\tvalid_1's multi_logloss: 0.163026\n",
            "[348]\tvalid_0's multi_error: 0.0453539\tvalid_0's multi_logloss: 0.130933\tvalid_1's multi_error: 0.0563527\tvalid_1's multi_logloss: 0.162973\n",
            "[349]\tvalid_0's multi_error: 0.0452789\tvalid_0's multi_logloss: 0.130789\tvalid_1's multi_error: 0.0563808\tvalid_1's multi_logloss: 0.162896\n",
            "[350]\tvalid_0's multi_error: 0.0452602\tvalid_0's multi_logloss: 0.130693\tvalid_1's multi_error: 0.0563808\tvalid_1's multi_logloss: 0.162856\n",
            "[351]\tvalid_0's multi_error: 0.0452226\tvalid_0's multi_logloss: 0.130569\tvalid_1's multi_error: 0.0563808\tvalid_1's multi_logloss: 0.162815\n",
            "[352]\tvalid_0's multi_error: 0.0451476\tvalid_0's multi_logloss: 0.130453\tvalid_1's multi_error: 0.0563808\tvalid_1's multi_logloss: 0.162784\n",
            "[353]\tvalid_0's multi_error: 0.0451664\tvalid_0's multi_logloss: 0.130335\tvalid_1's multi_error: 0.0563246\tvalid_1's multi_logloss: 0.162714\n",
            "[354]\tvalid_0's multi_error: 0.0451851\tvalid_0's multi_logloss: 0.130233\tvalid_1's multi_error: 0.0562964\tvalid_1's multi_logloss: 0.162688\n",
            "[355]\tvalid_0's multi_error: 0.0451101\tvalid_0's multi_logloss: 0.130145\tvalid_1's multi_error: 0.0563527\tvalid_1's multi_logloss: 0.162673\n",
            "[356]\tvalid_0's multi_error: 0.0451101\tvalid_0's multi_logloss: 0.130044\tvalid_1's multi_error: 0.0562683\tvalid_1's multi_logloss: 0.162643\n",
            "[357]\tvalid_0's multi_error: 0.0450351\tvalid_0's multi_logloss: 0.129948\tvalid_1's multi_error: 0.0562402\tvalid_1's multi_logloss: 0.162617\n",
            "[358]\tvalid_0's multi_error: 0.0450163\tvalid_0's multi_logloss: 0.129845\tvalid_1's multi_error: 0.0561558\tvalid_1's multi_logloss: 0.162602\n",
            "[359]\tvalid_0's multi_error: 0.04496\tvalid_0's multi_logloss: 0.129751\tvalid_1's multi_error: 0.0561839\tvalid_1's multi_logloss: 0.162581\n",
            "[360]\tvalid_0's multi_error: 0.0449413\tvalid_0's multi_logloss: 0.129602\tvalid_1's multi_error: 0.0560432\tvalid_1's multi_logloss: 0.162492\n",
            "[361]\tvalid_0's multi_error: 0.0449413\tvalid_0's multi_logloss: 0.129479\tvalid_1's multi_error: 0.0560151\tvalid_1's multi_logloss: 0.162443\n",
            "[362]\tvalid_0's multi_error: 0.0447725\tvalid_0's multi_logloss: 0.129394\tvalid_1's multi_error: 0.0559588\tvalid_1's multi_logloss: 0.162444\n",
            "[363]\tvalid_0's multi_error: 0.0447537\tvalid_0's multi_logloss: 0.129325\tvalid_1's multi_error: 0.0560432\tvalid_1's multi_logloss: 0.162439\n",
            "[364]\tvalid_0's multi_error: 0.0446787\tvalid_0's multi_logloss: 0.129224\tvalid_1's multi_error: 0.0560151\tvalid_1's multi_logloss: 0.162411\n",
            "[365]\tvalid_0's multi_error: 0.0446975\tvalid_0's multi_logloss: 0.129108\tvalid_1's multi_error: 0.0559025\tvalid_1's multi_logloss: 0.16239\n",
            "[366]\tvalid_0's multi_error: 0.0446787\tvalid_0's multi_logloss: 0.129028\tvalid_1's multi_error: 0.0559588\tvalid_1's multi_logloss: 0.162358\n",
            "[367]\tvalid_0's multi_error: 0.0446224\tvalid_0's multi_logloss: 0.128941\tvalid_1's multi_error: 0.0559869\tvalid_1's multi_logloss: 0.162341\n",
            "[368]\tvalid_0's multi_error: 0.0445662\tvalid_0's multi_logloss: 0.128813\tvalid_1's multi_error: 0.0560151\tvalid_1's multi_logloss: 0.162285\n",
            "[369]\tvalid_0's multi_error: 0.0444161\tvalid_0's multi_logloss: 0.128667\tvalid_1's multi_error: 0.0559869\tvalid_1's multi_logloss: 0.162203\n",
            "[370]\tvalid_0's multi_error: 0.0444724\tvalid_0's multi_logloss: 0.128557\tvalid_1's multi_error: 0.0559307\tvalid_1's multi_logloss: 0.162151\n",
            "[371]\tvalid_0's multi_error: 0.0444161\tvalid_0's multi_logloss: 0.128448\tvalid_1's multi_error: 0.0559588\tvalid_1's multi_logloss: 0.162093\n",
            "[372]\tvalid_0's multi_error: 0.0443598\tvalid_0's multi_logloss: 0.128327\tvalid_1's multi_error: 0.0558744\tvalid_1's multi_logloss: 0.162031\n",
            "[373]\tvalid_0's multi_error: 0.044266\tvalid_0's multi_logloss: 0.128209\tvalid_1's multi_error: 0.0559307\tvalid_1's multi_logloss: 0.161992\n",
            "[374]\tvalid_0's multi_error: 0.0442473\tvalid_0's multi_logloss: 0.128076\tvalid_1's multi_error: 0.0558463\tvalid_1's multi_logloss: 0.161926\n",
            "[375]\tvalid_0's multi_error: 0.0440785\tvalid_0's multi_logloss: 0.127953\tvalid_1's multi_error: 0.0558744\tvalid_1's multi_logloss: 0.161848\n",
            "[376]\tvalid_0's multi_error: 0.0440035\tvalid_0's multi_logloss: 0.127704\tvalid_1's multi_error: 0.05579\tvalid_1's multi_logloss: 0.161649\n",
            "[377]\tvalid_0's multi_error: 0.0440597\tvalid_0's multi_logloss: 0.127592\tvalid_1's multi_error: 0.0558181\tvalid_1's multi_logloss: 0.161598\n",
            "[378]\tvalid_0's multi_error: 0.0440597\tvalid_0's multi_logloss: 0.127467\tvalid_1's multi_error: 0.0558463\tvalid_1's multi_logloss: 0.161549\n",
            "[379]\tvalid_0's multi_error: 0.0439097\tvalid_0's multi_logloss: 0.127329\tvalid_1's multi_error: 0.0558181\tvalid_1's multi_logloss: 0.161478\n",
            "[380]\tvalid_0's multi_error: 0.0438346\tvalid_0's multi_logloss: 0.127237\tvalid_1's multi_error: 0.05579\tvalid_1's multi_logloss: 0.161452\n",
            "[381]\tvalid_0's multi_error: 0.0437596\tvalid_0's multi_logloss: 0.127157\tvalid_1's multi_error: 0.05579\tvalid_1's multi_logloss: 0.161436\n",
            "[382]\tvalid_0's multi_error: 0.0437409\tvalid_0's multi_logloss: 0.127059\tvalid_1's multi_error: 0.0558181\tvalid_1's multi_logloss: 0.161404\n",
            "[383]\tvalid_0's multi_error: 0.0436096\tvalid_0's multi_logloss: 0.126943\tvalid_1's multi_error: 0.0558463\tvalid_1's multi_logloss: 0.161345\n",
            "[384]\tvalid_0's multi_error: 0.0436283\tvalid_0's multi_logloss: 0.126842\tvalid_1's multi_error: 0.0558463\tvalid_1's multi_logloss: 0.161316\n",
            "[385]\tvalid_0's multi_error: 0.0436096\tvalid_0's multi_logloss: 0.126753\tvalid_1's multi_error: 0.0558463\tvalid_1's multi_logloss: 0.161301\n",
            "[386]\tvalid_0's multi_error: 0.0436283\tvalid_0's multi_logloss: 0.126664\tvalid_1's multi_error: 0.0559588\tvalid_1's multi_logloss: 0.161273\n",
            "[387]\tvalid_0's multi_error: 0.0435533\tvalid_0's multi_logloss: 0.126537\tvalid_1's multi_error: 0.0559869\tvalid_1's multi_logloss: 0.161212\n",
            "[388]\tvalid_0's multi_error: 0.0434783\tvalid_0's multi_logloss: 0.126292\tvalid_1's multi_error: 0.05579\tvalid_1's multi_logloss: 0.161009\n",
            "[389]\tvalid_0's multi_error: 0.0434783\tvalid_0's multi_logloss: 0.126206\tvalid_1's multi_error: 0.0557337\tvalid_1's multi_logloss: 0.161019\n",
            "[390]\tvalid_0's multi_error: 0.0434783\tvalid_0's multi_logloss: 0.126068\tvalid_1's multi_error: 0.0557619\tvalid_1's multi_logloss: 0.160955\n",
            "[391]\tvalid_0's multi_error: 0.0433845\tvalid_0's multi_logloss: 0.125953\tvalid_1's multi_error: 0.05579\tvalid_1's multi_logloss: 0.160935\n",
            "[392]\tvalid_0's multi_error: 0.0432907\tvalid_0's multi_logloss: 0.125825\tvalid_1's multi_error: 0.0556212\tvalid_1's multi_logloss: 0.160878\n",
            "[393]\tvalid_0's multi_error: 0.0432532\tvalid_0's multi_logloss: 0.125685\tvalid_1's multi_error: 0.0556493\tvalid_1's multi_logloss: 0.160803\n",
            "[394]\tvalid_0's multi_error: 0.0431594\tvalid_0's multi_logloss: 0.125558\tvalid_1's multi_error: 0.0556212\tvalid_1's multi_logloss: 0.160746\n",
            "[395]\tvalid_0's multi_error: 0.0431219\tvalid_0's multi_logloss: 0.125431\tvalid_1's multi_error: 0.0556212\tvalid_1's multi_logloss: 0.160672\n",
            "[396]\tvalid_0's multi_error: 0.0431406\tvalid_0's multi_logloss: 0.125321\tvalid_1's multi_error: 0.0556493\tvalid_1's multi_logloss: 0.160629\n",
            "[397]\tvalid_0's multi_error: 0.0430469\tvalid_0's multi_logloss: 0.125174\tvalid_1's multi_error: 0.0556493\tvalid_1's multi_logloss: 0.160548\n",
            "[398]\tvalid_0's multi_error: 0.0430469\tvalid_0's multi_logloss: 0.125061\tvalid_1's multi_error: 0.0556212\tvalid_1's multi_logloss: 0.160519\n",
            "[399]\tvalid_0's multi_error: 0.0430469\tvalid_0's multi_logloss: 0.124969\tvalid_1's multi_error: 0.0556212\tvalid_1's multi_logloss: 0.16046\n",
            "[400]\tvalid_0's multi_error: 0.0429531\tvalid_0's multi_logloss: 0.124836\tvalid_1's multi_error: 0.0555649\tvalid_1's multi_logloss: 0.160411\n",
            "[401]\tvalid_0's multi_error: 0.0429156\tvalid_0's multi_logloss: 0.124748\tvalid_1's multi_error: 0.0555368\tvalid_1's multi_logloss: 0.160387\n",
            "[402]\tvalid_0's multi_error: 0.0428593\tvalid_0's multi_logloss: 0.124544\tvalid_1's multi_error: 0.0555649\tvalid_1's multi_logloss: 0.160241\n",
            "[403]\tvalid_0's multi_error: 0.042803\tvalid_0's multi_logloss: 0.124427\tvalid_1's multi_error: 0.0555931\tvalid_1's multi_logloss: 0.160182\n",
            "[404]\tvalid_0's multi_error: 0.0427655\tvalid_0's multi_logloss: 0.124351\tvalid_1's multi_error: 0.0555649\tvalid_1's multi_logloss: 0.160168\n",
            "[405]\tvalid_0's multi_error: 0.0427655\tvalid_0's multi_logloss: 0.124254\tvalid_1's multi_error: 0.0555368\tvalid_1's multi_logloss: 0.160135\n",
            "[406]\tvalid_0's multi_error: 0.042728\tvalid_0's multi_logloss: 0.124138\tvalid_1's multi_error: 0.0554805\tvalid_1's multi_logloss: 0.160105\n",
            "[407]\tvalid_0's multi_error: 0.0426717\tvalid_0's multi_logloss: 0.12404\tvalid_1's multi_error: 0.0554805\tvalid_1's multi_logloss: 0.16007\n",
            "[408]\tvalid_0's multi_error: 0.042653\tvalid_0's multi_logloss: 0.123962\tvalid_1's multi_error: 0.0554524\tvalid_1's multi_logloss: 0.160067\n",
            "[409]\tvalid_0's multi_error: 0.0426342\tvalid_0's multi_logloss: 0.123858\tvalid_1's multi_error: 0.0555368\tvalid_1's multi_logloss: 0.160025\n",
            "[410]\tvalid_0's multi_error: 0.0425404\tvalid_0's multi_logloss: 0.123752\tvalid_1's multi_error: 0.0553961\tvalid_1's multi_logloss: 0.159973\n",
            "[411]\tvalid_0's multi_error: 0.0425029\tvalid_0's multi_logloss: 0.123662\tvalid_1's multi_error: 0.0553961\tvalid_1's multi_logloss: 0.159948\n",
            "[412]\tvalid_0's multi_error: 0.0424279\tvalid_0's multi_logloss: 0.123557\tvalid_1's multi_error: 0.0554805\tvalid_1's multi_logloss: 0.159903\n",
            "[413]\tvalid_0's multi_error: 0.0423904\tvalid_0's multi_logloss: 0.123491\tvalid_1's multi_error: 0.0553961\tvalid_1's multi_logloss: 0.159897\n",
            "[414]\tvalid_0's multi_error: 0.0423153\tvalid_0's multi_logloss: 0.123409\tvalid_1's multi_error: 0.0553399\tvalid_1's multi_logloss: 0.159886\n",
            "[415]\tvalid_0's multi_error: 0.0422966\tvalid_0's multi_logloss: 0.12333\tvalid_1's multi_error: 0.0554524\tvalid_1's multi_logloss: 0.159878\n",
            "[416]\tvalid_0's multi_error: 0.0422966\tvalid_0's multi_logloss: 0.123232\tvalid_1's multi_error: 0.0554243\tvalid_1's multi_logloss: 0.159841\n",
            "[417]\tvalid_0's multi_error: 0.0422403\tvalid_0's multi_logloss: 0.123134\tvalid_1's multi_error: 0.0554524\tvalid_1's multi_logloss: 0.159811\n",
            "[418]\tvalid_0's multi_error: 0.0422028\tvalid_0's multi_logloss: 0.123033\tvalid_1's multi_error: 0.0554524\tvalid_1's multi_logloss: 0.159762\n",
            "[419]\tvalid_0's multi_error: 0.0421278\tvalid_0's multi_logloss: 0.122949\tvalid_1's multi_error: 0.0554524\tvalid_1's multi_logloss: 0.159744\n",
            "[420]\tvalid_0's multi_error: 0.042109\tvalid_0's multi_logloss: 0.122736\tvalid_1's multi_error: 0.0554243\tvalid_1's multi_logloss: 0.159589\n",
            "[421]\tvalid_0's multi_error: 0.0420715\tvalid_0's multi_logloss: 0.12263\tvalid_1's multi_error: 0.0553399\tvalid_1's multi_logloss: 0.159534\n",
            "[422]\tvalid_0's multi_error: 0.0419965\tvalid_0's multi_logloss: 0.122413\tvalid_1's multi_error: 0.0552836\tvalid_1's multi_logloss: 0.159362\n",
            "[423]\tvalid_0's multi_error: 0.0420152\tvalid_0's multi_logloss: 0.122345\tvalid_1's multi_error: 0.0551992\tvalid_1's multi_logloss: 0.159361\n",
            "[424]\tvalid_0's multi_error: 0.0419214\tvalid_0's multi_logloss: 0.122214\tvalid_1's multi_error: 0.0551992\tvalid_1's multi_logloss: 0.159302\n",
            "[425]\tvalid_0's multi_error: 0.0418839\tvalid_0's multi_logloss: 0.122104\tvalid_1's multi_error: 0.0551992\tvalid_1's multi_logloss: 0.159249\n",
            "[426]\tvalid_0's multi_error: 0.0418464\tvalid_0's multi_logloss: 0.121995\tvalid_1's multi_error: 0.0551711\tvalid_1's multi_logloss: 0.159173\n",
            "[427]\tvalid_0's multi_error: 0.0418277\tvalid_0's multi_logloss: 0.121864\tvalid_1's multi_error: 0.0550585\tvalid_1's multi_logloss: 0.159102\n",
            "[428]\tvalid_0's multi_error: 0.0417901\tvalid_0's multi_logloss: 0.121759\tvalid_1's multi_error: 0.0550867\tvalid_1's multi_logloss: 0.159075\n",
            "[429]\tvalid_0's multi_error: 0.0417339\tvalid_0's multi_logloss: 0.121647\tvalid_1's multi_error: 0.0550023\tvalid_1's multi_logloss: 0.159029\n",
            "[430]\tvalid_0's multi_error: 0.0417714\tvalid_0's multi_logloss: 0.121574\tvalid_1's multi_error: 0.0550304\tvalid_1's multi_logloss: 0.159022\n",
            "[431]\tvalid_0's multi_error: 0.0416964\tvalid_0's multi_logloss: 0.121498\tvalid_1's multi_error: 0.0550585\tvalid_1's multi_logloss: 0.159007\n",
            "[432]\tvalid_0's multi_error: 0.0416401\tvalid_0's multi_logloss: 0.121416\tvalid_1's multi_error: 0.0550867\tvalid_1's multi_logloss: 0.158984\n",
            "[433]\tvalid_0's multi_error: 0.0416213\tvalid_0's multi_logloss: 0.121338\tvalid_1's multi_error: 0.0550585\tvalid_1's multi_logloss: 0.158971\n",
            "[434]\tvalid_0's multi_error: 0.0416213\tvalid_0's multi_logloss: 0.121257\tvalid_1's multi_error: 0.0550585\tvalid_1's multi_logloss: 0.158954\n",
            "[435]\tvalid_0's multi_error: 0.0415463\tvalid_0's multi_logloss: 0.12116\tvalid_1's multi_error: 0.0550023\tvalid_1's multi_logloss: 0.15889\n",
            "[436]\tvalid_0's multi_error: 0.0415276\tvalid_0's multi_logloss: 0.121088\tvalid_1's multi_error: 0.0550023\tvalid_1's multi_logloss: 0.158894\n",
            "[437]\tvalid_0's multi_error: 0.04149\tvalid_0's multi_logloss: 0.120998\tvalid_1's multi_error: 0.0551429\tvalid_1's multi_logloss: 0.158858\n",
            "[438]\tvalid_0's multi_error: 0.0414338\tvalid_0's multi_logloss: 0.120909\tvalid_1's multi_error: 0.0551148\tvalid_1's multi_logloss: 0.158832\n",
            "[439]\tvalid_0's multi_error: 0.0413963\tvalid_0's multi_logloss: 0.120831\tvalid_1's multi_error: 0.0550585\tvalid_1's multi_logloss: 0.158822\n",
            "[440]\tvalid_0's multi_error: 0.0413212\tvalid_0's multi_logloss: 0.120729\tvalid_1's multi_error: 0.0551711\tvalid_1's multi_logloss: 0.158782\n",
            "[441]\tvalid_0's multi_error: 0.04134\tvalid_0's multi_logloss: 0.120645\tvalid_1's multi_error: 0.0551711\tvalid_1's multi_logloss: 0.15877\n",
            "[442]\tvalid_0's multi_error: 0.041265\tvalid_0's multi_logloss: 0.120548\tvalid_1's multi_error: 0.0551711\tvalid_1's multi_logloss: 0.158727\n",
            "[443]\tvalid_0's multi_error: 0.0412274\tvalid_0's multi_logloss: 0.120445\tvalid_1's multi_error: 0.0551711\tvalid_1's multi_logloss: 0.158672\n",
            "[444]\tvalid_0's multi_error: 0.0412087\tvalid_0's multi_logloss: 0.12037\tvalid_1's multi_error: 0.0550867\tvalid_1's multi_logloss: 0.158661\n",
            "[445]\tvalid_0's multi_error: 0.0412087\tvalid_0's multi_logloss: 0.120281\tvalid_1's multi_error: 0.0550867\tvalid_1's multi_logloss: 0.158628\n",
            "[446]\tvalid_0's multi_error: 0.0412274\tvalid_0's multi_logloss: 0.120193\tvalid_1's multi_error: 0.0550585\tvalid_1's multi_logloss: 0.158602\n",
            "[447]\tvalid_0's multi_error: 0.0411712\tvalid_0's multi_logloss: 0.120011\tvalid_1's multi_error: 0.0550023\tvalid_1's multi_logloss: 0.158475\n",
            "[448]\tvalid_0's multi_error: 0.0411337\tvalid_0's multi_logloss: 0.119904\tvalid_1's multi_error: 0.0550304\tvalid_1's multi_logloss: 0.158428\n",
            "[449]\tvalid_0's multi_error: 0.0410399\tvalid_0's multi_logloss: 0.119825\tvalid_1's multi_error: 0.0550304\tvalid_1's multi_logloss: 0.15842\n",
            "[450]\tvalid_0's multi_error: 0.0410024\tvalid_0's multi_logloss: 0.119719\tvalid_1's multi_error: 0.0548616\tvalid_1's multi_logloss: 0.158375\n",
            "[451]\tvalid_0's multi_error: 0.0409273\tvalid_0's multi_logloss: 0.119506\tvalid_1's multi_error: 0.0548616\tvalid_1's multi_logloss: 0.158213\n",
            "[452]\tvalid_0's multi_error: 0.0408898\tvalid_0's multi_logloss: 0.119422\tvalid_1's multi_error: 0.0547772\tvalid_1's multi_logloss: 0.15818\n",
            "[453]\tvalid_0's multi_error: 0.0408711\tvalid_0's multi_logloss: 0.119345\tvalid_1's multi_error: 0.0547772\tvalid_1's multi_logloss: 0.158172\n",
            "[454]\tvalid_0's multi_error: 0.0407773\tvalid_0's multi_logloss: 0.119245\tvalid_1's multi_error: 0.0548616\tvalid_1's multi_logloss: 0.15814\n",
            "[455]\tvalid_0's multi_error: 0.0407398\tvalid_0's multi_logloss: 0.119171\tvalid_1's multi_error: 0.0547209\tvalid_1's multi_logloss: 0.158135\n",
            "[456]\tvalid_0's multi_error: 0.040721\tvalid_0's multi_logloss: 0.119083\tvalid_1's multi_error: 0.0547772\tvalid_1's multi_logloss: 0.158111\n",
            "[457]\tvalid_0's multi_error: 0.040721\tvalid_0's multi_logloss: 0.11897\tvalid_1's multi_error: 0.0546928\tvalid_1's multi_logloss: 0.158029\n",
            "[458]\tvalid_0's multi_error: 0.0406647\tvalid_0's multi_logloss: 0.118893\tvalid_1's multi_error: 0.0546646\tvalid_1's multi_logloss: 0.158\n",
            "[459]\tvalid_0's multi_error: 0.0406085\tvalid_0's multi_logloss: 0.118801\tvalid_1's multi_error: 0.0546646\tvalid_1's multi_logloss: 0.157977\n",
            "[460]\tvalid_0's multi_error: 0.0406272\tvalid_0's multi_logloss: 0.118705\tvalid_1's multi_error: 0.0546365\tvalid_1's multi_logloss: 0.157952\n",
            "[461]\tvalid_0's multi_error: 0.0405897\tvalid_0's multi_logloss: 0.118623\tvalid_1's multi_error: 0.0546928\tvalid_1's multi_logloss: 0.157931\n",
            "[462]\tvalid_0's multi_error: 0.040571\tvalid_0's multi_logloss: 0.118516\tvalid_1's multi_error: 0.0547209\tvalid_1's multi_logloss: 0.157899\n",
            "[463]\tvalid_0's multi_error: 0.0404959\tvalid_0's multi_logloss: 0.118409\tvalid_1's multi_error: 0.0546928\tvalid_1's multi_logloss: 0.157838\n",
            "[464]\tvalid_0's multi_error: 0.0404584\tvalid_0's multi_logloss: 0.118344\tvalid_1's multi_error: 0.0546928\tvalid_1's multi_logloss: 0.157823\n",
            "[465]\tvalid_0's multi_error: 0.0404209\tvalid_0's multi_logloss: 0.11825\tvalid_1's multi_error: 0.0547209\tvalid_1's multi_logloss: 0.157786\n",
            "[466]\tvalid_0's multi_error: 0.0404209\tvalid_0's multi_logloss: 0.118162\tvalid_1's multi_error: 0.0547209\tvalid_1's multi_logloss: 0.15776\n",
            "[467]\tvalid_0's multi_error: 0.0404021\tvalid_0's multi_logloss: 0.117952\tvalid_1's multi_error: 0.0546365\tvalid_1's multi_logloss: 0.157576\n",
            "[468]\tvalid_0's multi_error: 0.0403834\tvalid_0's multi_logloss: 0.117871\tvalid_1's multi_error: 0.0546646\tvalid_1's multi_logloss: 0.157546\n",
            "[469]\tvalid_0's multi_error: 0.0403459\tvalid_0's multi_logloss: 0.117782\tvalid_1's multi_error: 0.0546365\tvalid_1's multi_logloss: 0.157527\n",
            "[470]\tvalid_0's multi_error: 0.0402896\tvalid_0's multi_logloss: 0.117712\tvalid_1's multi_error: 0.0546084\tvalid_1's multi_logloss: 0.157494\n",
            "[471]\tvalid_0's multi_error: 0.0402521\tvalid_0's multi_logloss: 0.117605\tvalid_1's multi_error: 0.0546365\tvalid_1's multi_logloss: 0.15745\n",
            "[472]\tvalid_0's multi_error: 0.0401958\tvalid_0's multi_logloss: 0.117504\tvalid_1's multi_error: 0.0546084\tvalid_1's multi_logloss: 0.157406\n",
            "[473]\tvalid_0's multi_error: 0.0401208\tvalid_0's multi_logloss: 0.117428\tvalid_1's multi_error: 0.0546646\tvalid_1's multi_logloss: 0.157399\n",
            "[474]\tvalid_0's multi_error: 0.040102\tvalid_0's multi_logloss: 0.117331\tvalid_1's multi_error: 0.0546365\tvalid_1's multi_logloss: 0.157384\n",
            "[475]\tvalid_0's multi_error: 0.0400083\tvalid_0's multi_logloss: 0.117125\tvalid_1's multi_error: 0.0546365\tvalid_1's multi_logloss: 0.157213\n",
            "[476]\tvalid_0's multi_error: 0.0399707\tvalid_0's multi_logloss: 0.117048\tvalid_1's multi_error: 0.0545802\tvalid_1's multi_logloss: 0.157193\n",
            "[477]\tvalid_0's multi_error: 0.0399145\tvalid_0's multi_logloss: 0.116967\tvalid_1's multi_error: 0.0545521\tvalid_1's multi_logloss: 0.157187\n",
            "[478]\tvalid_0's multi_error: 0.039952\tvalid_0's multi_logloss: 0.116874\tvalid_1's multi_error: 0.0544958\tvalid_1's multi_logloss: 0.157163\n",
            "[479]\tvalid_0's multi_error: 0.039952\tvalid_0's multi_logloss: 0.116778\tvalid_1's multi_error: 0.054524\tvalid_1's multi_logloss: 0.15715\n",
            "[480]\tvalid_0's multi_error: 0.0398957\tvalid_0's multi_logloss: 0.116699\tvalid_1's multi_error: 0.0545521\tvalid_1's multi_logloss: 0.157151\n",
            "[481]\tvalid_0's multi_error: 0.0398582\tvalid_0's multi_logloss: 0.116615\tvalid_1's multi_error: 0.0545521\tvalid_1's multi_logloss: 0.157114\n",
            "[482]\tvalid_0's multi_error: 0.0398207\tvalid_0's multi_logloss: 0.116537\tvalid_1's multi_error: 0.054524\tvalid_1's multi_logloss: 0.157108\n",
            "[483]\tvalid_0's multi_error: 0.0398019\tvalid_0's multi_logloss: 0.116457\tvalid_1's multi_error: 0.0544958\tvalid_1's multi_logloss: 0.157087\n",
            "[484]\tvalid_0's multi_error: 0.0397457\tvalid_0's multi_logloss: 0.116371\tvalid_1's multi_error: 0.0544958\tvalid_1's multi_logloss: 0.157067\n",
            "[485]\tvalid_0's multi_error: 0.0397269\tvalid_0's multi_logloss: 0.116286\tvalid_1's multi_error: 0.0544677\tvalid_1's multi_logloss: 0.157039\n",
            "[486]\tvalid_0's multi_error: 0.0396894\tvalid_0's multi_logloss: 0.1162\tvalid_1's multi_error: 0.0544958\tvalid_1's multi_logloss: 0.157013\n",
            "[487]\tvalid_0's multi_error: 0.0395581\tvalid_0's multi_logloss: 0.116071\tvalid_1's multi_error: 0.054524\tvalid_1's multi_logloss: 0.156915\n",
            "[488]\tvalid_0's multi_error: 0.0395393\tvalid_0's multi_logloss: 0.115988\tvalid_1's multi_error: 0.054524\tvalid_1's multi_logloss: 0.156903\n",
            "[489]\tvalid_0's multi_error: 0.0395956\tvalid_0's multi_logloss: 0.115915\tvalid_1's multi_error: 0.0544958\tvalid_1's multi_logloss: 0.156896\n",
            "[490]\tvalid_0's multi_error: 0.0395206\tvalid_0's multi_logloss: 0.115808\tvalid_1's multi_error: 0.0545802\tvalid_1's multi_logloss: 0.156856\n",
            "[491]\tvalid_0's multi_error: 0.0394643\tvalid_0's multi_logloss: 0.115714\tvalid_1's multi_error: 0.0544114\tvalid_1's multi_logloss: 0.156832\n",
            "[492]\tvalid_0's multi_error: 0.0395018\tvalid_0's multi_logloss: 0.115637\tvalid_1's multi_error: 0.0543833\tvalid_1's multi_logloss: 0.156815\n",
            "[493]\tvalid_0's multi_error: 0.039408\tvalid_0's multi_logloss: 0.115544\tvalid_1's multi_error: 0.0544396\tvalid_1's multi_logloss: 0.156792\n",
            "[494]\tvalid_0's multi_error: 0.0393893\tvalid_0's multi_logloss: 0.115464\tvalid_1's multi_error: 0.0542708\tvalid_1's multi_logloss: 0.156762\n",
            "[495]\tvalid_0's multi_error: 0.0393705\tvalid_0's multi_logloss: 0.115377\tvalid_1's multi_error: 0.0543833\tvalid_1's multi_logloss: 0.156717\n",
            "[496]\tvalid_0's multi_error: 0.039258\tvalid_0's multi_logloss: 0.1153\tvalid_1's multi_error: 0.0544114\tvalid_1's multi_logloss: 0.156714\n",
            "[497]\tvalid_0's multi_error: 0.0392017\tvalid_0's multi_logloss: 0.115124\tvalid_1's multi_error: 0.0543552\tvalid_1's multi_logloss: 0.156589\n",
            "[498]\tvalid_0's multi_error: 0.0390517\tvalid_0's multi_logloss: 0.115024\tvalid_1's multi_error: 0.0542426\tvalid_1's multi_logloss: 0.156562\n",
            "[499]\tvalid_0's multi_error: 0.0392205\tvalid_0's multi_logloss: 0.114935\tvalid_1's multi_error: 0.0543552\tvalid_1's multi_logloss: 0.156562\n",
            "[500]\tvalid_0's multi_error: 0.0390704\tvalid_0's multi_logloss: 0.114842\tvalid_1's multi_error: 0.0543833\tvalid_1's multi_logloss: 0.156548\n",
            "[501]\tvalid_0's multi_error: 0.0390892\tvalid_0's multi_logloss: 0.114743\tvalid_1's multi_error: 0.0544677\tvalid_1's multi_logloss: 0.156501\n",
            "[502]\tvalid_0's multi_error: 0.0389579\tvalid_0's multi_logloss: 0.114669\tvalid_1's multi_error: 0.0544114\tvalid_1's multi_logloss: 0.15649\n",
            "[503]\tvalid_0's multi_error: 0.0389016\tvalid_0's multi_logloss: 0.114585\tvalid_1's multi_error: 0.0544114\tvalid_1's multi_logloss: 0.156474\n",
            "[504]\tvalid_0's multi_error: 0.0388266\tvalid_0's multi_logloss: 0.114506\tvalid_1's multi_error: 0.0543552\tvalid_1's multi_logloss: 0.156467\n",
            "[505]\tvalid_0's multi_error: 0.0387515\tvalid_0's multi_logloss: 0.114437\tvalid_1's multi_error: 0.0543833\tvalid_1's multi_logloss: 0.156472\n",
            "[506]\tvalid_0's multi_error: 0.0387515\tvalid_0's multi_logloss: 0.114343\tvalid_1's multi_error: 0.0542426\tvalid_1's multi_logloss: 0.15641\n",
            "[507]\tvalid_0's multi_error: 0.0386953\tvalid_0's multi_logloss: 0.114258\tvalid_1's multi_error: 0.0542145\tvalid_1's multi_logloss: 0.156381\n",
            "[508]\tvalid_0's multi_error: 0.038639\tvalid_0's multi_logloss: 0.114183\tvalid_1's multi_error: 0.0542989\tvalid_1's multi_logloss: 0.156366\n",
            "[509]\tvalid_0's multi_error: 0.0385827\tvalid_0's multi_logloss: 0.114121\tvalid_1's multi_error: 0.0542145\tvalid_1's multi_logloss: 0.156349\n",
            "[510]\tvalid_0's multi_error: 0.038564\tvalid_0's multi_logloss: 0.114047\tvalid_1's multi_error: 0.054327\tvalid_1's multi_logloss: 0.156335\n",
            "[511]\tvalid_0's multi_error: 0.0385452\tvalid_0's multi_logloss: 0.113965\tvalid_1's multi_error: 0.054327\tvalid_1's multi_logloss: 0.156311\n",
            "[512]\tvalid_0's multi_error: 0.0385077\tvalid_0's multi_logloss: 0.113895\tvalid_1's multi_error: 0.0543833\tvalid_1's multi_logloss: 0.156298\n",
            "[513]\tvalid_0's multi_error: 0.0385077\tvalid_0's multi_logloss: 0.113822\tvalid_1's multi_error: 0.0543552\tvalid_1's multi_logloss: 0.156293\n",
            "[514]\tvalid_0's multi_error: 0.0385077\tvalid_0's multi_logloss: 0.113749\tvalid_1's multi_error: 0.0543552\tvalid_1's multi_logloss: 0.156286\n",
            "[515]\tvalid_0's multi_error: 0.038489\tvalid_0's multi_logloss: 0.113688\tvalid_1's multi_error: 0.0543833\tvalid_1's multi_logloss: 0.156285\n",
            "[516]\tvalid_0's multi_error: 0.0385077\tvalid_0's multi_logloss: 0.113605\tvalid_1's multi_error: 0.0543552\tvalid_1's multi_logloss: 0.156277\n",
            "[517]\tvalid_0's multi_error: 0.0384702\tvalid_0's multi_logloss: 0.113533\tvalid_1's multi_error: 0.0543552\tvalid_1's multi_logloss: 0.156264\n",
            "[518]\tvalid_0's multi_error: 0.0383577\tvalid_0's multi_logloss: 0.113454\tvalid_1's multi_error: 0.0543552\tvalid_1's multi_logloss: 0.156248\n",
            "[519]\tvalid_0's multi_error: 0.0383014\tvalid_0's multi_logloss: 0.113351\tvalid_1's multi_error: 0.0542708\tvalid_1's multi_logloss: 0.156172\n",
            "[520]\tvalid_0's multi_error: 0.0381701\tvalid_0's multi_logloss: 0.113268\tvalid_1's multi_error: 0.0542989\tvalid_1's multi_logloss: 0.15616\n",
            "[521]\tvalid_0's multi_error: 0.0381513\tvalid_0's multi_logloss: 0.113185\tvalid_1's multi_error: 0.0543833\tvalid_1's multi_logloss: 0.15614\n",
            "[522]\tvalid_0's multi_error: 0.0381138\tvalid_0's multi_logloss: 0.113119\tvalid_1's multi_error: 0.0543833\tvalid_1's multi_logloss: 0.156137\n",
            "[523]\tvalid_0's multi_error: 0.0380951\tvalid_0's multi_logloss: 0.113046\tvalid_1's multi_error: 0.054327\tvalid_1's multi_logloss: 0.15612\n",
            "[524]\tvalid_0's multi_error: 0.03802\tvalid_0's multi_logloss: 0.112978\tvalid_1's multi_error: 0.0543552\tvalid_1's multi_logloss: 0.156116\n",
            "[525]\tvalid_0's multi_error: 0.0379825\tvalid_0's multi_logloss: 0.1129\tvalid_1's multi_error: 0.0544396\tvalid_1's multi_logloss: 0.156096\n",
            "[526]\tvalid_0's multi_error: 0.037945\tvalid_0's multi_logloss: 0.112799\tvalid_1's multi_error: 0.0543552\tvalid_1's multi_logloss: 0.156023\n",
            "[527]\tvalid_0's multi_error: 0.037945\tvalid_0's multi_logloss: 0.112724\tvalid_1's multi_error: 0.0544114\tvalid_1's multi_logloss: 0.156014\n",
            "[528]\tvalid_0's multi_error: 0.0378887\tvalid_0's multi_logloss: 0.112645\tvalid_1's multi_error: 0.0544114\tvalid_1's multi_logloss: 0.155987\n",
            "[529]\tvalid_0's multi_error: 0.0378137\tvalid_0's multi_logloss: 0.112484\tvalid_1's multi_error: 0.0542989\tvalid_1's multi_logloss: 0.155837\n",
            "[530]\tvalid_0's multi_error: 0.03787\tvalid_0's multi_logloss: 0.112397\tvalid_1's multi_error: 0.0542426\tvalid_1's multi_logloss: 0.1558\n",
            "[531]\tvalid_0's multi_error: 0.0378512\tvalid_0's multi_logloss: 0.112317\tvalid_1's multi_error: 0.0541864\tvalid_1's multi_logloss: 0.155781\n",
            "[532]\tvalid_0's multi_error: 0.0378512\tvalid_0's multi_logloss: 0.112219\tvalid_1's multi_error: 0.0541301\tvalid_1's multi_logloss: 0.155756\n",
            "[533]\tvalid_0's multi_error: 0.0377762\tvalid_0's multi_logloss: 0.112132\tvalid_1's multi_error: 0.054102\tvalid_1's multi_logloss: 0.155737\n",
            "[534]\tvalid_0's multi_error: 0.0377387\tvalid_0's multi_logloss: 0.11203\tvalid_1's multi_error: 0.0541301\tvalid_1's multi_logloss: 0.155672\n",
            "[535]\tvalid_0's multi_error: 0.0377012\tvalid_0's multi_logloss: 0.11194\tvalid_1's multi_error: 0.054102\tvalid_1's multi_logloss: 0.155655\n",
            "[536]\tvalid_0's multi_error: 0.0376261\tvalid_0's multi_logloss: 0.111858\tvalid_1's multi_error: 0.0541582\tvalid_1's multi_logloss: 0.155639\n",
            "[537]\tvalid_0's multi_error: 0.0375699\tvalid_0's multi_logloss: 0.11175\tvalid_1's multi_error: 0.0540738\tvalid_1's multi_logloss: 0.15558\n",
            "[538]\tvalid_0's multi_error: 0.0375511\tvalid_0's multi_logloss: 0.111661\tvalid_1's multi_error: 0.0539613\tvalid_1's multi_logloss: 0.155562\n",
            "[539]\tvalid_0's multi_error: 0.0375324\tvalid_0's multi_logloss: 0.111598\tvalid_1's multi_error: 0.0539613\tvalid_1's multi_logloss: 0.155549\n",
            "[540]\tvalid_0's multi_error: 0.0374386\tvalid_0's multi_logloss: 0.111515\tvalid_1's multi_error: 0.054102\tvalid_1's multi_logloss: 0.155538\n",
            "[541]\tvalid_0's multi_error: 0.0374948\tvalid_0's multi_logloss: 0.111384\tvalid_1's multi_error: 0.0539613\tvalid_1's multi_logloss: 0.155446\n",
            "[542]\tvalid_0's multi_error: 0.0374948\tvalid_0's multi_logloss: 0.111291\tvalid_1's multi_error: 0.0539332\tvalid_1's multi_logloss: 0.155413\n",
            "[543]\tvalid_0's multi_error: 0.0374386\tvalid_0's multi_logloss: 0.111211\tvalid_1's multi_error: 0.0539613\tvalid_1's multi_logloss: 0.155404\n",
            "[544]\tvalid_0's multi_error: 0.0373635\tvalid_0's multi_logloss: 0.111132\tvalid_1's multi_error: 0.0539894\tvalid_1's multi_logloss: 0.155379\n",
            "[545]\tvalid_0's multi_error: 0.0373073\tvalid_0's multi_logloss: 0.111055\tvalid_1's multi_error: 0.053905\tvalid_1's multi_logloss: 0.155382\n",
            "[546]\tvalid_0's multi_error: 0.0373448\tvalid_0's multi_logloss: 0.110979\tvalid_1's multi_error: 0.053905\tvalid_1's multi_logloss: 0.155386\n",
            "[547]\tvalid_0's multi_error: 0.0371947\tvalid_0's multi_logloss: 0.110866\tvalid_1's multi_error: 0.0540176\tvalid_1's multi_logloss: 0.155315\n",
            "[548]\tvalid_0's multi_error: 0.037176\tvalid_0's multi_logloss: 0.110724\tvalid_1's multi_error: 0.0539332\tvalid_1's multi_logloss: 0.155221\n",
            "[549]\tvalid_0's multi_error: 0.0371385\tvalid_0's multi_logloss: 0.110652\tvalid_1's multi_error: 0.0539613\tvalid_1's multi_logloss: 0.155205\n",
            "[550]\tvalid_0's multi_error: 0.0371385\tvalid_0's multi_logloss: 0.110562\tvalid_1's multi_error: 0.0539613\tvalid_1's multi_logloss: 0.155185\n",
            "[551]\tvalid_0's multi_error: 0.0370822\tvalid_0's multi_logloss: 0.110483\tvalid_1's multi_error: 0.0539613\tvalid_1's multi_logloss: 0.155175\n",
            "[552]\tvalid_0's multi_error: 0.0369884\tvalid_0's multi_logloss: 0.110394\tvalid_1's multi_error: 0.053905\tvalid_1's multi_logloss: 0.15514\n",
            "[553]\tvalid_0's multi_error: 0.0368946\tvalid_0's multi_logloss: 0.110296\tvalid_1's multi_error: 0.0539332\tvalid_1's multi_logloss: 0.155101\n",
            "[554]\tvalid_0's multi_error: 0.0368196\tvalid_0's multi_logloss: 0.110219\tvalid_1's multi_error: 0.053905\tvalid_1's multi_logloss: 0.155108\n",
            "[555]\tvalid_0's multi_error: 0.0368008\tvalid_0's multi_logloss: 0.110124\tvalid_1's multi_error: 0.0538769\tvalid_1's multi_logloss: 0.155073\n",
            "[556]\tvalid_0's multi_error: 0.0367446\tvalid_0's multi_logloss: 0.110052\tvalid_1's multi_error: 0.053905\tvalid_1's multi_logloss: 0.155063\n",
            "[557]\tvalid_0's multi_error: 0.0367821\tvalid_0's multi_logloss: 0.109984\tvalid_1's multi_error: 0.0538488\tvalid_1's multi_logloss: 0.155051\n",
            "[558]\tvalid_0's multi_error: 0.0367633\tvalid_0's multi_logloss: 0.109914\tvalid_1's multi_error: 0.0538769\tvalid_1's multi_logloss: 0.155036\n",
            "[559]\tvalid_0's multi_error: 0.0367446\tvalid_0's multi_logloss: 0.109799\tvalid_1's multi_error: 0.0538206\tvalid_1's multi_logloss: 0.15497\n",
            "[560]\tvalid_0's multi_error: 0.0367446\tvalid_0's multi_logloss: 0.109713\tvalid_1's multi_error: 0.053905\tvalid_1's multi_logloss: 0.154938\n",
            "[561]\tvalid_0's multi_error: 0.0367446\tvalid_0's multi_logloss: 0.109595\tvalid_1's multi_error: 0.0538769\tvalid_1's multi_logloss: 0.154888\n",
            "[562]\tvalid_0's multi_error: 0.0366883\tvalid_0's multi_logloss: 0.109527\tvalid_1's multi_error: 0.0538488\tvalid_1's multi_logloss: 0.154879\n",
            "[563]\tvalid_0's multi_error: 0.0365758\tvalid_0's multi_logloss: 0.109462\tvalid_1's multi_error: 0.0539332\tvalid_1's multi_logloss: 0.154869\n",
            "[564]\tvalid_0's multi_error: 0.0365007\tvalid_0's multi_logloss: 0.109407\tvalid_1's multi_error: 0.0539332\tvalid_1's multi_logloss: 0.154878\n",
            "[565]\tvalid_0's multi_error: 0.0364445\tvalid_0's multi_logloss: 0.109329\tvalid_1's multi_error: 0.0538769\tvalid_1's multi_logloss: 0.154861\n",
            "[566]\tvalid_0's multi_error: 0.0364257\tvalid_0's multi_logloss: 0.109273\tvalid_1's multi_error: 0.0539332\tvalid_1's multi_logloss: 0.154866\n",
            "[567]\tvalid_0's multi_error: 0.0363694\tvalid_0's multi_logloss: 0.109191\tvalid_1's multi_error: 0.053905\tvalid_1's multi_logloss: 0.154812\n",
            "[568]\tvalid_0's multi_error: 0.0363319\tvalid_0's multi_logloss: 0.109124\tvalid_1's multi_error: 0.053905\tvalid_1's multi_logloss: 0.15481\n",
            "[569]\tvalid_0's multi_error: 0.0362756\tvalid_0's multi_logloss: 0.109055\tvalid_1's multi_error: 0.0539613\tvalid_1's multi_logloss: 0.154817\n",
            "[570]\tvalid_0's multi_error: 0.0362756\tvalid_0's multi_logloss: 0.108985\tvalid_1's multi_error: 0.0539894\tvalid_1's multi_logloss: 0.154823\n",
            "[571]\tvalid_0's multi_error: 0.0362381\tvalid_0's multi_logloss: 0.108907\tvalid_1's multi_error: 0.0539332\tvalid_1's multi_logloss: 0.154821\n",
            "[572]\tvalid_0's multi_error: 0.0361631\tvalid_0's multi_logloss: 0.108821\tvalid_1's multi_error: 0.0538206\tvalid_1's multi_logloss: 0.154794\n",
            "[573]\tvalid_0's multi_error: 0.0361444\tvalid_0's multi_logloss: 0.108733\tvalid_1's multi_error: 0.0538206\tvalid_1's multi_logloss: 0.154748\n",
            "[574]\tvalid_0's multi_error: 0.0361444\tvalid_0's multi_logloss: 0.10866\tvalid_1's multi_error: 0.0537643\tvalid_1's multi_logloss: 0.154753\n",
            "[575]\tvalid_0's multi_error: 0.0360131\tvalid_0's multi_logloss: 0.108599\tvalid_1's multi_error: 0.0537643\tvalid_1's multi_logloss: 0.154757\n",
            "[576]\tvalid_0's multi_error: 0.0359005\tvalid_0's multi_logloss: 0.10848\tvalid_1's multi_error: 0.0537643\tvalid_1's multi_logloss: 0.154683\n",
            "[577]\tvalid_0's multi_error: 0.035863\tvalid_0's multi_logloss: 0.10834\tvalid_1's multi_error: 0.0537362\tvalid_1's multi_logloss: 0.154593\n",
            "[578]\tvalid_0's multi_error: 0.0358818\tvalid_0's multi_logloss: 0.108203\tvalid_1's multi_error: 0.0537081\tvalid_1's multi_logloss: 0.154496\n",
            "[579]\tvalid_0's multi_error: 0.035863\tvalid_0's multi_logloss: 0.10813\tvalid_1's multi_error: 0.0537362\tvalid_1's multi_logloss: 0.154488\n",
            "[580]\tvalid_0's multi_error: 0.0358255\tvalid_0's multi_logloss: 0.108062\tvalid_1's multi_error: 0.0536799\tvalid_1's multi_logloss: 0.154484\n",
            "[581]\tvalid_0's multi_error: 0.0357129\tvalid_0's multi_logloss: 0.107921\tvalid_1's multi_error: 0.0536799\tvalid_1's multi_logloss: 0.154389\n",
            "[582]\tvalid_0's multi_error: 0.0356942\tvalid_0's multi_logloss: 0.107833\tvalid_1's multi_error: 0.0536799\tvalid_1's multi_logloss: 0.154363\n",
            "[583]\tvalid_0's multi_error: 0.0356942\tvalid_0's multi_logloss: 0.107765\tvalid_1's multi_error: 0.0537925\tvalid_1's multi_logloss: 0.154363\n",
            "[584]\tvalid_0's multi_error: 0.0356192\tvalid_0's multi_logloss: 0.107673\tvalid_1's multi_error: 0.0537643\tvalid_1's multi_logloss: 0.154321\n",
            "[585]\tvalid_0's multi_error: 0.0356379\tvalid_0's multi_logloss: 0.107613\tvalid_1's multi_error: 0.0538206\tvalid_1's multi_logloss: 0.154328\n",
            "[586]\tvalid_0's multi_error: 0.0356004\tvalid_0's multi_logloss: 0.107555\tvalid_1's multi_error: 0.0538488\tvalid_1's multi_logloss: 0.154322\n",
            "[587]\tvalid_0's multi_error: 0.0355629\tvalid_0's multi_logloss: 0.10749\tvalid_1's multi_error: 0.0537925\tvalid_1's multi_logloss: 0.154312\n",
            "[588]\tvalid_0's multi_error: 0.0355629\tvalid_0's multi_logloss: 0.107431\tvalid_1's multi_error: 0.0538206\tvalid_1's multi_logloss: 0.15432\n",
            "[589]\tvalid_0's multi_error: 0.0355066\tvalid_0's multi_logloss: 0.107362\tvalid_1's multi_error: 0.0537925\tvalid_1's multi_logloss: 0.154309\n",
            "[590]\tvalid_0's multi_error: 0.0355441\tvalid_0's multi_logloss: 0.107291\tvalid_1's multi_error: 0.0537362\tvalid_1's multi_logloss: 0.154301\n",
            "[591]\tvalid_0's multi_error: 0.0354879\tvalid_0's multi_logloss: 0.107218\tvalid_1's multi_error: 0.0537081\tvalid_1's multi_logloss: 0.154286\n",
            "[592]\tvalid_0's multi_error: 0.0354128\tvalid_0's multi_logloss: 0.107146\tvalid_1's multi_error: 0.0537362\tvalid_1's multi_logloss: 0.15428\n",
            "[593]\tvalid_0's multi_error: 0.0353753\tvalid_0's multi_logloss: 0.10709\tvalid_1's multi_error: 0.0537362\tvalid_1's multi_logloss: 0.154293\n",
            "[594]\tvalid_0's multi_error: 0.0353753\tvalid_0's multi_logloss: 0.107042\tvalid_1's multi_error: 0.0537643\tvalid_1's multi_logloss: 0.154299\n",
            "[595]\tvalid_0's multi_error: 0.0354316\tvalid_0's multi_logloss: 0.106969\tvalid_1's multi_error: 0.0538206\tvalid_1's multi_logloss: 0.154272\n",
            "[596]\tvalid_0's multi_error: 0.0353378\tvalid_0's multi_logloss: 0.106901\tvalid_1's multi_error: 0.0537925\tvalid_1's multi_logloss: 0.154265\n",
            "[597]\tvalid_0's multi_error: 0.035244\tvalid_0's multi_logloss: 0.106838\tvalid_1's multi_error: 0.0537643\tvalid_1's multi_logloss: 0.154263\n",
            "[598]\tvalid_0's multi_error: 0.035244\tvalid_0's multi_logloss: 0.106781\tvalid_1's multi_error: 0.0537643\tvalid_1's multi_logloss: 0.154257\n",
            "[599]\tvalid_0's multi_error: 0.0352065\tvalid_0's multi_logloss: 0.106726\tvalid_1's multi_error: 0.0537925\tvalid_1's multi_logloss: 0.154262\n",
            "[600]\tvalid_0's multi_error: 0.0352065\tvalid_0's multi_logloss: 0.106646\tvalid_1's multi_error: 0.0537643\tvalid_1's multi_logloss: 0.15425\n",
            "[601]\tvalid_0's multi_error: 0.0352253\tvalid_0's multi_logloss: 0.106575\tvalid_1's multi_error: 0.0537081\tvalid_1's multi_logloss: 0.154245\n",
            "[602]\tvalid_0's multi_error: 0.0351878\tvalid_0's multi_logloss: 0.106497\tvalid_1's multi_error: 0.0537643\tvalid_1's multi_logloss: 0.154236\n",
            "[603]\tvalid_0's multi_error: 0.0351315\tvalid_0's multi_logloss: 0.106434\tvalid_1's multi_error: 0.0537081\tvalid_1's multi_logloss: 0.154222\n",
            "[604]\tvalid_0's multi_error: 0.0350377\tvalid_0's multi_logloss: 0.106359\tvalid_1's multi_error: 0.0537081\tvalid_1's multi_logloss: 0.154222\n",
            "[605]\tvalid_0's multi_error: 0.0350377\tvalid_0's multi_logloss: 0.106272\tvalid_1's multi_error: 0.0537362\tvalid_1's multi_logloss: 0.154193\n",
            "[606]\tvalid_0's multi_error: 0.0349439\tvalid_0's multi_logloss: 0.106187\tvalid_1's multi_error: 0.0537362\tvalid_1's multi_logloss: 0.154145\n",
            "[607]\tvalid_0's multi_error: 0.0349064\tvalid_0's multi_logloss: 0.106112\tvalid_1's multi_error: 0.0536799\tvalid_1's multi_logloss: 0.154134\n",
            "[608]\tvalid_0's multi_error: 0.0349439\tvalid_0's multi_logloss: 0.106046\tvalid_1's multi_error: 0.0536518\tvalid_1's multi_logloss: 0.154131\n",
            "[609]\tvalid_0's multi_error: 0.0348876\tvalid_0's multi_logloss: 0.105971\tvalid_1's multi_error: 0.0536799\tvalid_1's multi_logloss: 0.154126\n",
            "[610]\tvalid_0's multi_error: 0.0348689\tvalid_0's multi_logloss: 0.105902\tvalid_1's multi_error: 0.0537081\tvalid_1's multi_logloss: 0.154104\n",
            "[611]\tvalid_0's multi_error: 0.0348314\tvalid_0's multi_logloss: 0.10584\tvalid_1's multi_error: 0.0536518\tvalid_1's multi_logloss: 0.154099\n",
            "[612]\tvalid_0's multi_error: 0.0348126\tvalid_0's multi_logloss: 0.10578\tvalid_1's multi_error: 0.0535955\tvalid_1's multi_logloss: 0.154094\n",
            "[613]\tvalid_0's multi_error: 0.0347563\tvalid_0's multi_logloss: 0.105705\tvalid_1's multi_error: 0.0536237\tvalid_1's multi_logloss: 0.154076\n",
            "[614]\tvalid_0's multi_error: 0.0347751\tvalid_0's multi_logloss: 0.105645\tvalid_1's multi_error: 0.0536799\tvalid_1's multi_logloss: 0.154078\n",
            "[615]\tvalid_0's multi_error: 0.0347188\tvalid_0's multi_logloss: 0.105589\tvalid_1's multi_error: 0.0537081\tvalid_1's multi_logloss: 0.154068\n",
            "[616]\tvalid_0's multi_error: 0.0347001\tvalid_0's multi_logloss: 0.105521\tvalid_1's multi_error: 0.0537081\tvalid_1's multi_logloss: 0.154054\n",
            "[617]\tvalid_0's multi_error: 0.0346813\tvalid_0's multi_logloss: 0.105424\tvalid_1's multi_error: 0.0536237\tvalid_1's multi_logloss: 0.154019\n",
            "[618]\tvalid_0's multi_error: 0.0347188\tvalid_0's multi_logloss: 0.105355\tvalid_1's multi_error: 0.0535955\tvalid_1's multi_logloss: 0.153998\n",
            "[619]\tvalid_0's multi_error: 0.0347001\tvalid_0's multi_logloss: 0.105272\tvalid_1's multi_error: 0.0535674\tvalid_1's multi_logloss: 0.153976\n",
            "[620]\tvalid_0's multi_error: 0.0346813\tvalid_0's multi_logloss: 0.10521\tvalid_1's multi_error: 0.0535674\tvalid_1's multi_logloss: 0.153966\n",
            "[621]\tvalid_0's multi_error: 0.0346251\tvalid_0's multi_logloss: 0.10515\tvalid_1's multi_error: 0.0535111\tvalid_1's multi_logloss: 0.153967\n",
            "[622]\tvalid_0's multi_error: 0.0346251\tvalid_0's multi_logloss: 0.10509\tvalid_1's multi_error: 0.0535111\tvalid_1's multi_logloss: 0.153979\n",
            "[623]\tvalid_0's multi_error: 0.0346063\tvalid_0's multi_logloss: 0.105026\tvalid_1's multi_error: 0.0535393\tvalid_1's multi_logloss: 0.153965\n",
            "[624]\tvalid_0's multi_error: 0.0345875\tvalid_0's multi_logloss: 0.104964\tvalid_1's multi_error: 0.053483\tvalid_1's multi_logloss: 0.153958\n",
            "[625]\tvalid_0's multi_error: 0.0345688\tvalid_0's multi_logloss: 0.104889\tvalid_1's multi_error: 0.053483\tvalid_1's multi_logloss: 0.153947\n",
            "[626]\tvalid_0's multi_error: 0.0345313\tvalid_0's multi_logloss: 0.104824\tvalid_1's multi_error: 0.0534549\tvalid_1's multi_logloss: 0.153936\n",
            "[627]\tvalid_0's multi_error: 0.0345313\tvalid_0's multi_logloss: 0.10475\tvalid_1's multi_error: 0.0534267\tvalid_1's multi_logloss: 0.153914\n",
            "[628]\tvalid_0's multi_error: 0.03455\tvalid_0's multi_logloss: 0.104675\tvalid_1's multi_error: 0.0534549\tvalid_1's multi_logloss: 0.153899\n",
            "[629]\tvalid_0's multi_error: 0.0345313\tvalid_0's multi_logloss: 0.104606\tvalid_1's multi_error: 0.0534549\tvalid_1's multi_logloss: 0.153892\n",
            "[630]\tvalid_0's multi_error: 0.03455\tvalid_0's multi_logloss: 0.104535\tvalid_1's multi_error: 0.0534549\tvalid_1's multi_logloss: 0.15388\n",
            "[631]\tvalid_0's multi_error: 0.0345313\tvalid_0's multi_logloss: 0.104469\tvalid_1's multi_error: 0.0534549\tvalid_1's multi_logloss: 0.153875\n",
            "[632]\tvalid_0's multi_error: 0.0345313\tvalid_0's multi_logloss: 0.104398\tvalid_1's multi_error: 0.0533986\tvalid_1's multi_logloss: 0.153837\n",
            "[633]\tvalid_0's multi_error: 0.0345125\tvalid_0's multi_logloss: 0.104328\tvalid_1's multi_error: 0.0534267\tvalid_1's multi_logloss: 0.153819\n",
            "[634]\tvalid_0's multi_error: 0.0344938\tvalid_0's multi_logloss: 0.104267\tvalid_1's multi_error: 0.0534267\tvalid_1's multi_logloss: 0.153811\n",
            "[635]\tvalid_0's multi_error: 0.0344938\tvalid_0's multi_logloss: 0.10419\tvalid_1's multi_error: 0.0533986\tvalid_1's multi_logloss: 0.153765\n",
            "[636]\tvalid_0's multi_error: 0.034475\tvalid_0's multi_logloss: 0.104117\tvalid_1's multi_error: 0.0534549\tvalid_1's multi_logloss: 0.153763\n",
            "[637]\tvalid_0's multi_error: 0.0344375\tvalid_0's multi_logloss: 0.10406\tvalid_1's multi_error: 0.0534267\tvalid_1's multi_logloss: 0.153765\n",
            "[638]\tvalid_0's multi_error: 0.0344187\tvalid_0's multi_logloss: 0.103987\tvalid_1's multi_error: 0.0534549\tvalid_1's multi_logloss: 0.153746\n",
            "[639]\tvalid_0's multi_error: 0.0344187\tvalid_0's multi_logloss: 0.103933\tvalid_1's multi_error: 0.0534549\tvalid_1's multi_logloss: 0.153745\n",
            "[640]\tvalid_0's multi_error: 0.0344\tvalid_0's multi_logloss: 0.103863\tvalid_1's multi_error: 0.053483\tvalid_1's multi_logloss: 0.153726\n",
            "[641]\tvalid_0's multi_error: 0.0343625\tvalid_0's multi_logloss: 0.10378\tvalid_1's multi_error: 0.053483\tvalid_1's multi_logloss: 0.153703\n",
            "[642]\tvalid_0's multi_error: 0.0343062\tvalid_0's multi_logloss: 0.103716\tvalid_1's multi_error: 0.0535393\tvalid_1's multi_logloss: 0.15369\n",
            "[643]\tvalid_0's multi_error: 0.0343062\tvalid_0's multi_logloss: 0.103663\tvalid_1's multi_error: 0.0535111\tvalid_1's multi_logloss: 0.153695\n",
            "[644]\tvalid_0's multi_error: 0.0342499\tvalid_0's multi_logloss: 0.103608\tvalid_1's multi_error: 0.0534549\tvalid_1's multi_logloss: 0.153696\n",
            "[645]\tvalid_0's multi_error: 0.0341749\tvalid_0's multi_logloss: 0.103542\tvalid_1's multi_error: 0.0534549\tvalid_1's multi_logloss: 0.15368\n",
            "[646]\tvalid_0's multi_error: 0.0342124\tvalid_0's multi_logloss: 0.10348\tvalid_1's multi_error: 0.0533986\tvalid_1's multi_logloss: 0.153663\n",
            "[647]\tvalid_0's multi_error: 0.0341561\tvalid_0's multi_logloss: 0.103401\tvalid_1's multi_error: 0.0533986\tvalid_1's multi_logloss: 0.153631\n",
            "[648]\tvalid_0's multi_error: 0.0341561\tvalid_0's multi_logloss: 0.10333\tvalid_1's multi_error: 0.0533986\tvalid_1's multi_logloss: 0.153614\n",
            "[649]\tvalid_0's multi_error: 0.0340811\tvalid_0's multi_logloss: 0.103261\tvalid_1's multi_error: 0.0533423\tvalid_1's multi_logloss: 0.153612\n",
            "[650]\tvalid_0's multi_error: 0.0340248\tvalid_0's multi_logloss: 0.103199\tvalid_1's multi_error: 0.0533142\tvalid_1's multi_logloss: 0.15362\n",
            "[651]\tvalid_0's multi_error: 0.0339873\tvalid_0's multi_logloss: 0.103134\tvalid_1's multi_error: 0.0533423\tvalid_1's multi_logloss: 0.153625\n",
            "[652]\tvalid_0's multi_error: 0.0340061\tvalid_0's multi_logloss: 0.103082\tvalid_1's multi_error: 0.0533423\tvalid_1's multi_logloss: 0.153622\n",
            "[653]\tvalid_0's multi_error: 0.0339686\tvalid_0's multi_logloss: 0.103009\tvalid_1's multi_error: 0.0532861\tvalid_1's multi_logloss: 0.153616\n",
            "[654]\tvalid_0's multi_error: 0.0339498\tvalid_0's multi_logloss: 0.102942\tvalid_1's multi_error: 0.0533142\tvalid_1's multi_logloss: 0.153608\n",
            "[655]\tvalid_0's multi_error: 0.0339311\tvalid_0's multi_logloss: 0.102865\tvalid_1's multi_error: 0.0533142\tvalid_1's multi_logloss: 0.153577\n",
            "[656]\tvalid_0's multi_error: 0.0339686\tvalid_0's multi_logloss: 0.102711\tvalid_1's multi_error: 0.0533142\tvalid_1's multi_logloss: 0.153461\n",
            "[657]\tvalid_0's multi_error: 0.0339498\tvalid_0's multi_logloss: 0.102626\tvalid_1's multi_error: 0.0532298\tvalid_1's multi_logloss: 0.153443\n",
            "[658]\tvalid_0's multi_error: 0.0339498\tvalid_0's multi_logloss: 0.102571\tvalid_1's multi_error: 0.0532298\tvalid_1's multi_logloss: 0.153442\n",
            "[659]\tvalid_0's multi_error: 0.0339311\tvalid_0's multi_logloss: 0.10248\tvalid_1's multi_error: 0.0532298\tvalid_1's multi_logloss: 0.153401\n",
            "[660]\tvalid_0's multi_error: 0.0338748\tvalid_0's multi_logloss: 0.102409\tvalid_1's multi_error: 0.0532017\tvalid_1's multi_logloss: 0.153386\n",
            "[661]\tvalid_0's multi_error: 0.033856\tvalid_0's multi_logloss: 0.102337\tvalid_1's multi_error: 0.0532579\tvalid_1's multi_logloss: 0.153372\n",
            "[662]\tvalid_0's multi_error: 0.033781\tvalid_0's multi_logloss: 0.102279\tvalid_1's multi_error: 0.0532298\tvalid_1's multi_logloss: 0.153371\n",
            "[663]\tvalid_0's multi_error: 0.0336872\tvalid_0's multi_logloss: 0.102191\tvalid_1's multi_error: 0.0532579\tvalid_1's multi_logloss: 0.153323\n",
            "[664]\tvalid_0's multi_error: 0.0336685\tvalid_0's multi_logloss: 0.10211\tvalid_1's multi_error: 0.0532861\tvalid_1's multi_logloss: 0.153304\n",
            "[665]\tvalid_0's multi_error: 0.0336497\tvalid_0's multi_logloss: 0.10203\tvalid_1's multi_error: 0.0532861\tvalid_1's multi_logloss: 0.153276\n",
            "[666]\tvalid_0's multi_error: 0.0336122\tvalid_0's multi_logloss: 0.101959\tvalid_1's multi_error: 0.0532579\tvalid_1's multi_logloss: 0.15327\n",
            "[667]\tvalid_0's multi_error: 0.0335184\tvalid_0's multi_logloss: 0.101883\tvalid_1's multi_error: 0.0532298\tvalid_1's multi_logloss: 0.153252\n",
            "[668]\tvalid_0's multi_error: 0.0334621\tvalid_0's multi_logloss: 0.101812\tvalid_1's multi_error: 0.0532298\tvalid_1's multi_logloss: 0.153229\n",
            "[669]\tvalid_0's multi_error: 0.0334434\tvalid_0's multi_logloss: 0.101749\tvalid_1's multi_error: 0.0531735\tvalid_1's multi_logloss: 0.153212\n",
            "[670]\tvalid_0's multi_error: 0.0334246\tvalid_0's multi_logloss: 0.101673\tvalid_1's multi_error: 0.0532298\tvalid_1's multi_logloss: 0.153186\n",
            "[671]\tvalid_0's multi_error: 0.0334059\tvalid_0's multi_logloss: 0.101599\tvalid_1's multi_error: 0.0532579\tvalid_1's multi_logloss: 0.153178\n",
            "[672]\tvalid_0's multi_error: 0.0334059\tvalid_0's multi_logloss: 0.101532\tvalid_1's multi_error: 0.0532579\tvalid_1's multi_logloss: 0.153167\n",
            "[673]\tvalid_0's multi_error: 0.0333871\tvalid_0's multi_logloss: 0.101436\tvalid_1's multi_error: 0.0532579\tvalid_1's multi_logloss: 0.153128\n",
            "[674]\tvalid_0's multi_error: 0.0333121\tvalid_0's multi_logloss: 0.101359\tvalid_1's multi_error: 0.0532861\tvalid_1's multi_logloss: 0.153097\n",
            "[675]\tvalid_0's multi_error: 0.0333121\tvalid_0's multi_logloss: 0.101296\tvalid_1's multi_error: 0.0533705\tvalid_1's multi_logloss: 0.153092\n",
            "[676]\tvalid_0's multi_error: 0.0332933\tvalid_0's multi_logloss: 0.101235\tvalid_1's multi_error: 0.0533423\tvalid_1's multi_logloss: 0.153087\n",
            "[677]\tvalid_0's multi_error: 0.0332746\tvalid_0's multi_logloss: 0.101175\tvalid_1's multi_error: 0.0532579\tvalid_1's multi_logloss: 0.153074\n",
            "[678]\tvalid_0's multi_error: 0.0332746\tvalid_0's multi_logloss: 0.101112\tvalid_1's multi_error: 0.0533423\tvalid_1's multi_logloss: 0.153066\n",
            "[679]\tvalid_0's multi_error: 0.0332558\tvalid_0's multi_logloss: 0.101059\tvalid_1's multi_error: 0.0533423\tvalid_1's multi_logloss: 0.153059\n",
            "[680]\tvalid_0's multi_error: 0.0332558\tvalid_0's multi_logloss: 0.100978\tvalid_1's multi_error: 0.0532861\tvalid_1's multi_logloss: 0.153019\n",
            "[681]\tvalid_0's multi_error: 0.0331995\tvalid_0's multi_logloss: 0.100904\tvalid_1's multi_error: 0.0532579\tvalid_1's multi_logloss: 0.15298\n",
            "[682]\tvalid_0's multi_error: 0.0332558\tvalid_0's multi_logloss: 0.100844\tvalid_1's multi_error: 0.0532298\tvalid_1's multi_logloss: 0.152982\n",
            "[683]\tvalid_0's multi_error: 0.0332183\tvalid_0's multi_logloss: 0.100782\tvalid_1's multi_error: 0.0532579\tvalid_1's multi_logloss: 0.152965\n",
            "[684]\tvalid_0's multi_error: 0.033162\tvalid_0's multi_logloss: 0.100719\tvalid_1's multi_error: 0.0532017\tvalid_1's multi_logloss: 0.152961\n",
            "[685]\tvalid_0's multi_error: 0.0330495\tvalid_0's multi_logloss: 0.100631\tvalid_1's multi_error: 0.0532017\tvalid_1's multi_logloss: 0.152931\n",
            "[686]\tvalid_0's multi_error: 0.0330495\tvalid_0's multi_logloss: 0.100558\tvalid_1's multi_error: 0.0531173\tvalid_1's multi_logloss: 0.152924\n",
            "[687]\tvalid_0's multi_error: 0.033087\tvalid_0's multi_logloss: 0.100508\tvalid_1's multi_error: 0.0531173\tvalid_1's multi_logloss: 0.152918\n",
            "[688]\tvalid_0's multi_error: 0.0329932\tvalid_0's multi_logloss: 0.10043\tvalid_1's multi_error: 0.0531454\tvalid_1's multi_logloss: 0.152878\n",
            "[689]\tvalid_0's multi_error: 0.0329369\tvalid_0's multi_logloss: 0.100369\tvalid_1's multi_error: 0.0531173\tvalid_1's multi_logloss: 0.15287\n",
            "[690]\tvalid_0's multi_error: 0.0328619\tvalid_0's multi_logloss: 0.10031\tvalid_1's multi_error: 0.0530891\tvalid_1's multi_logloss: 0.152878\n",
            "[691]\tvalid_0's multi_error: 0.0328619\tvalid_0's multi_logloss: 0.10025\tvalid_1's multi_error: 0.0530891\tvalid_1's multi_logloss: 0.152877\n",
            "[692]\tvalid_0's multi_error: 0.0327681\tvalid_0's multi_logloss: 0.100168\tvalid_1's multi_error: 0.0530891\tvalid_1's multi_logloss: 0.15286\n",
            "[693]\tvalid_0's multi_error: 0.0327306\tvalid_0's multi_logloss: 0.100096\tvalid_1's multi_error: 0.0530891\tvalid_1's multi_logloss: 0.152805\n",
            "[694]\tvalid_0's multi_error: 0.0328056\tvalid_0's multi_logloss: 0.100024\tvalid_1's multi_error: 0.053061\tvalid_1's multi_logloss: 0.152792\n",
            "[695]\tvalid_0's multi_error: 0.0327494\tvalid_0's multi_logloss: 0.0999643\tvalid_1's multi_error: 0.0530047\tvalid_1's multi_logloss: 0.152785\n",
            "[696]\tvalid_0's multi_error: 0.0327119\tvalid_0's multi_logloss: 0.0998508\tvalid_1's multi_error: 0.0529766\tvalid_1's multi_logloss: 0.152717\n",
            "[697]\tvalid_0's multi_error: 0.0327119\tvalid_0's multi_logloss: 0.0997774\tvalid_1's multi_error: 0.0528922\tvalid_1's multi_logloss: 0.152708\n",
            "[698]\tvalid_0's multi_error: 0.0327119\tvalid_0's multi_logloss: 0.099722\tvalid_1's multi_error: 0.0528922\tvalid_1's multi_logloss: 0.152714\n",
            "[699]\tvalid_0's multi_error: 0.0326931\tvalid_0's multi_logloss: 0.0996405\tvalid_1's multi_error: 0.0528641\tvalid_1's multi_logloss: 0.152695\n",
            "[700]\tvalid_0's multi_error: 0.0326743\tvalid_0's multi_logloss: 0.0995798\tvalid_1's multi_error: 0.0528922\tvalid_1's multi_logloss: 0.152697\n",
            "[701]\tvalid_0's multi_error: 0.0325993\tvalid_0's multi_logloss: 0.099498\tvalid_1's multi_error: 0.0528922\tvalid_1's multi_logloss: 0.152679\n",
            "[702]\tvalid_0's multi_error: 0.0325806\tvalid_0's multi_logloss: 0.0994381\tvalid_1's multi_error: 0.0529203\tvalid_1's multi_logloss: 0.152675\n",
            "[703]\tvalid_0's multi_error: 0.032543\tvalid_0's multi_logloss: 0.0993871\tvalid_1's multi_error: 0.0529766\tvalid_1's multi_logloss: 0.152691\n",
            "[704]\tvalid_0's multi_error: 0.0324868\tvalid_0's multi_logloss: 0.0993266\tvalid_1's multi_error: 0.0529766\tvalid_1's multi_logloss: 0.152697\n",
            "[705]\tvalid_0's multi_error: 0.0324117\tvalid_0's multi_logloss: 0.0992746\tvalid_1's multi_error: 0.0530047\tvalid_1's multi_logloss: 0.152683\n",
            "[706]\tvalid_0's multi_error: 0.032468\tvalid_0's multi_logloss: 0.0992254\tvalid_1's multi_error: 0.0529485\tvalid_1's multi_logloss: 0.15268\n",
            "[707]\tvalid_0's multi_error: 0.0324305\tvalid_0's multi_logloss: 0.0991681\tvalid_1's multi_error: 0.0529203\tvalid_1's multi_logloss: 0.152673\n",
            "[708]\tvalid_0's multi_error: 0.0324117\tvalid_0's multi_logloss: 0.099107\tvalid_1's multi_error: 0.0528922\tvalid_1's multi_logloss: 0.152661\n",
            "[709]\tvalid_0's multi_error: 0.0322805\tvalid_0's multi_logloss: 0.0990513\tvalid_1's multi_error: 0.0528922\tvalid_1's multi_logloss: 0.152654\n",
            "[710]\tvalid_0's multi_error: 0.0322242\tvalid_0's multi_logloss: 0.0989845\tvalid_1's multi_error: 0.0528641\tvalid_1's multi_logloss: 0.152629\n",
            "[711]\tvalid_0's multi_error: 0.0322054\tvalid_0's multi_logloss: 0.0988982\tvalid_1's multi_error: 0.0528359\tvalid_1's multi_logloss: 0.1526\n",
            "[712]\tvalid_0's multi_error: 0.0321679\tvalid_0's multi_logloss: 0.0988219\tvalid_1's multi_error: 0.0528359\tvalid_1's multi_logloss: 0.152581\n",
            "[713]\tvalid_0's multi_error: 0.0321492\tvalid_0's multi_logloss: 0.0987267\tvalid_1's multi_error: 0.0528078\tvalid_1's multi_logloss: 0.15251\n",
            "[714]\tvalid_0's multi_error: 0.0320554\tvalid_0's multi_logloss: 0.0986745\tvalid_1's multi_error: 0.0528641\tvalid_1's multi_logloss: 0.152513\n",
            "[715]\tvalid_0's multi_error: 0.0319991\tvalid_0's multi_logloss: 0.0985984\tvalid_1's multi_error: 0.0528641\tvalid_1's multi_logloss: 0.152485\n",
            "[716]\tvalid_0's multi_error: 0.0319616\tvalid_0's multi_logloss: 0.0985278\tvalid_1's multi_error: 0.0527797\tvalid_1's multi_logloss: 0.152438\n",
            "[717]\tvalid_0's multi_error: 0.0319053\tvalid_0's multi_logloss: 0.098469\tvalid_1's multi_error: 0.0527797\tvalid_1's multi_logloss: 0.152424\n",
            "[718]\tvalid_0's multi_error: 0.0318866\tvalid_0's multi_logloss: 0.0984109\tvalid_1's multi_error: 0.0527797\tvalid_1's multi_logloss: 0.152411\n",
            "[719]\tvalid_0's multi_error: 0.031849\tvalid_0's multi_logloss: 0.0983441\tvalid_1's multi_error: 0.0527797\tvalid_1's multi_logloss: 0.152377\n",
            "[720]\tvalid_0's multi_error: 0.0317928\tvalid_0's multi_logloss: 0.098267\tvalid_1's multi_error: 0.0528922\tvalid_1's multi_logloss: 0.152346\n",
            "[721]\tvalid_0's multi_error: 0.0318303\tvalid_0's multi_logloss: 0.0981947\tvalid_1's multi_error: 0.0529203\tvalid_1's multi_logloss: 0.152315\n",
            "[722]\tvalid_0's multi_error: 0.0318115\tvalid_0's multi_logloss: 0.0981392\tvalid_1's multi_error: 0.0529203\tvalid_1's multi_logloss: 0.15231\n",
            "[723]\tvalid_0's multi_error: 0.031774\tvalid_0's multi_logloss: 0.0980825\tvalid_1's multi_error: 0.0529203\tvalid_1's multi_logloss: 0.152316\n",
            "[724]\tvalid_0's multi_error: 0.0317553\tvalid_0's multi_logloss: 0.098032\tvalid_1's multi_error: 0.0528922\tvalid_1's multi_logloss: 0.152307\n",
            "[725]\tvalid_0's multi_error: 0.0317177\tvalid_0's multi_logloss: 0.0979877\tvalid_1's multi_error: 0.0528922\tvalid_1's multi_logloss: 0.152297\n",
            "[726]\tvalid_0's multi_error: 0.0316802\tvalid_0's multi_logloss: 0.0979096\tvalid_1's multi_error: 0.0528641\tvalid_1's multi_logloss: 0.152244\n",
            "[727]\tvalid_0's multi_error: 0.0316802\tvalid_0's multi_logloss: 0.097837\tvalid_1's multi_error: 0.0528359\tvalid_1's multi_logloss: 0.15222\n",
            "[728]\tvalid_0's multi_error: 0.031624\tvalid_0's multi_logloss: 0.0977841\tvalid_1's multi_error: 0.0528359\tvalid_1's multi_logloss: 0.152208\n",
            "[729]\tvalid_0's multi_error: 0.0315302\tvalid_0's multi_logloss: 0.0977257\tvalid_1's multi_error: 0.0527515\tvalid_1's multi_logloss: 0.152207\n",
            "[730]\tvalid_0's multi_error: 0.0315114\tvalid_0's multi_logloss: 0.0976632\tvalid_1's multi_error: 0.0527234\tvalid_1's multi_logloss: 0.152194\n",
            "[731]\tvalid_0's multi_error: 0.0314552\tvalid_0's multi_logloss: 0.0976047\tvalid_1's multi_error: 0.0527234\tvalid_1's multi_logloss: 0.152192\n",
            "[732]\tvalid_0's multi_error: 0.0314364\tvalid_0's multi_logloss: 0.0975405\tvalid_1's multi_error: 0.0528359\tvalid_1's multi_logloss: 0.152195\n",
            "[733]\tvalid_0's multi_error: 0.0314364\tvalid_0's multi_logloss: 0.0974764\tvalid_1's multi_error: 0.0528359\tvalid_1's multi_logloss: 0.152173\n",
            "[734]\tvalid_0's multi_error: 0.0313614\tvalid_0's multi_logloss: 0.097337\tvalid_1's multi_error: 0.0527234\tvalid_1's multi_logloss: 0.152059\n",
            "[735]\tvalid_0's multi_error: 0.0313801\tvalid_0's multi_logloss: 0.0972377\tvalid_1's multi_error: 0.052639\tvalid_1's multi_logloss: 0.152003\n",
            "[736]\tvalid_0's multi_error: 0.0313614\tvalid_0's multi_logloss: 0.0971797\tvalid_1's multi_error: 0.0525827\tvalid_1's multi_logloss: 0.151993\n",
            "[737]\tvalid_0's multi_error: 0.0313614\tvalid_0's multi_logloss: 0.0971129\tvalid_1's multi_error: 0.0525264\tvalid_1's multi_logloss: 0.151991\n",
            "[738]\tvalid_0's multi_error: 0.0313614\tvalid_0's multi_logloss: 0.097061\tvalid_1's multi_error: 0.0525264\tvalid_1's multi_logloss: 0.151991\n",
            "[739]\tvalid_0's multi_error: 0.0313426\tvalid_0's multi_logloss: 0.0969953\tvalid_1's multi_error: 0.0524983\tvalid_1's multi_logloss: 0.151984\n",
            "[740]\tvalid_0's multi_error: 0.0312863\tvalid_0's multi_logloss: 0.0969397\tvalid_1's multi_error: 0.0525546\tvalid_1's multi_logloss: 0.151971\n",
            "[741]\tvalid_0's multi_error: 0.0312488\tvalid_0's multi_logloss: 0.0969011\tvalid_1's multi_error: 0.0525546\tvalid_1's multi_logloss: 0.15197\n",
            "[742]\tvalid_0's multi_error: 0.031155\tvalid_0's multi_logloss: 0.0967595\tvalid_1's multi_error: 0.0525546\tvalid_1's multi_logloss: 0.151858\n",
            "[743]\tvalid_0's multi_error: 0.0311175\tvalid_0's multi_logloss: 0.0967068\tvalid_1's multi_error: 0.0525264\tvalid_1's multi_logloss: 0.151852\n",
            "[744]\tvalid_0's multi_error: 0.0311175\tvalid_0's multi_logloss: 0.0966456\tvalid_1's multi_error: 0.0524983\tvalid_1's multi_logloss: 0.151849\n",
            "[745]\tvalid_0's multi_error: 0.0311363\tvalid_0's multi_logloss: 0.0965836\tvalid_1's multi_error: 0.0524702\tvalid_1's multi_logloss: 0.151836\n",
            "[746]\tvalid_0's multi_error: 0.0311175\tvalid_0's multi_logloss: 0.0965286\tvalid_1's multi_error: 0.0524983\tvalid_1's multi_logloss: 0.151837\n",
            "[747]\tvalid_0's multi_error: 0.0310613\tvalid_0's multi_logloss: 0.0964847\tvalid_1's multi_error: 0.0524983\tvalid_1's multi_logloss: 0.151847\n",
            "[748]\tvalid_0's multi_error: 0.0310613\tvalid_0's multi_logloss: 0.0964309\tvalid_1's multi_error: 0.0524702\tvalid_1's multi_logloss: 0.151832\n",
            "[749]\tvalid_0's multi_error: 0.031005\tvalid_0's multi_logloss: 0.0963835\tvalid_1's multi_error: 0.0524702\tvalid_1's multi_logloss: 0.151836\n",
            "[750]\tvalid_0's multi_error: 0.0309487\tvalid_0's multi_logloss: 0.0963269\tvalid_1's multi_error: 0.052442\tvalid_1's multi_logloss: 0.151833\n",
            "[751]\tvalid_0's multi_error: 0.0309675\tvalid_0's multi_logloss: 0.096253\tvalid_1's multi_error: 0.0524702\tvalid_1's multi_logloss: 0.151797\n",
            "[752]\tvalid_0's multi_error: 0.0309487\tvalid_0's multi_logloss: 0.0962072\tvalid_1's multi_error: 0.0525546\tvalid_1's multi_logloss: 0.15179\n",
            "[753]\tvalid_0's multi_error: 0.0308924\tvalid_0's multi_logloss: 0.0961397\tvalid_1's multi_error: 0.0525827\tvalid_1's multi_logloss: 0.151773\n",
            "[754]\tvalid_0's multi_error: 0.0308737\tvalid_0's multi_logloss: 0.0960804\tvalid_1's multi_error: 0.0525827\tvalid_1's multi_logloss: 0.151751\n",
            "[755]\tvalid_0's multi_error: 0.0308174\tvalid_0's multi_logloss: 0.096034\tvalid_1's multi_error: 0.0525827\tvalid_1's multi_logloss: 0.15176\n",
            "[756]\tvalid_0's multi_error: 0.0308362\tvalid_0's multi_logloss: 0.0959743\tvalid_1's multi_error: 0.052442\tvalid_1's multi_logloss: 0.151732\n",
            "[757]\tvalid_0's multi_error: 0.0307987\tvalid_0's multi_logloss: 0.0959143\tvalid_1's multi_error: 0.0524702\tvalid_1's multi_logloss: 0.151721\n",
            "[758]\tvalid_0's multi_error: 0.0307612\tvalid_0's multi_logloss: 0.0958476\tvalid_1's multi_error: 0.0524983\tvalid_1's multi_logloss: 0.151705\n",
            "[759]\tvalid_0's multi_error: 0.0307612\tvalid_0's multi_logloss: 0.0957941\tvalid_1's multi_error: 0.052442\tvalid_1's multi_logloss: 0.151695\n",
            "[760]\tvalid_0's multi_error: 0.0307612\tvalid_0's multi_logloss: 0.0957466\tvalid_1's multi_error: 0.0524702\tvalid_1's multi_logloss: 0.151695\n",
            "[761]\tvalid_0's multi_error: 0.0307049\tvalid_0's multi_logloss: 0.0956706\tvalid_1's multi_error: 0.0524983\tvalid_1's multi_logloss: 0.151652\n",
            "[762]\tvalid_0's multi_error: 0.0306674\tvalid_0's multi_logloss: 0.0956098\tvalid_1's multi_error: 0.0525264\tvalid_1's multi_logloss: 0.15165\n",
            "[763]\tvalid_0's multi_error: 0.0307236\tvalid_0's multi_logloss: 0.095549\tvalid_1's multi_error: 0.052442\tvalid_1's multi_logloss: 0.151617\n",
            "[764]\tvalid_0's multi_error: 0.0306861\tvalid_0's multi_logloss: 0.0954955\tvalid_1's multi_error: 0.0524702\tvalid_1's multi_logloss: 0.151619\n",
            "[765]\tvalid_0's multi_error: 0.0306861\tvalid_0's multi_logloss: 0.0954117\tvalid_1's multi_error: 0.0523295\tvalid_1's multi_logloss: 0.151578\n",
            "[766]\tvalid_0's multi_error: 0.0306486\tvalid_0's multi_logloss: 0.0953409\tvalid_1's multi_error: 0.0522732\tvalid_1's multi_logloss: 0.151569\n",
            "[767]\tvalid_0's multi_error: 0.0306111\tvalid_0's multi_logloss: 0.0952677\tvalid_1's multi_error: 0.0523014\tvalid_1's multi_logloss: 0.151522\n",
            "[768]\tvalid_0's multi_error: 0.0306111\tvalid_0's multi_logloss: 0.0952112\tvalid_1's multi_error: 0.0523576\tvalid_1's multi_logloss: 0.151514\n",
            "[769]\tvalid_0's multi_error: 0.0305923\tvalid_0's multi_logloss: 0.0951457\tvalid_1's multi_error: 0.0523014\tvalid_1's multi_logloss: 0.151488\n",
            "[770]\tvalid_0's multi_error: 0.0305361\tvalid_0's multi_logloss: 0.095094\tvalid_1's multi_error: 0.0522732\tvalid_1's multi_logloss: 0.151485\n",
            "[771]\tvalid_0's multi_error: 0.0304986\tvalid_0's multi_logloss: 0.0950346\tvalid_1's multi_error: 0.052217\tvalid_1's multi_logloss: 0.151462\n",
            "[772]\tvalid_0's multi_error: 0.0304986\tvalid_0's multi_logloss: 0.0949727\tvalid_1's multi_error: 0.0522451\tvalid_1's multi_logloss: 0.151446\n",
            "[773]\tvalid_0's multi_error: 0.030461\tvalid_0's multi_logloss: 0.0948941\tvalid_1's multi_error: 0.0521888\tvalid_1's multi_logloss: 0.151401\n",
            "[774]\tvalid_0's multi_error: 0.0304423\tvalid_0's multi_logloss: 0.0948457\tvalid_1's multi_error: 0.0521888\tvalid_1's multi_logloss: 0.151402\n",
            "[775]\tvalid_0's multi_error: 0.030386\tvalid_0's multi_logloss: 0.0947943\tvalid_1's multi_error: 0.0521607\tvalid_1's multi_logloss: 0.151403\n",
            "[776]\tvalid_0's multi_error: 0.030386\tvalid_0's multi_logloss: 0.094728\tvalid_1's multi_error: 0.0521044\tvalid_1's multi_logloss: 0.151384\n",
            "[777]\tvalid_0's multi_error: 0.030386\tvalid_0's multi_logloss: 0.0946698\tvalid_1's multi_error: 0.0521326\tvalid_1's multi_logloss: 0.151386\n",
            "[778]\tvalid_0's multi_error: 0.030386\tvalid_0's multi_logloss: 0.0946154\tvalid_1's multi_error: 0.0521326\tvalid_1's multi_logloss: 0.151374\n",
            "[779]\tvalid_0's multi_error: 0.0303297\tvalid_0's multi_logloss: 0.0945511\tvalid_1's multi_error: 0.0521607\tvalid_1's multi_logloss: 0.15138\n",
            "[780]\tvalid_0's multi_error: 0.0303673\tvalid_0's multi_logloss: 0.0944885\tvalid_1's multi_error: 0.0521607\tvalid_1's multi_logloss: 0.151369\n",
            "[781]\tvalid_0's multi_error: 0.0303485\tvalid_0's multi_logloss: 0.094434\tvalid_1's multi_error: 0.0521888\tvalid_1's multi_logloss: 0.151367\n",
            "[782]\tvalid_0's multi_error: 0.0303297\tvalid_0's multi_logloss: 0.0943766\tvalid_1's multi_error: 0.0522451\tvalid_1's multi_logloss: 0.151347\n",
            "[783]\tvalid_0's multi_error: 0.0302547\tvalid_0's multi_logloss: 0.0943105\tvalid_1's multi_error: 0.052217\tvalid_1's multi_logloss: 0.151331\n",
            "[784]\tvalid_0's multi_error: 0.0301984\tvalid_0's multi_logloss: 0.0942662\tvalid_1's multi_error: 0.0522451\tvalid_1's multi_logloss: 0.151331\n",
            "[785]\tvalid_0's multi_error: 0.0301984\tvalid_0's multi_logloss: 0.0942118\tvalid_1's multi_error: 0.0523014\tvalid_1's multi_logloss: 0.151322\n",
            "[786]\tvalid_0's multi_error: 0.0302172\tvalid_0's multi_logloss: 0.0941518\tvalid_1's multi_error: 0.0523295\tvalid_1's multi_logloss: 0.151307\n",
            "[787]\tvalid_0's multi_error: 0.0301797\tvalid_0's multi_logloss: 0.0941014\tvalid_1's multi_error: 0.0523295\tvalid_1's multi_logloss: 0.151315\n",
            "[788]\tvalid_0's multi_error: 0.0301234\tvalid_0's multi_logloss: 0.0940222\tvalid_1's multi_error: 0.0523295\tvalid_1's multi_logloss: 0.151282\n",
            "[789]\tvalid_0's multi_error: 0.0301234\tvalid_0's multi_logloss: 0.0939736\tvalid_1's multi_error: 0.0522732\tvalid_1's multi_logloss: 0.151287\n",
            "[790]\tvalid_0's multi_error: 0.0301047\tvalid_0's multi_logloss: 0.0939213\tvalid_1's multi_error: 0.0523858\tvalid_1's multi_logloss: 0.15128\n",
            "[791]\tvalid_0's multi_error: 0.0301047\tvalid_0's multi_logloss: 0.0938687\tvalid_1's multi_error: 0.0524139\tvalid_1's multi_logloss: 0.151285\n",
            "[792]\tvalid_0's multi_error: 0.0301047\tvalid_0's multi_logloss: 0.0938083\tvalid_1's multi_error: 0.0523014\tvalid_1's multi_logloss: 0.151267\n",
            "[793]\tvalid_0's multi_error: 0.0300671\tvalid_0's multi_logloss: 0.0937503\tvalid_1's multi_error: 0.0522732\tvalid_1's multi_logloss: 0.151265\n",
            "[794]\tvalid_0's multi_error: 0.0300484\tvalid_0's multi_logloss: 0.0936983\tvalid_1's multi_error: 0.0522732\tvalid_1's multi_logloss: 0.151258\n",
            "[795]\tvalid_0's multi_error: 0.0300484\tvalid_0's multi_logloss: 0.0936605\tvalid_1's multi_error: 0.0522451\tvalid_1's multi_logloss: 0.15126\n",
            "[796]\tvalid_0's multi_error: 0.0299359\tvalid_0's multi_logloss: 0.0935908\tvalid_1's multi_error: 0.0523014\tvalid_1's multi_logloss: 0.151243\n",
            "[797]\tvalid_0's multi_error: 0.0299359\tvalid_0's multi_logloss: 0.0935313\tvalid_1's multi_error: 0.0523295\tvalid_1's multi_logloss: 0.151226\n",
            "[798]\tvalid_0's multi_error: 0.0299359\tvalid_0's multi_logloss: 0.0934623\tvalid_1's multi_error: 0.0523295\tvalid_1's multi_logloss: 0.151203\n",
            "[799]\tvalid_0's multi_error: 0.0299359\tvalid_0's multi_logloss: 0.0934092\tvalid_1's multi_error: 0.0523576\tvalid_1's multi_logloss: 0.151191\n",
            "[800]\tvalid_0's multi_error: 0.0298608\tvalid_0's multi_logloss: 0.0933449\tvalid_1's multi_error: 0.0524139\tvalid_1's multi_logloss: 0.151168\n",
            "[801]\tvalid_0's multi_error: 0.029767\tvalid_0's multi_logloss: 0.0932925\tvalid_1's multi_error: 0.0523858\tvalid_1's multi_logloss: 0.151166\n",
            "[802]\tvalid_0's multi_error: 0.0297108\tvalid_0's multi_logloss: 0.0932425\tvalid_1's multi_error: 0.0524139\tvalid_1's multi_logloss: 0.151162\n",
            "[803]\tvalid_0's multi_error: 0.0296733\tvalid_0's multi_logloss: 0.0931628\tvalid_1's multi_error: 0.0523858\tvalid_1's multi_logloss: 0.151121\n",
            "[804]\tvalid_0's multi_error: 0.029692\tvalid_0's multi_logloss: 0.0931036\tvalid_1's multi_error: 0.0523858\tvalid_1's multi_logloss: 0.151111\n",
            "[805]\tvalid_0's multi_error: 0.0296545\tvalid_0's multi_logloss: 0.0930472\tvalid_1's multi_error: 0.0523576\tvalid_1's multi_logloss: 0.151078\n",
            "[806]\tvalid_0's multi_error: 0.0295795\tvalid_0's multi_logloss: 0.0929821\tvalid_1's multi_error: 0.0523858\tvalid_1's multi_logloss: 0.151072\n",
            "[807]\tvalid_0's multi_error: 0.0295607\tvalid_0's multi_logloss: 0.0929167\tvalid_1's multi_error: 0.0523576\tvalid_1's multi_logloss: 0.15106\n",
            "[808]\tvalid_0's multi_error: 0.0294857\tvalid_0's multi_logloss: 0.0928545\tvalid_1's multi_error: 0.0524139\tvalid_1's multi_logloss: 0.151035\n",
            "[809]\tvalid_0's multi_error: 0.0294857\tvalid_0's multi_logloss: 0.092799\tvalid_1's multi_error: 0.0524139\tvalid_1's multi_logloss: 0.151031\n",
            "[810]\tvalid_0's multi_error: 0.0293919\tvalid_0's multi_logloss: 0.0927313\tvalid_1's multi_error: 0.0523295\tvalid_1's multi_logloss: 0.150985\n",
            "[811]\tvalid_0's multi_error: 0.0293919\tvalid_0's multi_logloss: 0.0926676\tvalid_1's multi_error: 0.0523014\tvalid_1's multi_logloss: 0.150969\n",
            "[812]\tvalid_0's multi_error: 0.0293919\tvalid_0's multi_logloss: 0.0926029\tvalid_1's multi_error: 0.0522732\tvalid_1's multi_logloss: 0.150944\n",
            "[813]\tvalid_0's multi_error: 0.0293731\tvalid_0's multi_logloss: 0.0925433\tvalid_1's multi_error: 0.0523014\tvalid_1's multi_logloss: 0.150944\n",
            "[814]\tvalid_0's multi_error: 0.0293169\tvalid_0's multi_logloss: 0.0924264\tvalid_1's multi_error: 0.0523014\tvalid_1's multi_logloss: 0.150857\n",
            "[815]\tvalid_0's multi_error: 0.0293169\tvalid_0's multi_logloss: 0.0923595\tvalid_1's multi_error: 0.0522451\tvalid_1's multi_logloss: 0.150839\n",
            "[816]\tvalid_0's multi_error: 0.0293169\tvalid_0's multi_logloss: 0.0922231\tvalid_1's multi_error: 0.0523295\tvalid_1's multi_logloss: 0.150745\n",
            "[817]\tvalid_0's multi_error: 0.0292794\tvalid_0's multi_logloss: 0.0921669\tvalid_1's multi_error: 0.0523576\tvalid_1's multi_logloss: 0.15075\n",
            "[818]\tvalid_0's multi_error: 0.0292794\tvalid_0's multi_logloss: 0.0920971\tvalid_1's multi_error: 0.0523295\tvalid_1's multi_logloss: 0.150735\n",
            "[819]\tvalid_0's multi_error: 0.0292794\tvalid_0's multi_logloss: 0.0919988\tvalid_1's multi_error: 0.0522732\tvalid_1's multi_logloss: 0.150693\n",
            "[820]\tvalid_0's multi_error: 0.0292419\tvalid_0's multi_logloss: 0.0919429\tvalid_1's multi_error: 0.0523014\tvalid_1's multi_logloss: 0.150689\n",
            "[821]\tvalid_0's multi_error: 0.0292231\tvalid_0's multi_logloss: 0.0918841\tvalid_1's multi_error: 0.0522732\tvalid_1's multi_logloss: 0.150677\n",
            "[822]\tvalid_0's multi_error: 0.0292231\tvalid_0's multi_logloss: 0.0918305\tvalid_1's multi_error: 0.0522451\tvalid_1's multi_logloss: 0.150685\n",
            "[823]\tvalid_0's multi_error: 0.0292043\tvalid_0's multi_logloss: 0.0917606\tvalid_1's multi_error: 0.0523014\tvalid_1's multi_logloss: 0.150649\n",
            "[824]\tvalid_0's multi_error: 0.0291293\tvalid_0's multi_logloss: 0.0917014\tvalid_1's multi_error: 0.0523295\tvalid_1's multi_logloss: 0.150653\n",
            "[825]\tvalid_0's multi_error: 0.0291106\tvalid_0's multi_logloss: 0.0916526\tvalid_1's multi_error: 0.0522451\tvalid_1's multi_logloss: 0.150662\n",
            "[826]\tvalid_0's multi_error: 0.0291106\tvalid_0's multi_logloss: 0.0915823\tvalid_1's multi_error: 0.0522451\tvalid_1's multi_logloss: 0.15065\n",
            "[827]\tvalid_0's multi_error: 0.029073\tvalid_0's multi_logloss: 0.0915344\tvalid_1's multi_error: 0.0523014\tvalid_1's multi_logloss: 0.150649\n",
            "[828]\tvalid_0's multi_error: 0.0290543\tvalid_0's multi_logloss: 0.0914078\tvalid_1's multi_error: 0.0522451\tvalid_1's multi_logloss: 0.150565\n",
            "[829]\tvalid_0's multi_error: 0.0290543\tvalid_0's multi_logloss: 0.0913509\tvalid_1's multi_error: 0.0522451\tvalid_1's multi_logloss: 0.150564\n",
            "[830]\tvalid_0's multi_error: 0.0290543\tvalid_0's multi_logloss: 0.0912826\tvalid_1's multi_error: 0.0522451\tvalid_1's multi_logloss: 0.150541\n",
            "[831]\tvalid_0's multi_error: 0.0290168\tvalid_0's multi_logloss: 0.0912317\tvalid_1's multi_error: 0.052217\tvalid_1's multi_logloss: 0.150538\n",
            "[832]\tvalid_0's multi_error: 0.0289793\tvalid_0's multi_logloss: 0.0911809\tvalid_1's multi_error: 0.0521888\tvalid_1's multi_logloss: 0.150527\n",
            "[833]\tvalid_0's multi_error: 0.0289417\tvalid_0's multi_logloss: 0.0911266\tvalid_1's multi_error: 0.0521607\tvalid_1's multi_logloss: 0.150522\n",
            "[834]\tvalid_0's multi_error: 0.0288855\tvalid_0's multi_logloss: 0.0910596\tvalid_1's multi_error: 0.0521888\tvalid_1's multi_logloss: 0.150499\n",
            "[835]\tvalid_0's multi_error: 0.0288667\tvalid_0's multi_logloss: 0.0910235\tvalid_1's multi_error: 0.0521888\tvalid_1's multi_logloss: 0.150499\n",
            "[836]\tvalid_0's multi_error: 0.0288667\tvalid_0's multi_logloss: 0.090974\tvalid_1's multi_error: 0.0521888\tvalid_1's multi_logloss: 0.150498\n",
            "[837]\tvalid_0's multi_error: 0.028848\tvalid_0's multi_logloss: 0.0909175\tvalid_1's multi_error: 0.0521326\tvalid_1's multi_logloss: 0.150472\n",
            "[838]\tvalid_0's multi_error: 0.0288292\tvalid_0's multi_logloss: 0.0907973\tvalid_1's multi_error: 0.0521044\tvalid_1's multi_logloss: 0.150369\n",
            "[839]\tvalid_0's multi_error: 0.0288292\tvalid_0's multi_logloss: 0.0907404\tvalid_1's multi_error: 0.0521044\tvalid_1's multi_logloss: 0.150364\n",
            "[840]\tvalid_0's multi_error: 0.0287729\tvalid_0's multi_logloss: 0.0906833\tvalid_1's multi_error: 0.0520763\tvalid_1's multi_logloss: 0.150344\n",
            "[841]\tvalid_0's multi_error: 0.0287167\tvalid_0's multi_logloss: 0.0906111\tvalid_1's multi_error: 0.0520482\tvalid_1's multi_logloss: 0.150319\n",
            "[842]\tvalid_0's multi_error: 0.0287354\tvalid_0's multi_logloss: 0.0905536\tvalid_1's multi_error: 0.0520763\tvalid_1's multi_logloss: 0.150308\n",
            "[843]\tvalid_0's multi_error: 0.0286791\tvalid_0's multi_logloss: 0.0904828\tvalid_1's multi_error: 0.0519919\tvalid_1's multi_logloss: 0.15027\n",
            "[844]\tvalid_0's multi_error: 0.0286979\tvalid_0's multi_logloss: 0.0904204\tvalid_1's multi_error: 0.0519919\tvalid_1's multi_logloss: 0.150247\n",
            "[845]\tvalid_0's multi_error: 0.0286791\tvalid_0's multi_logloss: 0.0903758\tvalid_1's multi_error: 0.0519638\tvalid_1's multi_logloss: 0.150255\n",
            "[846]\tvalid_0's multi_error: 0.0286416\tvalid_0's multi_logloss: 0.090257\tvalid_1's multi_error: 0.0519356\tvalid_1's multi_logloss: 0.150165\n",
            "[847]\tvalid_0's multi_error: 0.0286416\tvalid_0's multi_logloss: 0.0902045\tvalid_1's multi_error: 0.0519638\tvalid_1's multi_logloss: 0.150148\n",
            "[848]\tvalid_0's multi_error: 0.0285291\tvalid_0's multi_logloss: 0.0901494\tvalid_1's multi_error: 0.0519075\tvalid_1's multi_logloss: 0.150144\n",
            "[849]\tvalid_0's multi_error: 0.0285478\tvalid_0's multi_logloss: 0.0900992\tvalid_1's multi_error: 0.0519638\tvalid_1's multi_logloss: 0.150134\n",
            "[850]\tvalid_0's multi_error: 0.0284916\tvalid_0's multi_logloss: 0.0899916\tvalid_1's multi_error: 0.0518512\tvalid_1's multi_logloss: 0.150067\n",
            "[851]\tvalid_0's multi_error: 0.0284728\tvalid_0's multi_logloss: 0.0898775\tvalid_1's multi_error: 0.0519356\tvalid_1's multi_logloss: 0.149986\n",
            "[852]\tvalid_0's multi_error: 0.0284728\tvalid_0's multi_logloss: 0.0898133\tvalid_1's multi_error: 0.0519638\tvalid_1's multi_logloss: 0.14996\n",
            "[853]\tvalid_0's multi_error: 0.0284728\tvalid_0's multi_logloss: 0.0897749\tvalid_1's multi_error: 0.0519638\tvalid_1's multi_logloss: 0.149959\n",
            "[854]\tvalid_0's multi_error: 0.0284353\tvalid_0's multi_logloss: 0.0897233\tvalid_1's multi_error: 0.0518512\tvalid_1's multi_logloss: 0.149965\n",
            "[855]\tvalid_0's multi_error: 0.028379\tvalid_0's multi_logloss: 0.0896119\tvalid_1's multi_error: 0.051795\tvalid_1's multi_logloss: 0.149892\n",
            "[856]\tvalid_0's multi_error: 0.0283415\tvalid_0's multi_logloss: 0.0895487\tvalid_1's multi_error: 0.051795\tvalid_1's multi_logloss: 0.149877\n",
            "[857]\tvalid_0's multi_error: 0.0283603\tvalid_0's multi_logloss: 0.0894894\tvalid_1's multi_error: 0.0518231\tvalid_1's multi_logloss: 0.149859\n",
            "[858]\tvalid_0's multi_error: 0.0283228\tvalid_0's multi_logloss: 0.0894376\tvalid_1's multi_error: 0.0518231\tvalid_1's multi_logloss: 0.149862\n",
            "[859]\tvalid_0's multi_error: 0.0283228\tvalid_0's multi_logloss: 0.089372\tvalid_1's multi_error: 0.0517387\tvalid_1's multi_logloss: 0.149834\n",
            "[860]\tvalid_0's multi_error: 0.0282853\tvalid_0's multi_logloss: 0.0893156\tvalid_1's multi_error: 0.0517387\tvalid_1's multi_logloss: 0.149822\n",
            "[861]\tvalid_0's multi_error: 0.0282853\tvalid_0's multi_logloss: 0.0892498\tvalid_1's multi_error: 0.0517106\tvalid_1's multi_logloss: 0.1498\n",
            "[862]\tvalid_0's multi_error: 0.0282665\tvalid_0's multi_logloss: 0.0891944\tvalid_1's multi_error: 0.0517387\tvalid_1's multi_logloss: 0.149783\n",
            "[863]\tvalid_0's multi_error: 0.0282477\tvalid_0's multi_logloss: 0.0891456\tvalid_1's multi_error: 0.0517668\tvalid_1's multi_logloss: 0.149779\n",
            "[864]\tvalid_0's multi_error: 0.028229\tvalid_0's multi_logloss: 0.0890956\tvalid_1's multi_error: 0.051795\tvalid_1's multi_logloss: 0.149775\n",
            "[865]\tvalid_0's multi_error: 0.0282477\tvalid_0's multi_logloss: 0.0890393\tvalid_1's multi_error: 0.0517668\tvalid_1's multi_logloss: 0.149771\n",
            "[866]\tvalid_0's multi_error: 0.0282102\tvalid_0's multi_logloss: 0.0889914\tvalid_1's multi_error: 0.0517668\tvalid_1's multi_logloss: 0.149773\n",
            "[867]\tvalid_0's multi_error: 0.0281915\tvalid_0's multi_logloss: 0.0889302\tvalid_1's multi_error: 0.0517668\tvalid_1's multi_logloss: 0.149756\n",
            "[868]\tvalid_0's multi_error: 0.0280977\tvalid_0's multi_logloss: 0.0888657\tvalid_1's multi_error: 0.0517106\tvalid_1's multi_logloss: 0.149736\n",
            "[869]\tvalid_0's multi_error: 0.0280789\tvalid_0's multi_logloss: 0.088827\tvalid_1's multi_error: 0.0517668\tvalid_1's multi_logloss: 0.149746\n",
            "[870]\tvalid_0's multi_error: 0.0280414\tvalid_0's multi_logloss: 0.0887709\tvalid_1's multi_error: 0.051795\tvalid_1's multi_logloss: 0.149751\n",
            "[871]\tvalid_0's multi_error: 0.0280602\tvalid_0's multi_logloss: 0.0887018\tvalid_1's multi_error: 0.0517668\tvalid_1's multi_logloss: 0.149726\n",
            "[872]\tvalid_0's multi_error: 0.0280039\tvalid_0's multi_logloss: 0.0886527\tvalid_1's multi_error: 0.051795\tvalid_1's multi_logloss: 0.149724\n",
            "[873]\tvalid_0's multi_error: 0.0279664\tvalid_0's multi_logloss: 0.0886068\tvalid_1's multi_error: 0.0517668\tvalid_1's multi_logloss: 0.149726\n",
            "[874]\tvalid_0's multi_error: 0.0279289\tvalid_0's multi_logloss: 0.088555\tvalid_1's multi_error: 0.0518231\tvalid_1's multi_logloss: 0.149725\n",
            "[875]\tvalid_0's multi_error: 0.0278914\tvalid_0's multi_logloss: 0.0885104\tvalid_1's multi_error: 0.051795\tvalid_1's multi_logloss: 0.149733\n",
            "[876]\tvalid_0's multi_error: 0.0278163\tvalid_0's multi_logloss: 0.0884575\tvalid_1's multi_error: 0.0518231\tvalid_1's multi_logloss: 0.149735\n",
            "[877]\tvalid_0's multi_error: 0.0278163\tvalid_0's multi_logloss: 0.0884035\tvalid_1's multi_error: 0.0519075\tvalid_1's multi_logloss: 0.149727\n",
            "[878]\tvalid_0's multi_error: 0.0278163\tvalid_0's multi_logloss: 0.0883353\tvalid_1's multi_error: 0.0518512\tvalid_1's multi_logloss: 0.14971\n",
            "[879]\tvalid_0's multi_error: 0.0277976\tvalid_0's multi_logloss: 0.0882807\tvalid_1's multi_error: 0.0518512\tvalid_1's multi_logloss: 0.149709\n",
            "[880]\tvalid_0's multi_error: 0.0277788\tvalid_0's multi_logloss: 0.0882333\tvalid_1's multi_error: 0.0518512\tvalid_1's multi_logloss: 0.149717\n",
            "[881]\tvalid_0's multi_error: 0.0277601\tvalid_0's multi_logloss: 0.0881826\tvalid_1's multi_error: 0.051795\tvalid_1's multi_logloss: 0.149719\n",
            "[882]\tvalid_0's multi_error: 0.0277225\tvalid_0's multi_logloss: 0.0881306\tvalid_1's multi_error: 0.0518231\tvalid_1's multi_logloss: 0.149719\n",
            "[883]\tvalid_0's multi_error: 0.0277225\tvalid_0's multi_logloss: 0.0880834\tvalid_1's multi_error: 0.0518794\tvalid_1's multi_logloss: 0.149717\n",
            "[884]\tvalid_0's multi_error: 0.0277225\tvalid_0's multi_logloss: 0.0880362\tvalid_1's multi_error: 0.0518231\tvalid_1's multi_logloss: 0.14971\n",
            "[885]\tvalid_0's multi_error: 0.0277038\tvalid_0's multi_logloss: 0.0879766\tvalid_1's multi_error: 0.0517668\tvalid_1's multi_logloss: 0.149699\n",
            "[886]\tvalid_0's multi_error: 0.0277038\tvalid_0's multi_logloss: 0.0879319\tvalid_1's multi_error: 0.0517387\tvalid_1's multi_logloss: 0.149702\n",
            "[887]\tvalid_0's multi_error: 0.0277038\tvalid_0's multi_logloss: 0.0878358\tvalid_1's multi_error: 0.0517106\tvalid_1's multi_logloss: 0.149638\n",
            "[888]\tvalid_0's multi_error: 0.0276288\tvalid_0's multi_logloss: 0.0877837\tvalid_1's multi_error: 0.0516262\tvalid_1's multi_logloss: 0.149629\n",
            "[889]\tvalid_0's multi_error: 0.0276288\tvalid_0's multi_logloss: 0.0877501\tvalid_1's multi_error: 0.051598\tvalid_1's multi_logloss: 0.149623\n",
            "[890]\tvalid_0's multi_error: 0.0276475\tvalid_0's multi_logloss: 0.0876338\tvalid_1's multi_error: 0.051598\tvalid_1's multi_logloss: 0.149552\n",
            "[891]\tvalid_0's multi_error: 0.0275913\tvalid_0's multi_logloss: 0.0875758\tvalid_1's multi_error: 0.051598\tvalid_1's multi_logloss: 0.14955\n",
            "[892]\tvalid_0's multi_error: 0.02761\tvalid_0's multi_logloss: 0.0874703\tvalid_1's multi_error: 0.051598\tvalid_1's multi_logloss: 0.149471\n",
            "[893]\tvalid_0's multi_error: 0.02761\tvalid_0's multi_logloss: 0.0874162\tvalid_1's multi_error: 0.051598\tvalid_1's multi_logloss: 0.149478\n",
            "[894]\tvalid_0's multi_error: 0.0275537\tvalid_0's multi_logloss: 0.0873766\tvalid_1's multi_error: 0.0515699\tvalid_1's multi_logloss: 0.149475\n",
            "[895]\tvalid_0's multi_error: 0.0275537\tvalid_0's multi_logloss: 0.0873273\tvalid_1's multi_error: 0.0515699\tvalid_1's multi_logloss: 0.149466\n",
            "[896]\tvalid_0's multi_error: 0.0275537\tvalid_0's multi_logloss: 0.087276\tvalid_1's multi_error: 0.051598\tvalid_1's multi_logloss: 0.149462\n",
            "[897]\tvalid_0's multi_error: 0.0275913\tvalid_0's multi_logloss: 0.0872211\tvalid_1's multi_error: 0.051598\tvalid_1's multi_logloss: 0.149459\n",
            "[898]\tvalid_0's multi_error: 0.0275725\tvalid_0's multi_logloss: 0.087174\tvalid_1's multi_error: 0.0516543\tvalid_1's multi_logloss: 0.149453\n",
            "[899]\tvalid_0's multi_error: 0.0275725\tvalid_0's multi_logloss: 0.0871364\tvalid_1's multi_error: 0.0516543\tvalid_1's multi_logloss: 0.149455\n",
            "[900]\tvalid_0's multi_error: 0.0275162\tvalid_0's multi_logloss: 0.0870843\tvalid_1's multi_error: 0.0516262\tvalid_1's multi_logloss: 0.149454\n",
            "[901]\tvalid_0's multi_error: 0.0274412\tvalid_0's multi_logloss: 0.0870276\tvalid_1's multi_error: 0.051598\tvalid_1's multi_logloss: 0.149444\n",
            "[902]\tvalid_0's multi_error: 0.0274412\tvalid_0's multi_logloss: 0.0869744\tvalid_1's multi_error: 0.0516262\tvalid_1's multi_logloss: 0.149438\n",
            "[903]\tvalid_0's multi_error: 0.0274412\tvalid_0's multi_logloss: 0.0869345\tvalid_1's multi_error: 0.0515699\tvalid_1's multi_logloss: 0.149433\n",
            "[904]\tvalid_0's multi_error: 0.0274412\tvalid_0's multi_logloss: 0.0868805\tvalid_1's multi_error: 0.0515136\tvalid_1's multi_logloss: 0.149424\n",
            "[905]\tvalid_0's multi_error: 0.0274037\tvalid_0's multi_logloss: 0.0868308\tvalid_1's multi_error: 0.0515418\tvalid_1's multi_logloss: 0.149411\n",
            "[906]\tvalid_0's multi_error: 0.0273849\tvalid_0's multi_logloss: 0.0867768\tvalid_1's multi_error: 0.0515699\tvalid_1's multi_logloss: 0.149411\n",
            "[907]\tvalid_0's multi_error: 0.0273474\tvalid_0's multi_logloss: 0.0867186\tvalid_1's multi_error: 0.0514855\tvalid_1's multi_logloss: 0.149406\n",
            "[908]\tvalid_0's multi_error: 0.0273662\tvalid_0's multi_logloss: 0.086669\tvalid_1's multi_error: 0.0515418\tvalid_1's multi_logloss: 0.149405\n",
            "[909]\tvalid_0's multi_error: 0.0272911\tvalid_0's multi_logloss: 0.0866136\tvalid_1's multi_error: 0.0515418\tvalid_1's multi_logloss: 0.149392\n",
            "[910]\tvalid_0's multi_error: 0.0272536\tvalid_0's multi_logloss: 0.0865659\tvalid_1's multi_error: 0.0515418\tvalid_1's multi_logloss: 0.149394\n",
            "[911]\tvalid_0's multi_error: 0.0272161\tvalid_0's multi_logloss: 0.0864992\tvalid_1's multi_error: 0.0515418\tvalid_1's multi_logloss: 0.149351\n",
            "[912]\tvalid_0's multi_error: 0.0271974\tvalid_0's multi_logloss: 0.0864398\tvalid_1's multi_error: 0.051598\tvalid_1's multi_logloss: 0.149344\n",
            "[913]\tvalid_0's multi_error: 0.0271598\tvalid_0's multi_logloss: 0.0863903\tvalid_1's multi_error: 0.0515699\tvalid_1's multi_logloss: 0.149345\n",
            "[914]\tvalid_0's multi_error: 0.0271411\tvalid_0's multi_logloss: 0.0863464\tvalid_1's multi_error: 0.0515136\tvalid_1's multi_logloss: 0.149344\n",
            "[915]\tvalid_0's multi_error: 0.0271036\tvalid_0's multi_logloss: 0.0862944\tvalid_1's multi_error: 0.0514855\tvalid_1's multi_logloss: 0.149335\n",
            "[916]\tvalid_0's multi_error: 0.0270848\tvalid_0's multi_logloss: 0.086256\tvalid_1's multi_error: 0.0515418\tvalid_1's multi_logloss: 0.149335\n",
            "[917]\tvalid_0's multi_error: 0.0270848\tvalid_0's multi_logloss: 0.0861883\tvalid_1's multi_error: 0.0515699\tvalid_1's multi_logloss: 0.149297\n",
            "[918]\tvalid_0's multi_error: 0.0270473\tvalid_0's multi_logloss: 0.0861326\tvalid_1's multi_error: 0.051598\tvalid_1's multi_logloss: 0.149283\n",
            "[919]\tvalid_0's multi_error: 0.0270661\tvalid_0's multi_logloss: 0.086079\tvalid_1's multi_error: 0.0516543\tvalid_1's multi_logloss: 0.149288\n",
            "[920]\tvalid_0's multi_error: 0.0270285\tvalid_0's multi_logloss: 0.086022\tvalid_1's multi_error: 0.0516543\tvalid_1's multi_logloss: 0.149283\n",
            "[921]\tvalid_0's multi_error: 0.0270098\tvalid_0's multi_logloss: 0.0859584\tvalid_1's multi_error: 0.0516262\tvalid_1's multi_logloss: 0.149255\n",
            "[922]\tvalid_0's multi_error: 0.0269723\tvalid_0's multi_logloss: 0.0859128\tvalid_1's multi_error: 0.0516262\tvalid_1's multi_logloss: 0.149258\n",
            "[923]\tvalid_0's multi_error: 0.0268973\tvalid_0's multi_logloss: 0.0858608\tvalid_1's multi_error: 0.0515699\tvalid_1's multi_logloss: 0.149256\n",
            "[924]\tvalid_0's multi_error: 0.0268973\tvalid_0's multi_logloss: 0.0858061\tvalid_1's multi_error: 0.0515699\tvalid_1's multi_logloss: 0.149256\n",
            "[925]\tvalid_0's multi_error: 0.0268785\tvalid_0's multi_logloss: 0.0857616\tvalid_1's multi_error: 0.0516824\tvalid_1's multi_logloss: 0.14926\n",
            "[926]\tvalid_0's multi_error: 0.0268597\tvalid_0's multi_logloss: 0.0857132\tvalid_1's multi_error: 0.0516824\tvalid_1's multi_logloss: 0.149259\n",
            "[927]\tvalid_0's multi_error: 0.0268222\tvalid_0's multi_logloss: 0.0856612\tvalid_1's multi_error: 0.0516824\tvalid_1's multi_logloss: 0.149263\n",
            "[928]\tvalid_0's multi_error: 0.026766\tvalid_0's multi_logloss: 0.0856177\tvalid_1's multi_error: 0.0517106\tvalid_1's multi_logloss: 0.149267\n",
            "[929]\tvalid_0's multi_error: 0.0267847\tvalid_0's multi_logloss: 0.0855613\tvalid_1's multi_error: 0.0516824\tvalid_1's multi_logloss: 0.149252\n",
            "[930]\tvalid_0's multi_error: 0.0267472\tvalid_0's multi_logloss: 0.0855209\tvalid_1's multi_error: 0.0516543\tvalid_1's multi_logloss: 0.149257\n",
            "[931]\tvalid_0's multi_error: 0.0267284\tvalid_0's multi_logloss: 0.0854728\tvalid_1's multi_error: 0.0516262\tvalid_1's multi_logloss: 0.149256\n",
            "[932]\tvalid_0's multi_error: 0.0266909\tvalid_0's multi_logloss: 0.0854252\tvalid_1's multi_error: 0.051598\tvalid_1's multi_logloss: 0.149251\n",
            "[933]\tvalid_0's multi_error: 0.0266909\tvalid_0's multi_logloss: 0.0853658\tvalid_1's multi_error: 0.0515418\tvalid_1's multi_logloss: 0.149238\n",
            "[934]\tvalid_0's multi_error: 0.0266909\tvalid_0's multi_logloss: 0.085323\tvalid_1's multi_error: 0.0515136\tvalid_1's multi_logloss: 0.149236\n",
            "[935]\tvalid_0's multi_error: 0.0266534\tvalid_0's multi_logloss: 0.0852686\tvalid_1's multi_error: 0.0515418\tvalid_1's multi_logloss: 0.149226\n",
            "[936]\tvalid_0's multi_error: 0.0266347\tvalid_0's multi_logloss: 0.0851938\tvalid_1's multi_error: 0.0515136\tvalid_1's multi_logloss: 0.149176\n",
            "[937]\tvalid_0's multi_error: 0.0266159\tvalid_0's multi_logloss: 0.0851439\tvalid_1's multi_error: 0.0515136\tvalid_1's multi_logloss: 0.14917\n",
            "[938]\tvalid_0's multi_error: 0.0265971\tvalid_0's multi_logloss: 0.0850963\tvalid_1's multi_error: 0.0514855\tvalid_1's multi_logloss: 0.149176\n",
            "[939]\tvalid_0's multi_error: 0.0265971\tvalid_0's multi_logloss: 0.0850458\tvalid_1's multi_error: 0.0515418\tvalid_1's multi_logloss: 0.149176\n",
            "[940]\tvalid_0's multi_error: 0.0265596\tvalid_0's multi_logloss: 0.0849976\tvalid_1's multi_error: 0.0515136\tvalid_1's multi_logloss: 0.149171\n",
            "[941]\tvalid_0's multi_error: 0.0265409\tvalid_0's multi_logloss: 0.0849539\tvalid_1's multi_error: 0.0515418\tvalid_1's multi_logloss: 0.149158\n",
            "[942]\tvalid_0's multi_error: 0.0265409\tvalid_0's multi_logloss: 0.0849024\tvalid_1's multi_error: 0.0516262\tvalid_1's multi_logloss: 0.149147\n",
            "[943]\tvalid_0's multi_error: 0.0265221\tvalid_0's multi_logloss: 0.0848461\tvalid_1's multi_error: 0.0516543\tvalid_1's multi_logloss: 0.149134\n",
            "[944]\tvalid_0's multi_error: 0.0265221\tvalid_0's multi_logloss: 0.0847991\tvalid_1's multi_error: 0.0516824\tvalid_1's multi_logloss: 0.149133\n",
            "[945]\tvalid_0's multi_error: 0.0265409\tvalid_0's multi_logloss: 0.0847455\tvalid_1's multi_error: 0.0515699\tvalid_1's multi_logloss: 0.149133\n",
            "[946]\tvalid_0's multi_error: 0.0265409\tvalid_0's multi_logloss: 0.0846962\tvalid_1's multi_error: 0.0516262\tvalid_1's multi_logloss: 0.149125\n",
            "[947]\tvalid_0's multi_error: 0.0265034\tvalid_0's multi_logloss: 0.0846482\tvalid_1's multi_error: 0.0516262\tvalid_1's multi_logloss: 0.149113\n",
            "[948]\tvalid_0's multi_error: 0.0264283\tvalid_0's multi_logloss: 0.0845947\tvalid_1's multi_error: 0.0516543\tvalid_1's multi_logloss: 0.149088\n",
            "[949]\tvalid_0's multi_error: 0.0264096\tvalid_0's multi_logloss: 0.0845432\tvalid_1's multi_error: 0.051598\tvalid_1's multi_logloss: 0.149093\n",
            "[950]\tvalid_0's multi_error: 0.0263908\tvalid_0's multi_logloss: 0.0844863\tvalid_1's multi_error: 0.051598\tvalid_1's multi_logloss: 0.149066\n",
            "[951]\tvalid_0's multi_error: 0.0263908\tvalid_0's multi_logloss: 0.0844394\tvalid_1's multi_error: 0.0515136\tvalid_1's multi_logloss: 0.14906\n",
            "[952]\tvalid_0's multi_error: 0.0263533\tvalid_0's multi_logloss: 0.0843985\tvalid_1's multi_error: 0.0515699\tvalid_1's multi_logloss: 0.149066\n",
            "[953]\tvalid_0's multi_error: 0.0263158\tvalid_0's multi_logloss: 0.0843407\tvalid_1's multi_error: 0.0515418\tvalid_1's multi_logloss: 0.149047\n",
            "[954]\tvalid_0's multi_error: 0.0263158\tvalid_0's multi_logloss: 0.0842894\tvalid_1's multi_error: 0.0515418\tvalid_1's multi_logloss: 0.149042\n",
            "[955]\tvalid_0's multi_error: 0.0262783\tvalid_0's multi_logloss: 0.0842479\tvalid_1's multi_error: 0.0514855\tvalid_1's multi_logloss: 0.149045\n",
            "[956]\tvalid_0's multi_error: 0.026222\tvalid_0's multi_logloss: 0.0841924\tvalid_1's multi_error: 0.0514573\tvalid_1's multi_logloss: 0.149035\n",
            "[957]\tvalid_0's multi_error: 0.026222\tvalid_0's multi_logloss: 0.0841451\tvalid_1's multi_error: 0.0514573\tvalid_1's multi_logloss: 0.149025\n",
            "[958]\tvalid_0's multi_error: 0.026147\tvalid_0's multi_logloss: 0.0840988\tvalid_1's multi_error: 0.0514573\tvalid_1's multi_logloss: 0.149019\n",
            "[959]\tvalid_0's multi_error: 0.0261657\tvalid_0's multi_logloss: 0.0840509\tvalid_1's multi_error: 0.0514573\tvalid_1's multi_logloss: 0.14903\n",
            "[960]\tvalid_0's multi_error: 0.0260907\tvalid_0's multi_logloss: 0.0840107\tvalid_1's multi_error: 0.0514011\tvalid_1's multi_logloss: 0.149039\n",
            "[961]\tvalid_0's multi_error: 0.0260907\tvalid_0's multi_logloss: 0.0839737\tvalid_1's multi_error: 0.0514011\tvalid_1's multi_logloss: 0.149041\n",
            "[962]\tvalid_0's multi_error: 0.0260907\tvalid_0's multi_logloss: 0.0839308\tvalid_1's multi_error: 0.0514573\tvalid_1's multi_logloss: 0.149041\n",
            "[963]\tvalid_0's multi_error: 0.0260532\tvalid_0's multi_logloss: 0.0838873\tvalid_1's multi_error: 0.0515136\tvalid_1's multi_logloss: 0.149047\n",
            "[964]\tvalid_0's multi_error: 0.0260157\tvalid_0's multi_logloss: 0.0838337\tvalid_1's multi_error: 0.0514855\tvalid_1's multi_logloss: 0.149037\n",
            "[965]\tvalid_0's multi_error: 0.0260157\tvalid_0's multi_logloss: 0.0837887\tvalid_1's multi_error: 0.0514855\tvalid_1's multi_logloss: 0.149038\n",
            "[966]\tvalid_0's multi_error: 0.0260157\tvalid_0's multi_logloss: 0.0837541\tvalid_1's multi_error: 0.0514855\tvalid_1's multi_logloss: 0.149032\n",
            "[967]\tvalid_0's multi_error: 0.0260344\tvalid_0's multi_logloss: 0.0836973\tvalid_1's multi_error: 0.0514292\tvalid_1's multi_logloss: 0.14901\n",
            "[968]\tvalid_0's multi_error: 0.0260157\tvalid_0's multi_logloss: 0.0836468\tvalid_1's multi_error: 0.0514011\tvalid_1's multi_logloss: 0.149012\n",
            "[969]\tvalid_0's multi_error: 0.0259594\tvalid_0's multi_logloss: 0.0836078\tvalid_1's multi_error: 0.0514011\tvalid_1's multi_logloss: 0.149019\n",
            "[970]\tvalid_0's multi_error: 0.0259407\tvalid_0's multi_logloss: 0.0835628\tvalid_1's multi_error: 0.0514292\tvalid_1's multi_logloss: 0.149026\n",
            "[971]\tvalid_0's multi_error: 0.0259407\tvalid_0's multi_logloss: 0.0835101\tvalid_1's multi_error: 0.0515136\tvalid_1's multi_logloss: 0.149032\n",
            "[972]\tvalid_0's multi_error: 0.0258469\tvalid_0's multi_logloss: 0.0834599\tvalid_1's multi_error: 0.0514855\tvalid_1's multi_logloss: 0.149031\n",
            "[973]\tvalid_0's multi_error: 0.0258094\tvalid_0's multi_logloss: 0.083425\tvalid_1's multi_error: 0.0514855\tvalid_1's multi_logloss: 0.149033\n",
            "[974]\tvalid_0's multi_error: 0.0258281\tvalid_0's multi_logloss: 0.0833175\tvalid_1's multi_error: 0.0514292\tvalid_1's multi_logloss: 0.148949\n",
            "[975]\tvalid_0's multi_error: 0.0258469\tvalid_0's multi_logloss: 0.0832601\tvalid_1's multi_error: 0.0513729\tvalid_1's multi_logloss: 0.148937\n",
            "[976]\tvalid_0's multi_error: 0.0258656\tvalid_0's multi_logloss: 0.0832159\tvalid_1's multi_error: 0.0513729\tvalid_1's multi_logloss: 0.14894\n",
            "[977]\tvalid_0's multi_error: 0.0257906\tvalid_0's multi_logloss: 0.0831615\tvalid_1's multi_error: 0.0513448\tvalid_1's multi_logloss: 0.148926\n",
            "[978]\tvalid_0's multi_error: 0.0258094\tvalid_0's multi_logloss: 0.0831203\tvalid_1's multi_error: 0.0513167\tvalid_1's multi_logloss: 0.148917\n",
            "[979]\tvalid_0's multi_error: 0.0257718\tvalid_0's multi_logloss: 0.0830751\tvalid_1's multi_error: 0.0513167\tvalid_1's multi_logloss: 0.148912\n",
            "[980]\tvalid_0's multi_error: 0.0257156\tvalid_0's multi_logloss: 0.083013\tvalid_1's multi_error: 0.0512885\tvalid_1's multi_logloss: 0.148881\n",
            "[981]\tvalid_0's multi_error: 0.0256593\tvalid_0's multi_logloss: 0.0829749\tvalid_1's multi_error: 0.0512885\tvalid_1's multi_logloss: 0.148885\n",
            "[982]\tvalid_0's multi_error: 0.0256405\tvalid_0's multi_logloss: 0.0829234\tvalid_1's multi_error: 0.0512885\tvalid_1's multi_logloss: 0.148878\n",
            "[983]\tvalid_0's multi_error: 0.0256405\tvalid_0's multi_logloss: 0.0828873\tvalid_1's multi_error: 0.0513167\tvalid_1's multi_logloss: 0.148883\n",
            "[984]\tvalid_0's multi_error: 0.0255468\tvalid_0's multi_logloss: 0.082846\tvalid_1's multi_error: 0.0513729\tvalid_1's multi_logloss: 0.148878\n",
            "[985]\tvalid_0's multi_error: 0.0255843\tvalid_0's multi_logloss: 0.0828026\tvalid_1's multi_error: 0.0513448\tvalid_1's multi_logloss: 0.148886\n",
            "[986]\tvalid_0's multi_error: 0.025528\tvalid_0's multi_logloss: 0.0827554\tvalid_1's multi_error: 0.0513448\tvalid_1's multi_logloss: 0.148892\n",
            "[987]\tvalid_0's multi_error: 0.025528\tvalid_0's multi_logloss: 0.0827094\tvalid_1's multi_error: 0.0513167\tvalid_1's multi_logloss: 0.148897\n",
            "[988]\tvalid_0's multi_error: 0.0255468\tvalid_0's multi_logloss: 0.0826605\tvalid_1's multi_error: 0.0512885\tvalid_1's multi_logloss: 0.148904\n",
            "[989]\tvalid_0's multi_error: 0.0255468\tvalid_0's multi_logloss: 0.0826009\tvalid_1's multi_error: 0.0512323\tvalid_1's multi_logloss: 0.148895\n",
            "[990]\tvalid_0's multi_error: 0.0254905\tvalid_0's multi_logloss: 0.082538\tvalid_1's multi_error: 0.0512323\tvalid_1's multi_logloss: 0.14886\n",
            "[991]\tvalid_0's multi_error: 0.0254717\tvalid_0's multi_logloss: 0.0824914\tvalid_1's multi_error: 0.051176\tvalid_1's multi_logloss: 0.148851\n",
            "[992]\tvalid_0's multi_error: 0.0254717\tvalid_0's multi_logloss: 0.0824397\tvalid_1's multi_error: 0.0512885\tvalid_1's multi_logloss: 0.148838\n",
            "[993]\tvalid_0's multi_error: 0.0254155\tvalid_0's multi_logloss: 0.0824045\tvalid_1's multi_error: 0.0512885\tvalid_1's multi_logloss: 0.148842\n",
            "[994]\tvalid_0's multi_error: 0.0253592\tvalid_0's multi_logloss: 0.082359\tvalid_1's multi_error: 0.0512041\tvalid_1's multi_logloss: 0.148837\n",
            "[995]\tvalid_0's multi_error: 0.0252654\tvalid_0's multi_logloss: 0.0823052\tvalid_1's multi_error: 0.0512604\tvalid_1's multi_logloss: 0.148829\n",
            "[996]\tvalid_0's multi_error: 0.0252091\tvalid_0's multi_logloss: 0.0822513\tvalid_1's multi_error: 0.0512604\tvalid_1's multi_logloss: 0.148804\n",
            "[997]\tvalid_0's multi_error: 0.0251341\tvalid_0's multi_logloss: 0.0822022\tvalid_1's multi_error: 0.0512604\tvalid_1's multi_logloss: 0.148793\n",
            "[998]\tvalid_0's multi_error: 0.0250778\tvalid_0's multi_logloss: 0.0821433\tvalid_1's multi_error: 0.0513448\tvalid_1's multi_logloss: 0.148781\n",
            "[999]\tvalid_0's multi_error: 0.0250778\tvalid_0's multi_logloss: 0.0821013\tvalid_1's multi_error: 0.0513729\tvalid_1's multi_logloss: 0.148785\n",
            "[1000]\tvalid_0's multi_error: 0.0250966\tvalid_0's multi_logloss: 0.081979\tvalid_1's multi_error: 0.0513729\tvalid_1's multi_logloss: 0.148673\n",
            "[1001]\tvalid_0's multi_error: 0.0250966\tvalid_0's multi_logloss: 0.0819319\tvalid_1's multi_error: 0.0513448\tvalid_1's multi_logloss: 0.148674\n",
            "[1002]\tvalid_0's multi_error: 0.0250778\tvalid_0's multi_logloss: 0.0818866\tvalid_1's multi_error: 0.0513167\tvalid_1's multi_logloss: 0.148664\n",
            "[1003]\tvalid_0's multi_error: 0.0250403\tvalid_0's multi_logloss: 0.081846\tvalid_1's multi_error: 0.0513448\tvalid_1's multi_logloss: 0.148664\n",
            "[1004]\tvalid_0's multi_error: 0.0250403\tvalid_0's multi_logloss: 0.0818056\tvalid_1's multi_error: 0.0513729\tvalid_1's multi_logloss: 0.148671\n",
            "[1005]\tvalid_0's multi_error: 0.0250028\tvalid_0's multi_logloss: 0.0817524\tvalid_1's multi_error: 0.0513729\tvalid_1's multi_logloss: 0.148655\n",
            "[1006]\tvalid_0's multi_error: 0.0249465\tvalid_0's multi_logloss: 0.0817095\tvalid_1's multi_error: 0.0514011\tvalid_1's multi_logloss: 0.14865\n",
            "[1007]\tvalid_0's multi_error: 0.0249465\tvalid_0's multi_logloss: 0.0816631\tvalid_1's multi_error: 0.0514011\tvalid_1's multi_logloss: 0.148648\n",
            "[1008]\tvalid_0's multi_error: 0.0248903\tvalid_0's multi_logloss: 0.0815692\tvalid_1's multi_error: 0.0514011\tvalid_1's multi_logloss: 0.148581\n",
            "[1009]\tvalid_0's multi_error: 0.024834\tvalid_0's multi_logloss: 0.0815183\tvalid_1's multi_error: 0.0514292\tvalid_1's multi_logloss: 0.148582\n",
            "[1010]\tvalid_0's multi_error: 0.024834\tvalid_0's multi_logloss: 0.0814781\tvalid_1's multi_error: 0.0514011\tvalid_1's multi_logloss: 0.148592\n",
            "[1011]\tvalid_0's multi_error: 0.0248152\tvalid_0's multi_logloss: 0.0814405\tvalid_1's multi_error: 0.0514855\tvalid_1's multi_logloss: 0.148594\n",
            "[1012]\tvalid_0's multi_error: 0.0248152\tvalid_0's multi_logloss: 0.0813993\tvalid_1's multi_error: 0.0515136\tvalid_1's multi_logloss: 0.148594\n",
            "[1013]\tvalid_0's multi_error: 0.0248528\tvalid_0's multi_logloss: 0.0813627\tvalid_1's multi_error: 0.0515136\tvalid_1's multi_logloss: 0.148597\n",
            "[1014]\tvalid_0's multi_error: 0.0247965\tvalid_0's multi_logloss: 0.0813238\tvalid_1's multi_error: 0.0514573\tvalid_1's multi_logloss: 0.148599\n",
            "[1015]\tvalid_0's multi_error: 0.0247402\tvalid_0's multi_logloss: 0.0812834\tvalid_1's multi_error: 0.0514573\tvalid_1's multi_logloss: 0.148602\n",
            "[1016]\tvalid_0's multi_error: 0.0247215\tvalid_0's multi_logloss: 0.0812461\tvalid_1's multi_error: 0.0514573\tvalid_1's multi_logloss: 0.148605\n",
            "[1017]\tvalid_0's multi_error: 0.0247215\tvalid_0's multi_logloss: 0.0811978\tvalid_1's multi_error: 0.0514855\tvalid_1's multi_logloss: 0.148614\n",
            "[1018]\tvalid_0's multi_error: 0.0247027\tvalid_0's multi_logloss: 0.0811443\tvalid_1's multi_error: 0.0515136\tvalid_1's multi_logloss: 0.148599\n",
            "[1019]\tvalid_0's multi_error: 0.0246277\tvalid_0's multi_logloss: 0.0811043\tvalid_1's multi_error: 0.0514855\tvalid_1's multi_logloss: 0.148606\n",
            "[1020]\tvalid_0's multi_error: 0.0246089\tvalid_0's multi_logloss: 0.0810628\tvalid_1's multi_error: 0.0514573\tvalid_1's multi_logloss: 0.148605\n",
            "[1021]\tvalid_0's multi_error: 0.0246464\tvalid_0's multi_logloss: 0.0810301\tvalid_1's multi_error: 0.0514011\tvalid_1's multi_logloss: 0.148609\n",
            "[1022]\tvalid_0's multi_error: 0.0246652\tvalid_0's multi_logloss: 0.0809897\tvalid_1's multi_error: 0.0514011\tvalid_1's multi_logloss: 0.148615\n",
            "[1023]\tvalid_0's multi_error: 0.0246277\tvalid_0's multi_logloss: 0.0809431\tvalid_1's multi_error: 0.0514573\tvalid_1's multi_logloss: 0.148607\n",
            "[1024]\tvalid_0's multi_error: 0.0246089\tvalid_0's multi_logloss: 0.0809053\tvalid_1's multi_error: 0.0514292\tvalid_1's multi_logloss: 0.148615\n",
            "[1025]\tvalid_0's multi_error: 0.0246089\tvalid_0's multi_logloss: 0.0807966\tvalid_1's multi_error: 0.0513729\tvalid_1's multi_logloss: 0.148522\n",
            "[1026]\tvalid_0's multi_error: 0.0245527\tvalid_0's multi_logloss: 0.0807584\tvalid_1's multi_error: 0.0514292\tvalid_1's multi_logloss: 0.148534\n",
            "[1027]\tvalid_0's multi_error: 0.0245527\tvalid_0's multi_logloss: 0.0807104\tvalid_1's multi_error: 0.0513729\tvalid_1's multi_logloss: 0.148522\n",
            "[1028]\tvalid_0's multi_error: 0.0244964\tvalid_0's multi_logloss: 0.0805966\tvalid_1's multi_error: 0.0513448\tvalid_1's multi_logloss: 0.148425\n",
            "[1029]\tvalid_0's multi_error: 0.0244214\tvalid_0's multi_logloss: 0.080548\tvalid_1's multi_error: 0.0514011\tvalid_1's multi_logloss: 0.14843\n",
            "[1030]\tvalid_0's multi_error: 0.0244026\tvalid_0's multi_logloss: 0.0805072\tvalid_1's multi_error: 0.0513729\tvalid_1's multi_logloss: 0.148421\n",
            "[1031]\tvalid_0's multi_error: 0.0243463\tvalid_0's multi_logloss: 0.0804131\tvalid_1's multi_error: 0.0512323\tvalid_1's multi_logloss: 0.148345\n",
            "[1032]\tvalid_0's multi_error: 0.0242901\tvalid_0's multi_logloss: 0.0803685\tvalid_1's multi_error: 0.0512041\tvalid_1's multi_logloss: 0.148331\n",
            "[1033]\tvalid_0's multi_error: 0.0242525\tvalid_0's multi_logloss: 0.0803297\tvalid_1's multi_error: 0.0512041\tvalid_1's multi_logloss: 0.148317\n",
            "[1034]\tvalid_0's multi_error: 0.0242338\tvalid_0's multi_logloss: 0.0802241\tvalid_1's multi_error: 0.0511197\tvalid_1's multi_logloss: 0.14823\n",
            "[1035]\tvalid_0's multi_error: 0.0242525\tvalid_0's multi_logloss: 0.0801818\tvalid_1's multi_error: 0.0511479\tvalid_1's multi_logloss: 0.14822\n",
            "[1036]\tvalid_0's multi_error: 0.0242338\tvalid_0's multi_logloss: 0.0801439\tvalid_1's multi_error: 0.051176\tvalid_1's multi_logloss: 0.148218\n",
            "[1037]\tvalid_0's multi_error: 0.0241212\tvalid_0's multi_logloss: 0.0800452\tvalid_1's multi_error: 0.0511197\tvalid_1's multi_logloss: 0.148124\n",
            "[1038]\tvalid_0's multi_error: 0.02414\tvalid_0's multi_logloss: 0.0800043\tvalid_1's multi_error: 0.0511197\tvalid_1's multi_logloss: 0.148117\n",
            "[1039]\tvalid_0's multi_error: 0.0241212\tvalid_0's multi_logloss: 0.0799461\tvalid_1's multi_error: 0.0510916\tvalid_1's multi_logloss: 0.148093\n",
            "[1040]\tvalid_0's multi_error: 0.0241212\tvalid_0's multi_logloss: 0.0799037\tvalid_1's multi_error: 0.0510916\tvalid_1's multi_logloss: 0.14809\n",
            "[1041]\tvalid_0's multi_error: 0.0241212\tvalid_0's multi_logloss: 0.0798694\tvalid_1's multi_error: 0.0510916\tvalid_1's multi_logloss: 0.148093\n",
            "[1042]\tvalid_0's multi_error: 0.0240837\tvalid_0's multi_logloss: 0.0798094\tvalid_1's multi_error: 0.0510916\tvalid_1's multi_logloss: 0.148066\n",
            "[1043]\tvalid_0's multi_error: 0.0240087\tvalid_0's multi_logloss: 0.0797711\tvalid_1's multi_error: 0.0510916\tvalid_1's multi_logloss: 0.148071\n",
            "[1044]\tvalid_0's multi_error: 0.0239899\tvalid_0's multi_logloss: 0.0797315\tvalid_1's multi_error: 0.0511197\tvalid_1's multi_logloss: 0.14808\n",
            "[1045]\tvalid_0's multi_error: 0.0239524\tvalid_0's multi_logloss: 0.0796308\tvalid_1's multi_error: 0.0510353\tvalid_1's multi_logloss: 0.147985\n",
            "[1046]\tvalid_0's multi_error: 0.0239524\tvalid_0's multi_logloss: 0.0795964\tvalid_1's multi_error: 0.0510635\tvalid_1's multi_logloss: 0.147993\n",
            "[1047]\tvalid_0's multi_error: 0.0239149\tvalid_0's multi_logloss: 0.0795137\tvalid_1's multi_error: 0.0510072\tvalid_1's multi_logloss: 0.147926\n",
            "[1048]\tvalid_0's multi_error: 0.0238774\tvalid_0's multi_logloss: 0.0794724\tvalid_1's multi_error: 0.0510635\tvalid_1's multi_logloss: 0.147927\n",
            "[1049]\tvalid_0's multi_error: 0.0239149\tvalid_0's multi_logloss: 0.0794289\tvalid_1's multi_error: 0.0510635\tvalid_1's multi_logloss: 0.147934\n",
            "[1050]\tvalid_0's multi_error: 0.0238586\tvalid_0's multi_logloss: 0.0793917\tvalid_1's multi_error: 0.0510072\tvalid_1's multi_logloss: 0.147931\n",
            "[1051]\tvalid_0's multi_error: 0.0238399\tvalid_0's multi_logloss: 0.0793443\tvalid_1's multi_error: 0.0509509\tvalid_1's multi_logloss: 0.147926\n",
            "[1052]\tvalid_0's multi_error: 0.0238211\tvalid_0's multi_logloss: 0.0793125\tvalid_1's multi_error: 0.0509791\tvalid_1's multi_logloss: 0.147928\n",
            "[1053]\tvalid_0's multi_error: 0.0238024\tvalid_0's multi_logloss: 0.0792568\tvalid_1's multi_error: 0.0510072\tvalid_1's multi_logloss: 0.147906\n",
            "[1054]\tvalid_0's multi_error: 0.0238024\tvalid_0's multi_logloss: 0.0792179\tvalid_1's multi_error: 0.0510072\tvalid_1's multi_logloss: 0.147912\n",
            "[1055]\tvalid_0's multi_error: 0.0238024\tvalid_0's multi_logloss: 0.0791836\tvalid_1's multi_error: 0.0509791\tvalid_1's multi_logloss: 0.147919\n",
            "[1056]\tvalid_0's multi_error: 0.0237649\tvalid_0's multi_logloss: 0.0791368\tvalid_1's multi_error: 0.0510353\tvalid_1's multi_logloss: 0.147915\n",
            "[1057]\tvalid_0's multi_error: 0.0237461\tvalid_0's multi_logloss: 0.0790954\tvalid_1's multi_error: 0.0509791\tvalid_1's multi_logloss: 0.147902\n",
            "[1058]\tvalid_0's multi_error: 0.0237274\tvalid_0's multi_logloss: 0.0790563\tvalid_1's multi_error: 0.0509791\tvalid_1's multi_logloss: 0.14791\n",
            "[1059]\tvalid_0's multi_error: 0.0237086\tvalid_0's multi_logloss: 0.0790183\tvalid_1's multi_error: 0.0509509\tvalid_1's multi_logloss: 0.14792\n",
            "[1060]\tvalid_0's multi_error: 0.0237274\tvalid_0's multi_logloss: 0.0789939\tvalid_1's multi_error: 0.0509791\tvalid_1's multi_logloss: 0.147919\n",
            "[1061]\tvalid_0's multi_error: 0.0236523\tvalid_0's multi_logloss: 0.0789518\tvalid_1's multi_error: 0.0510353\tvalid_1's multi_logloss: 0.147923\n",
            "[1062]\tvalid_0's multi_error: 0.0236523\tvalid_0's multi_logloss: 0.0789124\tvalid_1's multi_error: 0.0510635\tvalid_1's multi_logloss: 0.147929\n",
            "[1063]\tvalid_0's multi_error: 0.0236336\tvalid_0's multi_logloss: 0.078867\tvalid_1's multi_error: 0.0511479\tvalid_1's multi_logloss: 0.147911\n",
            "[1064]\tvalid_0's multi_error: 0.0236336\tvalid_0's multi_logloss: 0.0788239\tvalid_1's multi_error: 0.0510353\tvalid_1's multi_logloss: 0.147898\n",
            "[1065]\tvalid_0's multi_error: 0.0235961\tvalid_0's multi_logloss: 0.0787852\tvalid_1's multi_error: 0.0510635\tvalid_1's multi_logloss: 0.147894\n",
            "[1066]\tvalid_0's multi_error: 0.0235961\tvalid_0's multi_logloss: 0.0787518\tvalid_1's multi_error: 0.0510635\tvalid_1's multi_logloss: 0.14789\n",
            "[1067]\tvalid_0's multi_error: 0.0235961\tvalid_0's multi_logloss: 0.0787192\tvalid_1's multi_error: 0.0510916\tvalid_1's multi_logloss: 0.147897\n",
            "[1068]\tvalid_0's multi_error: 0.0235773\tvalid_0's multi_logloss: 0.0786797\tvalid_1's multi_error: 0.0510635\tvalid_1's multi_logloss: 0.147902\n",
            "[1069]\tvalid_0's multi_error: 0.0235023\tvalid_0's multi_logloss: 0.0786276\tvalid_1's multi_error: 0.0510635\tvalid_1's multi_logloss: 0.147884\n",
            "[1070]\tvalid_0's multi_error: 0.0235023\tvalid_0's multi_logloss: 0.0785954\tvalid_1's multi_error: 0.0511197\tvalid_1's multi_logloss: 0.147881\n",
            "[1071]\tvalid_0's multi_error: 0.0235023\tvalid_0's multi_logloss: 0.078553\tvalid_1's multi_error: 0.0510353\tvalid_1's multi_logloss: 0.147888\n",
            "[1072]\tvalid_0's multi_error: 0.023446\tvalid_0's multi_logloss: 0.0784937\tvalid_1's multi_error: 0.0510353\tvalid_1's multi_logloss: 0.147863\n",
            "[1073]\tvalid_0's multi_error: 0.0234085\tvalid_0's multi_logloss: 0.0784532\tvalid_1's multi_error: 0.0510353\tvalid_1's multi_logloss: 0.147868\n",
            "[1074]\tvalid_0's multi_error: 0.0234272\tvalid_0's multi_logloss: 0.0784143\tvalid_1's multi_error: 0.0510353\tvalid_1's multi_logloss: 0.147878\n",
            "[1075]\tvalid_0's multi_error: 0.0233897\tvalid_0's multi_logloss: 0.0783827\tvalid_1's multi_error: 0.0510353\tvalid_1's multi_logloss: 0.14787\n",
            "[1076]\tvalid_0's multi_error: 0.0233897\tvalid_0's multi_logloss: 0.0783314\tvalid_1's multi_error: 0.0510916\tvalid_1's multi_logloss: 0.147861\n",
            "[1077]\tvalid_0's multi_error: 0.0233335\tvalid_0's multi_logloss: 0.0782928\tvalid_1's multi_error: 0.0510635\tvalid_1's multi_logloss: 0.147865\n",
            "[1078]\tvalid_0's multi_error: 0.0233335\tvalid_0's multi_logloss: 0.0782321\tvalid_1's multi_error: 0.0510635\tvalid_1's multi_logloss: 0.147848\n",
            "[1079]\tvalid_0's multi_error: 0.0233335\tvalid_0's multi_logloss: 0.0781852\tvalid_1's multi_error: 0.0510635\tvalid_1's multi_logloss: 0.147839\n",
            "[1080]\tvalid_0's multi_error: 0.0232959\tvalid_0's multi_logloss: 0.0781415\tvalid_1's multi_error: 0.0510353\tvalid_1's multi_logloss: 0.147841\n",
            "[1081]\tvalid_0's multi_error: 0.0232584\tvalid_0's multi_logloss: 0.0780835\tvalid_1's multi_error: 0.0510072\tvalid_1's multi_logloss: 0.147811\n",
            "[1082]\tvalid_0's multi_error: 0.0232397\tvalid_0's multi_logloss: 0.0780341\tvalid_1's multi_error: 0.0510072\tvalid_1's multi_logloss: 0.147803\n",
            "[1083]\tvalid_0's multi_error: 0.0232584\tvalid_0's multi_logloss: 0.0779816\tvalid_1's multi_error: 0.0510353\tvalid_1's multi_logloss: 0.147779\n",
            "[1084]\tvalid_0's multi_error: 0.0232397\tvalid_0's multi_logloss: 0.0779454\tvalid_1's multi_error: 0.0510353\tvalid_1's multi_logloss: 0.147774\n",
            "[1085]\tvalid_0's multi_error: 0.0232397\tvalid_0's multi_logloss: 0.0779084\tvalid_1's multi_error: 0.0510353\tvalid_1's multi_logloss: 0.147769\n",
            "[1086]\tvalid_0's multi_error: 0.0232397\tvalid_0's multi_logloss: 0.0778294\tvalid_1's multi_error: 0.0509791\tvalid_1's multi_logloss: 0.147708\n",
            "[1087]\tvalid_0's multi_error: 0.0231834\tvalid_0's multi_logloss: 0.0777928\tvalid_1's multi_error: 0.0509791\tvalid_1's multi_logloss: 0.1477\n",
            "[1088]\tvalid_0's multi_error: 0.0232209\tvalid_0's multi_logloss: 0.0777627\tvalid_1's multi_error: 0.0510072\tvalid_1's multi_logloss: 0.147705\n",
            "[1089]\tvalid_0's multi_error: 0.0232022\tvalid_0's multi_logloss: 0.0777109\tvalid_1's multi_error: 0.0510353\tvalid_1's multi_logloss: 0.147686\n",
            "[1090]\tvalid_0's multi_error: 0.0231271\tvalid_0's multi_logloss: 0.0776782\tvalid_1's multi_error: 0.0510635\tvalid_1's multi_logloss: 0.147685\n",
            "[1091]\tvalid_0's multi_error: 0.0231459\tvalid_0's multi_logloss: 0.0776139\tvalid_1's multi_error: 0.0510353\tvalid_1's multi_logloss: 0.147673\n",
            "[1092]\tvalid_0's multi_error: 0.0231459\tvalid_0's multi_logloss: 0.077586\tvalid_1's multi_error: 0.0511197\tvalid_1's multi_logloss: 0.14767\n",
            "[1093]\tvalid_0's multi_error: 0.0230896\tvalid_0's multi_logloss: 0.0775514\tvalid_1's multi_error: 0.0510353\tvalid_1's multi_logloss: 0.147674\n",
            "[1094]\tvalid_0's multi_error: 0.0231271\tvalid_0's multi_logloss: 0.0775052\tvalid_1's multi_error: 0.0511197\tvalid_1's multi_logloss: 0.147672\n",
            "[1095]\tvalid_0's multi_error: 0.0231459\tvalid_0's multi_logloss: 0.0774662\tvalid_1's multi_error: 0.0510916\tvalid_1's multi_logloss: 0.147664\n",
            "[1096]\tvalid_0's multi_error: 0.0230896\tvalid_0's multi_logloss: 0.0774225\tvalid_1's multi_error: 0.0511197\tvalid_1's multi_logloss: 0.147669\n",
            "[1097]\tvalid_0's multi_error: 0.0230146\tvalid_0's multi_logloss: 0.0773812\tvalid_1's multi_error: 0.0510353\tvalid_1's multi_logloss: 0.147657\n",
            "[1098]\tvalid_0's multi_error: 0.0230146\tvalid_0's multi_logloss: 0.0773394\tvalid_1's multi_error: 0.0510353\tvalid_1's multi_logloss: 0.147657\n",
            "[1099]\tvalid_0's multi_error: 0.0230146\tvalid_0's multi_logloss: 0.0772984\tvalid_1's multi_error: 0.0509791\tvalid_1's multi_logloss: 0.147663\n",
            "[1100]\tvalid_0's multi_error: 0.0229771\tvalid_0's multi_logloss: 0.0772566\tvalid_1's multi_error: 0.0510072\tvalid_1's multi_logloss: 0.147654\n",
            "[1101]\tvalid_0's multi_error: 0.0229771\tvalid_0's multi_logloss: 0.0772215\tvalid_1's multi_error: 0.0510353\tvalid_1's multi_logloss: 0.147648\n",
            "[1102]\tvalid_0's multi_error: 0.0229583\tvalid_0's multi_logloss: 0.077171\tvalid_1's multi_error: 0.0510353\tvalid_1's multi_logloss: 0.147635\n",
            "[1103]\tvalid_0's multi_error: 0.0229396\tvalid_0's multi_logloss: 0.077109\tvalid_1's multi_error: 0.0510353\tvalid_1's multi_logloss: 0.147621\n",
            "[1104]\tvalid_0's multi_error: 0.0229208\tvalid_0's multi_logloss: 0.0770468\tvalid_1's multi_error: 0.0510072\tvalid_1's multi_logloss: 0.14759\n",
            "[1105]\tvalid_0's multi_error: 0.0228833\tvalid_0's multi_logloss: 0.0770164\tvalid_1's multi_error: 0.0510353\tvalid_1's multi_logloss: 0.147596\n",
            "[1106]\tvalid_0's multi_error: 0.0228458\tvalid_0's multi_logloss: 0.0769445\tvalid_1's multi_error: 0.0508665\tvalid_1's multi_logloss: 0.147554\n",
            "[1107]\tvalid_0's multi_error: 0.0228458\tvalid_0's multi_logloss: 0.0768929\tvalid_1's multi_error: 0.0508103\tvalid_1's multi_logloss: 0.147526\n",
            "[1108]\tvalid_0's multi_error: 0.022827\tvalid_0's multi_logloss: 0.0768472\tvalid_1's multi_error: 0.0508103\tvalid_1's multi_logloss: 0.147521\n",
            "[1109]\tvalid_0's multi_error: 0.0228083\tvalid_0's multi_logloss: 0.0768126\tvalid_1's multi_error: 0.0508384\tvalid_1's multi_logloss: 0.147519\n",
            "[1110]\tvalid_0's multi_error: 0.0227708\tvalid_0's multi_logloss: 0.0767646\tvalid_1's multi_error: 0.0508665\tvalid_1's multi_logloss: 0.147515\n",
            "[1111]\tvalid_0's multi_error: 0.022752\tvalid_0's multi_logloss: 0.0767262\tvalid_1's multi_error: 0.0508665\tvalid_1's multi_logloss: 0.147523\n",
            "[1112]\tvalid_0's multi_error: 0.0227145\tvalid_0's multi_logloss: 0.0766795\tvalid_1's multi_error: 0.0508947\tvalid_1's multi_logloss: 0.147523\n",
            "[1113]\tvalid_0's multi_error: 0.0226582\tvalid_0's multi_logloss: 0.0766487\tvalid_1's multi_error: 0.0508665\tvalid_1's multi_logloss: 0.147528\n",
            "[1114]\tvalid_0's multi_error: 0.0226395\tvalid_0's multi_logloss: 0.0766097\tvalid_1's multi_error: 0.0508384\tvalid_1's multi_logloss: 0.147514\n",
            "[1115]\tvalid_0's multi_error: 0.022677\tvalid_0's multi_logloss: 0.076561\tvalid_1's multi_error: 0.0509228\tvalid_1's multi_logloss: 0.147511\n",
            "[1116]\tvalid_0's multi_error: 0.0226957\tvalid_0's multi_logloss: 0.076517\tvalid_1's multi_error: 0.0509509\tvalid_1's multi_logloss: 0.147508\n",
            "[1117]\tvalid_0's multi_error: 0.0226957\tvalid_0's multi_logloss: 0.0764597\tvalid_1's multi_error: 0.0508665\tvalid_1's multi_logloss: 0.147455\n",
            "[1118]\tvalid_0's multi_error: 0.022677\tvalid_0's multi_logloss: 0.0764254\tvalid_1's multi_error: 0.0508665\tvalid_1's multi_logloss: 0.147465\n",
            "[1119]\tvalid_0's multi_error: 0.0226582\tvalid_0's multi_logloss: 0.0763837\tvalid_1's multi_error: 0.0508665\tvalid_1's multi_logloss: 0.147474\n",
            "[1120]\tvalid_0's multi_error: 0.0226207\tvalid_0's multi_logloss: 0.0763451\tvalid_1's multi_error: 0.0509228\tvalid_1's multi_logloss: 0.147472\n",
            "[1121]\tvalid_0's multi_error: 0.0226395\tvalid_0's multi_logloss: 0.0763108\tvalid_1's multi_error: 0.0509228\tvalid_1's multi_logloss: 0.147479\n",
            "[1122]\tvalid_0's multi_error: 0.0226395\tvalid_0's multi_logloss: 0.0762644\tvalid_1's multi_error: 0.0509228\tvalid_1's multi_logloss: 0.147477\n",
            "[1123]\tvalid_0's multi_error: 0.0225832\tvalid_0's multi_logloss: 0.0762312\tvalid_1's multi_error: 0.0509228\tvalid_1's multi_logloss: 0.147483\n",
            "[1124]\tvalid_0's multi_error: 0.0225457\tvalid_0's multi_logloss: 0.0762017\tvalid_1's multi_error: 0.0509509\tvalid_1's multi_logloss: 0.147488\n",
            "[1125]\tvalid_0's multi_error: 0.0225269\tvalid_0's multi_logloss: 0.0761597\tvalid_1's multi_error: 0.0509791\tvalid_1's multi_logloss: 0.147475\n",
            "[1126]\tvalid_0's multi_error: 0.0225082\tvalid_0's multi_logloss: 0.0761205\tvalid_1's multi_error: 0.0509791\tvalid_1's multi_logloss: 0.147474\n",
            "[1127]\tvalid_0's multi_error: 0.0224894\tvalid_0's multi_logloss: 0.0760474\tvalid_1's multi_error: 0.0509228\tvalid_1's multi_logloss: 0.147424\n",
            "[1128]\tvalid_0's multi_error: 0.0224519\tvalid_0's multi_logloss: 0.0759971\tvalid_1's multi_error: 0.0509228\tvalid_1's multi_logloss: 0.147421\n",
            "[1129]\tvalid_0's multi_error: 0.0224519\tvalid_0's multi_logloss: 0.0759549\tvalid_1's multi_error: 0.0509509\tvalid_1's multi_logloss: 0.147413\n",
            "[1130]\tvalid_0's multi_error: 0.0224331\tvalid_0's multi_logloss: 0.075918\tvalid_1's multi_error: 0.0509509\tvalid_1's multi_logloss: 0.147406\n",
            "[1131]\tvalid_0's multi_error: 0.0223956\tvalid_0's multi_logloss: 0.075867\tvalid_1's multi_error: 0.0508665\tvalid_1's multi_logloss: 0.14738\n",
            "[1132]\tvalid_0's multi_error: 0.0223956\tvalid_0's multi_logloss: 0.0758255\tvalid_1's multi_error: 0.0509509\tvalid_1's multi_logloss: 0.147372\n",
            "[1133]\tvalid_0's multi_error: 0.0224331\tvalid_0's multi_logloss: 0.0757737\tvalid_1's multi_error: 0.0508947\tvalid_1's multi_logloss: 0.147351\n",
            "[1134]\tvalid_0's multi_error: 0.0223956\tvalid_0's multi_logloss: 0.075731\tvalid_1's multi_error: 0.0509509\tvalid_1's multi_logloss: 0.147352\n",
            "[1135]\tvalid_0's multi_error: 0.0224144\tvalid_0's multi_logloss: 0.0756904\tvalid_1's multi_error: 0.0510072\tvalid_1's multi_logloss: 0.147355\n",
            "[1136]\tvalid_0's multi_error: 0.0223206\tvalid_0's multi_logloss: 0.075649\tvalid_1's multi_error: 0.0509509\tvalid_1's multi_logloss: 0.147353\n",
            "[1137]\tvalid_0's multi_error: 0.0223393\tvalid_0's multi_logloss: 0.0756055\tvalid_1's multi_error: 0.0508947\tvalid_1's multi_logloss: 0.147355\n",
            "[1138]\tvalid_0's multi_error: 0.0223393\tvalid_0's multi_logloss: 0.0755533\tvalid_1's multi_error: 0.0509509\tvalid_1's multi_logloss: 0.147361\n",
            "[1139]\tvalid_0's multi_error: 0.0223206\tvalid_0's multi_logloss: 0.0755102\tvalid_1's multi_error: 0.0509228\tvalid_1's multi_logloss: 0.147351\n",
            "[1140]\tvalid_0's multi_error: 0.0223206\tvalid_0's multi_logloss: 0.075469\tvalid_1's multi_error: 0.0509228\tvalid_1's multi_logloss: 0.147351\n",
            "[1141]\tvalid_0's multi_error: 0.0223206\tvalid_0's multi_logloss: 0.0754224\tvalid_1's multi_error: 0.0509509\tvalid_1's multi_logloss: 0.147353\n",
            "[1142]\tvalid_0's multi_error: 0.0221705\tvalid_0's multi_logloss: 0.0753847\tvalid_1's multi_error: 0.0508947\tvalid_1's multi_logloss: 0.147353\n",
            "[1143]\tvalid_0's multi_error: 0.022133\tvalid_0's multi_logloss: 0.0753326\tvalid_1's multi_error: 0.0508947\tvalid_1's multi_logloss: 0.147335\n",
            "[1144]\tvalid_0's multi_error: 0.0221518\tvalid_0's multi_logloss: 0.0752923\tvalid_1's multi_error: 0.0509228\tvalid_1's multi_logloss: 0.147331\n",
            "[1145]\tvalid_0's multi_error: 0.022133\tvalid_0's multi_logloss: 0.0752521\tvalid_1's multi_error: 0.0509228\tvalid_1's multi_logloss: 0.147324\n",
            "[1146]\tvalid_0's multi_error: 0.0221143\tvalid_0's multi_logloss: 0.0752118\tvalid_1's multi_error: 0.0509791\tvalid_1's multi_logloss: 0.147335\n",
            "[1147]\tvalid_0's multi_error: 0.0220955\tvalid_0's multi_logloss: 0.0751756\tvalid_1's multi_error: 0.0509509\tvalid_1's multi_logloss: 0.147336\n",
            "[1148]\tvalid_0's multi_error: 0.0220768\tvalid_0's multi_logloss: 0.0751333\tvalid_1's multi_error: 0.0509791\tvalid_1's multi_logloss: 0.147335\n",
            "[1149]\tvalid_0's multi_error: 0.022058\tvalid_0's multi_logloss: 0.0750802\tvalid_1's multi_error: 0.0509228\tvalid_1's multi_logloss: 0.147323\n",
            "[1150]\tvalid_0's multi_error: 0.022058\tvalid_0's multi_logloss: 0.0750367\tvalid_1's multi_error: 0.0509509\tvalid_1's multi_logloss: 0.147321\n",
            "[1151]\tvalid_0's multi_error: 0.0220205\tvalid_0's multi_logloss: 0.0749567\tvalid_1's multi_error: 0.0509791\tvalid_1's multi_logloss: 0.147264\n",
            "[1152]\tvalid_0's multi_error: 0.0220017\tvalid_0's multi_logloss: 0.0749151\tvalid_1's multi_error: 0.0509509\tvalid_1's multi_logloss: 0.147261\n",
            "[1153]\tvalid_0's multi_error: 0.0220017\tvalid_0's multi_logloss: 0.074868\tvalid_1's multi_error: 0.0510635\tvalid_1's multi_logloss: 0.147263\n",
            "[1154]\tvalid_0's multi_error: 0.0219455\tvalid_0's multi_logloss: 0.0748215\tvalid_1's multi_error: 0.0511197\tvalid_1's multi_logloss: 0.147266\n",
            "[1155]\tvalid_0's multi_error: 0.0219079\tvalid_0's multi_logloss: 0.0747718\tvalid_1's multi_error: 0.0510635\tvalid_1's multi_logloss: 0.14727\n",
            "[1156]\tvalid_0's multi_error: 0.0218892\tvalid_0's multi_logloss: 0.0747205\tvalid_1's multi_error: 0.0510635\tvalid_1's multi_logloss: 0.147264\n",
            "[1157]\tvalid_0's multi_error: 0.0218892\tvalid_0's multi_logloss: 0.0746582\tvalid_1's multi_error: 0.0509509\tvalid_1's multi_logloss: 0.147235\n",
            "[1158]\tvalid_0's multi_error: 0.0218892\tvalid_0's multi_logloss: 0.0746108\tvalid_1's multi_error: 0.0509791\tvalid_1's multi_logloss: 0.147237\n",
            "[1159]\tvalid_0's multi_error: 0.0218704\tvalid_0's multi_logloss: 0.0745633\tvalid_1's multi_error: 0.0510072\tvalid_1's multi_logloss: 0.14723\n",
            "[1160]\tvalid_0's multi_error: 0.0218329\tvalid_0's multi_logloss: 0.0745185\tvalid_1's multi_error: 0.0508947\tvalid_1's multi_logloss: 0.147236\n",
            "[1161]\tvalid_0's multi_error: 0.0218142\tvalid_0's multi_logloss: 0.0744719\tvalid_1's multi_error: 0.0509509\tvalid_1's multi_logloss: 0.147231\n",
            "[1162]\tvalid_0's multi_error: 0.0217954\tvalid_0's multi_logloss: 0.0744324\tvalid_1's multi_error: 0.0509228\tvalid_1's multi_logloss: 0.147231\n",
            "[1163]\tvalid_0's multi_error: 0.0218142\tvalid_0's multi_logloss: 0.0744004\tvalid_1's multi_error: 0.0509791\tvalid_1's multi_logloss: 0.147234\n",
            "[1164]\tvalid_0's multi_error: 0.0218142\tvalid_0's multi_logloss: 0.0743584\tvalid_1's multi_error: 0.0509791\tvalid_1's multi_logloss: 0.147231\n",
            "[1165]\tvalid_0's multi_error: 0.0217766\tvalid_0's multi_logloss: 0.0743243\tvalid_1's multi_error: 0.0510353\tvalid_1's multi_logloss: 0.147239\n",
            "[1166]\tvalid_0's multi_error: 0.0217204\tvalid_0's multi_logloss: 0.0742884\tvalid_1's multi_error: 0.0510072\tvalid_1's multi_logloss: 0.147235\n",
            "[1167]\tvalid_0's multi_error: 0.0216829\tvalid_0's multi_logloss: 0.0742534\tvalid_1's multi_error: 0.0510072\tvalid_1's multi_logloss: 0.147236\n",
            "[1168]\tvalid_0's multi_error: 0.0216641\tvalid_0's multi_logloss: 0.0742084\tvalid_1's multi_error: 0.0510072\tvalid_1's multi_logloss: 0.147234\n",
            "[1169]\tvalid_0's multi_error: 0.0216641\tvalid_0's multi_logloss: 0.0741664\tvalid_1's multi_error: 0.0510072\tvalid_1's multi_logloss: 0.147239\n",
            "[1170]\tvalid_0's multi_error: 0.0216453\tvalid_0's multi_logloss: 0.0741175\tvalid_1's multi_error: 0.0510353\tvalid_1's multi_logloss: 0.147229\n",
            "[1171]\tvalid_0's multi_error: 0.0216453\tvalid_0's multi_logloss: 0.0740748\tvalid_1's multi_error: 0.0509791\tvalid_1's multi_logloss: 0.147232\n",
            "[1172]\tvalid_0's multi_error: 0.0216453\tvalid_0's multi_logloss: 0.0740307\tvalid_1's multi_error: 0.0509791\tvalid_1's multi_logloss: 0.147238\n",
            "[1173]\tvalid_0's multi_error: 0.0216078\tvalid_0's multi_logloss: 0.0739764\tvalid_1's multi_error: 0.0509509\tvalid_1's multi_logloss: 0.14723\n",
            "[1174]\tvalid_0's multi_error: 0.0215516\tvalid_0's multi_logloss: 0.0739338\tvalid_1's multi_error: 0.0509791\tvalid_1's multi_logloss: 0.147228\n",
            "[1175]\tvalid_0's multi_error: 0.0215516\tvalid_0's multi_logloss: 0.0738884\tvalid_1's multi_error: 0.0509509\tvalid_1's multi_logloss: 0.147226\n",
            "[1176]\tvalid_0's multi_error: 0.021514\tvalid_0's multi_logloss: 0.0738421\tvalid_1's multi_error: 0.0509228\tvalid_1's multi_logloss: 0.147213\n",
            "[1177]\tvalid_0's multi_error: 0.0214953\tvalid_0's multi_logloss: 0.0737998\tvalid_1's multi_error: 0.0509791\tvalid_1's multi_logloss: 0.147202\n",
            "[1178]\tvalid_0's multi_error: 0.0214203\tvalid_0's multi_logloss: 0.0737523\tvalid_1's multi_error: 0.0510072\tvalid_1's multi_logloss: 0.147197\n",
            "[1179]\tvalid_0's multi_error: 0.021439\tvalid_0's multi_logloss: 0.0737062\tvalid_1's multi_error: 0.0509791\tvalid_1's multi_logloss: 0.147199\n",
            "[1180]\tvalid_0's multi_error: 0.0214203\tvalid_0's multi_logloss: 0.07364\tvalid_1's multi_error: 0.0509509\tvalid_1's multi_logloss: 0.147153\n",
            "[1181]\tvalid_0's multi_error: 0.0214015\tvalid_0's multi_logloss: 0.0736018\tvalid_1's multi_error: 0.0509791\tvalid_1's multi_logloss: 0.147151\n",
            "[1182]\tvalid_0's multi_error: 0.0213452\tvalid_0's multi_logloss: 0.0735587\tvalid_1's multi_error: 0.0510072\tvalid_1's multi_logloss: 0.14712\n",
            "[1183]\tvalid_0's multi_error: 0.0213077\tvalid_0's multi_logloss: 0.0735201\tvalid_1's multi_error: 0.0510353\tvalid_1's multi_logloss: 0.147121\n",
            "[1184]\tvalid_0's multi_error: 0.0213077\tvalid_0's multi_logloss: 0.0734792\tvalid_1's multi_error: 0.0510353\tvalid_1's multi_logloss: 0.147112\n",
            "[1185]\tvalid_0's multi_error: 0.0213077\tvalid_0's multi_logloss: 0.073438\tvalid_1's multi_error: 0.0509791\tvalid_1's multi_logloss: 0.147109\n",
            "[1186]\tvalid_0's multi_error: 0.0213265\tvalid_0's multi_logloss: 0.0733989\tvalid_1's multi_error: 0.0510072\tvalid_1's multi_logloss: 0.147111\n",
            "[1187]\tvalid_0's multi_error: 0.0213077\tvalid_0's multi_logloss: 0.0733332\tvalid_1's multi_error: 0.0510072\tvalid_1's multi_logloss: 0.147057\n",
            "[1188]\tvalid_0's multi_error: 0.0212702\tvalid_0's multi_logloss: 0.0732941\tvalid_1's multi_error: 0.0510353\tvalid_1's multi_logloss: 0.147063\n",
            "[1189]\tvalid_0's multi_error: 0.0212327\tvalid_0's multi_logloss: 0.0732493\tvalid_1's multi_error: 0.0510353\tvalid_1's multi_logloss: 0.147051\n",
            "[1190]\tvalid_0's multi_error: 0.0212327\tvalid_0's multi_logloss: 0.0732187\tvalid_1's multi_error: 0.0510353\tvalid_1's multi_logloss: 0.147054\n",
            "[1191]\tvalid_0's multi_error: 0.0212327\tvalid_0's multi_logloss: 0.073175\tvalid_1's multi_error: 0.0509791\tvalid_1's multi_logloss: 0.147037\n",
            "[1192]\tvalid_0's multi_error: 0.0212327\tvalid_0's multi_logloss: 0.0731336\tvalid_1's multi_error: 0.0509791\tvalid_1's multi_logloss: 0.147043\n",
            "[1193]\tvalid_0's multi_error: 0.0211764\tvalid_0's multi_logloss: 0.0730941\tvalid_1's multi_error: 0.0509509\tvalid_1's multi_logloss: 0.147037\n",
            "[1194]\tvalid_0's multi_error: 0.0211389\tvalid_0's multi_logloss: 0.0730565\tvalid_1's multi_error: 0.0509509\tvalid_1's multi_logloss: 0.147039\n",
            "[1195]\tvalid_0's multi_error: 0.0211014\tvalid_0's multi_logloss: 0.0730173\tvalid_1's multi_error: 0.0508947\tvalid_1's multi_logloss: 0.147043\n",
            "[1196]\tvalid_0's multi_error: 0.0211014\tvalid_0's multi_logloss: 0.0729807\tvalid_1's multi_error: 0.0508947\tvalid_1's multi_logloss: 0.147041\n",
            "[1197]\tvalid_0's multi_error: 0.0210826\tvalid_0's multi_logloss: 0.0729403\tvalid_1's multi_error: 0.0508947\tvalid_1's multi_logloss: 0.147037\n",
            "[1198]\tvalid_0's multi_error: 0.0211014\tvalid_0's multi_logloss: 0.0728947\tvalid_1's multi_error: 0.0508665\tvalid_1's multi_logloss: 0.147027\n",
            "[1199]\tvalid_0's multi_error: 0.0210826\tvalid_0's multi_logloss: 0.0728663\tvalid_1's multi_error: 0.0508384\tvalid_1's multi_logloss: 0.147021\n",
            "[1200]\tvalid_0's multi_error: 0.0210451\tvalid_0's multi_logloss: 0.0728062\tvalid_1's multi_error: 0.0508384\tvalid_1's multi_logloss: 0.146974\n",
            "[1201]\tvalid_0's multi_error: 0.0210451\tvalid_0's multi_logloss: 0.0727659\tvalid_1's multi_error: 0.0507821\tvalid_1's multi_logloss: 0.146984\n",
            "[1202]\tvalid_0's multi_error: 0.0210264\tvalid_0's multi_logloss: 0.0727295\tvalid_1's multi_error: 0.0508103\tvalid_1's multi_logloss: 0.146974\n",
            "[1203]\tvalid_0's multi_error: 0.0209889\tvalid_0's multi_logloss: 0.0726938\tvalid_1's multi_error: 0.0508384\tvalid_1's multi_logloss: 0.146975\n",
            "[1204]\tvalid_0's multi_error: 0.0209513\tvalid_0's multi_logloss: 0.0726619\tvalid_1's multi_error: 0.0508103\tvalid_1's multi_logloss: 0.146973\n",
            "[1205]\tvalid_0's multi_error: 0.0209326\tvalid_0's multi_logloss: 0.0726226\tvalid_1's multi_error: 0.0508384\tvalid_1's multi_logloss: 0.146968\n",
            "[1206]\tvalid_0's multi_error: 0.0209513\tvalid_0's multi_logloss: 0.0725838\tvalid_1's multi_error: 0.0508665\tvalid_1's multi_logloss: 0.146975\n",
            "[1207]\tvalid_0's multi_error: 0.0209701\tvalid_0's multi_logloss: 0.0725434\tvalid_1's multi_error: 0.0508665\tvalid_1's multi_logloss: 0.146983\n",
            "[1208]\tvalid_0's multi_error: 0.0209326\tvalid_0's multi_logloss: 0.0725086\tvalid_1's multi_error: 0.0508384\tvalid_1's multi_logloss: 0.146991\n",
            "[1209]\tvalid_0's multi_error: 0.0208951\tvalid_0's multi_logloss: 0.0724636\tvalid_1's multi_error: 0.0508947\tvalid_1's multi_logloss: 0.146976\n",
            "[1210]\tvalid_0's multi_error: 0.0208388\tvalid_0's multi_logloss: 0.0724165\tvalid_1's multi_error: 0.0508947\tvalid_1's multi_logloss: 0.146947\n",
            "[1211]\tvalid_0's multi_error: 0.0208763\tvalid_0's multi_logloss: 0.0723763\tvalid_1's multi_error: 0.0508665\tvalid_1's multi_logloss: 0.146946\n",
            "[1212]\tvalid_0's multi_error: 0.0208388\tvalid_0's multi_logloss: 0.0723333\tvalid_1's multi_error: 0.0508384\tvalid_1's multi_logloss: 0.146918\n",
            "[1213]\tvalid_0's multi_error: 0.0208388\tvalid_0's multi_logloss: 0.0723007\tvalid_1's multi_error: 0.0508103\tvalid_1's multi_logloss: 0.146922\n",
            "[1214]\tvalid_0's multi_error: 0.02082\tvalid_0's multi_logloss: 0.0722626\tvalid_1's multi_error: 0.0508384\tvalid_1's multi_logloss: 0.146931\n",
            "[1215]\tvalid_0's multi_error: 0.02082\tvalid_0's multi_logloss: 0.0722253\tvalid_1's multi_error: 0.0507821\tvalid_1's multi_logloss: 0.146917\n",
            "[1216]\tvalid_0's multi_error: 0.0207638\tvalid_0's multi_logloss: 0.0721854\tvalid_1's multi_error: 0.0507821\tvalid_1's multi_logloss: 0.146928\n",
            "[1217]\tvalid_0's multi_error: 0.0207263\tvalid_0's multi_logloss: 0.07214\tvalid_1's multi_error: 0.050754\tvalid_1's multi_logloss: 0.146921\n",
            "[1218]\tvalid_0's multi_error: 0.0207263\tvalid_0's multi_logloss: 0.0721073\tvalid_1's multi_error: 0.0507821\tvalid_1's multi_logloss: 0.146927\n",
            "[1219]\tvalid_0's multi_error: 0.020745\tvalid_0's multi_logloss: 0.0720253\tvalid_1's multi_error: 0.0507259\tvalid_1's multi_logloss: 0.146849\n",
            "[1220]\tvalid_0's multi_error: 0.020745\tvalid_0's multi_logloss: 0.0719843\tvalid_1's multi_error: 0.050754\tvalid_1's multi_logloss: 0.146816\n",
            "[1221]\tvalid_0's multi_error: 0.0207263\tvalid_0's multi_logloss: 0.0719564\tvalid_1's multi_error: 0.050754\tvalid_1's multi_logloss: 0.146823\n",
            "[1222]\tvalid_0's multi_error: 0.0206887\tvalid_0's multi_logloss: 0.0719234\tvalid_1's multi_error: 0.0506977\tvalid_1's multi_logloss: 0.14682\n",
            "[1223]\tvalid_0's multi_error: 0.0206887\tvalid_0's multi_logloss: 0.0718914\tvalid_1's multi_error: 0.0506977\tvalid_1's multi_logloss: 0.146808\n",
            "[1224]\tvalid_0's multi_error: 0.0207075\tvalid_0's multi_logloss: 0.0718571\tvalid_1's multi_error: 0.0507259\tvalid_1's multi_logloss: 0.146806\n",
            "[1225]\tvalid_0's multi_error: 0.0206887\tvalid_0's multi_logloss: 0.0718217\tvalid_1's multi_error: 0.0506977\tvalid_1's multi_logloss: 0.146813\n",
            "[1226]\tvalid_0's multi_error: 0.0206325\tvalid_0's multi_logloss: 0.0717867\tvalid_1's multi_error: 0.0506696\tvalid_1's multi_logloss: 0.146826\n",
            "[1227]\tvalid_0's multi_error: 0.0205762\tvalid_0's multi_logloss: 0.0717523\tvalid_1's multi_error: 0.0506415\tvalid_1's multi_logloss: 0.146828\n",
            "[1228]\tvalid_0's multi_error: 0.0205575\tvalid_0's multi_logloss: 0.0717173\tvalid_1's multi_error: 0.0506133\tvalid_1's multi_logloss: 0.146842\n",
            "[1229]\tvalid_0's multi_error: 0.0205012\tvalid_0's multi_logloss: 0.0716754\tvalid_1's multi_error: 0.0506133\tvalid_1's multi_logloss: 0.146832\n",
            "[1230]\tvalid_0's multi_error: 0.0204449\tvalid_0's multi_logloss: 0.0716318\tvalid_1's multi_error: 0.0506133\tvalid_1's multi_logloss: 0.146834\n",
            "[1231]\tvalid_0's multi_error: 0.0203699\tvalid_0's multi_logloss: 0.0715836\tvalid_1's multi_error: 0.0506133\tvalid_1's multi_logloss: 0.146826\n",
            "[1232]\tvalid_0's multi_error: 0.0203511\tvalid_0's multi_logloss: 0.0715537\tvalid_1's multi_error: 0.0506133\tvalid_1's multi_logloss: 0.146837\n",
            "[1233]\tvalid_0's multi_error: 0.0203886\tvalid_0's multi_logloss: 0.0715214\tvalid_1's multi_error: 0.0506415\tvalid_1's multi_logloss: 0.146834\n",
            "[1234]\tvalid_0's multi_error: 0.0203324\tvalid_0's multi_logloss: 0.0714852\tvalid_1's multi_error: 0.0506133\tvalid_1's multi_logloss: 0.146825\n",
            "[1235]\tvalid_0's multi_error: 0.0203324\tvalid_0's multi_logloss: 0.0714392\tvalid_1's multi_error: 0.0506977\tvalid_1's multi_logloss: 0.14682\n",
            "[1236]\tvalid_0's multi_error: 0.0202949\tvalid_0's multi_logloss: 0.071409\tvalid_1's multi_error: 0.0506696\tvalid_1's multi_logloss: 0.146825\n",
            "[1237]\tvalid_0's multi_error: 0.0203324\tvalid_0's multi_logloss: 0.0713646\tvalid_1's multi_error: 0.0505852\tvalid_1's multi_logloss: 0.146791\n",
            "[1238]\tvalid_0's multi_error: 0.0203511\tvalid_0's multi_logloss: 0.071332\tvalid_1's multi_error: 0.0506415\tvalid_1's multi_logloss: 0.146782\n",
            "[1239]\tvalid_0's multi_error: 0.0203136\tvalid_0's multi_logloss: 0.0712888\tvalid_1's multi_error: 0.0505571\tvalid_1's multi_logloss: 0.146779\n",
            "[1240]\tvalid_0's multi_error: 0.0202949\tvalid_0's multi_logloss: 0.0712515\tvalid_1's multi_error: 0.0505289\tvalid_1's multi_logloss: 0.14678\n",
            "[1241]\tvalid_0's multi_error: 0.0202949\tvalid_0's multi_logloss: 0.0712071\tvalid_1's multi_error: 0.0505008\tvalid_1's multi_logloss: 0.146762\n",
            "[1242]\tvalid_0's multi_error: 0.0202761\tvalid_0's multi_logloss: 0.0711771\tvalid_1's multi_error: 0.0505008\tvalid_1's multi_logloss: 0.14677\n",
            "[1243]\tvalid_0's multi_error: 0.0202386\tvalid_0's multi_logloss: 0.0711088\tvalid_1's multi_error: 0.0505571\tvalid_1's multi_logloss: 0.146712\n",
            "[1244]\tvalid_0's multi_error: 0.0202198\tvalid_0's multi_logloss: 0.0710635\tvalid_1's multi_error: 0.0505571\tvalid_1's multi_logloss: 0.146713\n",
            "[1245]\tvalid_0's multi_error: 0.0201823\tvalid_0's multi_logloss: 0.0710191\tvalid_1's multi_error: 0.0504164\tvalid_1's multi_logloss: 0.146714\n",
            "[1246]\tvalid_0's multi_error: 0.020126\tvalid_0's multi_logloss: 0.0709836\tvalid_1's multi_error: 0.0504445\tvalid_1's multi_logloss: 0.14671\n",
            "[1247]\tvalid_0's multi_error: 0.020126\tvalid_0's multi_logloss: 0.0709352\tvalid_1's multi_error: 0.0505571\tvalid_1's multi_logloss: 0.146714\n",
            "[1248]\tvalid_0's multi_error: 0.020126\tvalid_0's multi_logloss: 0.0708884\tvalid_1's multi_error: 0.0505289\tvalid_1's multi_logloss: 0.146712\n",
            "[1249]\tvalid_0's multi_error: 0.020126\tvalid_0's multi_logloss: 0.0708526\tvalid_1's multi_error: 0.0504727\tvalid_1's multi_logloss: 0.146719\n",
            "[1250]\tvalid_0's multi_error: 0.020051\tvalid_0's multi_logloss: 0.0708089\tvalid_1's multi_error: 0.0504727\tvalid_1's multi_logloss: 0.146711\n",
            "[1251]\tvalid_0's multi_error: 0.0199947\tvalid_0's multi_logloss: 0.0707683\tvalid_1's multi_error: 0.0505008\tvalid_1's multi_logloss: 0.146709\n",
            "[1252]\tvalid_0's multi_error: 0.019976\tvalid_0's multi_logloss: 0.0707308\tvalid_1's multi_error: 0.0505008\tvalid_1's multi_logloss: 0.146693\n",
            "[1253]\tvalid_0's multi_error: 0.019976\tvalid_0's multi_logloss: 0.0706962\tvalid_1's multi_error: 0.0505008\tvalid_1's multi_logloss: 0.146699\n",
            "[1254]\tvalid_0's multi_error: 0.0199385\tvalid_0's multi_logloss: 0.0706591\tvalid_1's multi_error: 0.0504727\tvalid_1's multi_logloss: 0.146695\n",
            "[1255]\tvalid_0's multi_error: 0.0199947\tvalid_0's multi_logloss: 0.0706263\tvalid_1's multi_error: 0.0504727\tvalid_1's multi_logloss: 0.146697\n",
            "[1256]\tvalid_0's multi_error: 0.019976\tvalid_0's multi_logloss: 0.0705861\tvalid_1's multi_error: 0.0504727\tvalid_1's multi_logloss: 0.146686\n",
            "[1257]\tvalid_0's multi_error: 0.019976\tvalid_0's multi_logloss: 0.0705492\tvalid_1's multi_error: 0.0504727\tvalid_1's multi_logloss: 0.146677\n",
            "[1258]\tvalid_0's multi_error: 0.019976\tvalid_0's multi_logloss: 0.0705151\tvalid_1's multi_error: 0.0504727\tvalid_1's multi_logloss: 0.146675\n",
            "[1259]\tvalid_0's multi_error: 0.0199385\tvalid_0's multi_logloss: 0.0704794\tvalid_1's multi_error: 0.0504164\tvalid_1's multi_logloss: 0.146673\n",
            "[1260]\tvalid_0's multi_error: 0.0199385\tvalid_0's multi_logloss: 0.0704382\tvalid_1's multi_error: 0.0503883\tvalid_1's multi_logloss: 0.146673\n",
            "[1261]\tvalid_0's multi_error: 0.0199385\tvalid_0's multi_logloss: 0.0704006\tvalid_1's multi_error: 0.0504445\tvalid_1's multi_logloss: 0.146664\n",
            "[1262]\tvalid_0's multi_error: 0.0198822\tvalid_0's multi_logloss: 0.0703638\tvalid_1's multi_error: 0.0504445\tvalid_1's multi_logloss: 0.146667\n",
            "[1263]\tvalid_0's multi_error: 0.0198635\tvalid_0's multi_logloss: 0.0703221\tvalid_1's multi_error: 0.0504727\tvalid_1's multi_logloss: 0.146664\n",
            "[1264]\tvalid_0's multi_error: 0.0198259\tvalid_0's multi_logloss: 0.0702831\tvalid_1's multi_error: 0.0505008\tvalid_1's multi_logloss: 0.146664\n",
            "[1265]\tvalid_0's multi_error: 0.0198259\tvalid_0's multi_logloss: 0.0702474\tvalid_1's multi_error: 0.0505008\tvalid_1's multi_logloss: 0.146662\n",
            "[1266]\tvalid_0's multi_error: 0.0198072\tvalid_0's multi_logloss: 0.0702121\tvalid_1's multi_error: 0.0505008\tvalid_1's multi_logloss: 0.146664\n",
            "[1267]\tvalid_0's multi_error: 0.0198447\tvalid_0's multi_logloss: 0.0701735\tvalid_1's multi_error: 0.0504727\tvalid_1's multi_logloss: 0.146656\n",
            "[1268]\tvalid_0's multi_error: 0.0198447\tvalid_0's multi_logloss: 0.0701235\tvalid_1's multi_error: 0.0504164\tvalid_1's multi_logloss: 0.14664\n",
            "[1269]\tvalid_0's multi_error: 0.0197884\tvalid_0's multi_logloss: 0.07008\tvalid_1's multi_error: 0.0503601\tvalid_1's multi_logloss: 0.146632\n",
            "[1270]\tvalid_0's multi_error: 0.0197884\tvalid_0's multi_logloss: 0.0700475\tvalid_1's multi_error: 0.0504164\tvalid_1's multi_logloss: 0.146638\n",
            "[1271]\tvalid_0's multi_error: 0.0197322\tvalid_0's multi_logloss: 0.0700159\tvalid_1's multi_error: 0.0503883\tvalid_1's multi_logloss: 0.146643\n",
            "[1272]\tvalid_0's multi_error: 0.0197134\tvalid_0's multi_logloss: 0.0699737\tvalid_1's multi_error: 0.0504164\tvalid_1's multi_logloss: 0.146651\n",
            "[1273]\tvalid_0's multi_error: 0.0196571\tvalid_0's multi_logloss: 0.0699356\tvalid_1's multi_error: 0.0505008\tvalid_1's multi_logloss: 0.146652\n",
            "[1274]\tvalid_0's multi_error: 0.0195821\tvalid_0's multi_logloss: 0.0698992\tvalid_1's multi_error: 0.0504445\tvalid_1's multi_logloss: 0.146655\n",
            "[1275]\tvalid_0's multi_error: 0.0195821\tvalid_0's multi_logloss: 0.0698626\tvalid_1's multi_error: 0.0505008\tvalid_1's multi_logloss: 0.146651\n",
            "[1276]\tvalid_0's multi_error: 0.0196009\tvalid_0's multi_logloss: 0.0698347\tvalid_1's multi_error: 0.0505289\tvalid_1's multi_logloss: 0.146632\n",
            "[1277]\tvalid_0's multi_error: 0.0195633\tvalid_0's multi_logloss: 0.0697957\tvalid_1's multi_error: 0.0504727\tvalid_1's multi_logloss: 0.146609\n",
            "[1278]\tvalid_0's multi_error: 0.0195446\tvalid_0's multi_logloss: 0.06976\tvalid_1's multi_error: 0.0504164\tvalid_1's multi_logloss: 0.146616\n",
            "[1279]\tvalid_0's multi_error: 0.0195258\tvalid_0's multi_logloss: 0.069729\tvalid_1's multi_error: 0.0504445\tvalid_1's multi_logloss: 0.146618\n",
            "[1280]\tvalid_0's multi_error: 0.0195258\tvalid_0's multi_logloss: 0.0696977\tvalid_1's multi_error: 0.0504727\tvalid_1's multi_logloss: 0.146612\n",
            "[1281]\tvalid_0's multi_error: 0.0195258\tvalid_0's multi_logloss: 0.069661\tvalid_1's multi_error: 0.0504727\tvalid_1's multi_logloss: 0.146618\n",
            "[1282]\tvalid_0's multi_error: 0.0195446\tvalid_0's multi_logloss: 0.0696168\tvalid_1's multi_error: 0.0505008\tvalid_1's multi_logloss: 0.146602\n",
            "[1283]\tvalid_0's multi_error: 0.0195258\tvalid_0's multi_logloss: 0.0695862\tvalid_1's multi_error: 0.0505008\tvalid_1's multi_logloss: 0.146622\n",
            "[1284]\tvalid_0's multi_error: 0.0194696\tvalid_0's multi_logloss: 0.0695548\tvalid_1's multi_error: 0.0505289\tvalid_1's multi_logloss: 0.146625\n",
            "[1285]\tvalid_0's multi_error: 0.019432\tvalid_0's multi_logloss: 0.0695167\tvalid_1's multi_error: 0.0506133\tvalid_1's multi_logloss: 0.146629\n",
            "[1286]\tvalid_0's multi_error: 0.0193945\tvalid_0's multi_logloss: 0.0694767\tvalid_1's multi_error: 0.0506415\tvalid_1's multi_logloss: 0.146626\n",
            "[1287]\tvalid_0's multi_error: 0.019357\tvalid_0's multi_logloss: 0.0694426\tvalid_1's multi_error: 0.0505852\tvalid_1's multi_logloss: 0.146632\n",
            "[1288]\tvalid_0's multi_error: 0.019357\tvalid_0's multi_logloss: 0.069411\tvalid_1's multi_error: 0.0506415\tvalid_1's multi_logloss: 0.146648\n",
            "[1289]\tvalid_0's multi_error: 0.0193383\tvalid_0's multi_logloss: 0.0693617\tvalid_1's multi_error: 0.0505852\tvalid_1's multi_logloss: 0.146624\n",
            "[1290]\tvalid_0's multi_error: 0.0193195\tvalid_0's multi_logloss: 0.069281\tvalid_1's multi_error: 0.0505571\tvalid_1's multi_logloss: 0.146555\n",
            "[1291]\tvalid_0's multi_error: 0.0193195\tvalid_0's multi_logloss: 0.0692436\tvalid_1's multi_error: 0.0504445\tvalid_1's multi_logloss: 0.146562\n",
            "[1292]\tvalid_0's multi_error: 0.019282\tvalid_0's multi_logloss: 0.069208\tvalid_1's multi_error: 0.0504727\tvalid_1's multi_logloss: 0.146566\n",
            "[1293]\tvalid_0's multi_error: 0.0192445\tvalid_0's multi_logloss: 0.0691589\tvalid_1's multi_error: 0.0503883\tvalid_1's multi_logloss: 0.146537\n",
            "[1294]\tvalid_0's multi_error: 0.0192257\tvalid_0's multi_logloss: 0.0691256\tvalid_1's multi_error: 0.0504445\tvalid_1's multi_logloss: 0.146542\n",
            "[1295]\tvalid_0's multi_error: 0.019207\tvalid_0's multi_logloss: 0.0690862\tvalid_1's multi_error: 0.0504445\tvalid_1's multi_logloss: 0.14652\n",
            "[1296]\tvalid_0's multi_error: 0.0192257\tvalid_0's multi_logloss: 0.069051\tvalid_1's multi_error: 0.0504164\tvalid_1's multi_logloss: 0.146502\n",
            "[1297]\tvalid_0's multi_error: 0.0191319\tvalid_0's multi_logloss: 0.0690116\tvalid_1's multi_error: 0.0504445\tvalid_1's multi_logloss: 0.1465\n",
            "[1298]\tvalid_0's multi_error: 0.0191507\tvalid_0's multi_logloss: 0.0689673\tvalid_1's multi_error: 0.0503883\tvalid_1's multi_logloss: 0.14649\n",
            "[1299]\tvalid_0's multi_error: 0.0190944\tvalid_0's multi_logloss: 0.0689374\tvalid_1's multi_error: 0.0504164\tvalid_1's multi_logloss: 0.146501\n",
            "[1300]\tvalid_0's multi_error: 0.0190757\tvalid_0's multi_logloss: 0.0689038\tvalid_1's multi_error: 0.0504164\tvalid_1's multi_logloss: 0.1465\n",
            "[1301]\tvalid_0's multi_error: 0.0190194\tvalid_0's multi_logloss: 0.0688711\tvalid_1's multi_error: 0.0504164\tvalid_1's multi_logloss: 0.146504\n",
            "[1302]\tvalid_0's multi_error: 0.0190194\tvalid_0's multi_logloss: 0.0688423\tvalid_1's multi_error: 0.0504445\tvalid_1's multi_logloss: 0.146519\n",
            "[1303]\tvalid_0's multi_error: 0.0190194\tvalid_0's multi_logloss: 0.0688088\tvalid_1's multi_error: 0.0503883\tvalid_1's multi_logloss: 0.146521\n",
            "[1304]\tvalid_0's multi_error: 0.0190194\tvalid_0's multi_logloss: 0.0687742\tvalid_1's multi_error: 0.0504164\tvalid_1's multi_logloss: 0.146521\n",
            "[1305]\tvalid_0's multi_error: 0.0190194\tvalid_0's multi_logloss: 0.0687422\tvalid_1's multi_error: 0.0504164\tvalid_1's multi_logloss: 0.146523\n",
            "[1306]\tvalid_0's multi_error: 0.0190006\tvalid_0's multi_logloss: 0.0687042\tvalid_1's multi_error: 0.0504164\tvalid_1's multi_logloss: 0.146533\n",
            "[1307]\tvalid_0's multi_error: 0.0189819\tvalid_0's multi_logloss: 0.0686676\tvalid_1's multi_error: 0.0503883\tvalid_1's multi_logloss: 0.146534\n",
            "[1308]\tvalid_0's multi_error: 0.0189631\tvalid_0's multi_logloss: 0.0686322\tvalid_1's multi_error: 0.0503038\tvalid_1's multi_logloss: 0.146524\n",
            "[1309]\tvalid_0's multi_error: 0.0189256\tvalid_0's multi_logloss: 0.0685932\tvalid_1's multi_error: 0.050332\tvalid_1's multi_logloss: 0.146529\n",
            "[1310]\tvalid_0's multi_error: 0.0189069\tvalid_0's multi_logloss: 0.0685494\tvalid_1's multi_error: 0.0502476\tvalid_1's multi_logloss: 0.146507\n",
            "[1311]\tvalid_0's multi_error: 0.0188506\tvalid_0's multi_logloss: 0.0685079\tvalid_1's multi_error: 0.0503038\tvalid_1's multi_logloss: 0.1465\n",
            "[1312]\tvalid_0's multi_error: 0.0188318\tvalid_0's multi_logloss: 0.0684632\tvalid_1's multi_error: 0.050332\tvalid_1's multi_logloss: 0.146483\n",
            "[1313]\tvalid_0's multi_error: 0.0188131\tvalid_0's multi_logloss: 0.0684208\tvalid_1's multi_error: 0.0503601\tvalid_1's multi_logloss: 0.146454\n",
            "[1314]\tvalid_0's multi_error: 0.0188131\tvalid_0's multi_logloss: 0.0683842\tvalid_1's multi_error: 0.0503038\tvalid_1's multi_logloss: 0.146461\n",
            "[1315]\tvalid_0's multi_error: 0.0187943\tvalid_0's multi_logloss: 0.0683504\tvalid_1's multi_error: 0.0502194\tvalid_1's multi_logloss: 0.146463\n",
            "[1316]\tvalid_0's multi_error: 0.0187943\tvalid_0's multi_logloss: 0.0683169\tvalid_1's multi_error: 0.0502476\tvalid_1's multi_logloss: 0.146466\n",
            "[1317]\tvalid_0's multi_error: 0.0187943\tvalid_0's multi_logloss: 0.0682781\tvalid_1's multi_error: 0.0503038\tvalid_1's multi_logloss: 0.146467\n",
            "[1318]\tvalid_0's multi_error: 0.0187756\tvalid_0's multi_logloss: 0.0682378\tvalid_1's multi_error: 0.0503038\tvalid_1's multi_logloss: 0.146477\n",
            "[1319]\tvalid_0's multi_error: 0.0187568\tvalid_0's multi_logloss: 0.0681784\tvalid_1's multi_error: 0.0502757\tvalid_1's multi_logloss: 0.146456\n",
            "[1320]\tvalid_0's multi_error: 0.018738\tvalid_0's multi_logloss: 0.0681407\tvalid_1's multi_error: 0.0503038\tvalid_1's multi_logloss: 0.146452\n",
            "[1321]\tvalid_0's multi_error: 0.0187193\tvalid_0's multi_logloss: 0.0681104\tvalid_1's multi_error: 0.0502757\tvalid_1's multi_logloss: 0.146448\n",
            "[1322]\tvalid_0's multi_error: 0.0187193\tvalid_0's multi_logloss: 0.0680822\tvalid_1's multi_error: 0.0502476\tvalid_1's multi_logloss: 0.146452\n",
            "[1323]\tvalid_0's multi_error: 0.0187193\tvalid_0's multi_logloss: 0.0680426\tvalid_1's multi_error: 0.0501913\tvalid_1's multi_logloss: 0.14645\n",
            "[1324]\tvalid_0's multi_error: 0.0186443\tvalid_0's multi_logloss: 0.0680087\tvalid_1's multi_error: 0.0502476\tvalid_1's multi_logloss: 0.146449\n",
            "[1325]\tvalid_0's multi_error: 0.0186443\tvalid_0's multi_logloss: 0.0679774\tvalid_1's multi_error: 0.0502194\tvalid_1's multi_logloss: 0.146442\n",
            "[1326]\tvalid_0's multi_error: 0.0186443\tvalid_0's multi_logloss: 0.0679428\tvalid_1's multi_error: 0.0502194\tvalid_1's multi_logloss: 0.146453\n",
            "[1327]\tvalid_0's multi_error: 0.0186443\tvalid_0's multi_logloss: 0.0679088\tvalid_1's multi_error: 0.0502476\tvalid_1's multi_logloss: 0.146442\n",
            "[1328]\tvalid_0's multi_error: 0.018663\tvalid_0's multi_logloss: 0.0678721\tvalid_1's multi_error: 0.0503038\tvalid_1's multi_logloss: 0.146445\n",
            "[1329]\tvalid_0's multi_error: 0.0186255\tvalid_0's multi_logloss: 0.0678327\tvalid_1's multi_error: 0.0502757\tvalid_1's multi_logloss: 0.14644\n",
            "[1330]\tvalid_0's multi_error: 0.0186067\tvalid_0's multi_logloss: 0.0677991\tvalid_1's multi_error: 0.0502757\tvalid_1's multi_logloss: 0.14645\n",
            "[1331]\tvalid_0's multi_error: 0.0186255\tvalid_0's multi_logloss: 0.0677585\tvalid_1's multi_error: 0.0501913\tvalid_1's multi_logloss: 0.146439\n",
            "[1332]\tvalid_0's multi_error: 0.0185692\tvalid_0's multi_logloss: 0.0677248\tvalid_1's multi_error: 0.0501913\tvalid_1's multi_logloss: 0.146428\n",
            "[1333]\tvalid_0's multi_error: 0.0186067\tvalid_0's multi_logloss: 0.0676885\tvalid_1's multi_error: 0.0501632\tvalid_1's multi_logloss: 0.146433\n",
            "[1334]\tvalid_0's multi_error: 0.0185692\tvalid_0's multi_logloss: 0.0676449\tvalid_1's multi_error: 0.0501632\tvalid_1's multi_logloss: 0.146431\n",
            "[1335]\tvalid_0's multi_error: 0.0184942\tvalid_0's multi_logloss: 0.0676006\tvalid_1's multi_error: 0.0501632\tvalid_1's multi_logloss: 0.146401\n",
            "[1336]\tvalid_0's multi_error: 0.0184567\tvalid_0's multi_logloss: 0.0675587\tvalid_1's multi_error: 0.0501069\tvalid_1's multi_logloss: 0.1464\n",
            "[1337]\tvalid_0's multi_error: 0.0184567\tvalid_0's multi_logloss: 0.0675358\tvalid_1's multi_error: 0.0501069\tvalid_1's multi_logloss: 0.146406\n",
            "[1338]\tvalid_0's multi_error: 0.0184754\tvalid_0's multi_logloss: 0.0675031\tvalid_1's multi_error: 0.0500788\tvalid_1's multi_logloss: 0.146414\n",
            "[1339]\tvalid_0's multi_error: 0.0184379\tvalid_0's multi_logloss: 0.0674717\tvalid_1's multi_error: 0.0500788\tvalid_1's multi_logloss: 0.146415\n",
            "[1340]\tvalid_0's multi_error: 0.0184004\tvalid_0's multi_logloss: 0.0674369\tvalid_1's multi_error: 0.0500788\tvalid_1's multi_logloss: 0.146417\n",
            "[1341]\tvalid_0's multi_error: 0.0183441\tvalid_0's multi_logloss: 0.0674035\tvalid_1's multi_error: 0.0500788\tvalid_1's multi_logloss: 0.146424\n",
            "[1342]\tvalid_0's multi_error: 0.0183441\tvalid_0's multi_logloss: 0.0673617\tvalid_1's multi_error: 0.0501069\tvalid_1's multi_logloss: 0.146424\n",
            "[1343]\tvalid_0's multi_error: 0.0183441\tvalid_0's multi_logloss: 0.0673291\tvalid_1's multi_error: 0.050135\tvalid_1's multi_logloss: 0.146424\n",
            "[1344]\tvalid_0's multi_error: 0.0182504\tvalid_0's multi_logloss: 0.0672917\tvalid_1's multi_error: 0.0501632\tvalid_1's multi_logloss: 0.146427\n",
            "[1345]\tvalid_0's multi_error: 0.0182504\tvalid_0's multi_logloss: 0.0672591\tvalid_1's multi_error: 0.0501069\tvalid_1's multi_logloss: 0.146422\n",
            "[1346]\tvalid_0's multi_error: 0.0182129\tvalid_0's multi_logloss: 0.0672246\tvalid_1's multi_error: 0.0500788\tvalid_1's multi_logloss: 0.146412\n",
            "[1347]\tvalid_0's multi_error: 0.0182129\tvalid_0's multi_logloss: 0.0671818\tvalid_1's multi_error: 0.0501069\tvalid_1's multi_logloss: 0.146393\n",
            "[1348]\tvalid_0's multi_error: 0.0182129\tvalid_0's multi_logloss: 0.0671521\tvalid_1's multi_error: 0.0500506\tvalid_1's multi_logloss: 0.146395\n",
            "[1349]\tvalid_0's multi_error: 0.0181753\tvalid_0's multi_logloss: 0.0671232\tvalid_1's multi_error: 0.0500225\tvalid_1's multi_logloss: 0.146397\n",
            "[1350]\tvalid_0's multi_error: 0.0181753\tvalid_0's multi_logloss: 0.0670658\tvalid_1's multi_error: 0.0500225\tvalid_1's multi_logloss: 0.146363\n",
            "[1351]\tvalid_0's multi_error: 0.0181566\tvalid_0's multi_logloss: 0.0670386\tvalid_1's multi_error: 0.0500506\tvalid_1's multi_logloss: 0.146368\n",
            "[1352]\tvalid_0's multi_error: 0.0181191\tvalid_0's multi_logloss: 0.0669987\tvalid_1's multi_error: 0.0500506\tvalid_1's multi_logloss: 0.146351\n",
            "[1353]\tvalid_0's multi_error: 0.0181191\tvalid_0's multi_logloss: 0.0669716\tvalid_1's multi_error: 0.0500788\tvalid_1's multi_logloss: 0.146357\n",
            "[1354]\tvalid_0's multi_error: 0.0181378\tvalid_0's multi_logloss: 0.066941\tvalid_1's multi_error: 0.0500225\tvalid_1's multi_logloss: 0.146361\n",
            "[1355]\tvalid_0's multi_error: 0.0181378\tvalid_0's multi_logloss: 0.0669036\tvalid_1's multi_error: 0.0500225\tvalid_1's multi_logloss: 0.146364\n",
            "[1356]\tvalid_0's multi_error: 0.0181191\tvalid_0's multi_logloss: 0.0668706\tvalid_1's multi_error: 0.0499944\tvalid_1's multi_logloss: 0.14636\n",
            "[1357]\tvalid_0's multi_error: 0.0181191\tvalid_0's multi_logloss: 0.0668369\tvalid_1's multi_error: 0.0500506\tvalid_1's multi_logloss: 0.146359\n",
            "[1358]\tvalid_0's multi_error: 0.0180816\tvalid_0's multi_logloss: 0.0667958\tvalid_1's multi_error: 0.0499944\tvalid_1's multi_logloss: 0.146353\n",
            "[1359]\tvalid_0's multi_error: 0.0180816\tvalid_0's multi_logloss: 0.0667578\tvalid_1's multi_error: 0.0500506\tvalid_1's multi_logloss: 0.146341\n",
            "[1360]\tvalid_0's multi_error: 0.0180816\tvalid_0's multi_logloss: 0.0667241\tvalid_1's multi_error: 0.0500788\tvalid_1's multi_logloss: 0.146345\n",
            "[1361]\tvalid_0's multi_error: 0.0181003\tvalid_0's multi_logloss: 0.066678\tvalid_1's multi_error: 0.050135\tvalid_1's multi_logloss: 0.14634\n",
            "[1362]\tvalid_0's multi_error: 0.0180816\tvalid_0's multi_logloss: 0.0666474\tvalid_1's multi_error: 0.050135\tvalid_1's multi_logloss: 0.146347\n",
            "[1363]\tvalid_0's multi_error: 0.0180816\tvalid_0's multi_logloss: 0.066615\tvalid_1's multi_error: 0.0501632\tvalid_1's multi_logloss: 0.146348\n",
            "[1364]\tvalid_0's multi_error: 0.018044\tvalid_0's multi_logloss: 0.0665775\tvalid_1's multi_error: 0.0501913\tvalid_1's multi_logloss: 0.146346\n",
            "[1365]\tvalid_0's multi_error: 0.0180253\tvalid_0's multi_logloss: 0.0665361\tvalid_1's multi_error: 0.0501913\tvalid_1's multi_logloss: 0.146352\n",
            "[1366]\tvalid_0's multi_error: 0.0180065\tvalid_0's multi_logloss: 0.0664993\tvalid_1's multi_error: 0.0501632\tvalid_1's multi_logloss: 0.14634\n",
            "[1367]\tvalid_0's multi_error: 0.017969\tvalid_0's multi_logloss: 0.066458\tvalid_1's multi_error: 0.0501632\tvalid_1's multi_logloss: 0.146324\n",
            "[1368]\tvalid_0's multi_error: 0.017969\tvalid_0's multi_logloss: 0.0664244\tvalid_1's multi_error: 0.0501632\tvalid_1's multi_logloss: 0.146331\n",
            "[1369]\tvalid_0's multi_error: 0.0179878\tvalid_0's multi_logloss: 0.0663866\tvalid_1's multi_error: 0.050135\tvalid_1's multi_logloss: 0.146329\n",
            "[1370]\tvalid_0's multi_error: 0.017894\tvalid_0's multi_logloss: 0.0663536\tvalid_1's multi_error: 0.0501069\tvalid_1's multi_logloss: 0.146322\n",
            "[1371]\tvalid_0's multi_error: 0.0178565\tvalid_0's multi_logloss: 0.0663182\tvalid_1's multi_error: 0.050135\tvalid_1's multi_logloss: 0.14633\n",
            "[1372]\tvalid_0's multi_error: 0.017894\tvalid_0's multi_logloss: 0.0662862\tvalid_1's multi_error: 0.050135\tvalid_1's multi_logloss: 0.146334\n",
            "[1373]\tvalid_0's multi_error: 0.0178565\tvalid_0's multi_logloss: 0.0662577\tvalid_1's multi_error: 0.050135\tvalid_1's multi_logloss: 0.146339\n",
            "[1374]\tvalid_0's multi_error: 0.0178752\tvalid_0's multi_logloss: 0.0662225\tvalid_1's multi_error: 0.050135\tvalid_1's multi_logloss: 0.146327\n",
            "[1375]\tvalid_0's multi_error: 0.0178565\tvalid_0's multi_logloss: 0.0661901\tvalid_1's multi_error: 0.0501069\tvalid_1's multi_logloss: 0.146337\n",
            "[1376]\tvalid_0's multi_error: 0.0178377\tvalid_0's multi_logloss: 0.0661617\tvalid_1's multi_error: 0.0500788\tvalid_1's multi_logloss: 0.146339\n",
            "[1377]\tvalid_0's multi_error: 0.0178377\tvalid_0's multi_logloss: 0.0661276\tvalid_1's multi_error: 0.0500788\tvalid_1's multi_logloss: 0.146336\n",
            "[1378]\tvalid_0's multi_error: 0.0177627\tvalid_0's multi_logloss: 0.0660938\tvalid_1's multi_error: 0.0500788\tvalid_1's multi_logloss: 0.146336\n",
            "[1379]\tvalid_0's multi_error: 0.0178002\tvalid_0's multi_logloss: 0.066063\tvalid_1's multi_error: 0.0500506\tvalid_1's multi_logloss: 0.146329\n",
            "[1380]\tvalid_0's multi_error: 0.0178002\tvalid_0's multi_logloss: 0.0660303\tvalid_1's multi_error: 0.0500506\tvalid_1's multi_logloss: 0.146326\n",
            "[1381]\tvalid_0's multi_error: 0.0177627\tvalid_0's multi_logloss: 0.0659999\tvalid_1's multi_error: 0.0500225\tvalid_1's multi_logloss: 0.146338\n",
            "[1382]\tvalid_0's multi_error: 0.0177627\tvalid_0's multi_logloss: 0.0659651\tvalid_1's multi_error: 0.0500225\tvalid_1's multi_logloss: 0.14633\n",
            "[1383]\tvalid_0's multi_error: 0.0177439\tvalid_0's multi_logloss: 0.065933\tvalid_1's multi_error: 0.0500506\tvalid_1's multi_logloss: 0.146335\n",
            "[1384]\tvalid_0's multi_error: 0.0177252\tvalid_0's multi_logloss: 0.0659022\tvalid_1's multi_error: 0.0500506\tvalid_1's multi_logloss: 0.146332\n",
            "[1385]\tvalid_0's multi_error: 0.0176877\tvalid_0's multi_logloss: 0.0658702\tvalid_1's multi_error: 0.0500506\tvalid_1's multi_logloss: 0.14634\n",
            "[1386]\tvalid_0's multi_error: 0.0176689\tvalid_0's multi_logloss: 0.0658316\tvalid_1's multi_error: 0.0499662\tvalid_1's multi_logloss: 0.146322\n",
            "[1387]\tvalid_0's multi_error: 0.0176877\tvalid_0's multi_logloss: 0.0657941\tvalid_1's multi_error: 0.0499381\tvalid_1's multi_logloss: 0.146322\n",
            "[1388]\tvalid_0's multi_error: 0.0176877\tvalid_0's multi_logloss: 0.0657649\tvalid_1's multi_error: 0.0499662\tvalid_1's multi_logloss: 0.14633\n",
            "[1389]\tvalid_0's multi_error: 0.0176314\tvalid_0's multi_logloss: 0.0657309\tvalid_1's multi_error: 0.0499381\tvalid_1's multi_logloss: 0.146345\n",
            "[1390]\tvalid_0's multi_error: 0.0175939\tvalid_0's multi_logloss: 0.0656933\tvalid_1's multi_error: 0.0499381\tvalid_1's multi_logloss: 0.146338\n",
            "[1391]\tvalid_0's multi_error: 0.0175939\tvalid_0's multi_logloss: 0.0656594\tvalid_1's multi_error: 0.0499381\tvalid_1's multi_logloss: 0.146334\n",
            "[1392]\tvalid_0's multi_error: 0.0175564\tvalid_0's multi_logloss: 0.0656202\tvalid_1's multi_error: 0.0499944\tvalid_1's multi_logloss: 0.146333\n",
            "[1393]\tvalid_0's multi_error: 0.0175564\tvalid_0's multi_logloss: 0.0655696\tvalid_1's multi_error: 0.0499662\tvalid_1's multi_logloss: 0.146289\n",
            "[1394]\tvalid_0's multi_error: 0.0175376\tvalid_0's multi_logloss: 0.06554\tvalid_1's multi_error: 0.0499662\tvalid_1's multi_logloss: 0.146295\n",
            "[1395]\tvalid_0's multi_error: 0.0175376\tvalid_0's multi_logloss: 0.0655143\tvalid_1's multi_error: 0.0499662\tvalid_1's multi_logloss: 0.146293\n",
            "[1396]\tvalid_0's multi_error: 0.0174813\tvalid_0's multi_logloss: 0.0654808\tvalid_1's multi_error: 0.0499944\tvalid_1's multi_logloss: 0.1463\n",
            "[1397]\tvalid_0's multi_error: 0.0173876\tvalid_0's multi_logloss: 0.0654558\tvalid_1's multi_error: 0.0499381\tvalid_1's multi_logloss: 0.146308\n",
            "[1398]\tvalid_0's multi_error: 0.0173876\tvalid_0's multi_logloss: 0.0654258\tvalid_1's multi_error: 0.0500225\tvalid_1's multi_logloss: 0.146308\n",
            "[1399]\tvalid_0's multi_error: 0.0173876\tvalid_0's multi_logloss: 0.0653981\tvalid_1's multi_error: 0.0500506\tvalid_1's multi_logloss: 0.146309\n",
            "[1400]\tvalid_0's multi_error: 0.0174063\tvalid_0's multi_logloss: 0.0653659\tvalid_1's multi_error: 0.0500506\tvalid_1's multi_logloss: 0.146311\n",
            "[1401]\tvalid_0's multi_error: 0.0174063\tvalid_0's multi_logloss: 0.0653344\tvalid_1's multi_error: 0.0500788\tvalid_1's multi_logloss: 0.146315\n",
            "[1402]\tvalid_0's multi_error: 0.0173688\tvalid_0's multi_logloss: 0.0653012\tvalid_1's multi_error: 0.0500225\tvalid_1's multi_logloss: 0.146319\n",
            "[1403]\tvalid_0's multi_error: 0.0173125\tvalid_0's multi_logloss: 0.065268\tvalid_1's multi_error: 0.0499662\tvalid_1's multi_logloss: 0.146321\n",
            "[1404]\tvalid_0's multi_error: 0.0172938\tvalid_0's multi_logloss: 0.065229\tvalid_1's multi_error: 0.0499662\tvalid_1's multi_logloss: 0.146321\n",
            "[1405]\tvalid_0's multi_error: 0.0172938\tvalid_0's multi_logloss: 0.0651946\tvalid_1's multi_error: 0.0499662\tvalid_1's multi_logloss: 0.146318\n",
            "[1406]\tvalid_0's multi_error: 0.017275\tvalid_0's multi_logloss: 0.0651433\tvalid_1's multi_error: 0.0499662\tvalid_1's multi_logloss: 0.146271\n",
            "[1407]\tvalid_0's multi_error: 0.0172187\tvalid_0's multi_logloss: 0.065106\tvalid_1's multi_error: 0.04991\tvalid_1's multi_logloss: 0.14626\n",
            "[1408]\tvalid_0's multi_error: 0.0171625\tvalid_0's multi_logloss: 0.0650761\tvalid_1's multi_error: 0.0499662\tvalid_1's multi_logloss: 0.146263\n",
            "[1409]\tvalid_0's multi_error: 0.0171437\tvalid_0's multi_logloss: 0.0650496\tvalid_1's multi_error: 0.0500225\tvalid_1's multi_logloss: 0.146267\n",
            "[1410]\tvalid_0's multi_error: 0.0171437\tvalid_0's multi_logloss: 0.065019\tvalid_1's multi_error: 0.0499662\tvalid_1's multi_logloss: 0.14628\n",
            "[1411]\tvalid_0's multi_error: 0.017125\tvalid_0's multi_logloss: 0.0649863\tvalid_1's multi_error: 0.0499381\tvalid_1's multi_logloss: 0.146276\n",
            "[1412]\tvalid_0's multi_error: 0.017125\tvalid_0's multi_logloss: 0.0649548\tvalid_1's multi_error: 0.04991\tvalid_1's multi_logloss: 0.146276\n",
            "[1413]\tvalid_0's multi_error: 0.0171062\tvalid_0's multi_logloss: 0.0649285\tvalid_1's multi_error: 0.04991\tvalid_1's multi_logloss: 0.14628\n",
            "[1414]\tvalid_0's multi_error: 0.0170687\tvalid_0's multi_logloss: 0.0648984\tvalid_1's multi_error: 0.04991\tvalid_1's multi_logloss: 0.146282\n",
            "[1415]\tvalid_0's multi_error: 0.0170499\tvalid_0's multi_logloss: 0.064863\tvalid_1's multi_error: 0.04991\tvalid_1's multi_logloss: 0.146274\n",
            "[1416]\tvalid_0's multi_error: 0.0170312\tvalid_0's multi_logloss: 0.0648254\tvalid_1's multi_error: 0.04991\tvalid_1's multi_logloss: 0.146261\n",
            "[1417]\tvalid_0's multi_error: 0.0170312\tvalid_0's multi_logloss: 0.0647969\tvalid_1's multi_error: 0.0499381\tvalid_1's multi_logloss: 0.146265\n",
            "[1418]\tvalid_0's multi_error: 0.0170124\tvalid_0's multi_logloss: 0.0647716\tvalid_1's multi_error: 0.0499662\tvalid_1's multi_logloss: 0.146276\n",
            "[1419]\tvalid_0's multi_error: 0.0169937\tvalid_0's multi_logloss: 0.0647408\tvalid_1's multi_error: 0.0499662\tvalid_1's multi_logloss: 0.146273\n",
            "[1420]\tvalid_0's multi_error: 0.0169561\tvalid_0's multi_logloss: 0.0647087\tvalid_1's multi_error: 0.0499381\tvalid_1's multi_logloss: 0.146275\n",
            "[1421]\tvalid_0's multi_error: 0.0169561\tvalid_0's multi_logloss: 0.0646801\tvalid_1's multi_error: 0.0499381\tvalid_1's multi_logloss: 0.146282\n",
            "[1422]\tvalid_0's multi_error: 0.0169374\tvalid_0's multi_logloss: 0.0646463\tvalid_1's multi_error: 0.04991\tvalid_1's multi_logloss: 0.146283\n",
            "[1423]\tvalid_0's multi_error: 0.0169374\tvalid_0's multi_logloss: 0.0646164\tvalid_1's multi_error: 0.04991\tvalid_1's multi_logloss: 0.146295\n",
            "[1424]\tvalid_0's multi_error: 0.0169374\tvalid_0's multi_logloss: 0.0645846\tvalid_1's multi_error: 0.04991\tvalid_1's multi_logloss: 0.146302\n",
            "[1425]\tvalid_0's multi_error: 0.0168999\tvalid_0's multi_logloss: 0.0645517\tvalid_1's multi_error: 0.04991\tvalid_1's multi_logloss: 0.146305\n",
            "[1426]\tvalid_0's multi_error: 0.0168811\tvalid_0's multi_logloss: 0.0645242\tvalid_1's multi_error: 0.0498818\tvalid_1's multi_logloss: 0.146307\n",
            "[1427]\tvalid_0's multi_error: 0.0168624\tvalid_0's multi_logloss: 0.0644955\tvalid_1's multi_error: 0.0498818\tvalid_1's multi_logloss: 0.146308\n",
            "[1428]\tvalid_0's multi_error: 0.0168248\tvalid_0's multi_logloss: 0.0644632\tvalid_1's multi_error: 0.0499381\tvalid_1's multi_logloss: 0.146294\n",
            "[1429]\tvalid_0's multi_error: 0.0168061\tvalid_0's multi_logloss: 0.0644324\tvalid_1's multi_error: 0.0498537\tvalid_1's multi_logloss: 0.146292\n",
            "[1430]\tvalid_0's multi_error: 0.0168624\tvalid_0's multi_logloss: 0.0643997\tvalid_1's multi_error: 0.0498537\tvalid_1's multi_logloss: 0.146282\n",
            "[1431]\tvalid_0's multi_error: 0.0168248\tvalid_0's multi_logloss: 0.0643711\tvalid_1's multi_error: 0.0498537\tvalid_1's multi_logloss: 0.146287\n",
            "[1432]\tvalid_0's multi_error: 0.0168436\tvalid_0's multi_logloss: 0.0643405\tvalid_1's multi_error: 0.0498537\tvalid_1's multi_logloss: 0.146282\n",
            "[1433]\tvalid_0's multi_error: 0.0168061\tvalid_0's multi_logloss: 0.0643057\tvalid_1's multi_error: 0.0498537\tvalid_1's multi_logloss: 0.146282\n",
            "[1434]\tvalid_0's multi_error: 0.0168061\tvalid_0's multi_logloss: 0.0642745\tvalid_1's multi_error: 0.0498818\tvalid_1's multi_logloss: 0.146283\n",
            "[1435]\tvalid_0's multi_error: 0.0167873\tvalid_0's multi_logloss: 0.0642464\tvalid_1's multi_error: 0.0498537\tvalid_1's multi_logloss: 0.146288\n",
            "[1436]\tvalid_0's multi_error: 0.0167498\tvalid_0's multi_logloss: 0.0641884\tvalid_1's multi_error: 0.0498256\tvalid_1's multi_logloss: 0.146241\n",
            "[1437]\tvalid_0's multi_error: 0.0167311\tvalid_0's multi_logloss: 0.0641538\tvalid_1's multi_error: 0.0498537\tvalid_1's multi_logloss: 0.146239\n",
            "[1438]\tvalid_0's multi_error: 0.0167686\tvalid_0's multi_logloss: 0.0641179\tvalid_1's multi_error: 0.0498537\tvalid_1's multi_logloss: 0.146234\n",
            "[1439]\tvalid_0's multi_error: 0.0167311\tvalid_0's multi_logloss: 0.0640878\tvalid_1's multi_error: 0.0498537\tvalid_1's multi_logloss: 0.146236\n",
            "[1440]\tvalid_0's multi_error: 0.0167311\tvalid_0's multi_logloss: 0.0640579\tvalid_1's multi_error: 0.0498537\tvalid_1's multi_logloss: 0.146242\n",
            "[1441]\tvalid_0's multi_error: 0.0167123\tvalid_0's multi_logloss: 0.064025\tvalid_1's multi_error: 0.0498537\tvalid_1's multi_logloss: 0.146224\n",
            "[1442]\tvalid_0's multi_error: 0.0167123\tvalid_0's multi_logloss: 0.0639961\tvalid_1's multi_error: 0.0498256\tvalid_1's multi_logloss: 0.14622\n",
            "[1443]\tvalid_0's multi_error: 0.0167123\tvalid_0's multi_logloss: 0.0639523\tvalid_1's multi_error: 0.0498256\tvalid_1's multi_logloss: 0.146205\n",
            "[1444]\tvalid_0's multi_error: 0.0167311\tvalid_0's multi_logloss: 0.0639204\tvalid_1's multi_error: 0.0497974\tvalid_1's multi_logloss: 0.146207\n",
            "[1445]\tvalid_0's multi_error: 0.0167498\tvalid_0's multi_logloss: 0.0638651\tvalid_1's multi_error: 0.0497693\tvalid_1's multi_logloss: 0.146163\n",
            "[1446]\tvalid_0's multi_error: 0.0167686\tvalid_0's multi_logloss: 0.0638035\tvalid_1's multi_error: 0.0497693\tvalid_1's multi_logloss: 0.146101\n",
            "[1447]\tvalid_0's multi_error: 0.0167123\tvalid_0's multi_logloss: 0.0637514\tvalid_1's multi_error: 0.0497693\tvalid_1's multi_logloss: 0.146063\n",
            "[1448]\tvalid_0's multi_error: 0.0167311\tvalid_0's multi_logloss: 0.0637187\tvalid_1's multi_error: 0.0497412\tvalid_1's multi_logloss: 0.146064\n",
            "[1449]\tvalid_0's multi_error: 0.0167498\tvalid_0's multi_logloss: 0.0636892\tvalid_1's multi_error: 0.0497974\tvalid_1's multi_logloss: 0.146062\n",
            "[1450]\tvalid_0's multi_error: 0.0167498\tvalid_0's multi_logloss: 0.0636611\tvalid_1's multi_error: 0.0497693\tvalid_1's multi_logloss: 0.146066\n",
            "[1451]\tvalid_0's multi_error: 0.0167498\tvalid_0's multi_logloss: 0.0636315\tvalid_1's multi_error: 0.0497693\tvalid_1's multi_logloss: 0.146067\n",
            "[1452]\tvalid_0's multi_error: 0.0167123\tvalid_0's multi_logloss: 0.0635955\tvalid_1's multi_error: 0.0497974\tvalid_1's multi_logloss: 0.14608\n",
            "[1453]\tvalid_0's multi_error: 0.0166936\tvalid_0's multi_logloss: 0.0635683\tvalid_1's multi_error: 0.0497974\tvalid_1's multi_logloss: 0.146081\n",
            "[1454]\tvalid_0's multi_error: 0.0167123\tvalid_0's multi_logloss: 0.0635346\tvalid_1's multi_error: 0.0497693\tvalid_1's multi_logloss: 0.14607\n",
            "[1455]\tvalid_0's multi_error: 0.0167123\tvalid_0's multi_logloss: 0.0635057\tvalid_1's multi_error: 0.0497412\tvalid_1's multi_logloss: 0.146063\n",
            "[1456]\tvalid_0's multi_error: 0.0166748\tvalid_0's multi_logloss: 0.0634739\tvalid_1's multi_error: 0.0497412\tvalid_1's multi_logloss: 0.146053\n",
            "[1457]\tvalid_0's multi_error: 0.016656\tvalid_0's multi_logloss: 0.0634437\tvalid_1's multi_error: 0.0497412\tvalid_1's multi_logloss: 0.146058\n",
            "[1458]\tvalid_0's multi_error: 0.0166185\tvalid_0's multi_logloss: 0.0634098\tvalid_1's multi_error: 0.0497412\tvalid_1's multi_logloss: 0.146062\n",
            "[1459]\tvalid_0's multi_error: 0.0166185\tvalid_0's multi_logloss: 0.0633779\tvalid_1's multi_error: 0.0497412\tvalid_1's multi_logloss: 0.14606\n",
            "[1460]\tvalid_0's multi_error: 0.0166185\tvalid_0's multi_logloss: 0.0633504\tvalid_1's multi_error: 0.0497412\tvalid_1's multi_logloss: 0.146059\n",
            "[1461]\tvalid_0's multi_error: 0.0166185\tvalid_0's multi_logloss: 0.0632938\tvalid_1's multi_error: 0.0497693\tvalid_1's multi_logloss: 0.146015\n",
            "[1462]\tvalid_0's multi_error: 0.0165998\tvalid_0's multi_logloss: 0.063253\tvalid_1's multi_error: 0.0497693\tvalid_1's multi_logloss: 0.146015\n",
            "[1463]\tvalid_0's multi_error: 0.016581\tvalid_0's multi_logloss: 0.063219\tvalid_1's multi_error: 0.049713\tvalid_1's multi_logloss: 0.146016\n",
            "[1464]\tvalid_0's multi_error: 0.0165435\tvalid_0's multi_logloss: 0.0631933\tvalid_1's multi_error: 0.049713\tvalid_1's multi_logloss: 0.146014\n",
            "[1465]\tvalid_0's multi_error: 0.0165247\tvalid_0's multi_logloss: 0.0631627\tvalid_1's multi_error: 0.049713\tvalid_1's multi_logloss: 0.146012\n",
            "[1466]\tvalid_0's multi_error: 0.016506\tvalid_0's multi_logloss: 0.0631212\tvalid_1's multi_error: 0.0497693\tvalid_1's multi_logloss: 0.146006\n",
            "[1467]\tvalid_0's multi_error: 0.016431\tvalid_0's multi_logloss: 0.0630837\tvalid_1's multi_error: 0.049713\tvalid_1's multi_logloss: 0.146004\n",
            "[1468]\tvalid_0's multi_error: 0.0163934\tvalid_0's multi_logloss: 0.0630513\tvalid_1's multi_error: 0.0497412\tvalid_1's multi_logloss: 0.146011\n",
            "[1469]\tvalid_0's multi_error: 0.0163934\tvalid_0's multi_logloss: 0.0630247\tvalid_1's multi_error: 0.0497412\tvalid_1's multi_logloss: 0.146013\n",
            "[1470]\tvalid_0's multi_error: 0.0163559\tvalid_0's multi_logloss: 0.0629913\tvalid_1's multi_error: 0.049713\tvalid_1's multi_logloss: 0.146008\n",
            "[1471]\tvalid_0's multi_error: 0.0163184\tvalid_0's multi_logloss: 0.0629596\tvalid_1's multi_error: 0.0497412\tvalid_1's multi_logloss: 0.146011\n",
            "[1472]\tvalid_0's multi_error: 0.0162997\tvalid_0's multi_logloss: 0.0629378\tvalid_1's multi_error: 0.049713\tvalid_1's multi_logloss: 0.146023\n",
            "[1473]\tvalid_0's multi_error: 0.0162809\tvalid_0's multi_logloss: 0.0628966\tvalid_1's multi_error: 0.0496568\tvalid_1's multi_logloss: 0.146022\n",
            "[1474]\tvalid_0's multi_error: 0.0163184\tvalid_0's multi_logloss: 0.062861\tvalid_1's multi_error: 0.0496849\tvalid_1's multi_logloss: 0.146017\n",
            "[1475]\tvalid_0's multi_error: 0.0162809\tvalid_0's multi_logloss: 0.0628303\tvalid_1's multi_error: 0.049713\tvalid_1's multi_logloss: 0.146028\n",
            "[1476]\tvalid_0's multi_error: 0.0162246\tvalid_0's multi_logloss: 0.0627999\tvalid_1's multi_error: 0.049713\tvalid_1's multi_logloss: 0.146031\n",
            "[1477]\tvalid_0's multi_error: 0.0162059\tvalid_0's multi_logloss: 0.0627425\tvalid_1's multi_error: 0.0497412\tvalid_1's multi_logloss: 0.145974\n",
            "[1478]\tvalid_0's multi_error: 0.0161871\tvalid_0's multi_logloss: 0.0627113\tvalid_1's multi_error: 0.0496849\tvalid_1's multi_logloss: 0.145978\n",
            "[1479]\tvalid_0's multi_error: 0.0162059\tvalid_0's multi_logloss: 0.0626645\tvalid_1's multi_error: 0.0497412\tvalid_1's multi_logloss: 0.14594\n",
            "[1480]\tvalid_0's multi_error: 0.0161684\tvalid_0's multi_logloss: 0.0626274\tvalid_1's multi_error: 0.0497693\tvalid_1's multi_logloss: 0.145944\n",
            "[1481]\tvalid_0's multi_error: 0.0161496\tvalid_0's multi_logloss: 0.0625947\tvalid_1's multi_error: 0.0498256\tvalid_1's multi_logloss: 0.145941\n",
            "[1482]\tvalid_0's multi_error: 0.0161496\tvalid_0's multi_logloss: 0.0625661\tvalid_1's multi_error: 0.0498818\tvalid_1's multi_logloss: 0.145951\n",
            "[1483]\tvalid_0's multi_error: 0.0161684\tvalid_0's multi_logloss: 0.0625319\tvalid_1's multi_error: 0.0498818\tvalid_1's multi_logloss: 0.145949\n",
            "[1484]\tvalid_0's multi_error: 0.0161308\tvalid_0's multi_logloss: 0.0624913\tvalid_1's multi_error: 0.0498818\tvalid_1's multi_logloss: 0.14595\n",
            "[1485]\tvalid_0's multi_error: 0.0160933\tvalid_0's multi_logloss: 0.0624615\tvalid_1's multi_error: 0.0498537\tvalid_1's multi_logloss: 0.145952\n",
            "[1486]\tvalid_0's multi_error: 0.0160746\tvalid_0's multi_logloss: 0.0624266\tvalid_1's multi_error: 0.0498256\tvalid_1's multi_logloss: 0.145948\n",
            "[1487]\tvalid_0's multi_error: 0.0160746\tvalid_0's multi_logloss: 0.0623987\tvalid_1's multi_error: 0.0497974\tvalid_1's multi_logloss: 0.145955\n",
            "[1488]\tvalid_0's multi_error: 0.0160746\tvalid_0's multi_logloss: 0.0623702\tvalid_1's multi_error: 0.0497693\tvalid_1's multi_logloss: 0.145955\n",
            "[1489]\tvalid_0's multi_error: 0.0160746\tvalid_0's multi_logloss: 0.0623386\tvalid_1's multi_error: 0.049713\tvalid_1's multi_logloss: 0.145953\n",
            "[1490]\tvalid_0's multi_error: 0.0160746\tvalid_0's multi_logloss: 0.0623158\tvalid_1's multi_error: 0.049713\tvalid_1's multi_logloss: 0.145955\n",
            "[1491]\tvalid_0's multi_error: 0.0160746\tvalid_0's multi_logloss: 0.0622884\tvalid_1's multi_error: 0.0496849\tvalid_1's multi_logloss: 0.145961\n",
            "[1492]\tvalid_0's multi_error: 0.0160558\tvalid_0's multi_logloss: 0.0622576\tvalid_1's multi_error: 0.0496849\tvalid_1's multi_logloss: 0.145962\n",
            "[1493]\tvalid_0's multi_error: 0.0160558\tvalid_0's multi_logloss: 0.0622354\tvalid_1's multi_error: 0.0496849\tvalid_1's multi_logloss: 0.145964\n",
            "[1494]\tvalid_0's multi_error: 0.0160371\tvalid_0's multi_logloss: 0.0622017\tvalid_1's multi_error: 0.049713\tvalid_1's multi_logloss: 0.145954\n",
            "[1495]\tvalid_0's multi_error: 0.0160371\tvalid_0's multi_logloss: 0.0621715\tvalid_1's multi_error: 0.0497412\tvalid_1's multi_logloss: 0.145958\n",
            "[1496]\tvalid_0's multi_error: 0.0160371\tvalid_0's multi_logloss: 0.0621396\tvalid_1's multi_error: 0.0497412\tvalid_1's multi_logloss: 0.145966\n",
            "[1497]\tvalid_0's multi_error: 0.0160183\tvalid_0's multi_logloss: 0.0621091\tvalid_1's multi_error: 0.049713\tvalid_1's multi_logloss: 0.145949\n",
            "[1498]\tvalid_0's multi_error: 0.0160183\tvalid_0's multi_logloss: 0.0620849\tvalid_1's multi_error: 0.0497412\tvalid_1's multi_logloss: 0.14595\n",
            "[1499]\tvalid_0's multi_error: 0.0160371\tvalid_0's multi_logloss: 0.0620569\tvalid_1's multi_error: 0.0497412\tvalid_1's multi_logloss: 0.145948\n",
            "[1500]\tvalid_0's multi_error: 0.0160558\tvalid_0's multi_logloss: 0.0620303\tvalid_1's multi_error: 0.0497693\tvalid_1's multi_logloss: 0.145935\n",
            "[1501]\tvalid_0's multi_error: 0.0160558\tvalid_0's multi_logloss: 0.0620064\tvalid_1's multi_error: 0.049713\tvalid_1's multi_logloss: 0.145937\n",
            "[1502]\tvalid_0's multi_error: 0.0160558\tvalid_0's multi_logloss: 0.0619733\tvalid_1's multi_error: 0.0496849\tvalid_1's multi_logloss: 0.14594\n",
            "[1503]\tvalid_0's multi_error: 0.0159995\tvalid_0's multi_logloss: 0.0619399\tvalid_1's multi_error: 0.049713\tvalid_1's multi_logloss: 0.145938\n",
            "[1504]\tvalid_0's multi_error: 0.0159995\tvalid_0's multi_logloss: 0.0619059\tvalid_1's multi_error: 0.0496849\tvalid_1's multi_logloss: 0.14593\n",
            "[1505]\tvalid_0's multi_error: 0.0159808\tvalid_0's multi_logloss: 0.0618711\tvalid_1's multi_error: 0.0496568\tvalid_1's multi_logloss: 0.145917\n",
            "[1506]\tvalid_0's multi_error: 0.0159808\tvalid_0's multi_logloss: 0.0618392\tvalid_1's multi_error: 0.0496286\tvalid_1's multi_logloss: 0.145907\n",
            "[1507]\tvalid_0's multi_error: 0.0159808\tvalid_0's multi_logloss: 0.0618133\tvalid_1's multi_error: 0.0496568\tvalid_1's multi_logloss: 0.145906\n",
            "[1508]\tvalid_0's multi_error: 0.0159808\tvalid_0's multi_logloss: 0.061785\tvalid_1's multi_error: 0.0496286\tvalid_1's multi_logloss: 0.145887\n",
            "[1509]\tvalid_0's multi_error: 0.015962\tvalid_0's multi_logloss: 0.0617501\tvalid_1's multi_error: 0.0496286\tvalid_1's multi_logloss: 0.145887\n",
            "[1510]\tvalid_0's multi_error: 0.015962\tvalid_0's multi_logloss: 0.061722\tvalid_1's multi_error: 0.049713\tvalid_1's multi_logloss: 0.145875\n",
            "[1511]\tvalid_0's multi_error: 0.0159058\tvalid_0's multi_logloss: 0.0616903\tvalid_1's multi_error: 0.0496849\tvalid_1's multi_logloss: 0.145858\n",
            "[1512]\tvalid_0's multi_error: 0.015887\tvalid_0's multi_logloss: 0.0616637\tvalid_1's multi_error: 0.0496849\tvalid_1's multi_logloss: 0.145859\n",
            "[1513]\tvalid_0's multi_error: 0.0158683\tvalid_0's multi_logloss: 0.0616318\tvalid_1's multi_error: 0.0496849\tvalid_1's multi_logloss: 0.145859\n",
            "[1514]\tvalid_0's multi_error: 0.0158307\tvalid_0's multi_logloss: 0.0615935\tvalid_1's multi_error: 0.0496568\tvalid_1's multi_logloss: 0.145853\n",
            "[1515]\tvalid_0's multi_error: 0.0158495\tvalid_0's multi_logloss: 0.0615652\tvalid_1's multi_error: 0.0496286\tvalid_1's multi_logloss: 0.145849\n",
            "[1516]\tvalid_0's multi_error: 0.0157932\tvalid_0's multi_logloss: 0.0615329\tvalid_1's multi_error: 0.0496286\tvalid_1's multi_logloss: 0.145848\n",
            "[1517]\tvalid_0's multi_error: 0.0157557\tvalid_0's multi_logloss: 0.0615022\tvalid_1's multi_error: 0.0496286\tvalid_1's multi_logloss: 0.145839\n",
            "[1518]\tvalid_0's multi_error: 0.0157745\tvalid_0's multi_logloss: 0.0614684\tvalid_1's multi_error: 0.0495724\tvalid_1's multi_logloss: 0.145843\n",
            "[1519]\tvalid_0's multi_error: 0.0157557\tvalid_0's multi_logloss: 0.0614369\tvalid_1's multi_error: 0.0496005\tvalid_1's multi_logloss: 0.145839\n",
            "[1520]\tvalid_0's multi_error: 0.015737\tvalid_0's multi_logloss: 0.0614039\tvalid_1's multi_error: 0.0496005\tvalid_1's multi_logloss: 0.145832\n",
            "[1521]\tvalid_0's multi_error: 0.0156994\tvalid_0's multi_logloss: 0.0613706\tvalid_1's multi_error: 0.0495442\tvalid_1's multi_logloss: 0.145822\n",
            "[1522]\tvalid_0's multi_error: 0.0156807\tvalid_0's multi_logloss: 0.0613415\tvalid_1's multi_error: 0.0496286\tvalid_1's multi_logloss: 0.145813\n",
            "[1523]\tvalid_0's multi_error: 0.0157182\tvalid_0's multi_logloss: 0.0612934\tvalid_1's multi_error: 0.0496286\tvalid_1's multi_logloss: 0.145781\n",
            "[1524]\tvalid_0's multi_error: 0.0157182\tvalid_0's multi_logloss: 0.0612571\tvalid_1's multi_error: 0.0495724\tvalid_1's multi_logloss: 0.145783\n",
            "[1525]\tvalid_0's multi_error: 0.0156807\tvalid_0's multi_logloss: 0.0612278\tvalid_1's multi_error: 0.0496005\tvalid_1's multi_logloss: 0.145793\n",
            "[1526]\tvalid_0's multi_error: 0.0156807\tvalid_0's multi_logloss: 0.0612029\tvalid_1's multi_error: 0.0495724\tvalid_1's multi_logloss: 0.1458\n",
            "[1527]\tvalid_0's multi_error: 0.0156807\tvalid_0's multi_logloss: 0.061164\tvalid_1's multi_error: 0.0495724\tvalid_1's multi_logloss: 0.145794\n",
            "[1528]\tvalid_0's multi_error: 0.0157182\tvalid_0's multi_logloss: 0.0611295\tvalid_1's multi_error: 0.0496286\tvalid_1's multi_logloss: 0.145803\n",
            "[1529]\tvalid_0's multi_error: 0.0156994\tvalid_0's multi_logloss: 0.0610951\tvalid_1's multi_error: 0.0496568\tvalid_1's multi_logloss: 0.145793\n",
            "[1530]\tvalid_0's multi_error: 0.0156807\tvalid_0's multi_logloss: 0.0610703\tvalid_1's multi_error: 0.0496568\tvalid_1's multi_logloss: 0.145802\n",
            "[1531]\tvalid_0's multi_error: 0.0156994\tvalid_0's multi_logloss: 0.061044\tvalid_1's multi_error: 0.049713\tvalid_1's multi_logloss: 0.145816\n",
            "[1532]\tvalid_0's multi_error: 0.0156994\tvalid_0's multi_logloss: 0.0609945\tvalid_1's multi_error: 0.0496568\tvalid_1's multi_logloss: 0.145773\n",
            "[1533]\tvalid_0's multi_error: 0.0156994\tvalid_0's multi_logloss: 0.0609648\tvalid_1's multi_error: 0.0496005\tvalid_1's multi_logloss: 0.145782\n",
            "[1534]\tvalid_0's multi_error: 0.0156807\tvalid_0's multi_logloss: 0.0609376\tvalid_1's multi_error: 0.0496286\tvalid_1's multi_logloss: 0.145773\n",
            "[1535]\tvalid_0's multi_error: 0.0156619\tvalid_0's multi_logloss: 0.0609057\tvalid_1's multi_error: 0.0496005\tvalid_1's multi_logloss: 0.14578\n",
            "[1536]\tvalid_0's multi_error: 0.0156807\tvalid_0's multi_logloss: 0.0608775\tvalid_1's multi_error: 0.0495442\tvalid_1's multi_logloss: 0.145791\n",
            "[1537]\tvalid_0's multi_error: 0.0156432\tvalid_0's multi_logloss: 0.0608492\tvalid_1's multi_error: 0.0495161\tvalid_1's multi_logloss: 0.145789\n",
            "[1538]\tvalid_0's multi_error: 0.0156432\tvalid_0's multi_logloss: 0.0608159\tvalid_1's multi_error: 0.0495442\tvalid_1's multi_logloss: 0.145793\n",
            "[1539]\tvalid_0's multi_error: 0.0156057\tvalid_0's multi_logloss: 0.0607832\tvalid_1's multi_error: 0.0495442\tvalid_1's multi_logloss: 0.1458\n",
            "[1540]\tvalid_0's multi_error: 0.0156244\tvalid_0's multi_logloss: 0.0607388\tvalid_1's multi_error: 0.0495724\tvalid_1's multi_logloss: 0.145768\n",
            "[1541]\tvalid_0's multi_error: 0.0155869\tvalid_0's multi_logloss: 0.0607004\tvalid_1's multi_error: 0.0496005\tvalid_1's multi_logloss: 0.145761\n",
            "[1542]\tvalid_0's multi_error: 0.0155869\tvalid_0's multi_logloss: 0.0606713\tvalid_1's multi_error: 0.0496005\tvalid_1's multi_logloss: 0.145761\n",
            "[1543]\tvalid_0's multi_error: 0.0155494\tvalid_0's multi_logloss: 0.0606417\tvalid_1's multi_error: 0.0496005\tvalid_1's multi_logloss: 0.145766\n",
            "[1544]\tvalid_0's multi_error: 0.0155119\tvalid_0's multi_logloss: 0.060615\tvalid_1's multi_error: 0.0495724\tvalid_1's multi_logloss: 0.145766\n",
            "[1545]\tvalid_0's multi_error: 0.0155306\tvalid_0's multi_logloss: 0.060584\tvalid_1's multi_error: 0.0496005\tvalid_1's multi_logloss: 0.145757\n",
            "[1546]\tvalid_0's multi_error: 0.0155306\tvalid_0's multi_logloss: 0.0605486\tvalid_1's multi_error: 0.0496005\tvalid_1's multi_logloss: 0.145751\n",
            "[1547]\tvalid_0's multi_error: 0.0155119\tvalid_0's multi_logloss: 0.0605178\tvalid_1's multi_error: 0.0495442\tvalid_1's multi_logloss: 0.145737\n",
            "[1548]\tvalid_0's multi_error: 0.0154931\tvalid_0's multi_logloss: 0.0604679\tvalid_1's multi_error: 0.0495724\tvalid_1's multi_logloss: 0.145712\n",
            "[1549]\tvalid_0's multi_error: 0.0155119\tvalid_0's multi_logloss: 0.060429\tvalid_1's multi_error: 0.0495442\tvalid_1's multi_logloss: 0.145704\n",
            "[1550]\tvalid_0's multi_error: 0.0154931\tvalid_0's multi_logloss: 0.0604007\tvalid_1's multi_error: 0.0495724\tvalid_1's multi_logloss: 0.14571\n",
            "[1551]\tvalid_0's multi_error: 0.0154744\tvalid_0's multi_logloss: 0.0603725\tvalid_1's multi_error: 0.0495724\tvalid_1's multi_logloss: 0.145714\n",
            "[1552]\tvalid_0's multi_error: 0.0154368\tvalid_0's multi_logloss: 0.0603397\tvalid_1's multi_error: 0.049488\tvalid_1's multi_logloss: 0.145709\n",
            "[1553]\tvalid_0's multi_error: 0.0154181\tvalid_0's multi_logloss: 0.0603097\tvalid_1's multi_error: 0.0495161\tvalid_1's multi_logloss: 0.145709\n",
            "[1554]\tvalid_0's multi_error: 0.0153618\tvalid_0's multi_logloss: 0.0602825\tvalid_1's multi_error: 0.0495724\tvalid_1's multi_logloss: 0.1457\n",
            "[1555]\tvalid_0's multi_error: 0.0153243\tvalid_0's multi_logloss: 0.0602436\tvalid_1's multi_error: 0.0496005\tvalid_1's multi_logloss: 0.145675\n",
            "[1556]\tvalid_0's multi_error: 0.0153431\tvalid_0's multi_logloss: 0.0602153\tvalid_1's multi_error: 0.0495724\tvalid_1's multi_logloss: 0.145678\n",
            "[1557]\tvalid_0's multi_error: 0.0153055\tvalid_0's multi_logloss: 0.06018\tvalid_1's multi_error: 0.0495724\tvalid_1's multi_logloss: 0.145667\n",
            "[1558]\tvalid_0's multi_error: 0.0153055\tvalid_0's multi_logloss: 0.0601533\tvalid_1's multi_error: 0.0495161\tvalid_1's multi_logloss: 0.145653\n",
            "[1559]\tvalid_0's multi_error: 0.0152868\tvalid_0's multi_logloss: 0.0601242\tvalid_1's multi_error: 0.0494598\tvalid_1's multi_logloss: 0.14566\n",
            "[1560]\tvalid_0's multi_error: 0.015268\tvalid_0's multi_logloss: 0.0600971\tvalid_1's multi_error: 0.0494598\tvalid_1's multi_logloss: 0.145647\n",
            "[1561]\tvalid_0's multi_error: 0.0152305\tvalid_0's multi_logloss: 0.0600549\tvalid_1's multi_error: 0.0494598\tvalid_1's multi_logloss: 0.14562\n",
            "[1562]\tvalid_0's multi_error: 0.0152118\tvalid_0's multi_logloss: 0.060031\tvalid_1's multi_error: 0.0495161\tvalid_1's multi_logloss: 0.145623\n",
            "[1563]\tvalid_0's multi_error: 0.015193\tvalid_0's multi_logloss: 0.0600026\tvalid_1's multi_error: 0.049488\tvalid_1's multi_logloss: 0.145634\n",
            "[1564]\tvalid_0's multi_error: 0.0151743\tvalid_0's multi_logloss: 0.0599854\tvalid_1's multi_error: 0.049488\tvalid_1's multi_logloss: 0.145641\n",
            "[1565]\tvalid_0's multi_error: 0.0151555\tvalid_0's multi_logloss: 0.0599576\tvalid_1's multi_error: 0.0495161\tvalid_1's multi_logloss: 0.145649\n",
            "[1566]\tvalid_0's multi_error: 0.0151367\tvalid_0's multi_logloss: 0.0599279\tvalid_1's multi_error: 0.0495161\tvalid_1's multi_logloss: 0.14565\n",
            "[1567]\tvalid_0's multi_error: 0.0151367\tvalid_0's multi_logloss: 0.0598981\tvalid_1's multi_error: 0.0495161\tvalid_1's multi_logloss: 0.145657\n",
            "[1568]\tvalid_0's multi_error: 0.0151555\tvalid_0's multi_logloss: 0.0598678\tvalid_1's multi_error: 0.0495161\tvalid_1's multi_logloss: 0.145662\n",
            "[1569]\tvalid_0's multi_error: 0.0151367\tvalid_0's multi_logloss: 0.059837\tvalid_1's multi_error: 0.049488\tvalid_1's multi_logloss: 0.145661\n",
            "[1570]\tvalid_0's multi_error: 0.0151367\tvalid_0's multi_logloss: 0.059819\tvalid_1's multi_error: 0.0494317\tvalid_1's multi_logloss: 0.145667\n",
            "[1571]\tvalid_0's multi_error: 0.0151367\tvalid_0's multi_logloss: 0.0597751\tvalid_1's multi_error: 0.0494317\tvalid_1's multi_logloss: 0.145637\n",
            "[1572]\tvalid_0's multi_error: 0.0151367\tvalid_0's multi_logloss: 0.0597341\tvalid_1's multi_error: 0.0494036\tvalid_1's multi_logloss: 0.145607\n",
            "[1573]\tvalid_0's multi_error: 0.0151367\tvalid_0's multi_logloss: 0.0597062\tvalid_1's multi_error: 0.0494317\tvalid_1's multi_logloss: 0.145608\n",
            "[1574]\tvalid_0's multi_error: 0.0150805\tvalid_0's multi_logloss: 0.0596785\tvalid_1's multi_error: 0.0494598\tvalid_1's multi_logloss: 0.145606\n",
            "[1575]\tvalid_0's multi_error: 0.0150805\tvalid_0's multi_logloss: 0.0596576\tvalid_1's multi_error: 0.0494598\tvalid_1's multi_logloss: 0.145613\n",
            "[1576]\tvalid_0's multi_error: 0.0150992\tvalid_0's multi_logloss: 0.0596335\tvalid_1's multi_error: 0.0494598\tvalid_1's multi_logloss: 0.145616\n",
            "[1577]\tvalid_0's multi_error: 0.0150805\tvalid_0's multi_logloss: 0.0595976\tvalid_1's multi_error: 0.0494317\tvalid_1's multi_logloss: 0.145618\n",
            "[1578]\tvalid_0's multi_error: 0.0150805\tvalid_0's multi_logloss: 0.0595654\tvalid_1's multi_error: 0.0494598\tvalid_1's multi_logloss: 0.145604\n",
            "[1579]\tvalid_0's multi_error: 0.0150617\tvalid_0's multi_logloss: 0.0595394\tvalid_1's multi_error: 0.0494317\tvalid_1's multi_logloss: 0.145612\n",
            "[1580]\tvalid_0's multi_error: 0.015043\tvalid_0's multi_logloss: 0.0595176\tvalid_1's multi_error: 0.0494317\tvalid_1's multi_logloss: 0.145623\n",
            "[1581]\tvalid_0's multi_error: 0.015043\tvalid_0's multi_logloss: 0.0594988\tvalid_1's multi_error: 0.0494317\tvalid_1's multi_logloss: 0.145632\n",
            "[1582]\tvalid_0's multi_error: 0.0150242\tvalid_0's multi_logloss: 0.0594779\tvalid_1's multi_error: 0.0494317\tvalid_1's multi_logloss: 0.145634\n",
            "[1583]\tvalid_0's multi_error: 0.0150242\tvalid_0's multi_logloss: 0.0594538\tvalid_1's multi_error: 0.0494036\tvalid_1's multi_logloss: 0.145634\n",
            "[1584]\tvalid_0's multi_error: 0.0149867\tvalid_0's multi_logloss: 0.0594217\tvalid_1's multi_error: 0.0493754\tvalid_1's multi_logloss: 0.145633\n",
            "[1585]\tvalid_0's multi_error: 0.0150054\tvalid_0's multi_logloss: 0.0593971\tvalid_1's multi_error: 0.0493473\tvalid_1's multi_logloss: 0.145638\n",
            "[1586]\tvalid_0's multi_error: 0.0149867\tvalid_0's multi_logloss: 0.059357\tvalid_1's multi_error: 0.0494036\tvalid_1's multi_logloss: 0.145616\n",
            "[1587]\tvalid_0's multi_error: 0.0149867\tvalid_0's multi_logloss: 0.059325\tvalid_1's multi_error: 0.0493754\tvalid_1's multi_logloss: 0.145621\n",
            "[1588]\tvalid_0's multi_error: 0.0149867\tvalid_0's multi_logloss: 0.0592919\tvalid_1's multi_error: 0.0493754\tvalid_1's multi_logloss: 0.145624\n",
            "[1589]\tvalid_0's multi_error: 0.0149867\tvalid_0's multi_logloss: 0.059271\tvalid_1's multi_error: 0.0493754\tvalid_1's multi_logloss: 0.145634\n",
            "[1590]\tvalid_0's multi_error: 0.0149867\tvalid_0's multi_logloss: 0.0592452\tvalid_1's multi_error: 0.0493192\tvalid_1's multi_logloss: 0.145636\n",
            "[1591]\tvalid_0's multi_error: 0.0149867\tvalid_0's multi_logloss: 0.0592183\tvalid_1's multi_error: 0.0493473\tvalid_1's multi_logloss: 0.14564\n",
            "[1592]\tvalid_0's multi_error: 0.0149679\tvalid_0's multi_logloss: 0.0591893\tvalid_1's multi_error: 0.0494317\tvalid_1's multi_logloss: 0.145642\n",
            "[1593]\tvalid_0's multi_error: 0.0149492\tvalid_0's multi_logloss: 0.0591595\tvalid_1's multi_error: 0.0494317\tvalid_1's multi_logloss: 0.145651\n",
            "[1594]\tvalid_0's multi_error: 0.0149492\tvalid_0's multi_logloss: 0.0591362\tvalid_1's multi_error: 0.0494317\tvalid_1's multi_logloss: 0.14565\n",
            "[1595]\tvalid_0's multi_error: 0.0149304\tvalid_0's multi_logloss: 0.0591071\tvalid_1's multi_error: 0.0494598\tvalid_1's multi_logloss: 0.145653\n",
            "[1596]\tvalid_0's multi_error: 0.0148741\tvalid_0's multi_logloss: 0.0590594\tvalid_1's multi_error: 0.0494317\tvalid_1's multi_logloss: 0.145624\n",
            "[1597]\tvalid_0's multi_error: 0.0148741\tvalid_0's multi_logloss: 0.0590363\tvalid_1's multi_error: 0.0494036\tvalid_1's multi_logloss: 0.145627\n",
            "[1598]\tvalid_0's multi_error: 0.0148929\tvalid_0's multi_logloss: 0.0590031\tvalid_1's multi_error: 0.0493754\tvalid_1's multi_logloss: 0.145616\n",
            "[1599]\tvalid_0's multi_error: 0.0148554\tvalid_0's multi_logloss: 0.0589535\tvalid_1's multi_error: 0.0493754\tvalid_1's multi_logloss: 0.14557\n",
            "[1600]\tvalid_0's multi_error: 0.0148366\tvalid_0's multi_logloss: 0.058927\tvalid_1's multi_error: 0.0494036\tvalid_1's multi_logloss: 0.14557\n",
            "[1601]\tvalid_0's multi_error: 0.0148366\tvalid_0's multi_logloss: 0.0589062\tvalid_1's multi_error: 0.0493754\tvalid_1's multi_logloss: 0.145575\n",
            "[1602]\tvalid_0's multi_error: 0.0148366\tvalid_0's multi_logloss: 0.0588755\tvalid_1's multi_error: 0.0493754\tvalid_1's multi_logloss: 0.145581\n",
            "[1603]\tvalid_0's multi_error: 0.0148554\tvalid_0's multi_logloss: 0.0588469\tvalid_1's multi_error: 0.0494036\tvalid_1's multi_logloss: 0.145572\n",
            "[1604]\tvalid_0's multi_error: 0.0148741\tvalid_0's multi_logloss: 0.0588231\tvalid_1's multi_error: 0.0493473\tvalid_1's multi_logloss: 0.145568\n",
            "[1605]\tvalid_0's multi_error: 0.0148741\tvalid_0's multi_logloss: 0.0587977\tvalid_1's multi_error: 0.0493754\tvalid_1's multi_logloss: 0.145569\n",
            "[1606]\tvalid_0's multi_error: 0.0148741\tvalid_0's multi_logloss: 0.0587549\tvalid_1's multi_error: 0.0493754\tvalid_1's multi_logloss: 0.145544\n",
            "[1607]\tvalid_0's multi_error: 0.0148554\tvalid_0's multi_logloss: 0.0587054\tvalid_1's multi_error: 0.0493754\tvalid_1's multi_logloss: 0.145509\n",
            "[1608]\tvalid_0's multi_error: 0.0148366\tvalid_0's multi_logloss: 0.0586627\tvalid_1's multi_error: 0.0493754\tvalid_1's multi_logloss: 0.145484\n",
            "[1609]\tvalid_0's multi_error: 0.0147991\tvalid_0's multi_logloss: 0.058617\tvalid_1's multi_error: 0.0494317\tvalid_1's multi_logloss: 0.145466\n",
            "[1610]\tvalid_0's multi_error: 0.0147804\tvalid_0's multi_logloss: 0.0585858\tvalid_1's multi_error: 0.049488\tvalid_1's multi_logloss: 0.14547\n",
            "[1611]\tvalid_0's multi_error: 0.0147616\tvalid_0's multi_logloss: 0.0585538\tvalid_1's multi_error: 0.0494036\tvalid_1's multi_logloss: 0.145479\n",
            "[1612]\tvalid_0's multi_error: 0.0147616\tvalid_0's multi_logloss: 0.0585182\tvalid_1's multi_error: 0.0494317\tvalid_1's multi_logloss: 0.145469\n",
            "[1613]\tvalid_0's multi_error: 0.0147241\tvalid_0's multi_logloss: 0.0584874\tvalid_1's multi_error: 0.0494598\tvalid_1's multi_logloss: 0.14547\n",
            "[1614]\tvalid_0's multi_error: 0.0146866\tvalid_0's multi_logloss: 0.0584482\tvalid_1's multi_error: 0.0494598\tvalid_1's multi_logloss: 0.145449\n",
            "[1615]\tvalid_0's multi_error: 0.0147053\tvalid_0's multi_logloss: 0.0584148\tvalid_1's multi_error: 0.0494317\tvalid_1's multi_logloss: 0.145454\n",
            "[1616]\tvalid_0's multi_error: 0.0146491\tvalid_0's multi_logloss: 0.0583856\tvalid_1's multi_error: 0.0494598\tvalid_1's multi_logloss: 0.14546\n",
            "[1617]\tvalid_0's multi_error: 0.0146303\tvalid_0's multi_logloss: 0.0583568\tvalid_1's multi_error: 0.0494317\tvalid_1's multi_logloss: 0.14547\n",
            "[1618]\tvalid_0's multi_error: 0.0146115\tvalid_0's multi_logloss: 0.0583336\tvalid_1's multi_error: 0.0494036\tvalid_1's multi_logloss: 0.145476\n",
            "[1619]\tvalid_0's multi_error: 0.0146115\tvalid_0's multi_logloss: 0.0583083\tvalid_1's multi_error: 0.0494036\tvalid_1's multi_logloss: 0.145476\n",
            "[1620]\tvalid_0's multi_error: 0.0145928\tvalid_0's multi_logloss: 0.0582774\tvalid_1's multi_error: 0.0493754\tvalid_1's multi_logloss: 0.14548\n",
            "[1621]\tvalid_0's multi_error: 0.014574\tvalid_0's multi_logloss: 0.0582278\tvalid_1's multi_error: 0.0493754\tvalid_1's multi_logloss: 0.145449\n",
            "[1622]\tvalid_0's multi_error: 0.0145365\tvalid_0's multi_logloss: 0.0581957\tvalid_1's multi_error: 0.0493754\tvalid_1's multi_logloss: 0.145452\n",
            "[1623]\tvalid_0's multi_error: 0.014499\tvalid_0's multi_logloss: 0.0581501\tvalid_1's multi_error: 0.0494036\tvalid_1's multi_logloss: 0.145431\n",
            "[1624]\tvalid_0's multi_error: 0.0144802\tvalid_0's multi_logloss: 0.0581283\tvalid_1's multi_error: 0.0494036\tvalid_1's multi_logloss: 0.145436\n",
            "[1625]\tvalid_0's multi_error: 0.0144615\tvalid_0's multi_logloss: 0.0580883\tvalid_1's multi_error: 0.0494036\tvalid_1's multi_logloss: 0.145404\n",
            "[1626]\tvalid_0's multi_error: 0.0144615\tvalid_0's multi_logloss: 0.0580601\tvalid_1's multi_error: 0.0494036\tvalid_1's multi_logloss: 0.145409\n",
            "[1627]\tvalid_0's multi_error: 0.014424\tvalid_0's multi_logloss: 0.0580368\tvalid_1's multi_error: 0.0494036\tvalid_1's multi_logloss: 0.145412\n",
            "[1628]\tvalid_0's multi_error: 0.0144052\tvalid_0's multi_logloss: 0.0580044\tvalid_1's multi_error: 0.0493192\tvalid_1's multi_logloss: 0.145408\n",
            "[1629]\tvalid_0's multi_error: 0.0143865\tvalid_0's multi_logloss: 0.0579745\tvalid_1's multi_error: 0.0493192\tvalid_1's multi_logloss: 0.145408\n",
            "[1630]\tvalid_0's multi_error: 0.0143677\tvalid_0's multi_logloss: 0.0579416\tvalid_1's multi_error: 0.0493754\tvalid_1's multi_logloss: 0.145413\n",
            "[1631]\tvalid_0's multi_error: 0.0143677\tvalid_0's multi_logloss: 0.057912\tvalid_1's multi_error: 0.0493473\tvalid_1's multi_logloss: 0.14542\n",
            "[1632]\tvalid_0's multi_error: 0.0143302\tvalid_0's multi_logloss: 0.0578781\tvalid_1's multi_error: 0.0493192\tvalid_1's multi_logloss: 0.145428\n",
            "[1633]\tvalid_0's multi_error: 0.0143302\tvalid_0's multi_logloss: 0.0578494\tvalid_1's multi_error: 0.0493192\tvalid_1's multi_logloss: 0.145429\n",
            "[1634]\tvalid_0's multi_error: 0.0143302\tvalid_0's multi_logloss: 0.0578025\tvalid_1's multi_error: 0.0493192\tvalid_1's multi_logloss: 0.145403\n",
            "[1635]\tvalid_0's multi_error: 0.0142927\tvalid_0's multi_logloss: 0.0577588\tvalid_1's multi_error: 0.049291\tvalid_1's multi_logloss: 0.145384\n",
            "[1636]\tvalid_0's multi_error: 0.0142552\tvalid_0's multi_logloss: 0.0577248\tvalid_1's multi_error: 0.049291\tvalid_1's multi_logloss: 0.14539\n",
            "[1637]\tvalid_0's multi_error: 0.0142364\tvalid_0's multi_logloss: 0.0576889\tvalid_1's multi_error: 0.0493192\tvalid_1's multi_logloss: 0.145391\n",
            "[1638]\tvalid_0's multi_error: 0.0142552\tvalid_0's multi_logloss: 0.0576609\tvalid_1's multi_error: 0.049291\tvalid_1's multi_logloss: 0.145393\n",
            "[1639]\tvalid_0's multi_error: 0.0142552\tvalid_0's multi_logloss: 0.0576342\tvalid_1's multi_error: 0.049291\tvalid_1's multi_logloss: 0.145391\n",
            "[1640]\tvalid_0's multi_error: 0.0141989\tvalid_0's multi_logloss: 0.0576036\tvalid_1's multi_error: 0.0492629\tvalid_1's multi_logloss: 0.145394\n",
            "[1641]\tvalid_0's multi_error: 0.0141801\tvalid_0's multi_logloss: 0.057576\tvalid_1's multi_error: 0.0492629\tvalid_1's multi_logloss: 0.145399\n",
            "[1642]\tvalid_0's multi_error: 0.0141801\tvalid_0's multi_logloss: 0.057552\tvalid_1's multi_error: 0.049291\tvalid_1's multi_logloss: 0.145405\n",
            "[1643]\tvalid_0's multi_error: 0.0141989\tvalid_0's multi_logloss: 0.057524\tvalid_1's multi_error: 0.0493473\tvalid_1's multi_logloss: 0.145404\n",
            "[1644]\tvalid_0's multi_error: 0.0141614\tvalid_0's multi_logloss: 0.0574926\tvalid_1's multi_error: 0.0493754\tvalid_1's multi_logloss: 0.145403\n",
            "[1645]\tvalid_0's multi_error: 0.0141426\tvalid_0's multi_logloss: 0.0574644\tvalid_1's multi_error: 0.0494036\tvalid_1's multi_logloss: 0.145404\n",
            "[1646]\tvalid_0's multi_error: 0.0141426\tvalid_0's multi_logloss: 0.0574389\tvalid_1's multi_error: 0.0494598\tvalid_1's multi_logloss: 0.145404\n",
            "[1647]\tvalid_0's multi_error: 0.0141051\tvalid_0's multi_logloss: 0.0574009\tvalid_1's multi_error: 0.0494317\tvalid_1's multi_logloss: 0.14537\n",
            "[1648]\tvalid_0's multi_error: 0.0141051\tvalid_0's multi_logloss: 0.057366\tvalid_1's multi_error: 0.0494036\tvalid_1's multi_logloss: 0.145354\n",
            "[1649]\tvalid_0's multi_error: 0.0141051\tvalid_0's multi_logloss: 0.057331\tvalid_1's multi_error: 0.0493754\tvalid_1's multi_logloss: 0.145344\n",
            "[1650]\tvalid_0's multi_error: 0.0140488\tvalid_0's multi_logloss: 0.0572943\tvalid_1's multi_error: 0.0493473\tvalid_1's multi_logloss: 0.145326\n",
            "[1651]\tvalid_0's multi_error: 0.0140301\tvalid_0's multi_logloss: 0.0572592\tvalid_1's multi_error: 0.0493473\tvalid_1's multi_logloss: 0.145318\n",
            "[1652]\tvalid_0's multi_error: 0.0140301\tvalid_0's multi_logloss: 0.057231\tvalid_1's multi_error: 0.0494036\tvalid_1's multi_logloss: 0.145324\n",
            "[1653]\tvalid_0's multi_error: 0.0140113\tvalid_0's multi_logloss: 0.0572021\tvalid_1's multi_error: 0.0493754\tvalid_1's multi_logloss: 0.14532\n",
            "[1654]\tvalid_0's multi_error: 0.0140301\tvalid_0's multi_logloss: 0.0571721\tvalid_1's multi_error: 0.0493473\tvalid_1's multi_logloss: 0.145307\n",
            "[1655]\tvalid_0's multi_error: 0.0140113\tvalid_0's multi_logloss: 0.0571478\tvalid_1's multi_error: 0.0493473\tvalid_1's multi_logloss: 0.145305\n",
            "[1656]\tvalid_0's multi_error: 0.0140488\tvalid_0's multi_logloss: 0.0571184\tvalid_1's multi_error: 0.0493473\tvalid_1's multi_logloss: 0.145298\n",
            "[1657]\tvalid_0's multi_error: 0.0140301\tvalid_0's multi_logloss: 0.0570905\tvalid_1's multi_error: 0.0493473\tvalid_1's multi_logloss: 0.145302\n",
            "[1658]\tvalid_0's multi_error: 0.0140301\tvalid_0's multi_logloss: 0.0570691\tvalid_1's multi_error: 0.0493473\tvalid_1's multi_logloss: 0.145305\n",
            "[1659]\tvalid_0's multi_error: 0.0140301\tvalid_0's multi_logloss: 0.0570424\tvalid_1's multi_error: 0.0493192\tvalid_1's multi_logloss: 0.145314\n",
            "[1660]\tvalid_0's multi_error: 0.0139926\tvalid_0's multi_logloss: 0.057004\tvalid_1's multi_error: 0.0493473\tvalid_1's multi_logloss: 0.145296\n",
            "[1661]\tvalid_0's multi_error: 0.0139926\tvalid_0's multi_logloss: 0.056975\tvalid_1's multi_error: 0.0493754\tvalid_1's multi_logloss: 0.145305\n",
            "[1662]\tvalid_0's multi_error: 0.0139551\tvalid_0's multi_logloss: 0.0569497\tvalid_1's multi_error: 0.0493754\tvalid_1's multi_logloss: 0.145311\n",
            "[1663]\tvalid_0's multi_error: 0.0139175\tvalid_0's multi_logloss: 0.0569235\tvalid_1's multi_error: 0.0493754\tvalid_1's multi_logloss: 0.145316\n",
            "[1664]\tvalid_0's multi_error: 0.0139363\tvalid_0's multi_logloss: 0.056895\tvalid_1's multi_error: 0.0493473\tvalid_1's multi_logloss: 0.145319\n",
            "[1665]\tvalid_0's multi_error: 0.0139551\tvalid_0's multi_logloss: 0.0568688\tvalid_1's multi_error: 0.0493473\tvalid_1's multi_logloss: 0.145327\n",
            "[1666]\tvalid_0's multi_error: 0.0139926\tvalid_0's multi_logloss: 0.0568435\tvalid_1's multi_error: 0.0493473\tvalid_1's multi_logloss: 0.14533\n",
            "[1667]\tvalid_0's multi_error: 0.0139551\tvalid_0's multi_logloss: 0.0568126\tvalid_1's multi_error: 0.0493754\tvalid_1's multi_logloss: 0.145339\n",
            "[1668]\tvalid_0's multi_error: 0.0139738\tvalid_0's multi_logloss: 0.0567846\tvalid_1's multi_error: 0.0494036\tvalid_1's multi_logloss: 0.145346\n",
            "[1669]\tvalid_0's multi_error: 0.0139738\tvalid_0's multi_logloss: 0.0567587\tvalid_1's multi_error: 0.0493473\tvalid_1's multi_logloss: 0.145347\n",
            "[1670]\tvalid_0's multi_error: 0.0139738\tvalid_0's multi_logloss: 0.0567336\tvalid_1's multi_error: 0.0493192\tvalid_1's multi_logloss: 0.145351\n",
            "[1671]\tvalid_0's multi_error: 0.0139738\tvalid_0's multi_logloss: 0.0566997\tvalid_1's multi_error: 0.0492629\tvalid_1's multi_logloss: 0.145346\n",
            "[1672]\tvalid_0's multi_error: 0.0139551\tvalid_0's multi_logloss: 0.0566711\tvalid_1's multi_error: 0.049291\tvalid_1's multi_logloss: 0.145349\n",
            "[1673]\tvalid_0's multi_error: 0.0139175\tvalid_0's multi_logloss: 0.0566388\tvalid_1's multi_error: 0.0493192\tvalid_1's multi_logloss: 0.145347\n",
            "[1674]\tvalid_0's multi_error: 0.0139175\tvalid_0's multi_logloss: 0.0566075\tvalid_1's multi_error: 0.049291\tvalid_1's multi_logloss: 0.14534\n",
            "[1675]\tvalid_0's multi_error: 0.0138425\tvalid_0's multi_logloss: 0.0565802\tvalid_1's multi_error: 0.0493192\tvalid_1's multi_logloss: 0.145344\n",
            "[1676]\tvalid_0's multi_error: 0.013805\tvalid_0's multi_logloss: 0.0565503\tvalid_1's multi_error: 0.0493473\tvalid_1's multi_logloss: 0.14535\n",
            "[1677]\tvalid_0's multi_error: 0.0137862\tvalid_0's multi_logloss: 0.0565233\tvalid_1's multi_error: 0.0493473\tvalid_1's multi_logloss: 0.145352\n",
            "[1678]\tvalid_0's multi_error: 0.0137487\tvalid_0's multi_logloss: 0.056493\tvalid_1's multi_error: 0.0494036\tvalid_1's multi_logloss: 0.145344\n",
            "[1679]\tvalid_0's multi_error: 0.0137487\tvalid_0's multi_logloss: 0.056464\tvalid_1's multi_error: 0.0493754\tvalid_1's multi_logloss: 0.145347\n",
            "[1680]\tvalid_0's multi_error: 0.0137112\tvalid_0's multi_logloss: 0.0564324\tvalid_1's multi_error: 0.0493754\tvalid_1's multi_logloss: 0.145344\n",
            "[1681]\tvalid_0's multi_error: 0.0136737\tvalid_0's multi_logloss: 0.0564076\tvalid_1's multi_error: 0.0494036\tvalid_1's multi_logloss: 0.145346\n",
            "[1682]\tvalid_0's multi_error: 0.0136362\tvalid_0's multi_logloss: 0.0563783\tvalid_1's multi_error: 0.0494317\tvalid_1's multi_logloss: 0.145339\n",
            "[1683]\tvalid_0's multi_error: 0.0136362\tvalid_0's multi_logloss: 0.0563519\tvalid_1's multi_error: 0.0494036\tvalid_1's multi_logloss: 0.145333\n",
            "[1684]\tvalid_0's multi_error: 0.0135799\tvalid_0's multi_logloss: 0.0563219\tvalid_1's multi_error: 0.0493473\tvalid_1's multi_logloss: 0.145322\n",
            "[1685]\tvalid_0's multi_error: 0.0135987\tvalid_0's multi_logloss: 0.0562922\tvalid_1's multi_error: 0.0493754\tvalid_1's multi_logloss: 0.145312\n",
            "[1686]\tvalid_0's multi_error: 0.0135987\tvalid_0's multi_logloss: 0.0562646\tvalid_1's multi_error: 0.0493754\tvalid_1's multi_logloss: 0.145305\n",
            "[1687]\tvalid_0's multi_error: 0.0135424\tvalid_0's multi_logloss: 0.0562404\tvalid_1's multi_error: 0.0493754\tvalid_1's multi_logloss: 0.145289\n",
            "[1688]\tvalid_0's multi_error: 0.0135237\tvalid_0's multi_logloss: 0.0562104\tvalid_1's multi_error: 0.0493754\tvalid_1's multi_logloss: 0.14528\n",
            "[1689]\tvalid_0's multi_error: 0.0134674\tvalid_0's multi_logloss: 0.0561814\tvalid_1's multi_error: 0.0493754\tvalid_1's multi_logloss: 0.145277\n",
            "[1690]\tvalid_0's multi_error: 0.0134674\tvalid_0's multi_logloss: 0.0561566\tvalid_1's multi_error: 0.0493754\tvalid_1's multi_logloss: 0.145273\n",
            "[1691]\tvalid_0's multi_error: 0.0134111\tvalid_0's multi_logloss: 0.0561336\tvalid_1's multi_error: 0.0494036\tvalid_1's multi_logloss: 0.145276\n",
            "[1692]\tvalid_0's multi_error: 0.0134299\tvalid_0's multi_logloss: 0.0561063\tvalid_1's multi_error: 0.0493754\tvalid_1's multi_logloss: 0.145262\n",
            "[1693]\tvalid_0's multi_error: 0.0134486\tvalid_0's multi_logloss: 0.0560745\tvalid_1's multi_error: 0.0493192\tvalid_1's multi_logloss: 0.14525\n",
            "[1694]\tvalid_0's multi_error: 0.0134299\tvalid_0's multi_logloss: 0.0560509\tvalid_1's multi_error: 0.0493473\tvalid_1's multi_logloss: 0.145252\n",
            "[1695]\tvalid_0's multi_error: 0.0134111\tvalid_0's multi_logloss: 0.056015\tvalid_1's multi_error: 0.0493754\tvalid_1's multi_logloss: 0.145235\n",
            "[1696]\tvalid_0's multi_error: 0.0133548\tvalid_0's multi_logloss: 0.055982\tvalid_1's multi_error: 0.0493754\tvalid_1's multi_logloss: 0.145238\n",
            "[1697]\tvalid_0's multi_error: 0.0133736\tvalid_0's multi_logloss: 0.0559529\tvalid_1's multi_error: 0.0494036\tvalid_1's multi_logloss: 0.145234\n",
            "[1698]\tvalid_0's multi_error: 0.0133736\tvalid_0's multi_logloss: 0.0559252\tvalid_1's multi_error: 0.0493754\tvalid_1's multi_logloss: 0.145235\n",
            "[1699]\tvalid_0's multi_error: 0.0134111\tvalid_0's multi_logloss: 0.0558999\tvalid_1's multi_error: 0.0494036\tvalid_1's multi_logloss: 0.145238\n",
            "[1700]\tvalid_0's multi_error: 0.0134111\tvalid_0's multi_logloss: 0.0558736\tvalid_1's multi_error: 0.0493754\tvalid_1's multi_logloss: 0.145237\n",
            "[1701]\tvalid_0's multi_error: 0.0134299\tvalid_0's multi_logloss: 0.0558481\tvalid_1's multi_error: 0.0494036\tvalid_1's multi_logloss: 0.145219\n",
            "[1702]\tvalid_0's multi_error: 0.0133924\tvalid_0's multi_logloss: 0.0558188\tvalid_1's multi_error: 0.0493473\tvalid_1's multi_logloss: 0.145217\n",
            "[1703]\tvalid_0's multi_error: 0.0133736\tvalid_0's multi_logloss: 0.0557974\tvalid_1's multi_error: 0.0493192\tvalid_1's multi_logloss: 0.145228\n",
            "[1704]\tvalid_0's multi_error: 0.0133924\tvalid_0's multi_logloss: 0.0557708\tvalid_1's multi_error: 0.0493473\tvalid_1's multi_logloss: 0.14522\n",
            "[1705]\tvalid_0's multi_error: 0.0133548\tvalid_0's multi_logloss: 0.0557422\tvalid_1's multi_error: 0.0493473\tvalid_1's multi_logloss: 0.145218\n",
            "[1706]\tvalid_0's multi_error: 0.0133361\tvalid_0's multi_logloss: 0.0557156\tvalid_1's multi_error: 0.0493473\tvalid_1's multi_logloss: 0.145219\n",
            "[1707]\tvalid_0's multi_error: 0.0132798\tvalid_0's multi_logloss: 0.0556885\tvalid_1's multi_error: 0.0493473\tvalid_1's multi_logloss: 0.145217\n",
            "[1708]\tvalid_0's multi_error: 0.0132798\tvalid_0's multi_logloss: 0.0556629\tvalid_1's multi_error: 0.0493473\tvalid_1's multi_logloss: 0.145222\n",
            "[1709]\tvalid_0's multi_error: 0.0132423\tvalid_0's multi_logloss: 0.0556346\tvalid_1's multi_error: 0.0493192\tvalid_1's multi_logloss: 0.145228\n",
            "[1710]\tvalid_0's multi_error: 0.0132235\tvalid_0's multi_logloss: 0.0555956\tvalid_1's multi_error: 0.0493473\tvalid_1's multi_logloss: 0.1452\n",
            "[1711]\tvalid_0's multi_error: 0.0132235\tvalid_0's multi_logloss: 0.0555721\tvalid_1's multi_error: 0.0494317\tvalid_1's multi_logloss: 0.145202\n",
            "[1712]\tvalid_0's multi_error: 0.0132048\tvalid_0's multi_logloss: 0.0555432\tvalid_1's multi_error: 0.0494598\tvalid_1's multi_logloss: 0.145204\n",
            "[1713]\tvalid_0's multi_error: 0.013186\tvalid_0's multi_logloss: 0.0555176\tvalid_1's multi_error: 0.0494317\tvalid_1's multi_logloss: 0.145198\n",
            "[1714]\tvalid_0's multi_error: 0.0132048\tvalid_0's multi_logloss: 0.0554963\tvalid_1's multi_error: 0.0494036\tvalid_1's multi_logloss: 0.145197\n",
            "[1715]\tvalid_0's multi_error: 0.013186\tvalid_0's multi_logloss: 0.0554554\tvalid_1's multi_error: 0.0493754\tvalid_1's multi_logloss: 0.145166\n",
            "[1716]\tvalid_0's multi_error: 0.0131485\tvalid_0's multi_logloss: 0.0554311\tvalid_1's multi_error: 0.0493192\tvalid_1's multi_logloss: 0.14517\n",
            "[1717]\tvalid_0's multi_error: 0.0131298\tvalid_0's multi_logloss: 0.0554106\tvalid_1's multi_error: 0.0493192\tvalid_1's multi_logloss: 0.145178\n",
            "[1718]\tvalid_0's multi_error: 0.0130922\tvalid_0's multi_logloss: 0.0553852\tvalid_1's multi_error: 0.0493192\tvalid_1's multi_logloss: 0.145183\n",
            "[1719]\tvalid_0's multi_error: 0.013111\tvalid_0's multi_logloss: 0.0553631\tvalid_1's multi_error: 0.0492629\tvalid_1's multi_logloss: 0.145178\n",
            "[1720]\tvalid_0's multi_error: 0.013111\tvalid_0's multi_logloss: 0.0553244\tvalid_1's multi_error: 0.0492629\tvalid_1's multi_logloss: 0.145148\n",
            "[1721]\tvalid_0's multi_error: 0.013111\tvalid_0's multi_logloss: 0.055302\tvalid_1's multi_error: 0.0492629\tvalid_1's multi_logloss: 0.145153\n",
            "[1722]\tvalid_0's multi_error: 0.013111\tvalid_0's multi_logloss: 0.0552769\tvalid_1's multi_error: 0.0492629\tvalid_1's multi_logloss: 0.145159\n",
            "[1723]\tvalid_0's multi_error: 0.0131298\tvalid_0's multi_logloss: 0.0552562\tvalid_1's multi_error: 0.0492629\tvalid_1's multi_logloss: 0.145163\n",
            "[1724]\tvalid_0's multi_error: 0.0131298\tvalid_0's multi_logloss: 0.0552164\tvalid_1's multi_error: 0.0493192\tvalid_1's multi_logloss: 0.145132\n",
            "[1725]\tvalid_0's multi_error: 0.013111\tvalid_0's multi_logloss: 0.0551882\tvalid_1's multi_error: 0.049291\tvalid_1's multi_logloss: 0.145133\n",
            "[1726]\tvalid_0's multi_error: 0.0130735\tvalid_0's multi_logloss: 0.0551642\tvalid_1's multi_error: 0.0493192\tvalid_1's multi_logloss: 0.145139\n",
            "[1727]\tvalid_0's multi_error: 0.0130735\tvalid_0's multi_logloss: 0.0551468\tvalid_1's multi_error: 0.0493192\tvalid_1's multi_logloss: 0.145142\n",
            "[1728]\tvalid_0's multi_error: 0.0130547\tvalid_0's multi_logloss: 0.0551194\tvalid_1's multi_error: 0.0493192\tvalid_1's multi_logloss: 0.145145\n",
            "[1729]\tvalid_0's multi_error: 0.013036\tvalid_0's multi_logloss: 0.0551016\tvalid_1's multi_error: 0.0493192\tvalid_1's multi_logloss: 0.145149\n",
            "[1730]\tvalid_0's multi_error: 0.0129797\tvalid_0's multi_logloss: 0.0550678\tvalid_1's multi_error: 0.049291\tvalid_1's multi_logloss: 0.145133\n",
            "[1731]\tvalid_0's multi_error: 0.0130172\tvalid_0's multi_logloss: 0.0550445\tvalid_1's multi_error: 0.049291\tvalid_1's multi_logloss: 0.145125\n",
            "[1732]\tvalid_0's multi_error: 0.0129797\tvalid_0's multi_logloss: 0.0550196\tvalid_1's multi_error: 0.049291\tvalid_1's multi_logloss: 0.14513\n",
            "[1733]\tvalid_0's multi_error: 0.0129797\tvalid_0's multi_logloss: 0.0549856\tvalid_1's multi_error: 0.0493473\tvalid_1's multi_logloss: 0.145109\n",
            "[1734]\tvalid_0's multi_error: 0.0129609\tvalid_0's multi_logloss: 0.0549497\tvalid_1's multi_error: 0.0493473\tvalid_1's multi_logloss: 0.145089\n",
            "[1735]\tvalid_0's multi_error: 0.0129609\tvalid_0's multi_logloss: 0.054926\tvalid_1's multi_error: 0.0493754\tvalid_1's multi_logloss: 0.145082\n",
            "[1736]\tvalid_0's multi_error: 0.0129234\tvalid_0's multi_logloss: 0.0549033\tvalid_1's multi_error: 0.0493192\tvalid_1's multi_logloss: 0.145081\n",
            "[1737]\tvalid_0's multi_error: 0.0129234\tvalid_0's multi_logloss: 0.0548638\tvalid_1's multi_error: 0.049291\tvalid_1's multi_logloss: 0.145045\n",
            "[1738]\tvalid_0's multi_error: 0.0129047\tvalid_0's multi_logloss: 0.0548185\tvalid_1's multi_error: 0.0492629\tvalid_1's multi_logloss: 0.145021\n",
            "[1739]\tvalid_0's multi_error: 0.0128672\tvalid_0's multi_logloss: 0.0547944\tvalid_1's multi_error: 0.0492348\tvalid_1's multi_logloss: 0.145023\n",
            "[1740]\tvalid_0's multi_error: 0.0128484\tvalid_0's multi_logloss: 0.0547728\tvalid_1's multi_error: 0.0492629\tvalid_1's multi_logloss: 0.145027\n",
            "[1741]\tvalid_0's multi_error: 0.0128297\tvalid_0's multi_logloss: 0.0547502\tvalid_1's multi_error: 0.0492348\tvalid_1's multi_logloss: 0.145032\n",
            "[1742]\tvalid_0's multi_error: 0.0127734\tvalid_0's multi_logloss: 0.0547201\tvalid_1's multi_error: 0.0493192\tvalid_1's multi_logloss: 0.145052\n",
            "[1743]\tvalid_0's multi_error: 0.0127921\tvalid_0's multi_logloss: 0.0546951\tvalid_1's multi_error: 0.0492629\tvalid_1's multi_logloss: 0.145052\n",
            "[1744]\tvalid_0's multi_error: 0.0128297\tvalid_0's multi_logloss: 0.0546695\tvalid_1's multi_error: 0.049291\tvalid_1's multi_logloss: 0.145048\n",
            "[1745]\tvalid_0's multi_error: 0.0128297\tvalid_0's multi_logloss: 0.0546422\tvalid_1's multi_error: 0.0492629\tvalid_1's multi_logloss: 0.145032\n",
            "[1746]\tvalid_0's multi_error: 0.0128109\tvalid_0's multi_logloss: 0.0546161\tvalid_1's multi_error: 0.049291\tvalid_1's multi_logloss: 0.145035\n",
            "[1747]\tvalid_0's multi_error: 0.0127734\tvalid_0's multi_logloss: 0.0545892\tvalid_1's multi_error: 0.0493473\tvalid_1's multi_logloss: 0.14504\n",
            "[1748]\tvalid_0's multi_error: 0.0127546\tvalid_0's multi_logloss: 0.0545515\tvalid_1's multi_error: 0.049291\tvalid_1's multi_logloss: 0.145012\n",
            "[1749]\tvalid_0's multi_error: 0.0127546\tvalid_0's multi_logloss: 0.0545189\tvalid_1's multi_error: 0.049291\tvalid_1's multi_logloss: 0.144984\n",
            "[1750]\tvalid_0's multi_error: 0.0127171\tvalid_0's multi_logloss: 0.0544919\tvalid_1's multi_error: 0.0493192\tvalid_1's multi_logloss: 0.144987\n",
            "[1751]\tvalid_0's multi_error: 0.0126984\tvalid_0's multi_logloss: 0.0544708\tvalid_1's multi_error: 0.0493473\tvalid_1's multi_logloss: 0.144987\n",
            "[1752]\tvalid_0's multi_error: 0.0126984\tvalid_0's multi_logloss: 0.0544528\tvalid_1's multi_error: 0.0493192\tvalid_1's multi_logloss: 0.144987\n",
            "[1753]\tvalid_0's multi_error: 0.0126984\tvalid_0's multi_logloss: 0.0544289\tvalid_1's multi_error: 0.0493192\tvalid_1's multi_logloss: 0.14499\n",
            "[1754]\tvalid_0's multi_error: 0.0126984\tvalid_0's multi_logloss: 0.0544103\tvalid_1's multi_error: 0.0493192\tvalid_1's multi_logloss: 0.144993\n",
            "[1755]\tvalid_0's multi_error: 0.0126984\tvalid_0's multi_logloss: 0.0543886\tvalid_1's multi_error: 0.0493192\tvalid_1's multi_logloss: 0.144995\n",
            "[1756]\tvalid_0's multi_error: 0.0127171\tvalid_0's multi_logloss: 0.0543673\tvalid_1's multi_error: 0.0492629\tvalid_1's multi_logloss: 0.144988\n",
            "[1757]\tvalid_0's multi_error: 0.0127171\tvalid_0's multi_logloss: 0.0543332\tvalid_1's multi_error: 0.0493192\tvalid_1's multi_logloss: 0.144967\n",
            "[1758]\tvalid_0's multi_error: 0.0126984\tvalid_0's multi_logloss: 0.0543119\tvalid_1's multi_error: 0.0493192\tvalid_1's multi_logloss: 0.144976\n",
            "[1759]\tvalid_0's multi_error: 0.0127171\tvalid_0's multi_logloss: 0.0542848\tvalid_1's multi_error: 0.0493192\tvalid_1's multi_logloss: 0.144983\n",
            "[1760]\tvalid_0's multi_error: 0.0126984\tvalid_0's multi_logloss: 0.0542597\tvalid_1's multi_error: 0.0492629\tvalid_1's multi_logloss: 0.144976\n",
            "[1761]\tvalid_0's multi_error: 0.0126796\tvalid_0's multi_logloss: 0.05423\tvalid_1's multi_error: 0.0492629\tvalid_1's multi_logloss: 0.144984\n",
            "[1762]\tvalid_0's multi_error: 0.0126796\tvalid_0's multi_logloss: 0.0542088\tvalid_1's multi_error: 0.0492629\tvalid_1's multi_logloss: 0.144989\n",
            "[1763]\tvalid_0's multi_error: 0.0126608\tvalid_0's multi_logloss: 0.0541755\tvalid_1's multi_error: 0.0492629\tvalid_1's multi_logloss: 0.144971\n",
            "[1764]\tvalid_0's multi_error: 0.0126421\tvalid_0's multi_logloss: 0.0541459\tvalid_1's multi_error: 0.0492348\tvalid_1's multi_logloss: 0.144972\n",
            "[1765]\tvalid_0's multi_error: 0.0125858\tvalid_0's multi_logloss: 0.0541212\tvalid_1's multi_error: 0.0492629\tvalid_1's multi_logloss: 0.144975\n",
            "[1766]\tvalid_0's multi_error: 0.0125858\tvalid_0's multi_logloss: 0.0540965\tvalid_1's multi_error: 0.0492348\tvalid_1's multi_logloss: 0.144981\n",
            "[1767]\tvalid_0's multi_error: 0.0125858\tvalid_0's multi_logloss: 0.0540731\tvalid_1's multi_error: 0.0492348\tvalid_1's multi_logloss: 0.144985\n",
            "[1768]\tvalid_0's multi_error: 0.0125671\tvalid_0's multi_logloss: 0.0540483\tvalid_1's multi_error: 0.0492348\tvalid_1's multi_logloss: 0.144994\n",
            "[1769]\tvalid_0's multi_error: 0.0125295\tvalid_0's multi_logloss: 0.0540174\tvalid_1's multi_error: 0.0492066\tvalid_1's multi_logloss: 0.144996\n",
            "[1770]\tvalid_0's multi_error: 0.0125108\tvalid_0's multi_logloss: 0.0539937\tvalid_1's multi_error: 0.0492066\tvalid_1's multi_logloss: 0.144994\n",
            "[1771]\tvalid_0's multi_error: 0.0124733\tvalid_0's multi_logloss: 0.0539684\tvalid_1's multi_error: 0.0492066\tvalid_1's multi_logloss: 0.144992\n",
            "[1772]\tvalid_0's multi_error: 0.0124733\tvalid_0's multi_logloss: 0.053942\tvalid_1's multi_error: 0.0492348\tvalid_1's multi_logloss: 0.144999\n",
            "[1773]\tvalid_0's multi_error: 0.0124545\tvalid_0's multi_logloss: 0.0539208\tvalid_1's multi_error: 0.0492348\tvalid_1's multi_logloss: 0.145002\n",
            "[1774]\tvalid_0's multi_error: 0.0124545\tvalid_0's multi_logloss: 0.0538948\tvalid_1's multi_error: 0.0492066\tvalid_1's multi_logloss: 0.145002\n",
            "[1775]\tvalid_0's multi_error: 0.0124545\tvalid_0's multi_logloss: 0.0538614\tvalid_1's multi_error: 0.0492066\tvalid_1's multi_logloss: 0.144982\n",
            "[1776]\tvalid_0's multi_error: 0.0123982\tvalid_0's multi_logloss: 0.0538325\tvalid_1's multi_error: 0.0492348\tvalid_1's multi_logloss: 0.144977\n",
            "[1777]\tvalid_0's multi_error: 0.012342\tvalid_0's multi_logloss: 0.0538076\tvalid_1's multi_error: 0.0492629\tvalid_1's multi_logloss: 0.144979\n",
            "[1778]\tvalid_0's multi_error: 0.0123232\tvalid_0's multi_logloss: 0.0537814\tvalid_1's multi_error: 0.0492629\tvalid_1's multi_logloss: 0.144977\n",
            "[1779]\tvalid_0's multi_error: 0.0123232\tvalid_0's multi_logloss: 0.0537552\tvalid_1's multi_error: 0.0492629\tvalid_1's multi_logloss: 0.144986\n",
            "[1780]\tvalid_0's multi_error: 0.0123232\tvalid_0's multi_logloss: 0.0537286\tvalid_1's multi_error: 0.0492629\tvalid_1's multi_logloss: 0.144986\n",
            "[1781]\tvalid_0's multi_error: 0.0123045\tvalid_0's multi_logloss: 0.0537043\tvalid_1's multi_error: 0.0492348\tvalid_1's multi_logloss: 0.14499\n",
            "[1782]\tvalid_0's multi_error: 0.0123045\tvalid_0's multi_logloss: 0.0536822\tvalid_1's multi_error: 0.0492348\tvalid_1's multi_logloss: 0.144981\n",
            "[1783]\tvalid_0's multi_error: 0.0123045\tvalid_0's multi_logloss: 0.0536569\tvalid_1's multi_error: 0.0492348\tvalid_1's multi_logloss: 0.144983\n",
            "[1784]\tvalid_0's multi_error: 0.0123045\tvalid_0's multi_logloss: 0.0536353\tvalid_1's multi_error: 0.0492066\tvalid_1's multi_logloss: 0.144991\n",
            "[1785]\tvalid_0's multi_error: 0.0122857\tvalid_0's multi_logloss: 0.0536097\tvalid_1's multi_error: 0.0492066\tvalid_1's multi_logloss: 0.144997\n",
            "[1786]\tvalid_0's multi_error: 0.0122857\tvalid_0's multi_logloss: 0.0535902\tvalid_1's multi_error: 0.0492066\tvalid_1's multi_logloss: 0.145\n",
            "[1787]\tvalid_0's multi_error: 0.0123045\tvalid_0's multi_logloss: 0.0535689\tvalid_1's multi_error: 0.0492629\tvalid_1's multi_logloss: 0.144993\n",
            "[1788]\tvalid_0's multi_error: 0.0122669\tvalid_0's multi_logloss: 0.0535319\tvalid_1's multi_error: 0.0492348\tvalid_1's multi_logloss: 0.144975\n",
            "[1789]\tvalid_0's multi_error: 0.0122482\tvalid_0's multi_logloss: 0.0535028\tvalid_1's multi_error: 0.049291\tvalid_1's multi_logloss: 0.144979\n",
            "[1790]\tvalid_0's multi_error: 0.0122669\tvalid_0's multi_logloss: 0.0534761\tvalid_1's multi_error: 0.0493192\tvalid_1's multi_logloss: 0.144987\n",
            "[1791]\tvalid_0's multi_error: 0.0122482\tvalid_0's multi_logloss: 0.0534516\tvalid_1's multi_error: 0.0493192\tvalid_1's multi_logloss: 0.144988\n",
            "[1792]\tvalid_0's multi_error: 0.0122669\tvalid_0's multi_logloss: 0.0534322\tvalid_1's multi_error: 0.0493192\tvalid_1's multi_logloss: 0.144997\n",
            "[1793]\tvalid_0's multi_error: 0.0122107\tvalid_0's multi_logloss: 0.0534067\tvalid_1's multi_error: 0.0493473\tvalid_1's multi_logloss: 0.144998\n",
            "[1794]\tvalid_0's multi_error: 0.0122294\tvalid_0's multi_logloss: 0.0533754\tvalid_1's multi_error: 0.0493754\tvalid_1's multi_logloss: 0.145004\n",
            "[1795]\tvalid_0's multi_error: 0.0122482\tvalid_0's multi_logloss: 0.0533516\tvalid_1's multi_error: 0.0493754\tvalid_1's multi_logloss: 0.144998\n",
            "[1796]\tvalid_0's multi_error: 0.0122294\tvalid_0's multi_logloss: 0.0533286\tvalid_1's multi_error: 0.0493192\tvalid_1's multi_logloss: 0.145004\n",
            "[1797]\tvalid_0's multi_error: 0.0121732\tvalid_0's multi_logloss: 0.0533023\tvalid_1's multi_error: 0.0492629\tvalid_1's multi_logloss: 0.14501\n",
            "[1798]\tvalid_0's multi_error: 0.0121732\tvalid_0's multi_logloss: 0.0532733\tvalid_1's multi_error: 0.0492629\tvalid_1's multi_logloss: 0.145019\n",
            "[1799]\tvalid_0's multi_error: 0.0121919\tvalid_0's multi_logloss: 0.0532504\tvalid_1's multi_error: 0.049291\tvalid_1's multi_logloss: 0.145021\n",
            "[1800]\tvalid_0's multi_error: 0.0121919\tvalid_0's multi_logloss: 0.0532275\tvalid_1's multi_error: 0.0492629\tvalid_1's multi_logloss: 0.145025\n",
            "[1801]\tvalid_0's multi_error: 0.0121356\tvalid_0's multi_logloss: 0.0532004\tvalid_1's multi_error: 0.049291\tvalid_1's multi_logloss: 0.145033\n",
            "[1802]\tvalid_0's multi_error: 0.0121169\tvalid_0's multi_logloss: 0.0531808\tvalid_1's multi_error: 0.0492629\tvalid_1's multi_logloss: 0.145035\n",
            "[1803]\tvalid_0's multi_error: 0.0120794\tvalid_0's multi_logloss: 0.053158\tvalid_1's multi_error: 0.0492629\tvalid_1's multi_logloss: 0.145042\n",
            "[1804]\tvalid_0's multi_error: 0.0120794\tvalid_0's multi_logloss: 0.0531357\tvalid_1's multi_error: 0.049291\tvalid_1's multi_logloss: 0.145046\n",
            "[1805]\tvalid_0's multi_error: 0.0120794\tvalid_0's multi_logloss: 0.0531073\tvalid_1's multi_error: 0.049291\tvalid_1's multi_logloss: 0.145043\n",
            "[1806]\tvalid_0's multi_error: 0.0120794\tvalid_0's multi_logloss: 0.0530867\tvalid_1's multi_error: 0.0492629\tvalid_1's multi_logloss: 0.145043\n",
            "[1807]\tvalid_0's multi_error: 0.0120606\tvalid_0's multi_logloss: 0.0530608\tvalid_1's multi_error: 0.0492629\tvalid_1's multi_logloss: 0.145049\n",
            "[1808]\tvalid_0's multi_error: 0.0120419\tvalid_0's multi_logloss: 0.0530309\tvalid_1's multi_error: 0.049291\tvalid_1's multi_logloss: 0.145035\n",
            "[1809]\tvalid_0's multi_error: 0.0120231\tvalid_0's multi_logloss: 0.0530087\tvalid_1's multi_error: 0.0493192\tvalid_1's multi_logloss: 0.145043\n",
            "[1810]\tvalid_0's multi_error: 0.0120231\tvalid_0's multi_logloss: 0.0529868\tvalid_1's multi_error: 0.049291\tvalid_1's multi_logloss: 0.145043\n",
            "[1811]\tvalid_0's multi_error: 0.0120419\tvalid_0's multi_logloss: 0.0529723\tvalid_1's multi_error: 0.0492348\tvalid_1's multi_logloss: 0.145043\n",
            "[1812]\tvalid_0's multi_error: 0.0120231\tvalid_0's multi_logloss: 0.0529508\tvalid_1's multi_error: 0.0492348\tvalid_1's multi_logloss: 0.145038\n",
            "[1813]\tvalid_0's multi_error: 0.0119668\tvalid_0's multi_logloss: 0.0529304\tvalid_1's multi_error: 0.0492066\tvalid_1's multi_logloss: 0.145038\n",
            "[1814]\tvalid_0's multi_error: 0.0119293\tvalid_0's multi_logloss: 0.0529008\tvalid_1's multi_error: 0.0492629\tvalid_1's multi_logloss: 0.145036\n",
            "[1815]\tvalid_0's multi_error: 0.0119293\tvalid_0's multi_logloss: 0.0528718\tvalid_1's multi_error: 0.0492348\tvalid_1's multi_logloss: 0.145041\n",
            "[1816]\tvalid_0's multi_error: 0.0119106\tvalid_0's multi_logloss: 0.0528499\tvalid_1's multi_error: 0.049291\tvalid_1's multi_logloss: 0.14503\n",
            "[1817]\tvalid_0's multi_error: 0.0119106\tvalid_0's multi_logloss: 0.0528215\tvalid_1's multi_error: 0.0492629\tvalid_1's multi_logloss: 0.145032\n",
            "[1818]\tvalid_0's multi_error: 0.0119106\tvalid_0's multi_logloss: 0.0528013\tvalid_1's multi_error: 0.049291\tvalid_1's multi_logloss: 0.145028\n",
            "[1819]\tvalid_0's multi_error: 0.0118918\tvalid_0's multi_logloss: 0.0527791\tvalid_1's multi_error: 0.0493192\tvalid_1's multi_logloss: 0.145034\n",
            "[1820]\tvalid_0's multi_error: 0.0118731\tvalid_0's multi_logloss: 0.052754\tvalid_1's multi_error: 0.0493192\tvalid_1's multi_logloss: 0.14503\n",
            "[1821]\tvalid_0's multi_error: 0.0118543\tvalid_0's multi_logloss: 0.0527257\tvalid_1's multi_error: 0.049291\tvalid_1's multi_logloss: 0.145022\n",
            "[1822]\tvalid_0's multi_error: 0.0118355\tvalid_0's multi_logloss: 0.0527026\tvalid_1's multi_error: 0.049291\tvalid_1's multi_logloss: 0.145022\n",
            "[1823]\tvalid_0's multi_error: 0.0118355\tvalid_0's multi_logloss: 0.0526813\tvalid_1's multi_error: 0.0493473\tvalid_1's multi_logloss: 0.145026\n",
            "[1824]\tvalid_0's multi_error: 0.0118355\tvalid_0's multi_logloss: 0.052654\tvalid_1's multi_error: 0.0493473\tvalid_1's multi_logloss: 0.145032\n",
            "[1825]\tvalid_0's multi_error: 0.0118731\tvalid_0's multi_logloss: 0.0526184\tvalid_1's multi_error: 0.0493473\tvalid_1's multi_logloss: 0.145025\n",
            "[1826]\tvalid_0's multi_error: 0.0118731\tvalid_0's multi_logloss: 0.0525941\tvalid_1's multi_error: 0.0493473\tvalid_1's multi_logloss: 0.145026\n",
            "[1827]\tvalid_0's multi_error: 0.0118168\tvalid_0's multi_logloss: 0.0525713\tvalid_1's multi_error: 0.0493754\tvalid_1's multi_logloss: 0.145027\n",
            "[1828]\tvalid_0's multi_error: 0.011798\tvalid_0's multi_logloss: 0.0525469\tvalid_1's multi_error: 0.0493754\tvalid_1's multi_logloss: 0.145029\n",
            "[1829]\tvalid_0's multi_error: 0.0118168\tvalid_0's multi_logloss: 0.0525235\tvalid_1's multi_error: 0.0493754\tvalid_1's multi_logloss: 0.145027\n",
            "[1830]\tvalid_0's multi_error: 0.011798\tvalid_0's multi_logloss: 0.0525001\tvalid_1's multi_error: 0.0493754\tvalid_1's multi_logloss: 0.145029\n",
            "[1831]\tvalid_0's multi_error: 0.0117605\tvalid_0's multi_logloss: 0.0524719\tvalid_1's multi_error: 0.0493754\tvalid_1's multi_logloss: 0.145034\n",
            "[1832]\tvalid_0's multi_error: 0.0117418\tvalid_0's multi_logloss: 0.0524439\tvalid_1's multi_error: 0.0493754\tvalid_1's multi_logloss: 0.145033\n",
            "[1833]\tvalid_0's multi_error: 0.0117605\tvalid_0's multi_logloss: 0.0524183\tvalid_1's multi_error: 0.0493473\tvalid_1's multi_logloss: 0.145032\n",
            "[1834]\tvalid_0's multi_error: 0.0117418\tvalid_0's multi_logloss: 0.052397\tvalid_1's multi_error: 0.0493473\tvalid_1's multi_logloss: 0.145033\n",
            "[1835]\tvalid_0's multi_error: 0.0117793\tvalid_0's multi_logloss: 0.0523703\tvalid_1's multi_error: 0.0493754\tvalid_1's multi_logloss: 0.14504\n",
            "[1836]\tvalid_0's multi_error: 0.011798\tvalid_0's multi_logloss: 0.0523482\tvalid_1's multi_error: 0.0493754\tvalid_1's multi_logloss: 0.145045\n",
            "[1837]\tvalid_0's multi_error: 0.0117793\tvalid_0's multi_logloss: 0.0523186\tvalid_1's multi_error: 0.0493192\tvalid_1's multi_logloss: 0.145042\n",
            "[1838]\tvalid_0's multi_error: 0.0117418\tvalid_0's multi_logloss: 0.0522907\tvalid_1's multi_error: 0.049291\tvalid_1's multi_logloss: 0.145041\n",
            "[1839]\tvalid_0's multi_error: 0.011723\tvalid_0's multi_logloss: 0.0522651\tvalid_1's multi_error: 0.0492629\tvalid_1's multi_logloss: 0.145043\n",
            "[1840]\tvalid_0's multi_error: 0.0117042\tvalid_0's multi_logloss: 0.0522378\tvalid_1's multi_error: 0.049291\tvalid_1's multi_logloss: 0.145045\n",
            "[1841]\tvalid_0's multi_error: 0.0117042\tvalid_0's multi_logloss: 0.0522097\tvalid_1's multi_error: 0.049291\tvalid_1's multi_logloss: 0.145044\n",
            "[1842]\tvalid_0's multi_error: 0.0117042\tvalid_0's multi_logloss: 0.0521837\tvalid_1's multi_error: 0.0492629\tvalid_1's multi_logloss: 0.14505\n",
            "[1843]\tvalid_0's multi_error: 0.0116855\tvalid_0's multi_logloss: 0.0521585\tvalid_1's multi_error: 0.049291\tvalid_1's multi_logloss: 0.145057\n",
            "[1844]\tvalid_0's multi_error: 0.0116667\tvalid_0's multi_logloss: 0.0521368\tvalid_1's multi_error: 0.049291\tvalid_1's multi_logloss: 0.145063\n",
            "[1845]\tvalid_0's multi_error: 0.0116667\tvalid_0's multi_logloss: 0.0521134\tvalid_1's multi_error: 0.049291\tvalid_1's multi_logloss: 0.145062\n",
            "[1846]\tvalid_0's multi_error: 0.011648\tvalid_0's multi_logloss: 0.0520859\tvalid_1's multi_error: 0.0492348\tvalid_1's multi_logloss: 0.145066\n",
            "[1847]\tvalid_0's multi_error: 0.0116292\tvalid_0's multi_logloss: 0.0520585\tvalid_1's multi_error: 0.0492629\tvalid_1's multi_logloss: 0.145064\n",
            "[1848]\tvalid_0's multi_error: 0.011648\tvalid_0's multi_logloss: 0.0520326\tvalid_1's multi_error: 0.049291\tvalid_1's multi_logloss: 0.145063\n",
            "[1849]\tvalid_0's multi_error: 0.0116105\tvalid_0's multi_logloss: 0.0520023\tvalid_1's multi_error: 0.0493192\tvalid_1's multi_logloss: 0.145053\n",
            "[1850]\tvalid_0's multi_error: 0.0115917\tvalid_0's multi_logloss: 0.0519777\tvalid_1's multi_error: 0.0493192\tvalid_1's multi_logloss: 0.145055\n",
            "[1851]\tvalid_0's multi_error: 0.0115542\tvalid_0's multi_logloss: 0.0519565\tvalid_1's multi_error: 0.0492629\tvalid_1's multi_logloss: 0.145054\n",
            "[1852]\tvalid_0's multi_error: 0.0115354\tvalid_0's multi_logloss: 0.0519326\tvalid_1's multi_error: 0.0492629\tvalid_1's multi_logloss: 0.145054\n",
            "[1853]\tvalid_0's multi_error: 0.0115354\tvalid_0's multi_logloss: 0.0519042\tvalid_1's multi_error: 0.0492629\tvalid_1's multi_logloss: 0.145047\n",
            "[1854]\tvalid_0's multi_error: 0.0115167\tvalid_0's multi_logloss: 0.0518766\tvalid_1's multi_error: 0.049291\tvalid_1's multi_logloss: 0.145046\n",
            "[1855]\tvalid_0's multi_error: 0.0114979\tvalid_0's multi_logloss: 0.0518568\tvalid_1's multi_error: 0.0493192\tvalid_1's multi_logloss: 0.145045\n",
            "[1856]\tvalid_0's multi_error: 0.0114979\tvalid_0's multi_logloss: 0.0518296\tvalid_1's multi_error: 0.0493192\tvalid_1's multi_logloss: 0.145029\n",
            "[1857]\tvalid_0's multi_error: 0.0115167\tvalid_0's multi_logloss: 0.0517981\tvalid_1's multi_error: 0.049291\tvalid_1's multi_logloss: 0.145016\n",
            "Early stopping, best iteration is:\n",
            "[1757]\tvalid_0's multi_error: 0.0127171\tvalid_0's multi_logloss: 0.0543332\tvalid_1's multi_error: 0.0493192\tvalid_1's multi_logloss: 0.144967\n",
            "Eval ACC: 0.9506808462750393\n"
          ],
          "name": "stdout"
        }
      ]
    },
    {
      "cell_type": "code",
      "metadata": {
        "id": "AjBHwKH3UfLH",
        "outputId": "8175f481-fb8f-4594-c58a-935d307c2dca",
        "colab": {
          "base_uri": "https://localhost:8080/",
          "height": 54
        }
      },
      "source": [
        "best_iter = clf.best_iteration_\n",
        "params['n_estimators'] = best_iter\n",
        "print(params)"
      ],
      "execution_count": 33,
      "outputs": [
        {
          "output_type": "stream",
          "text": [
            "{'learning_rate': 0.04, 'max_depth': 18, 'n_estimators': 1757, 'objective': 'multiclass', 'boosting_type': 'gbdt', 'subsample': 0.7, 'random_state': 42, 'colsample_bytree': 0.7, 'min_data_in_leaf': 55, 'reg_alpha': 1.7, 'reg_lambda': 1.11}\n"
          ],
          "name": "stdout"
        }
      ]
    },
    {
      "cell_type": "code",
      "metadata": {
        "id": "ElpAP7tBVTfl"
      },
      "source": [
        "df_train = pd.concat((df_train, df_eval))"
      ],
      "execution_count": 35,
      "outputs": []
    },
    {
      "cell_type": "code",
      "metadata": {
        "id": "4Xy2FshlVTcI",
        "outputId": "cfd9c422-b893-4698-cf75-75daa2fd21d7",
        "colab": {
          "base_uri": "https://localhost:8080/",
          "height": 105
        }
      },
      "source": [
        "clf = lgb.LGBMClassifier(**params)\n",
        "\n",
        "clf.fit(df_train[feature_cols], df_train[label_col], eval_metric='multi_error', verbose=False, categorical_feature=cat_cols)\n",
        "\n",
        "# eval_score_auc = roc_auc_score(df_train[label_col], clf.predict(df_train[feature_cols]))\n",
        "eval_score_acc = accuracy_score(df_train[label_col], clf.predict(df_train[feature_cols]))\n",
        "\n",
        "print('ACC: {}'.format(eval_score_acc))"
      ],
      "execution_count": 36,
      "outputs": [
        {
          "output_type": "stream",
          "text": [
            "/usr/local/lib/python3.6/dist-packages/lightgbm/basic.py:1209: UserWarning: categorical_feature in Dataset is overridden.\n",
            "New categorical_feature is ['Crop_Type', 'Crop_Type_lag1', 'Pesticide_Use_Category', 'Pesticide_Use_Category_lag1', 'Season', 'Season_lag1', 'Soil_Type', 'Soil_Type_lag1']\n",
            "  'New categorical_feature is {}'.format(sorted(list(categorical_feature))))\n"
          ],
          "name": "stderr"
        },
        {
          "output_type": "stream",
          "text": [
            "ACC: 0.9832800115753766\n"
          ],
          "name": "stdout"
        }
      ]
    },
    {
      "cell_type": "code",
      "metadata": {
        "id": "p5Af7GYAVbsu"
      },
      "source": [
        "preds = clf.predict(df_test[feature_cols])"
      ],
      "execution_count": 37,
      "outputs": []
    },
    {
      "cell_type": "code",
      "metadata": {
        "id": "lu0uN5JhVbyZ",
        "outputId": "752965b1-506a-4049-c421-e4f0aa7d21d3",
        "colab": {
          "base_uri": "https://localhost:8080/",
          "height": 34
        }
      },
      "source": [
        "Counter(df_train['Crop_Damage'])"
      ],
      "execution_count": 38,
      "outputs": [
        {
          "output_type": "execute_result",
          "data": {
            "text/plain": [
              "Counter({0: 103934, 1: 17230, 2: 3238})"
            ]
          },
          "metadata": {
            "tags": []
          },
          "execution_count": 38
        }
      ]
    },
    {
      "cell_type": "code",
      "metadata": {
        "id": "ppH5nktZVjwT",
        "outputId": "93598831-bf9f-4042-d699-e429707e1a7b",
        "colab": {
          "base_uri": "https://localhost:8080/",
          "height": 34
        }
      },
      "source": [
        "Counter(preds)"
      ],
      "execution_count": 39,
      "outputs": [
        {
          "output_type": "execute_result",
          "data": {
            "text/plain": [
              "Counter({0: 50223, 1: 8587, 2: 500})"
            ]
          },
          "metadata": {
            "tags": []
          },
          "execution_count": 39
        }
      ]
    },
    {
      "cell_type": "code",
      "metadata": {
        "id": "3h-7yNaZVnl2"
      },
      "source": [
        "submission = pd.DataFrame({'ID':df_test['ID'], 'Crop_Damage':preds})"
      ],
      "execution_count": 40,
      "outputs": []
    },
    {
      "cell_type": "code",
      "metadata": {
        "id": "g0vlxwwGVrH2",
        "outputId": "ff3156ab-fe2d-46e9-e27b-8e607607e8ea",
        "colab": {
          "base_uri": "https://localhost:8080/",
          "height": 404
        }
      },
      "source": [
        "plt.rcParams['figure.figsize'] = (12, 6)\n",
        "lgb.plot_importance(clf)\n",
        "plt.show()"
      ],
      "execution_count": 41,
      "outputs": [
        {
          "output_type": "display_data",
          "data": {
            "image/png": "[encoded data removed]",
            "text/plain": [
              "<Figure size 864x432 with 1 Axes>"
            ]
          },
          "metadata": {
            "tags": []
          }
        }
      ]
    }
  ]
}