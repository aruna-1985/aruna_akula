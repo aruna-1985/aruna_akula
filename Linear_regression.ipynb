{
  "nbformat": 4,
  "nbformat_minor": 0,
  "metadata": {
    "colab": {
      "name": "Linear_regression.ipynb",
      "provenance": [],
      "authorship_tag": "ABX9TyNAD0bPqWHWsPXyzjh21Tz1",
      "include_colab_link": true
    },
    "kernelspec": {
      "name": "python3",
      "display_name": "Python 3"
    }
  },
  "cells": [
    {
      "cell_type": "markdown",
      "metadata": {
        "id": "view-in-github",
        "colab_type": "text"
      },
      "source": [
        "<a href=\"https://colab.research.google.com/github/aruna20200/aruna_akula/blob/master/Linear_regression.ipynb\" target=\"_parent\"><img src=\"https://colab.research.google.com/assets/colab-badge.svg\" alt=\"Open In Colab\"/></a>"
      ]
    },
    {
      "cell_type": "code",
      "metadata": {
        "id": "Eipg_1j4ZaYs",
        "colab": {
          "base_uri": "https://localhost:8080/",
          "height": 295
        },
        "outputId": "1d9c94d0-31d4-428f-863e-bbfd991adbdf"
      },
      "source": [
        "import matplotlib.pyplot as plt\n",
        "import numpy as np\n",
        "x = np.linspace(-6,6,100)\n",
        "y = lambda x: x**4 - 3 * x**3 + 2\n",
        "y1 = lambda x: 4 * x - 9 * x**2\n",
        "\n",
        "plt.plot(x, y(x), '-g', label='y=x**4+ 3 *x**3 + 2')\n",
        "#plt.plot(x, y1(x), '-r', label='y=x**2+2')\n",
        "plt.title('Graph of y=x*^2+2')\n",
        "plt.xlabel('x', color='#1C2833')\n",
        "plt.ylabel('y', color='#1C2833')\n",
        "plt.legend(loc='upper left')\n",
        "plt.grid()\n",
        "plt.show()"
      ],
      "execution_count": null,
      "outputs": [
        {
          "output_type": "display_data",
          "data": {
            "image/png": "[encoded data removed]",
            "text/plain": [
              "<Figure size 432x288 with 1 Axes>"
            ]
          },
          "metadata": {
            "tags": [],
            "needs_background": "light"
          }
        }
      ]
    },
    {
      "cell_type": "code",
      "metadata": {
        "id": "U2PAftEEaYr3"
      },
      "source": [
        "df = lambda x: 4 * x**3 - 9 * x**2"
      ],
      "execution_count": null,
      "outputs": []
    },
    {
      "cell_type": "code",
      "metadata": {
        "id": "FWbGhh8nag9B",
        "colab": {
          "base_uri": "https://localhost:8080/",
          "height": 34
        },
        "outputId": "6810f423-87dd-4db7-f917-1b60eee78f38"
      },
      "source": [
        "df(6)"
      ],
      "execution_count": null,
      "outputs": [
        {
          "output_type": "execute_result",
          "data": {
            "text/plain": [
              "540"
            ]
          },
          "metadata": {
            "tags": []
          },
          "execution_count": 3
        }
      ]
    },
    {
      "cell_type": "code",
      "metadata": {
        "id": "nCgwszXLaqik",
        "colab": {
          "base_uri": "https://localhost:8080/",
          "height": 1000
        },
        "outputId": "160446d7-dbce-4207-f55b-7209858fe285"
      },
      "source": [
        "# From calculation, it is expected that the local minimum occurs at x=9/4\n",
        "\n",
        "cur_x = 6 # The algorithm starts at x=6\n",
        "learning_rate = 0.001 # step size multiplier\n",
        "precision = 0.001\n",
        "previous_step_size = 1 \n",
        "max_iters = 1000 # maximum number of iterations\n",
        "iters = 0 #iteration counter\n",
        "\n",
        "df = lambda x: 4 * x**3 - 9 * x**2\n",
        "prev = []\n",
        "while ((previous_step_size > precision) and (iters < max_iters)):\n",
        "    prev_x = cur_x\n",
        "    cur_x -= learning_rate * df(prev_x)\n",
        "    #cur_x = cur_x -  learning_rate * df(prev_x)\n",
        "    previous_step_size = abs(cur_x - prev_x)\n",
        "    iters += 1\n",
        "    #print(\"cur_x\",cur_x)\n",
        "    #print(\"learning_rate\",learning_rate)\n",
        "    print(\"prev_x\",prev_x)\n",
        "    prev.append(prev_x)\n",
        "\n",
        "print(\"The local minimum occurs at\", cur_x)\n",
        "#The output for the above will be: ('The local minimum occurs at', 2.2499646074278457)"
      ],
      "execution_count": null,
      "outputs": [
        {
          "output_type": "stream",
          "text": [
            "prev_x 6\n",
            "prev_x 5.46\n",
            "prev_x 5.077219056\n",
            "prev_x 4.7856971105651365\n",
            "prev_x 4.55339787326223\n",
            "prev_x 4.362368498794202\n",
            "prev_x 4.201572820934333\n",
            "prev_x 4.063766689032126\n",
            "prev_x 3.943955067763642\n",
            "prev_x 3.8385586634455064\n",
            "prev_x 3.7449319857105268\n",
            "prev_x 3.661069198026341\n",
            "prev_x 3.5854165422784474\n",
            "prev_x 3.516748292407647\n",
            "prev_x 3.4540821603786127\n",
            "prev_x 3.3966200673844655\n",
            "prev_x 3.3437057166338358\n",
            "prev_x 3.2947935874035488\n",
            "prev_x 3.249425871591936\n",
            "prev_x 3.2072150459678404\n",
            "prev_x 3.167830515792172\n",
            "prev_x 3.1309882475409334\n",
            "prev_x 3.0964426283628796\n",
            "prev_x 3.063980006434812\n",
            "prev_x 3.033413515580717\n",
            "prev_x 3.004578892017906\n",
            "prev_x 2.9773310653761236\n",
            "prev_x 2.951541359666197\n",
            "prev_x 2.9270951789390374\n",
            "prev_x 2.9038900812165425\n",
            "prev_x 2.88183416579972\n",
            "prev_x 2.8608447152843492\n",
            "prev_x 2.8408470459601665\n",
            "prev_x 2.821773529745893\n",
            "prev_x 2.803562758146137\n",
            "prev_x 2.7861588244355797\n",
            "prev_x 2.769510704768632\n",
            "prev_x 2.7535717224661393\n",
            "prev_x 2.738299082559317\n",
            "prev_x 2.7236534659364495\n",
            "prev_x 2.7095986742627165\n",
            "prev_x 2.69610131832149\n",
            "prev_x 2.6831305436287654\n",
            "prev_x 2.6706577881569578\n",
            "prev_x 2.6586565678136687\n",
            "prev_x 2.6471022859893707\n",
            "prev_x 2.635972064042245\n",
            "prev_x 2.625244590049948\n",
            "prev_x 2.614899983543948\n",
            "prev_x 2.604919674265854\n",
            "prev_x 2.595286293257836\n",
            "prev_x 2.5859835748296693\n",
            "prev_x 2.5769962681403173\n",
            "prev_x 2.568310057298151\n",
            "prev_x 2.5599114890256915\n",
            "prev_x 2.5517879070560943\n",
            "prev_x 2.5439273925327095\n",
            "prev_x 2.5363187097726536\n",
            "prev_x 2.528951256832619\n",
            "prev_x 2.521815020382014\n",
            "prev_x 2.5149005344465074\n",
            "prev_x 2.5081988426354296\n",
            "prev_x 2.5017014635103965\n",
            "prev_x 2.495400358790842\n",
            "prev_x 2.4892879041256855\n",
            "prev_x 2.4833568621897655\n",
            "prev_x 2.4776003578895125\n",
            "prev_x 2.472011855485068\n",
            "prev_x 2.4665851374561254\n",
            "prev_x 2.4613142849564915\n",
            "prev_x 2.4561936597180534\n",
            "prev_x 2.4512178872787556\n",
            "prev_x 2.446381841421546\n",
            "prev_x 2.4416806297222458\n",
            "prev_x 2.4371095801140967\n",
            "prev_x 2.432664228385483\n",
            "prev_x 2.428340306535143\n",
            "prev_x 2.4241337319161835\n",
            "prev_x 2.42004059710648\n",
            "prev_x 2.416057160448677\n",
            "prev_x 2.412179837208069\n",
            "prev_x 2.4084051913011955\n",
            "prev_x 2.404729927552086\n",
            "prev_x 2.40115088443681\n",
            "prev_x 2.3976650272803175\n",
            "prev_x 2.394269441872601\n",
            "prev_x 2.3909613284739435\n",
            "prev_x 2.3877379961815066\n",
            "prev_x 2.384596857631776\n",
            "prev_x 2.3815354240154236\n",
            "prev_x 2.378551300383023\n",
            "prev_x 2.3756421812217483\n",
            "prev_x 2.3728058462847357\n",
            "prev_x 2.3700401566562084\n",
            "prev_x 2.367343051036747\n",
            "prev_x 2.364712542234276\n",
            "prev_x 2.362146713847417\n",
            "prev_x 2.3596437171288405\n",
            "prev_x 2.357201768017173\n",
            "prev_x 2.354819144326828\n",
            "prev_x 2.3524941830859123\n",
            "prev_x 2.350225278013052\n",
            "prev_x 2.34801087712463\n",
            "prev_x 2.345849480464525\n",
            "prev_x 2.343739637948993\n",
            "prev_x 2.3416799473198298\n",
            "prev_x 2.339669052199428\n",
            "prev_x 2.33770564024177\n",
            "prev_x 2.3357884413737957\n",
            "prev_x 2.3339162261219557\n",
            "prev_x 2.332087804019098\n",
            "prev_x 2.3303020220871553\n",
            "prev_x 2.3285577633913923\n",
            "prev_x 2.3268539456622404\n",
            "prev_x 2.3251895199810066\n",
            "prev_x 2.3235634695259697\n",
            "prev_x 2.3219748083755993\n",
            "prev_x 2.320422580365833\n",
            "prev_x 2.3189058579985384\n",
            "prev_x 2.3174237413984566\n",
            "prev_x 2.315975357316093\n",
            "prev_x 2.31455985817417\n",
            "prev_x 2.313176421155395\n",
            "prev_x 2.3118242473294393\n",
            "prev_x 2.3105025608171363\n",
            "prev_x 2.309210607990028\n",
            "prev_x 2.3079476567034978\n",
            "prev_x 2.306712995561826\n",
            "prev_x 2.3055059332136\n",
            "prev_x 2.304325797675997\n",
            "prev_x 2.30317193568655\n",
            "prev_x 2.3020437120810637\n",
            "prev_x 2.300940509196451\n",
            "prev_x 2.299861726297295\n",
            "prev_x 2.2988067790250364\n",
            "prev_x 2.29777509886872\n",
            "prev_x 2.2967661326563116\n",
            "The local minimum occurs at 2.2957793420656354\n"
          ],
          "name": "stdout"
        }
      ]
    },
    {
      "cell_type": "code",
      "metadata": {
        "id": "AJEiTYwlbaCF",
        "colab": {
          "base_uri": "https://localhost:8080/",
          "height": 34
        },
        "outputId": "d81abdb4-df21-4fce-f7ac-2b7113882f69"
      },
      "source": [
        "len(prev)"
      ],
      "execution_count": null,
      "outputs": [
        {
          "output_type": "execute_result",
          "data": {
            "text/plain": [
              "137"
            ]
          },
          "metadata": {
            "tags": []
          },
          "execution_count": 5
        }
      ]
    },
    {
      "cell_type": "code",
      "metadata": {
        "id": "newaflcQbd2t",
        "colab": {
          "base_uri": "https://localhost:8080/",
          "height": 1000
        },
        "outputId": "92374682-2d1c-42c2-9316-b37c34dfd14a"
      },
      "source": [
        "prev"
      ],
      "execution_count": null,
      "outputs": [
        {
          "output_type": "execute_result",
          "data": {
            "text/plain": [
              "[6,\n",
              " 5.46,\n",
              " 5.077219056,\n",
              " 4.7856971105651365,\n",
              " 4.55339787326223,\n",
              " 4.362368498794202,\n",
              " 4.201572820934333,\n",
              " 4.063766689032126,\n",
              " 3.943955067763642,\n",
              " 3.8385586634455064,\n",
              " 3.7449319857105268,\n",
              " 3.661069198026341,\n",
              " 3.5854165422784474,\n",
              " 3.516748292407647,\n",
              " 3.4540821603786127,\n",
              " 3.3966200673844655,\n",
              " 3.3437057166338358,\n",
              " 3.2947935874035488,\n",
              " 3.249425871591936,\n",
              " 3.2072150459678404,\n",
              " 3.167830515792172,\n",
              " 3.1309882475409334,\n",
              " 3.0964426283628796,\n",
              " 3.063980006434812,\n",
              " 3.033413515580717,\n",
              " 3.004578892017906,\n",
              " 2.9773310653761236,\n",
              " 2.951541359666197,\n",
              " 2.9270951789390374,\n",
              " 2.9038900812165425,\n",
              " 2.88183416579972,\n",
              " 2.8608447152843492,\n",
              " 2.8408470459601665,\n",
              " 2.821773529745893,\n",
              " 2.803562758146137,\n",
              " 2.7861588244355797,\n",
              " 2.769510704768632,\n",
              " 2.7535717224661393,\n",
              " 2.738299082559317,\n",
              " 2.7236534659364495,\n",
              " 2.7095986742627165,\n",
              " 2.69610131832149,\n",
              " 2.6831305436287654,\n",
              " 2.6706577881569578,\n",
              " 2.6586565678136687,\n",
              " 2.6471022859893707,\n",
              " 2.635972064042245,\n",
              " 2.625244590049948,\n",
              " 2.614899983543948,\n",
              " 2.604919674265854,\n",
              " 2.595286293257836,\n",
              " 2.5859835748296693,\n",
              " 2.5769962681403173,\n",
              " 2.568310057298151,\n",
              " 2.5599114890256915,\n",
              " 2.5517879070560943,\n",
              " 2.5439273925327095,\n",
              " 2.5363187097726536,\n",
              " 2.528951256832619,\n",
              " 2.521815020382014,\n",
              " 2.5149005344465074,\n",
              " 2.5081988426354296,\n",
              " 2.5017014635103965,\n",
              " 2.495400358790842,\n",
              " 2.4892879041256855,\n",
              " 2.4833568621897655,\n",
              " 2.4776003578895125,\n",
              " 2.472011855485068,\n",
              " 2.4665851374561254,\n",
              " 2.4613142849564915,\n",
              " 2.4561936597180534,\n",
              " 2.4512178872787556,\n",
              " 2.446381841421546,\n",
              " 2.4416806297222458,\n",
              " 2.4371095801140967,\n",
              " 2.432664228385483,\n",
              " 2.428340306535143,\n",
              " 2.4241337319161835,\n",
              " 2.42004059710648,\n",
              " 2.416057160448677,\n",
              " 2.412179837208069,\n",
              " 2.4084051913011955,\n",
              " 2.404729927552086,\n",
              " 2.40115088443681,\n",
              " 2.3976650272803175,\n",
              " 2.394269441872601,\n",
              " 2.3909613284739435,\n",
              " 2.3877379961815066,\n",
              " 2.384596857631776,\n",
              " 2.3815354240154236,\n",
              " 2.378551300383023,\n",
              " 2.3756421812217483,\n",
              " 2.3728058462847357,\n",
              " 2.3700401566562084,\n",
              " 2.367343051036747,\n",
              " 2.364712542234276,\n",
              " 2.362146713847417,\n",
              " 2.3596437171288405,\n",
              " 2.357201768017173,\n",
              " 2.354819144326828,\n",
              " 2.3524941830859123,\n",
              " 2.350225278013052,\n",
              " 2.34801087712463,\n",
              " 2.345849480464525,\n",
              " 2.343739637948993,\n",
              " 2.3416799473198298,\n",
              " 2.339669052199428,\n",
              " 2.33770564024177,\n",
              " 2.3357884413737957,\n",
              " 2.3339162261219557,\n",
              " 2.332087804019098,\n",
              " 2.3303020220871553,\n",
              " 2.3285577633913923,\n",
              " 2.3268539456622404,\n",
              " 2.3251895199810066,\n",
              " 2.3235634695259697,\n",
              " 2.3219748083755993,\n",
              " 2.320422580365833,\n",
              " 2.3189058579985384,\n",
              " 2.3174237413984566,\n",
              " 2.315975357316093,\n",
              " 2.31455985817417,\n",
              " 2.313176421155395,\n",
              " 2.3118242473294393,\n",
              " 2.3105025608171363,\n",
              " 2.309210607990028,\n",
              " 2.3079476567034978,\n",
              " 2.306712995561826,\n",
              " 2.3055059332136,\n",
              " 2.304325797675997,\n",
              " 2.30317193568655,\n",
              " 2.3020437120810637,\n",
              " 2.300940509196451,\n",
              " 2.299861726297295,\n",
              " 2.2988067790250364,\n",
              " 2.29777509886872,\n",
              " 2.2967661326563116]"
            ]
          },
          "metadata": {
            "tags": []
          },
          "execution_count": 6
        }
      ]
    },
    {
      "cell_type": "code",
      "metadata": {
        "id": "aVHR0a4dbi2E",
        "colab": {
          "base_uri": "https://localhost:8080/",
          "height": 295
        },
        "outputId": "98f325ce-cc35-4fe7-b198-3e8b1a8e4832"
      },
      "source": [
        "import matplotlib.pyplot as plt\n",
        "import numpy as np\n",
        "x = np.arange(1,138)\n",
        "y = prev\n",
        "plt.plot(x, y, '.r', label='y=x**2+2')\n",
        "plt.title('Graph of y=x*^2+2')\n",
        "plt.xlabel('x', color='#1C2833')\n",
        "plt.ylabel('y', color='#1C2833')\n",
        "plt.legend(loc='upper left')\n",
        "plt.grid()\n",
        "plt.show()"
      ],
      "execution_count": null,
      "outputs": [
        {
          "output_type": "display_data",
          "data": {
            "image/png": "[encoded data removed]",
            "text/plain": [
              "<Figure size 432x288 with 1 Axes>"
            ]
          },
          "metadata": {
            "tags": [],
            "needs_background": "light"
          }
        }
      ]
    },
    {
      "cell_type": "code",
      "metadata": {
        "id": "MXFeImWZcIXG",
        "colab": {
          "base_uri": "https://localhost:8080/",
          "height": 340
        },
        "outputId": "75674107-f5a9-4a47-d491-a464228b85ec"
      },
      "source": [
        "from numpy import *\n",
        "\n",
        "# y = mx + b\n",
        "# m is slope, b is y-intercept\n",
        "def compute_error_for_line_given_points(b, m, points):\n",
        "    totalError = 0\n",
        "    for i in range(0, len(points)):\n",
        "        x = points[i, 0]\n",
        "        y = points[i, 1]\n",
        "        totalError += (y - (m * x + b)) ** 2\n",
        "    return totalError / float(len(points))\n",
        "\n",
        "def step_gradient(b_current, m_current, points, learningRate):\n",
        "    b_gradient = 0\n",
        "    m_gradient = 0\n",
        "    N = float(len(points))\n",
        "    for i in range(0, len(points)):\n",
        "        x = points[i, 0]\n",
        "        y = points[i, 1]\n",
        "        b_gradient += -(2/N) * (y - ((m_current * x) + b_current))\n",
        "        m_gradient += -(2/N) * x * (y - ((m_current * x) + b_current))\n",
        "    new_b = b_current - (learningRate * b_gradient)\n",
        "    new_m = m_current - (learningRate * m_gradient)\n",
        "    return [new_b, new_m]\n",
        "\n",
        "def gradient_descent_runner(points, starting_b, starting_m, learning_rate, num_iterations):\n",
        "    b = starting_b\n",
        "    m = starting_m\n",
        "    err = []\n",
        "    b_ = []\n",
        "    m_ = []\n",
        "    for i in range(num_iterations):\n",
        "        b, m = step_gradient(b, m, array(points), learning_rate)\n",
        "        error = compute_error_for_line_given_points(b, m, points)\n",
        "        err.append(error)\n",
        "        b_.append(b)\n",
        "        m_.append(m)\n",
        "    draw(err, \"Error\")\n",
        "    draw(b_, \"Intercept\")\n",
        "    draw(m_, \"Slope\")\n",
        "    \n",
        "    return [b, m, err]\n",
        "\n",
        "\n",
        "def draw (err, message):\n",
        "    x = np.arange(0,len(err))\n",
        "    y = err\n",
        "    plt.plot(x, y, '.r', label=message)\n",
        "    plt.title('Graph ')\n",
        "    plt.xlabel('x', color='#1C2833')\n",
        "    plt.ylabel('y', color='#1C2833')\n",
        "    plt.legend(loc='upper left')\n",
        "    plt.grid()\n",
        "    plt.show()\n",
        "\n",
        "def run():\n",
        "    points = genfromtxt(\"data.csv\", delimiter=\",\")\n",
        "    learning_rate = 0.0001\n",
        "    initial_b = 0 # initial y-intercept guess\n",
        "    initial_m = 0 # initial slope guess\n",
        "    num_iterations = 100\n",
        "    print(\"Starting gradient descent at b = {0}, m = {1}, error = {2}\".format(initial_b, initial_m, compute_error_for_line_given_points(initial_b, initial_m, points)))\n",
        "    print(\"Running...\")\n",
        "    [b, m, err] = gradient_descent_runner(points, initial_b, initial_m, learning_rate, num_iterations)\n",
        "    print(\"After {0} iterations b = {1}, m = {2}, error = {3}\".format(num_iterations, b, m, compute_error_for_line_given_points(b, m, points)))\n",
        "    \n",
        "if __name__ == '__main__':\n",
        "    run()"
      ],
      "execution_count": null,
      "outputs": [
        {
          "output_type": "error",
          "ename": "OSError",
          "evalue": "ignored",
          "traceback": [
            "\u001b[0;31m---------------------------------------------------------------------------\u001b[0m",
            "\u001b[0;31mOSError\u001b[0m                                   Traceback (most recent call last)",
            "\u001b[0;32m<ipython-input-10-ccbaf4977370>\u001b[0m in \u001b[0;36m<module>\u001b[0;34m()\u001b[0m\n\u001b[1;32m     66\u001b[0m \u001b[0;34m\u001b[0m\u001b[0m\n\u001b[1;32m     67\u001b[0m \u001b[0;32mif\u001b[0m \u001b[0m__name__\u001b[0m \u001b[0;34m==\u001b[0m \u001b[0;34m'__main__'\u001b[0m\u001b[0;34m:\u001b[0m\u001b[0;34m\u001b[0m\u001b[0;34m\u001b[0m\u001b[0m\n\u001b[0;32m---> 68\u001b[0;31m     \u001b[0mrun\u001b[0m\u001b[0;34m(\u001b[0m\u001b[0;34m)\u001b[0m\u001b[0;34m\u001b[0m\u001b[0;34m\u001b[0m\u001b[0m\n\u001b[0m",
            "\u001b[0;32m<ipython-input-10-ccbaf4977370>\u001b[0m in \u001b[0;36mrun\u001b[0;34m()\u001b[0m\n\u001b[1;32m     55\u001b[0m \u001b[0;34m\u001b[0m\u001b[0m\n\u001b[1;32m     56\u001b[0m \u001b[0;32mdef\u001b[0m \u001b[0mrun\u001b[0m\u001b[0;34m(\u001b[0m\u001b[0;34m)\u001b[0m\u001b[0;34m:\u001b[0m\u001b[0;34m\u001b[0m\u001b[0;34m\u001b[0m\u001b[0m\n\u001b[0;32m---> 57\u001b[0;31m     \u001b[0mpoints\u001b[0m \u001b[0;34m=\u001b[0m \u001b[0mgenfromtxt\u001b[0m\u001b[0;34m(\u001b[0m\u001b[0;34m\"data.csv\"\u001b[0m\u001b[0;34m,\u001b[0m \u001b[0mdelimiter\u001b[0m\u001b[0;34m=\u001b[0m\u001b[0;34m\",\"\u001b[0m\u001b[0;34m)\u001b[0m\u001b[0;34m\u001b[0m\u001b[0;34m\u001b[0m\u001b[0m\n\u001b[0m\u001b[1;32m     58\u001b[0m     \u001b[0mlearning_rate\u001b[0m \u001b[0;34m=\u001b[0m \u001b[0;36m0.0001\u001b[0m\u001b[0;34m\u001b[0m\u001b[0;34m\u001b[0m\u001b[0m\n\u001b[1;32m     59\u001b[0m     \u001b[0minitial_b\u001b[0m \u001b[0;34m=\u001b[0m \u001b[0;36m0\u001b[0m \u001b[0;31m# initial y-intercept guess\u001b[0m\u001b[0;34m\u001b[0m\u001b[0;34m\u001b[0m\u001b[0m\n",
            "\u001b[0;32m/usr/local/lib/python3.6/dist-packages/numpy/lib/npyio.py\u001b[0m in \u001b[0;36mgenfromtxt\u001b[0;34m(fname, dtype, comments, delimiter, skip_header, skip_footer, converters, missing_values, filling_values, usecols, names, excludelist, deletechars, replace_space, autostrip, case_sensitive, defaultfmt, unpack, usemask, loose, invalid_raise, max_rows, encoding)\u001b[0m\n\u001b[1;32m   1770\u001b[0m             \u001b[0mfname\u001b[0m \u001b[0;34m=\u001b[0m \u001b[0mos_fspath\u001b[0m\u001b[0;34m(\u001b[0m\u001b[0mfname\u001b[0m\u001b[0;34m)\u001b[0m\u001b[0;34m\u001b[0m\u001b[0;34m\u001b[0m\u001b[0m\n\u001b[1;32m   1771\u001b[0m         \u001b[0;32mif\u001b[0m \u001b[0misinstance\u001b[0m\u001b[0;34m(\u001b[0m\u001b[0mfname\u001b[0m\u001b[0;34m,\u001b[0m \u001b[0mbasestring\u001b[0m\u001b[0;34m)\u001b[0m\u001b[0;34m:\u001b[0m\u001b[0;34m\u001b[0m\u001b[0;34m\u001b[0m\u001b[0m\n\u001b[0;32m-> 1772\u001b[0;31m             \u001b[0mfid\u001b[0m \u001b[0;34m=\u001b[0m \u001b[0mnp\u001b[0m\u001b[0;34m.\u001b[0m\u001b[0mlib\u001b[0m\u001b[0;34m.\u001b[0m\u001b[0m_datasource\u001b[0m\u001b[0;34m.\u001b[0m\u001b[0mopen\u001b[0m\u001b[0;34m(\u001b[0m\u001b[0mfname\u001b[0m\u001b[0;34m,\u001b[0m \u001b[0;34m'rt'\u001b[0m\u001b[0;34m,\u001b[0m \u001b[0mencoding\u001b[0m\u001b[0;34m=\u001b[0m\u001b[0mencoding\u001b[0m\u001b[0;34m)\u001b[0m\u001b[0;34m\u001b[0m\u001b[0;34m\u001b[0m\u001b[0m\n\u001b[0m\u001b[1;32m   1773\u001b[0m             \u001b[0mfid_ctx\u001b[0m \u001b[0;34m=\u001b[0m \u001b[0mcontextlib\u001b[0m\u001b[0;34m.\u001b[0m\u001b[0mclosing\u001b[0m\u001b[0;34m(\u001b[0m\u001b[0mfid\u001b[0m\u001b[0;34m)\u001b[0m\u001b[0;34m\u001b[0m\u001b[0;34m\u001b[0m\u001b[0m\n\u001b[1;32m   1774\u001b[0m         \u001b[0;32melse\u001b[0m\u001b[0;34m:\u001b[0m\u001b[0;34m\u001b[0m\u001b[0;34m\u001b[0m\u001b[0m\n",
            "\u001b[0;32m/usr/local/lib/python3.6/dist-packages/numpy/lib/_datasource.py\u001b[0m in \u001b[0;36mopen\u001b[0;34m(path, mode, destpath, encoding, newline)\u001b[0m\n\u001b[1;32m    267\u001b[0m \u001b[0;34m\u001b[0m\u001b[0m\n\u001b[1;32m    268\u001b[0m     \u001b[0mds\u001b[0m \u001b[0;34m=\u001b[0m \u001b[0mDataSource\u001b[0m\u001b[0;34m(\u001b[0m\u001b[0mdestpath\u001b[0m\u001b[0;34m)\u001b[0m\u001b[0;34m\u001b[0m\u001b[0;34m\u001b[0m\u001b[0m\n\u001b[0;32m--> 269\u001b[0;31m     \u001b[0;32mreturn\u001b[0m \u001b[0mds\u001b[0m\u001b[0;34m.\u001b[0m\u001b[0mopen\u001b[0m\u001b[0;34m(\u001b[0m\u001b[0mpath\u001b[0m\u001b[0;34m,\u001b[0m \u001b[0mmode\u001b[0m\u001b[0;34m,\u001b[0m \u001b[0mencoding\u001b[0m\u001b[0;34m=\u001b[0m\u001b[0mencoding\u001b[0m\u001b[0;34m,\u001b[0m \u001b[0mnewline\u001b[0m\u001b[0;34m=\u001b[0m\u001b[0mnewline\u001b[0m\u001b[0;34m)\u001b[0m\u001b[0;34m\u001b[0m\u001b[0;34m\u001b[0m\u001b[0m\n\u001b[0m\u001b[1;32m    270\u001b[0m \u001b[0;34m\u001b[0m\u001b[0m\n\u001b[1;32m    271\u001b[0m \u001b[0;34m\u001b[0m\u001b[0m\n",
            "\u001b[0;32m/usr/local/lib/python3.6/dist-packages/numpy/lib/_datasource.py\u001b[0m in \u001b[0;36mopen\u001b[0;34m(self, path, mode, encoding, newline)\u001b[0m\n\u001b[1;32m    621\u001b[0m                                       encoding=encoding, newline=newline)\n\u001b[1;32m    622\u001b[0m         \u001b[0;32melse\u001b[0m\u001b[0;34m:\u001b[0m\u001b[0;34m\u001b[0m\u001b[0;34m\u001b[0m\u001b[0m\n\u001b[0;32m--> 623\u001b[0;31m             \u001b[0;32mraise\u001b[0m \u001b[0mIOError\u001b[0m\u001b[0;34m(\u001b[0m\u001b[0;34m\"%s not found.\"\u001b[0m \u001b[0;34m%\u001b[0m \u001b[0mpath\u001b[0m\u001b[0;34m)\u001b[0m\u001b[0;34m\u001b[0m\u001b[0;34m\u001b[0m\u001b[0m\n\u001b[0m\u001b[1;32m    624\u001b[0m \u001b[0;34m\u001b[0m\u001b[0m\n\u001b[1;32m    625\u001b[0m \u001b[0;34m\u001b[0m\u001b[0m\n",
            "\u001b[0;31mOSError\u001b[0m: data.csv not found."
          ]
        }
      ]
    }
  ]
}