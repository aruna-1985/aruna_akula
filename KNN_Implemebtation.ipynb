{
  "nbformat": 4,
  "nbformat_minor": 0,
  "metadata": {
    "colab": {
      "name": "KNN Implemebtation.ipynb",
      "provenance": [],
      "authorship_tag": "ABX9TyOx6y4RC5c5ZKkIljxQr5eM",
      "include_colab_link": true
    },
    "kernelspec": {
      "name": "python3",
      "display_name": "Python 3"
    }
  },
  "cells": [
    {
      "cell_type": "markdown",
      "metadata": {
        "id": "view-in-github",
        "colab_type": "text"
      },
      "source": [
        "<a href=\"https://colab.research.google.com/github/aruna20200/aruna_akula/blob/master/KNN_Implemebtation.ipynb\" target=\"_parent\"><img src=\"https://colab.research.google.com/assets/colab-badge.svg\" alt=\"Open In Colab\"/></a>"
      ]
    },
    {
      "cell_type": "code",
      "metadata": {
        "id": "T1SvtsTvFdsH"
      },
      "source": [
        "import pandas as pd \n",
        "import numpy as np \n",
        "from sklearn.metrics import accuracy_score,classification_report,confusion_matrix\n",
        "from sklearn.model_selection import cross_val_score, train_test_split\n",
        "from sklearn.linear_model import LogisticRegression\n",
        "from sklearn.preprocessing import StandardScaler, PolynomialFeatures\n",
        "from sklearn.neighbors import KNeighborsClassifier\n",
        "import warnings\n",
        "warnings.filterwarnings(\"ignore\")"
      ],
      "execution_count": 1,
      "outputs": []
    },
    {
      "cell_type": "code",
      "metadata": {
        "id": "IuRt9UJlISpi"
      },
      "source": [
        "np.random.seed(42)"
      ],
      "execution_count": 2,
      "outputs": []
    },
    {
      "cell_type": "code",
      "metadata": {
        "id": "dwO5g-zZG2Sq"
      },
      "source": [
        "df = pd.read_csv(\"http://archive.ics.uci.edu/ml/machine-learning-databases/wine-quality/winequality-white.csv\",sep = ';')\n",
        "y = df.pop('quality')"
      ],
      "execution_count": 3,
      "outputs": []
    },
    {
      "cell_type": "code",
      "metadata": {
        "id": "3OXOr_boHJi6",
        "outputId": "530903e9-c89a-4be8-9fe8-2808c1f2eed6",
        "colab": {
          "base_uri": "https://localhost:8080/",
          "height": 221
        }
      },
      "source": [
        "df.head()"
      ],
      "execution_count": 15,
      "outputs": [
        {
          "output_type": "execute_result",
          "data": {
            "text/html": [
              "<div>\n",
              "<style scoped>\n",
              "    .dataframe tbody tr th:only-of-type {\n",
              "        vertical-align: middle;\n",
              "    }\n",
              "\n",
              "    .dataframe tbody tr th {\n",
              "        vertical-align: top;\n",
              "    }\n",
              "\n",
              "    .dataframe thead th {\n",
              "        text-align: right;\n",
              "    }\n",
              "</style>\n",
              "<table border=\"1\" class=\"dataframe\">\n",
              "  <thead>\n",
              "    <tr style=\"text-align: right;\">\n",
              "      <th></th>\n",
              "      <th>fixed acidity;\"volatile acidity\";\"citric acid\";\"residual sugar\";\"chlorides\";\"free sulfur dioxide\";\"total sulfur dioxide\";\"density\";\"pH\";\"sulphates\";\"alcohol\";\"quality\"</th>\n",
              "    </tr>\n",
              "  </thead>\n",
              "  <tbody>\n",
              "    <tr>\n",
              "      <th>0</th>\n",
              "      <td>7;0.27;0.36;20.7;0.045;45;170;1.001;3;0.45;8.8;6</td>\n",
              "    </tr>\n",
              "    <tr>\n",
              "      <th>1</th>\n",
              "      <td>6.3;0.3;0.34;1.6;0.049;14;132;0.994;3.3;0.49;9...</td>\n",
              "    </tr>\n",
              "    <tr>\n",
              "      <th>2</th>\n",
              "      <td>8.1;0.28;0.4;6.9;0.05;30;97;0.9951;3.26;0.44;1...</td>\n",
              "    </tr>\n",
              "    <tr>\n",
              "      <th>3</th>\n",
              "      <td>7.2;0.23;0.32;8.5;0.058;47;186;0.9956;3.19;0.4...</td>\n",
              "    </tr>\n",
              "    <tr>\n",
              "      <th>4</th>\n",
              "      <td>7.2;0.23;0.32;8.5;0.058;47;186;0.9956;3.19;0.4...</td>\n",
              "    </tr>\n",
              "  </tbody>\n",
              "</table>\n",
              "</div>"
            ],
            "text/plain": [
              "  fixed acidity;\"volatile acidity\";\"citric acid\";\"residual sugar\";\"chlorides\";\"free sulfur dioxide\";\"total sulfur dioxide\";\"density\";\"pH\";\"sulphates\";\"alcohol\";\"quality\"\n",
              "0   7;0.27;0.36;20.7;0.045;45;170;1.001;3;0.45;8.8;6                                                                                                                     \n",
              "1  6.3;0.3;0.34;1.6;0.049;14;132;0.994;3.3;0.49;9...                                                                                                                     \n",
              "2  8.1;0.28;0.4;6.9;0.05;30;97;0.9951;3.26;0.44;1...                                                                                                                     \n",
              "3  7.2;0.23;0.32;8.5;0.058;47;186;0.9956;3.19;0.4...                                                                                                                     \n",
              "4  7.2;0.23;0.32;8.5;0.058;47;186;0.9956;3.19;0.4...                                                                                                                     "
            ]
          },
          "metadata": {
            "tags": []
          },
          "execution_count": 15
        }
      ]
    },
    {
      "cell_type": "code",
      "metadata": {
        "id": "E05UMipYIbL-",
        "outputId": "c4ea201c-c465-4d5c-8f29-cd8b851d23e1",
        "colab": {
          "base_uri": "https://localhost:8080/"
        }
      },
      "source": [
        "df.isna().sum()"
      ],
      "execution_count": 4,
      "outputs": [
        {
          "output_type": "execute_result",
          "data": {
            "text/plain": [
              "fixed acidity           0\n",
              "volatile acidity        0\n",
              "citric acid             0\n",
              "residual sugar          0\n",
              "chlorides               0\n",
              "free sulfur dioxide     0\n",
              "total sulfur dioxide    0\n",
              "density                 0\n",
              "pH                      0\n",
              "sulphates               0\n",
              "alcohol                 0\n",
              "dtype: int64"
            ]
          },
          "metadata": {
            "tags": []
          },
          "execution_count": 4
        }
      ]
    },
    {
      "cell_type": "code",
      "metadata": {
        "id": "avgFcev3IwP7"
      },
      "source": [
        "for i in df.columns:\n",
        "    df[i] = df[i].fillna(np.mean(df[i]))\n",
        "train, test, y_train, y_test = train_test_split(df,y, test_size = 0.2)"
      ],
      "execution_count": 5,
      "outputs": []
    },
    {
      "cell_type": "code",
      "metadata": {
        "id": "4lkCW91sJ6Pv"
      },
      "source": [
        "lr = LogisticRegression()\n",
        "def model_fit(alg,train,test,y_train,y_test,if_cv = True,cv_folds = 5):\n",
        "    alg.fit(train,y_train)\n",
        "    \n",
        "    #performing Cross Validation\n",
        "    if if_cv: \n",
        "        cv_score = cross_val_score(alg,train,y_train,cv = cv_folds,scoring = 'f1_macro')\n",
        "    \n",
        "    predictions = alg.predict(test)\n",
        "    \n",
        "    #Print \n",
        "    print(\"\\n Model Report\")\n",
        "    print(classification_report(y_test,predictions))\n",
        "    \n",
        "    if if_cv: \n",
        "        print(\"CV REPORT :- Mean - %.7g | Std - %.7g | Min - %.7g | Max - %.7g\"%(np.mean(cv_score),np.std(cv_score),np.min(cv_score),np.max(cv_score)))\n",
        "    \n",
        "    print(\"Accuracy: \",accuracy_score(y_test,predictions))\n",
        "    print('-'*100)\n",
        "    \n",
        "    confu = pd.DataFrame(confusion_matrix(y_test,predictions))\n",
        "    print(confu)"
      ],
      "execution_count": 6,
      "outputs": []
    },
    {
      "cell_type": "code",
      "metadata": {
        "id": "OwOmsPjcKMgE",
        "outputId": "fd4b28bd-b11b-470a-842f-5236cb5e1e69",
        "colab": {
          "base_uri": "https://localhost:8080/"
        }
      },
      "source": [
        "confu = model_fit(lr,train, test, y_train, y_test)"
      ],
      "execution_count": 7,
      "outputs": [
        {
          "output_type": "stream",
          "text": [
            "\n",
            " Model Report\n",
            "              precision    recall  f1-score   support\n",
            "\n",
            "           3       1.00      0.20      0.33         5\n",
            "           4       0.00      0.00      0.00        25\n",
            "           5       0.46      0.32      0.38       291\n",
            "           6       0.46      0.82      0.59       432\n",
            "           7       0.60      0.02      0.03       192\n",
            "           8       0.00      0.00      0.00        35\n",
            "\n",
            "    accuracy                           0.46       980\n",
            "   macro avg       0.42      0.23      0.22       980\n",
            "weighted avg       0.46      0.46      0.38       980\n",
            "\n",
            "CV REPORT :- Mean - 0.1438456 | Std - 0.006476701 | Min - 0.1321111 | Max - 0.1499328\n",
            "Accuracy:  0.45918367346938777\n",
            "----------------------------------------------------------------------------------------------------\n",
            "   0  1   2    3  4  5\n",
            "0  1  0   2    2  0  0\n",
            "1  0  0   8   17  0  0\n",
            "2  0  0  93  197  1  0\n",
            "3  0  0  78  353  1  0\n",
            "4  0  0  20  169  3  0\n",
            "5  0  0   1   34  0  0\n"
          ],
          "name": "stdout"
        }
      ]
    },
    {
      "cell_type": "code",
      "metadata": {
        "id": "eHXOOq81KZZq"
      },
      "source": [
        "train_scale = StandardScaler(train)\n",
        "test_scale = StandardScaler(test)"
      ],
      "execution_count": 8,
      "outputs": []
    },
    {
      "cell_type": "code",
      "metadata": {
        "id": "XVkHR2rFHz2s"
      },
      "source": [
        "def KNN_predicts(train, test,y_train,y_test,scaler,neighbours, metric ='manhattan', weights = 'uniform'):\n",
        "    train_scaled = scaler.fit_transform(train)\n",
        "    test_scaled = scaler.transform(test)\n",
        "    KNN = KNeighborsClassifier(n_neighbors =neighbours,metric = metric,weights = weights,n_jobs= 4)\n",
        "    KNN.fit(train_scaled,y_train)\n",
        "    predictions = KNN.predict(test_scaled)\n",
        "    \n",
        "\n",
        "    \n",
        "    print(\"Accuracy: \",accuracy_score(y_test,predictions))\n",
        "    print('-'*100)\n",
        "    return KNN"
      ],
      "execution_count": 9,
      "outputs": []
    },
    {
      "cell_type": "code",
      "metadata": {
        "id": "HNlbQP5BH5H4",
        "outputId": "9d9b9e97-20f6-4434-ad99-edd0a9f89b36",
        "colab": {
          "base_uri": "https://localhost:8080/"
        }
      },
      "source": [
        "KNN_predicts(train, test, y_train, y_test, StandardScaler(), 1)"
      ],
      "execution_count": 10,
      "outputs": [
        {
          "output_type": "stream",
          "text": [
            "Accuracy:  0.6479591836734694\n",
            "----------------------------------------------------------------------------------------------------\n"
          ],
          "name": "stdout"
        },
        {
          "output_type": "execute_result",
          "data": {
            "text/plain": [
              "KNeighborsClassifier(algorithm='auto', leaf_size=30, metric='manhattan',\n",
              "                     metric_params=None, n_jobs=4, n_neighbors=1, p=2,\n",
              "                     weights='uniform')"
            ]
          },
          "metadata": {
            "tags": []
          },
          "execution_count": 10
        }
      ]
    },
    {
      "cell_type": "code",
      "metadata": {
        "id": "nRZJeFSxH9LQ",
        "outputId": "a72d8f05-8a63-45aa-96bc-4677481e69f3",
        "colab": {
          "base_uri": "https://localhost:8080/"
        }
      },
      "source": [
        "for k in range(1,11):\n",
        "    print('Accuracy score on kNN using n_neighbours = {0}:'.format(2**k), end = ' ')\n",
        "    KNN_predicts(train, test, y_train, y_test, StandardScaler(), 2**k)"
      ],
      "execution_count": 11,
      "outputs": [
        {
          "output_type": "stream",
          "text": [
            "Accuracy score on kNN using n_neighbours = 2: Accuracy:  0.5724489795918367\n",
            "----------------------------------------------------------------------------------------------------\n",
            "Accuracy score on kNN using n_neighbours = 4: Accuracy:  0.5551020408163265\n",
            "----------------------------------------------------------------------------------------------------\n",
            "Accuracy score on kNN using n_neighbours = 8: Accuracy:  0.5438775510204081\n",
            "----------------------------------------------------------------------------------------------------\n",
            "Accuracy score on kNN using n_neighbours = 16: Accuracy:  0.5418367346938775\n",
            "----------------------------------------------------------------------------------------------------\n",
            "Accuracy score on kNN using n_neighbours = 32: Accuracy:  0.5520408163265306\n",
            "----------------------------------------------------------------------------------------------------\n",
            "Accuracy score on kNN using n_neighbours = 64: Accuracy:  0.5387755102040817\n",
            "----------------------------------------------------------------------------------------------------\n",
            "Accuracy score on kNN using n_neighbours = 128: Accuracy:  0.5295918367346939\n",
            "----------------------------------------------------------------------------------------------------\n",
            "Accuracy score on kNN using n_neighbours = 256: Accuracy:  0.5163265306122449\n",
            "----------------------------------------------------------------------------------------------------\n",
            "Accuracy score on kNN using n_neighbours = 512: Accuracy:  0.5040816326530613\n",
            "----------------------------------------------------------------------------------------------------\n",
            "Accuracy score on kNN using n_neighbours = 1024: Accuracy:  0.47244897959183674\n",
            "----------------------------------------------------------------------------------------------------\n"
          ],
          "name": "stdout"
        }
      ]
    },
    {
      "cell_type": "code",
      "metadata": {
        "id": "2EMXri0eIDMa",
        "outputId": "0049cae0-91c6-47df-9752-efb7cd11fb66",
        "colab": {
          "base_uri": "https://localhost:8080/"
        }
      },
      "source": [
        "for weights in ['uniform','distance']:\n",
        "    print('Accuracy score on kNN using n_neighbours = {0}:'.format(weights), end = ' ')\n",
        "    KNN_predicts(train, test, y_train, y_test, StandardScaler(),5,metric ='chebyshev',weights = weights)"
      ],
      "execution_count": 12,
      "outputs": [
        {
          "output_type": "stream",
          "text": [
            "Accuracy score on kNN using n_neighbours = uniform: Accuracy:  0.5244897959183673\n",
            "----------------------------------------------------------------------------------------------------\n",
            "Accuracy score on kNN using n_neighbours = distance: Accuracy:  0.6459183673469387\n",
            "----------------------------------------------------------------------------------------------------\n"
          ],
          "name": "stdout"
        }
      ]
    },
    {
      "cell_type": "code",
      "metadata": {
        "id": "_myxO833IKBz"
      },
      "source": [
        "##Feature Engineering"
      ],
      "execution_count": 13,
      "outputs": []
    },
    {
      "cell_type": "code",
      "metadata": {
        "id": "EgHih55gIlIA"
      },
      "source": [
        "def create_poly(train,test, degree):\n",
        "    poly = PolynomialFeatures(degree = degree)\n",
        "    train_poly = poly.fit_transform(train)\n",
        "    test_poly = poly.fit_transform(test)\n",
        "    return train_poly, test_poly"
      ],
      "execution_count": 14,
      "outputs": []
    },
    {
      "cell_type": "code",
      "metadata": {
        "id": "mKNvGm7GIlL2",
        "outputId": "9419713d-d976-4483-ecdb-110cfd2597fe",
        "colab": {
          "base_uri": "https://localhost:8080/"
        }
      },
      "source": [
        "for degree in [1,2,3]:\n",
        "    train_poly,test_poly = create_poly(train,test,degree)\n",
        "    print('Polynomial degree',degree)\n",
        "    Knn = KNN_predicts(train_poly,test_poly,y_train,y_test,StandardScaler(),5,metric ='chebyshev',weights = 'distance')\n",
        "    print('-'*100)"
      ],
      "execution_count": 15,
      "outputs": [
        {
          "output_type": "stream",
          "text": [
            "Polynomial degree 1\n",
            "Accuracy:  0.6459183673469387\n",
            "----------------------------------------------------------------------------------------------------\n",
            "----------------------------------------------------------------------------------------------------\n",
            "Polynomial degree 2\n",
            "Accuracy:  0.6673469387755102\n",
            "----------------------------------------------------------------------------------------------------\n",
            "----------------------------------------------------------------------------------------------------\n",
            "Polynomial degree 3\n",
            "Accuracy:  0.6551020408163265\n",
            "----------------------------------------------------------------------------------------------------\n",
            "----------------------------------------------------------------------------------------------------\n"
          ],
          "name": "stdout"
        }
      ]
    },
    {
      "cell_type": "code",
      "metadata": {
        "id": "K_jVCCwxI267",
        "outputId": "09dc2293-a2a1-4c75-e692-8c25fa6ded9a",
        "colab": {
          "base_uri": "https://localhost:8080/"
        }
      },
      "source": [
        "Knn = KNN_predicts(train_poly,test_poly,y_train,y_test,StandardScaler(),5,metric ='chebyshev',weights = 'distance')"
      ],
      "execution_count": 16,
      "outputs": [
        {
          "output_type": "stream",
          "text": [
            "Accuracy:  0.6551020408163265\n",
            "----------------------------------------------------------------------------------------------------\n"
          ],
          "name": "stdout"
        }
      ]
    },
    {
      "cell_type": "code",
      "metadata": {
        "id": "mSNk0EbuI4lO",
        "outputId": "8e5eee5c-fffb-4969-cdbf-ae7094216866",
        "colab": {
          "base_uri": "https://localhost:8080/"
        }
      },
      "source": [
        "Knn"
      ],
      "execution_count": 17,
      "outputs": [
        {
          "output_type": "execute_result",
          "data": {
            "text/plain": [
              "KNeighborsClassifier(algorithm='auto', leaf_size=30, metric='chebyshev',\n",
              "                     metric_params=None, n_jobs=4, n_neighbors=5, p=2,\n",
              "                     weights='distance')"
            ]
          },
          "metadata": {
            "tags": []
          },
          "execution_count": 17
        }
      ]
    },
    {
      "cell_type": "code",
      "metadata": {
        "id": "Xp2hoJmvI_eb"
      },
      "source": [
        "train_poly,test_poly = create_poly(train,test,2)"
      ],
      "execution_count": 18,
      "outputs": []
    },
    {
      "cell_type": "code",
      "metadata": {
        "id": "IfomjnxFJEg7",
        "outputId": "b9f2ee7e-6c68-4b86-a46d-39393080f45c",
        "colab": {
          "base_uri": "https://localhost:8080/"
        }
      },
      "source": [
        "from sklearn.externals import joblib \n",
        "joblib.dump(Knn,'Model.pkl')"
      ],
      "execution_count": 19,
      "outputs": [
        {
          "output_type": "execute_result",
          "data": {
            "text/plain": [
              "['Model.pkl']"
            ]
          },
          "metadata": {
            "tags": []
          },
          "execution_count": 19
        }
      ]
    },
    {
      "cell_type": "code",
      "metadata": {
        "id": "G94LdKwxJMGT"
      },
      "source": [
        "knn_new_model = joblib.load('Model.pkl')"
      ],
      "execution_count": 20,
      "outputs": []
    },
    {
      "cell_type": "code",
      "metadata": {
        "id": "7DxTs0fNJQLR"
      },
      "source": [
        "def feature_eng(df):\n",
        "    df['feat1'] = df['total sulfur dioxide'] / df['free sulfur dioxide']\n",
        "    df['feat2'] = df['pH'] * df['fixed acidity']\n",
        "    return df"
      ],
      "execution_count": 21,
      "outputs": []
    },
    {
      "cell_type": "code",
      "metadata": {
        "id": "LTd4QVlXJVOi"
      },
      "source": [
        "train = feature_eng(train)\n",
        "test = feature_eng(test)"
      ],
      "execution_count": 22,
      "outputs": []
    },
    {
      "cell_type": "code",
      "metadata": {
        "id": "tJCGAxbEJaEe",
        "outputId": "86bd6f51-f553-4bfc-c922-863dbdb6a4ab",
        "colab": {
          "base_uri": "https://localhost:8080/"
        }
      },
      "source": [
        "print(\"The score after feature engineering: \")\n",
        "KNN_predicts(train_poly,test_poly,y_train,y_test,StandardScaler(),5,metric ='chebyshev',weights = 'distance')"
      ],
      "execution_count": 23,
      "outputs": [
        {
          "output_type": "stream",
          "text": [
            "The score after feature engineering: \n",
            "Accuracy:  0.6673469387755102\n",
            "----------------------------------------------------------------------------------------------------\n"
          ],
          "name": "stdout"
        },
        {
          "output_type": "execute_result",
          "data": {
            "text/plain": [
              "KNeighborsClassifier(algorithm='auto', leaf_size=30, metric='chebyshev',\n",
              "                     metric_params=None, n_jobs=4, n_neighbors=5, p=2,\n",
              "                     weights='distance')"
            ]
          },
          "metadata": {
            "tags": []
          },
          "execution_count": 23
        }
      ]
    }
  ]
}